{
 "cells": [
  {
   "cell_type": "markdown",
   "id": "a1604de9-58d5-441a-a5d6-9f8d636191c5",
   "metadata": {},
   "source": [
    "# 시계열 자료 분석 과제1"
   ]
  },
  {
   "cell_type": "markdown",
   "id": "c4377b84-4a92-44cc-873f-ea9803e1a0f8",
   "metadata": {},
   "source": [
    "# 201822037 통계학과 한민주"
   ]
  },
  {
   "cell_type": "markdown",
   "id": "e37bb880-4951-44e2-84e1-ab7a878f3d64",
   "metadata": {},
   "source": [
    "----"
   ]
  },
  {
   "cell_type": "markdown",
   "id": "28886de2-a8d8-45d9-abbf-80d637d8ad85",
   "metadata": {},
   "source": [
    "### 2.1 최근 10일 동안 판매된 경제 서적에 대한 상수평균모형"
   ]
  },
  {
   "cell_type": "code",
   "execution_count": 117,
   "id": "e3aaa3fc-066c-4b11-a2f8-35e3949b2eb8",
   "metadata": {},
   "outputs": [],
   "source": [
    "library(dplyr)\n",
    "library(lmtest)\n",
    "library(forecast)"
   ]
  },
  {
   "cell_type": "code",
   "execution_count": 1,
   "id": "04d4a382-4ff9-4082-aec9-79d5a82aad0a",
   "metadata": {},
   "outputs": [],
   "source": [
    "booksales = c(52,46,46,52,50,50,48,45,41,53)"
   ]
  },
  {
   "cell_type": "code",
   "execution_count": 4,
   "id": "d268ea65-b1ca-47d5-a187-be1adfaf55db",
   "metadata": {},
   "outputs": [
    {
     "data": {
      "text/html": [
       "48.3"
      ],
      "text/latex": [
       "48.3"
      ],
      "text/markdown": [
       "48.3"
      ],
      "text/plain": [
       "[1] 48.3"
      ]
     },
     "metadata": {},
     "output_type": "display_data"
    }
   ],
   "source": [
    "booksales %>% mean"
   ]
  },
  {
   "cell_type": "markdown",
   "id": "364cbe4a-6a0c-4503-b0e6-034a8300ec2b",
   "metadata": {},
   "source": [
    "상수평균모형은 $Z_{t} = \\beta_0 +\\epsilon_t$ , $\\epsilon_t\\sim_{iid} N(0 , \\sigma^2)$ 이고,\n",
    "$\\hat{\\beta}_0 = \\overline{z} = 48.3$ 이다.\n",
    "\n",
    "\n",
    "미래값 $Z_{10+l}$에 대한 예측값 $\\hat{Z}_{10}(l) = \\overline{z}$ 이므로 48.3이다."
   ]
  },
  {
   "cell_type": "markdown",
   "id": "c140121c-a42b-4cc8-a4d9-18bf17abe78d",
   "metadata": {},
   "source": [
    "### 2.2 편의점의 15주간 매출액에 대한 선형추세모형"
   ]
  },
  {
   "cell_type": "markdown",
   "id": "d80d7264-4ac4-4509-a25b-de09d58fd921",
   "metadata": {},
   "source": [
    "#### 1)"
   ]
  },
  {
   "cell_type": "markdown",
   "id": "dfb3de2e-1411-4fde-aaa0-3b4a6423ca79",
   "metadata": {},
   "source": [
    "선형추세모형은 $Z_t = \\beta_0 + \\beta_1t + \\epsilon_t$ , $\\epsilon_t\\sim_{iid} N(0 , \\sigma^2)$ 이다.\n",
    "\n",
    "여기에서 $\\beta_0 + \\beta_1t$는 선형추세성분이다."
   ]
  },
  {
   "cell_type": "markdown",
   "id": "54bd9882-0cda-4a55-adc4-f9dc724ade59",
   "metadata": {},
   "source": [
    "#### 2)"
   ]
  },
  {
   "cell_type": "code",
   "execution_count": 18,
   "id": "57919f90-f556-4265-a015-a763ae0601db",
   "metadata": {},
   "outputs": [
    {
     "data": {
      "text/html": [
       "<table class=\"dataframe\">\n",
       "<caption>A data.frame: 6 × 2</caption>\n",
       "<thead>\n",
       "\t<tr><th></th><th scope=col>t</th><th scope=col>sales</th></tr>\n",
       "\t<tr><th></th><th scope=col>&lt;int&gt;</th><th scope=col>&lt;dbl&gt;</th></tr>\n",
       "</thead>\n",
       "<tbody>\n",
       "\t<tr><th scope=row>1</th><td>1</td><td>303</td></tr>\n",
       "\t<tr><th scope=row>2</th><td>2</td><td>298</td></tr>\n",
       "\t<tr><th scope=row>3</th><td>3</td><td>303</td></tr>\n",
       "\t<tr><th scope=row>4</th><td>4</td><td>314</td></tr>\n",
       "\t<tr><th scope=row>5</th><td>5</td><td>303</td></tr>\n",
       "\t<tr><th scope=row>6</th><td>6</td><td>314</td></tr>\n",
       "</tbody>\n",
       "</table>\n"
      ],
      "text/latex": [
       "A data.frame: 6 × 2\n",
       "\\begin{tabular}{r|ll}\n",
       "  & t & sales\\\\\n",
       "  & <int> & <dbl>\\\\\n",
       "\\hline\n",
       "\t1 & 1 & 303\\\\\n",
       "\t2 & 2 & 298\\\\\n",
       "\t3 & 3 & 303\\\\\n",
       "\t4 & 4 & 314\\\\\n",
       "\t5 & 5 & 303\\\\\n",
       "\t6 & 6 & 314\\\\\n",
       "\\end{tabular}\n"
      ],
      "text/markdown": [
       "\n",
       "A data.frame: 6 × 2\n",
       "\n",
       "| <!--/--> | t &lt;int&gt; | sales &lt;dbl&gt; |\n",
       "|---|---|---|\n",
       "| 1 | 1 | 303 |\n",
       "| 2 | 2 | 298 |\n",
       "| 3 | 3 | 303 |\n",
       "| 4 | 4 | 314 |\n",
       "| 5 | 5 | 303 |\n",
       "| 6 | 6 | 314 |\n",
       "\n"
      ],
      "text/plain": [
       "  t sales\n",
       "1 1 303  \n",
       "2 2 298  \n",
       "3 3 303  \n",
       "4 4 314  \n",
       "5 5 303  \n",
       "6 6 314  "
      ]
     },
     "metadata": {},
     "output_type": "display_data"
    }
   ],
   "source": [
    "t= 1:15\n",
    "sales = c(303, 298 , 303 ,314, 303, 314, 310 , 324 , 317, 327 , 323,324, 331,330 ,332)\n",
    "sale = data.frame(t=t , sales =sales)\n",
    "sale %>% head"
   ]
  },
  {
   "cell_type": "code",
   "execution_count": 21,
   "id": "7bafc136-15cb-45b6-8a33-d3f7be10a9cb",
   "metadata": {},
   "outputs": [
    {
     "data": {
      "image/png": "[encoded data removed]",
      "text/plain": [
       "plot without title"
      ]
     },
     "metadata": {
      "image/png": {
       "height": 420,
       "width": 420
      }
     },
     "output_type": "display_data"
    }
   ],
   "source": [
    "plot(sale$t,sale$sales , type = \"l\")"
   ]
  },
  {
   "cell_type": "markdown",
   "id": "d8fdfe6c-815d-4ea1-b7b5-cef77088b09a",
   "metadata": {},
   "source": [
    "- 직선형의 증가 추세가 있다."
   ]
  },
  {
   "cell_type": "code",
   "execution_count": 11,
   "id": "e9f6eaa3-73c1-4e0d-8290-d27338ead4cb",
   "metadata": {},
   "outputs": [],
   "source": [
    "# 모형적합\n",
    "model = lm(sales ~ t )"
   ]
  },
  {
   "cell_type": "code",
   "execution_count": 13,
   "id": "ae16f0eb-4bdd-4caa-853b-03cf8b27a1fc",
   "metadata": {},
   "outputs": [
    {
     "data": {
      "text/plain": [
       "\n",
       "Call:\n",
       "lm(formula = sales ~ t)\n",
       "\n",
       "Residuals:\n",
       "   Min     1Q Median     3Q    Max \n",
       "-6.710 -2.331 -1.181  2.519  7.133 \n",
       "\n",
       "Coefficients:\n",
       "            Estimate Std. Error t value Pr(>|t|)    \n",
       "(Intercept)  297.781      2.364 125.964  < 2e-16 ***\n",
       "t              2.386      0.260   9.176 4.84e-07 ***\n",
       "---\n",
       "Signif. codes:  0 '***' 0.001 '**' 0.01 '*' 0.05 '.' 0.1 ' ' 1\n",
       "\n",
       "Residual standard error: 4.351 on 13 degrees of freedom\n",
       "Multiple R-squared:  0.8662,\tAdjusted R-squared:  0.856 \n",
       "F-statistic: 84.19 on 1 and 13 DF,  p-value: 4.836e-07\n"
      ]
     },
     "metadata": {},
     "output_type": "display_data"
    }
   ],
   "source": [
    "summary(model)"
   ]
  },
  {
   "cell_type": "markdown",
   "id": "93dfefdd-7145-4d16-aa0e-da98811c6724",
   "metadata": {},
   "source": [
    "- 두 회귀계수 $\\beta_0 = 297.8, \\beta_1 = 2.4$ 의 p-value가 매우 작으므로 유의하다.\n",
    "- 결정계수가 $R^2 = 85.6% $ 으로 설명력이 높다. \n",
    "- 추정된 모형식은 $\\widehat{sales_t} = 297.8 + 2.4t$ 이다."
   ]
  },
  {
   "cell_type": "code",
   "execution_count": 23,
   "id": "9b497fdd-fdb6-4de8-bcda-d1e662d54ea1",
   "metadata": {},
   "outputs": [],
   "source": [
    "sale[, \"fitted_sales\"] = fitted(model)"
   ]
  },
  {
   "cell_type": "code",
   "execution_count": 25,
   "id": "a4ba4813-107c-46dc-abe0-0fc611d22ab6",
   "metadata": {},
   "outputs": [
    {
     "data": {
      "text/html": [
       "<table class=\"dataframe\">\n",
       "<caption>A data.frame: 6 × 3</caption>\n",
       "<thead>\n",
       "\t<tr><th></th><th scope=col>t</th><th scope=col>sales</th><th scope=col>fitted_sales</th></tr>\n",
       "\t<tr><th></th><th scope=col>&lt;int&gt;</th><th scope=col>&lt;dbl&gt;</th><th scope=col>&lt;dbl&gt;</th></tr>\n",
       "</thead>\n",
       "<tbody>\n",
       "\t<tr><th scope=row>1</th><td>1</td><td>303</td><td>300.1667</td></tr>\n",
       "\t<tr><th scope=row>2</th><td>2</td><td>298</td><td>302.5524</td></tr>\n",
       "\t<tr><th scope=row>3</th><td>3</td><td>303</td><td>304.9381</td></tr>\n",
       "\t<tr><th scope=row>4</th><td>4</td><td>314</td><td>307.3238</td></tr>\n",
       "\t<tr><th scope=row>5</th><td>5</td><td>303</td><td>309.7095</td></tr>\n",
       "\t<tr><th scope=row>6</th><td>6</td><td>314</td><td>312.0952</td></tr>\n",
       "</tbody>\n",
       "</table>\n"
      ],
      "text/latex": [
       "A data.frame: 6 × 3\n",
       "\\begin{tabular}{r|lll}\n",
       "  & t & sales & fitted\\_sales\\\\\n",
       "  & <int> & <dbl> & <dbl>\\\\\n",
       "\\hline\n",
       "\t1 & 1 & 303 & 300.1667\\\\\n",
       "\t2 & 2 & 298 & 302.5524\\\\\n",
       "\t3 & 3 & 303 & 304.9381\\\\\n",
       "\t4 & 4 & 314 & 307.3238\\\\\n",
       "\t5 & 5 & 303 & 309.7095\\\\\n",
       "\t6 & 6 & 314 & 312.0952\\\\\n",
       "\\end{tabular}\n"
      ],
      "text/markdown": [
       "\n",
       "A data.frame: 6 × 3\n",
       "\n",
       "| <!--/--> | t &lt;int&gt; | sales &lt;dbl&gt; | fitted_sales &lt;dbl&gt; |\n",
       "|---|---|---|---|\n",
       "| 1 | 1 | 303 | 300.1667 |\n",
       "| 2 | 2 | 298 | 302.5524 |\n",
       "| 3 | 3 | 303 | 304.9381 |\n",
       "| 4 | 4 | 314 | 307.3238 |\n",
       "| 5 | 5 | 303 | 309.7095 |\n",
       "| 6 | 6 | 314 | 312.0952 |\n",
       "\n"
      ],
      "text/plain": [
       "  t sales fitted_sales\n",
       "1 1 303   300.1667    \n",
       "2 2 298   302.5524    \n",
       "3 3 303   304.9381    \n",
       "4 4 314   307.3238    \n",
       "5 5 303   309.7095    \n",
       "6 6 314   312.0952    "
      ]
     },
     "metadata": {},
     "output_type": "display_data"
    }
   ],
   "source": [
    "sale%>% head"
   ]
  },
  {
   "cell_type": "code",
   "execution_count": 29,
   "id": "1926ebe3-0b60-4ef0-80e6-9b1904222477",
   "metadata": {},
   "outputs": [
    {
     "data": {
      "image/png": "[encoded data removed]",
      "text/plain": [
       "plot without title"
      ]
     },
     "metadata": {
      "image/png": {
       "height": 420,
       "width": 420
      }
     },
     "output_type": "display_data"
    }
   ],
   "source": [
    "# 원데이터 vs. 적합된 추세 모형\n",
    "plot(sale$t , sale$sales , type = \"l\")\n",
    "lines(sale$t , sale$fitted_sales , col =\"red\")"
   ]
  },
  {
   "cell_type": "markdown",
   "id": "c5bf5a40-43a9-442b-8b6d-90fef47f1771",
   "metadata": {},
   "source": [
    "- 원데이터의 추세를 적합값이 잘 따르고 있다."
   ]
  },
  {
   "cell_type": "markdown",
   "id": "7a6bd08e-20c9-4eaf-8af7-f0ad2f2494fd",
   "metadata": {},
   "source": [
    "회귀진단"
   ]
  },
  {
   "cell_type": "code",
   "execution_count": 31,
   "id": "63661500-bd79-44ee-bbe7-b945c180c736",
   "metadata": {},
   "outputs": [
    {
     "data": {
      "text/html": [
       "<table class=\"dataframe\">\n",
       "<caption>A data.frame: 6 × 4</caption>\n",
       "<thead>\n",
       "\t<tr><th></th><th scope=col>t</th><th scope=col>sales</th><th scope=col>fitted_sales</th><th scope=col>res</th></tr>\n",
       "\t<tr><th></th><th scope=col>&lt;int&gt;</th><th scope=col>&lt;dbl&gt;</th><th scope=col>&lt;dbl&gt;</th><th scope=col>&lt;dbl&gt;</th></tr>\n",
       "</thead>\n",
       "<tbody>\n",
       "\t<tr><th scope=row>1</th><td>1</td><td>303</td><td>300.1667</td><td> 2.833333</td></tr>\n",
       "\t<tr><th scope=row>2</th><td>2</td><td>298</td><td>302.5524</td><td>-4.552381</td></tr>\n",
       "\t<tr><th scope=row>3</th><td>3</td><td>303</td><td>304.9381</td><td>-1.938095</td></tr>\n",
       "\t<tr><th scope=row>4</th><td>4</td><td>314</td><td>307.3238</td><td> 6.676190</td></tr>\n",
       "\t<tr><th scope=row>5</th><td>5</td><td>303</td><td>309.7095</td><td>-6.709524</td></tr>\n",
       "\t<tr><th scope=row>6</th><td>6</td><td>314</td><td>312.0952</td><td> 1.904762</td></tr>\n",
       "</tbody>\n",
       "</table>\n"
      ],
      "text/latex": [
       "A data.frame: 6 × 4\n",
       "\\begin{tabular}{r|llll}\n",
       "  & t & sales & fitted\\_sales & res\\\\\n",
       "  & <int> & <dbl> & <dbl> & <dbl>\\\\\n",
       "\\hline\n",
       "\t1 & 1 & 303 & 300.1667 &  2.833333\\\\\n",
       "\t2 & 2 & 298 & 302.5524 & -4.552381\\\\\n",
       "\t3 & 3 & 303 & 304.9381 & -1.938095\\\\\n",
       "\t4 & 4 & 314 & 307.3238 &  6.676190\\\\\n",
       "\t5 & 5 & 303 & 309.7095 & -6.709524\\\\\n",
       "\t6 & 6 & 314 & 312.0952 &  1.904762\\\\\n",
       "\\end{tabular}\n"
      ],
      "text/markdown": [
       "\n",
       "A data.frame: 6 × 4\n",
       "\n",
       "| <!--/--> | t &lt;int&gt; | sales &lt;dbl&gt; | fitted_sales &lt;dbl&gt; | res &lt;dbl&gt; |\n",
       "|---|---|---|---|---|\n",
       "| 1 | 1 | 303 | 300.1667 |  2.833333 |\n",
       "| 2 | 2 | 298 | 302.5524 | -4.552381 |\n",
       "| 3 | 3 | 303 | 304.9381 | -1.938095 |\n",
       "| 4 | 4 | 314 | 307.3238 |  6.676190 |\n",
       "| 5 | 5 | 303 | 309.7095 | -6.709524 |\n",
       "| 6 | 6 | 314 | 312.0952 |  1.904762 |\n",
       "\n"
      ],
      "text/plain": [
       "  t sales fitted_sales res      \n",
       "1 1 303   300.1667      2.833333\n",
       "2 2 298   302.5524     -4.552381\n",
       "3 3 303   304.9381     -1.938095\n",
       "4 4 314   307.3238      6.676190\n",
       "5 5 303   309.7095     -6.709524\n",
       "6 6 314   312.0952      1.904762"
      ]
     },
     "metadata": {},
     "output_type": "display_data"
    }
   ],
   "source": [
    "sale[,\"res\"] = resid(model)\n",
    "sale %>% head"
   ]
  },
  {
   "cell_type": "code",
   "execution_count": 38,
   "id": "e04b765b-e54c-4e13-a216-2ab702b67077",
   "metadata": {},
   "outputs": [
    {
     "data": {
      "image/png": "[encoded data removed]",
      "text/plain": [
       "plot without title"
      ]
     },
     "metadata": {
      "image/png": {
       "height": 420,
       "width": 420
      }
     },
     "output_type": "display_data"
    }
   ],
   "source": [
    "plot(sale$t , sale$res , type = \"l\")\n",
    "abline(h=0 , col = \"red\")"
   ]
  },
  {
   "cell_type": "markdown",
   "id": "e2c1c173-fe53-4106-9ae9-249475aacd1e",
   "metadata": {},
   "source": [
    "- 잔차들이 0을 근처로 왔다갔한다.\n",
    "\n",
    "--> 선형성 만족\n",
    "- 잔차 시계열 그림에서 잔차들이 시간에 따른 음의 상관관계를 갖는 것처럼 보인다."
   ]
  },
  {
   "cell_type": "code",
   "execution_count": 46,
   "id": "f6a988b2-cadc-4303-a053-0bb3d21614af",
   "metadata": {},
   "outputs": [
    {
     "data": {
      "text/plain": [
       "\n",
       "\tDurbin-Watson test\n",
       "\n",
       "data:  model\n",
       "DW = 3.1954, p-value = 0.00952\n",
       "alternative hypothesis: true autocorrelation is less than 0\n"
      ]
     },
     "metadata": {},
     "output_type": "display_data"
    }
   ],
   "source": [
    "dwtest(model , alternative = \"less\")"
   ]
  },
  {
   "cell_type": "markdown",
   "id": "35a402ee-2688-40d5-922b-496903970e52",
   "metadata": {},
   "source": [
    "- 더빈왓슨 통계량이 3.2로 4에 가깝다.\n",
    "\n",
    "- H0: uncorrelated vs. H1: rho <0 인 단측검정 시행 시 p-value가 매우 유의하게 나오므로 잔차들이 음의 자기상관관계가 있다고 결론 내린다.\n",
    "\n",
    "--> 오차항의 독립성 위배"
   ]
  },
  {
   "cell_type": "code",
   "execution_count": 47,
   "id": "749b11f8-3478-41ce-a055-5037ac448a0e",
   "metadata": {},
   "outputs": [
    {
     "data": {
      "image/png": "[encoded data removed]",
      "text/plain": [
       "Plot with title \"Normal Q-Q Plot\""
      ]
     },
     "metadata": {
      "image/png": {
       "height": 420,
       "width": 420
      }
     },
     "output_type": "display_data"
    }
   ],
   "source": [
    "qqnorm(sale$res)\n",
    "qqline(sale$res)"
   ]
  },
  {
   "cell_type": "markdown",
   "id": "142a2b57-76b9-42eb-b619-7b551113df87",
   "metadata": {},
   "source": [
    "- 점들이 대체로 직선을 따라간다.\n",
    "\n",
    "--> 정규성 만족"
   ]
  },
  {
   "cell_type": "code",
   "execution_count": 49,
   "id": "5efec2c0-b10d-44cb-bade-bdc080796636",
   "metadata": {},
   "outputs": [
    {
     "data": {
      "text/plain": [
       "\n",
       "\tstudentized Breusch-Pagan test\n",
       "\n",
       "data:  model\n",
       "BP = 1.9559, df = 1, p-value = 0.1619\n"
      ]
     },
     "metadata": {},
     "output_type": "display_data"
    }
   ],
   "source": [
    "bptest(model) # Breusch - Pagan test"
   ]
  },
  {
   "cell_type": "markdown",
   "id": "c6057ee0-c8b6-44ce-8a1d-88e59e2c90e1",
   "metadata": {},
   "source": [
    "- H0: 등분산이다. vs. H1: 이분산이다.\n",
    "- p-value가 0.16이므로 유의수준 0.05 하에서 영가설을 기각하지 못한다.\n",
    "\n",
    "--> 등분산성 만족"
   ]
  },
  {
   "cell_type": "markdown",
   "id": "af4afa5f-74a5-460f-b2b4-d294f3e098a0",
   "metadata": {},
   "source": [
    "<회귀진단 결론>\n",
    "- 잔차들이 선형성, 정규성, 등분산성을 만족하나 독립성을 만족하지 못한다."
   ]
  },
  {
   "cell_type": "markdown",
   "id": "f9c2bebc-ce36-44d9-b670-f2a9560e7006",
   "metadata": {},
   "source": [
    "#### 3)"
   ]
  },
  {
   "cell_type": "code",
   "execution_count": 57,
   "id": "2dc8317a-b30d-4713-8d9d-3b4b581e4dc8",
   "metadata": {},
   "outputs": [
    {
     "data": {
      "text/html": [
       "333.8"
      ],
      "text/latex": [
       "333.8"
      ],
      "text/markdown": [
       "333.8"
      ],
      "text/plain": [
       "[1] 333.8"
      ]
     },
     "metadata": {},
     "output_type": "display_data"
    }
   ],
   "source": [
    "297.8  + 2.4*15"
   ]
  },
  {
   "cell_type": "markdown",
   "id": "341a3e40-74c5-4b51-9f21-fe0530dabc12",
   "metadata": {},
   "source": [
    "- 추정된 모형식이 $\\widehat{sales_t} = 297.8 + 2.4t$ 이므로\n",
    "$\\hat{Z}_{15}(l) =  297.8 + 2.4 \\times (15+l)$이다.\n",
    "- 따라서 $\\hat{Z}_{15}(l) = 333.8$"
   ]
  },
  {
   "cell_type": "markdown",
   "id": "2b1c1c76-e0f0-4ad4-bd38-a429900ab258",
   "metadata": {},
   "source": [
    "### 3.1 평활법"
   ]
  },
  {
   "cell_type": "markdown",
   "id": "8b1e8fde-b8ea-4c19-88b2-a70716a7ab27",
   "metadata": {},
   "source": [
    "#### 1) `female.txt`: 월별 행정직 여성 근로자 수"
   ]
  },
  {
   "cell_type": "code",
   "execution_count": 64,
   "id": "484b8a63-80d8-423d-b2c0-dc25aff2d701",
   "metadata": {},
   "outputs": [],
   "source": [
    "setwd(\"C:/Users/user/OneDrive/바탕 화면/전공 수업 자료/시계열자료분석_이영미/제5판_시계열분석/data\")"
   ]
  },
  {
   "cell_type": "code",
   "execution_count": 108,
   "id": "0d1f99e1-2bf0-4f3f-8f87-6000275757b2",
   "metadata": {},
   "outputs": [
    {
     "data": {
      "text/html": [
       "<table class=\"dataframe\">\n",
       "<caption>A data.frame: 6 × 1</caption>\n",
       "<thead>\n",
       "\t<tr><th></th><th scope=col>female</th></tr>\n",
       "\t<tr><th></th><th scope=col>&lt;int&gt;</th></tr>\n",
       "</thead>\n",
       "<tbody>\n",
       "\t<tr><th scope=row>1</th><td>216</td></tr>\n",
       "\t<tr><th scope=row>2</th><td>223</td></tr>\n",
       "\t<tr><th scope=row>3</th><td>229</td></tr>\n",
       "\t<tr><th scope=row>4</th><td>235</td></tr>\n",
       "\t<tr><th scope=row>5</th><td>227</td></tr>\n",
       "\t<tr><th scope=row>6</th><td>236</td></tr>\n",
       "</tbody>\n",
       "</table>\n"
      ],
      "text/latex": [
       "A data.frame: 6 × 1\n",
       "\\begin{tabular}{r|l}\n",
       "  & female\\\\\n",
       "  & <int>\\\\\n",
       "\\hline\n",
       "\t1 & 216\\\\\n",
       "\t2 & 223\\\\\n",
       "\t3 & 229\\\\\n",
       "\t4 & 235\\\\\n",
       "\t5 & 227\\\\\n",
       "\t6 & 236\\\\\n",
       "\\end{tabular}\n"
      ],
      "text/markdown": [
       "\n",
       "A data.frame: 6 × 1\n",
       "\n",
       "| <!--/--> | female &lt;int&gt; |\n",
       "|---|---|\n",
       "| 1 | 216 |\n",
       "| 2 | 223 |\n",
       "| 3 | 229 |\n",
       "| 4 | 235 |\n",
       "| 5 | 227 |\n",
       "| 6 | 236 |\n",
       "\n"
      ],
      "text/plain": [
       "  female\n",
       "1 216   \n",
       "2 223   \n",
       "3 229   \n",
       "4 235   \n",
       "5 227   \n",
       "6 236   "
      ]
     },
     "metadata": {},
     "output_type": "display_data"
    }
   ],
   "source": [
    "data = read.table(\"female.txt\")\n",
    "names(data)[1]= \"female\"\n",
    "data %>% head"
   ]
  },
  {
   "cell_type": "code",
   "execution_count": 110,
   "id": "672274fa-836e-4ee5-878e-1975d95da19b",
   "metadata": {},
   "outputs": [
    {
     "data": {
      "text/html": [
       "<table class=\"dataframe\">\n",
       "<caption>A Time Series: 9 × 12</caption>\n",
       "<thead>\n",
       "\t<tr><th></th><th scope=col>Jan</th><th scope=col>Feb</th><th scope=col>Mar</th><th scope=col>Apr</th><th scope=col>May</th><th scope=col>Jun</th><th scope=col>Jul</th><th scope=col>Aug</th><th scope=col>Sep</th><th scope=col>Oct</th><th scope=col>Nov</th><th scope=col>Dec</th></tr>\n",
       "</thead>\n",
       "<tbody>\n",
       "\t<tr><th scope=row>1984</th><td>216</td><td>223</td><td>229</td><td>235</td><td>227</td><td>236</td><td>232</td><td>234</td><td>237</td><td>238</td><td>244</td><td>270</td></tr>\n",
       "\t<tr><th scope=row>1985</th><td>278</td><td>277</td><td>274</td><td>285</td><td>262</td><td>243</td><td>241</td><td>238</td><td>259</td><td>267</td><td>272</td><td>269</td></tr>\n",
       "\t<tr><th scope=row>1986</th><td>262</td><td>276</td><td>297</td><td>327</td><td>341</td><td>323</td><td>317</td><td>322</td><td>337</td><td>330</td><td>329</td><td>342</td></tr>\n",
       "\t<tr><th scope=row>1987</th><td>349</td><td>346</td><td>345</td><td>354</td><td>345</td><td>354</td><td>343</td><td>355</td><td>362</td><td>366</td><td>367</td><td>348</td></tr>\n",
       "\t<tr><th scope=row>1988</th><td>355</td><td>362</td><td>373</td><td>370</td><td>375</td><td>395</td><td>405</td><td>408</td><td>399</td><td>402</td><td>403</td><td>402</td></tr>\n",
       "\t<tr><th scope=row>1989</th><td>398</td><td>408</td><td>427</td><td>427</td><td>433</td><td>442</td><td>397</td><td>416</td><td>425</td><td>424</td><td>434</td><td>434</td></tr>\n",
       "\t<tr><th scope=row>1990</th><td>432</td><td>440</td><td>469</td><td>486</td><td>495</td><td>506</td><td>514</td><td>529</td><td>528</td><td>529</td><td>521</td><td>537</td></tr>\n",
       "\t<tr><th scope=row>1991</th><td>537</td><td>544</td><td>557</td><td>556</td><td>561</td><td>569</td><td>578</td><td>589</td><td>570</td><td>563</td><td>566</td><td>571</td></tr>\n",
       "\t<tr><th scope=row>1992</th><td>574</td><td>569</td><td>596</td><td>610</td><td>627</td><td>655</td><td>670</td><td>663</td><td>664</td><td>668</td><td>664</td><td>667</td></tr>\n",
       "</tbody>\n",
       "</table>\n"
      ],
      "text/latex": [
       "A Time Series: 9 × 12\n",
       "\\begin{tabular}{r|llllllllllll}\n",
       "  & Jan & Feb & Mar & Apr & May & Jun & Jul & Aug & Sep & Oct & Nov & Dec\\\\\n",
       "\\hline\n",
       "\t1984 & 216 & 223 & 229 & 235 & 227 & 236 & 232 & 234 & 237 & 238 & 244 & 270\\\\\n",
       "\t1985 & 278 & 277 & 274 & 285 & 262 & 243 & 241 & 238 & 259 & 267 & 272 & 269\\\\\n",
       "\t1986 & 262 & 276 & 297 & 327 & 341 & 323 & 317 & 322 & 337 & 330 & 329 & 342\\\\\n",
       "\t1987 & 349 & 346 & 345 & 354 & 345 & 354 & 343 & 355 & 362 & 366 & 367 & 348\\\\\n",
       "\t1988 & 355 & 362 & 373 & 370 & 375 & 395 & 405 & 408 & 399 & 402 & 403 & 402\\\\\n",
       "\t1989 & 398 & 408 & 427 & 427 & 433 & 442 & 397 & 416 & 425 & 424 & 434 & 434\\\\\n",
       "\t1990 & 432 & 440 & 469 & 486 & 495 & 506 & 514 & 529 & 528 & 529 & 521 & 537\\\\\n",
       "\t1991 & 537 & 544 & 557 & 556 & 561 & 569 & 578 & 589 & 570 & 563 & 566 & 571\\\\\n",
       "\t1992 & 574 & 569 & 596 & 610 & 627 & 655 & 670 & 663 & 664 & 668 & 664 & 667\\\\\n",
       "\\end{tabular}\n"
      ],
      "text/markdown": [
       "\n",
       "A Time Series: 9 × 12\n",
       "\n",
       "| <!--/--> | Jan | Feb | Mar | Apr | May | Jun | Jul | Aug | Sep | Oct | Nov | Dec |\n",
       "|---|---|---|---|---|---|---|---|---|---|---|---|---|\n",
       "| 1984 | 216 | 223 | 229 | 235 | 227 | 236 | 232 | 234 | 237 | 238 | 244 | 270 |\n",
       "| 1985 | 278 | 277 | 274 | 285 | 262 | 243 | 241 | 238 | 259 | 267 | 272 | 269 |\n",
       "| 1986 | 262 | 276 | 297 | 327 | 341 | 323 | 317 | 322 | 337 | 330 | 329 | 342 |\n",
       "| 1987 | 349 | 346 | 345 | 354 | 345 | 354 | 343 | 355 | 362 | 366 | 367 | 348 |\n",
       "| 1988 | 355 | 362 | 373 | 370 | 375 | 395 | 405 | 408 | 399 | 402 | 403 | 402 |\n",
       "| 1989 | 398 | 408 | 427 | 427 | 433 | 442 | 397 | 416 | 425 | 424 | 434 | 434 |\n",
       "| 1990 | 432 | 440 | 469 | 486 | 495 | 506 | 514 | 529 | 528 | 529 | 521 | 537 |\n",
       "| 1991 | 537 | 544 | 557 | 556 | 561 | 569 | 578 | 589 | 570 | 563 | 566 | 571 |\n",
       "| 1992 | 574 | 569 | 596 | 610 | 627 | 655 | 670 | 663 | 664 | 668 | 664 | 667 |\n",
       "\n"
      ],
      "text/plain": [
       "     Jan Feb Mar Apr May Jun Jul Aug Sep Oct Nov Dec\n",
       "1984 216 223 229 235 227 236 232 234 237 238 244 270\n",
       "1985 278 277 274 285 262 243 241 238 259 267 272 269\n",
       "1986 262 276 297 327 341 323 317 322 337 330 329 342\n",
       "1987 349 346 345 354 345 354 343 355 362 366 367 348\n",
       "1988 355 362 373 370 375 395 405 408 399 402 403 402\n",
       "1989 398 408 427 427 433 442 397 416 425 424 434 434\n",
       "1990 432 440 469 486 495 506 514 529 528 529 521 537\n",
       "1991 537 544 557 556 561 569 578 589 570 563 566 571\n",
       "1992 574 569 596 610 627 655 670 663 664 668 664 667"
      ]
     },
     "metadata": {},
     "output_type": "display_data"
    }
   ],
   "source": [
    "# 시계열 데이터로 변환\n",
    "female = ts(data[1] ,start = c(1984,1)  , frequency = 12)\n",
    "female"
   ]
  },
  {
   "cell_type": "code",
   "execution_count": 111,
   "id": "1cf07167-6233-4dc0-91fb-9450073e47e4",
   "metadata": {},
   "outputs": [
    {
     "data": {
      "image/png": "[encoded data removed]",
      "text/plain": [
       "Plot with title \"월별 기술행정직에 종사하는 여성근로자 수\""
      ]
     },
     "metadata": {
      "image/png": {
       "height": 420,
       "width": 420
      }
     },
     "output_type": "display_data"
    }
   ],
   "source": [
    "plot.ts(female , main = \"월별 기술행정직에 종사하는 여성근로자 수\")"
   ]
  },
  {
   "cell_type": "markdown",
   "id": "2f773250-55d5-4171-9369-570e04ad9f46",
   "metadata": {},
   "source": [
    "- 시계열 자료가 선형추세에 따라 증가하고 있다.\n",
    "\n",
    "-> 이중지수평활법 적용"
   ]
  },
  {
   "cell_type": "code",
   "execution_count": 118,
   "id": "728e4224-3494-4632-aa07-1216ad532825",
   "metadata": {},
   "outputs": [],
   "source": [
    "fit = holt(female , h =6 )"
   ]
  },
  {
   "cell_type": "markdown",
   "id": "e062cffa-b2a1-42dc-b35f-36266555d613",
   "metadata": {},
   "source": [
    "- Holt - Winters의 이중지수평활법\n",
    "- 6개월 뒤까지 예측(h=6)\n",
    "- alpha, beta의 값을 주지 않음으로써 최적의 모수를 자체적으로 추정하도록 함"
   ]
  },
  {
   "cell_type": "code",
   "execution_count": 119,
   "id": "a70f6e72-39a0-42da-8e55-35fdd0be71ae",
   "metadata": {},
   "outputs": [
    {
     "data": {
      "text/plain": [
       "Holt's method \n",
       "\n",
       "Call:\n",
       " holt(y = female, h = 6) \n",
       "\n",
       "  Smoothing parameters:\n",
       "    alpha = 0.9825 \n",
       "    beta  = 1e-04 \n",
       "\n",
       "  Initial states:\n",
       "    l = 214.2297 \n",
       "    b = 4.1229 \n",
       "\n",
       "  sigma:  11.4927\n",
       "\n",
       "     AIC     AICc      BIC \n",
       "1039.003 1039.592 1052.414 "
      ]
     },
     "metadata": {},
     "output_type": "display_data"
    }
   ],
   "source": [
    "fit$model"
   ]
  },
  {
   "cell_type": "markdown",
   "id": "8213f9cc-6731-464b-8c79-f4742abade2a",
   "metadata": {},
   "source": [
    "- alpha(레벨): 0.9825\n",
    "- beta(기울기): 1e-04"
   ]
  },
  {
   "cell_type": "code",
   "execution_count": 129,
   "id": "74de4b9d-b466-4265-8f1b-24a50f59f5d1",
   "metadata": {
    "tags": []
   },
   "outputs": [
    {
     "data": {
      "image/png": "[encoded data removed]",
      "text/plain": [
       "Plot with title \"여성근로자수와 이중지수평활값\""
      ]
     },
     "metadata": {
      "image/png": {
       "height": 420,
       "width": 420
      }
     },
     "output_type": "display_data"
    }
   ],
   "source": [
    "plot(fit, main = \"여성근로자수와 이중지수평활값\")\n",
    "lines(fitted(fit), col =\"red\" , lty =2)\n",
    "legend(\"topleft\", lty = 1:2 , col =c(\"black\" , \"red\" ) ,c(\"Actual\" , \"Forecast\"),bty = \"n\")"
   ]
  },
  {
   "cell_type": "markdown",
   "id": "f5b95586-b76e-4a57-bcb1-d8d655939010",
   "metadata": {},
   "source": [
    "- 마지막 추세의 데이터들의 기울기가 완만해서 이후 6개월 간의 데이터도 완만한 기울기로 예측되고 있다."
   ]
  },
  {
   "cell_type": "code",
   "execution_count": 158,
   "id": "75592875-bcac-4729-8a5f-c5d2de26e232",
   "metadata": {},
   "outputs": [
    {
     "data": {
      "image/png": "[encoded data removed]",
      "text/plain": [
       "Plot with title \"예측오차의 시계열 그림\""
      ]
     },
     "metadata": {
      "image/png": {
       "height": 420,
       "width": 420
      }
     },
     "output_type": "display_data"
    }
   ],
   "source": [
    "plot(resid(fit) , main = \"예측오차의 시계열 그림\")\n",
    "abline(h=0,col = \"red\")"
   ]
  },
  {
   "cell_type": "markdown",
   "id": "38eef2d3-ec62-46ef-b3a4-bca3b08ff024",
   "metadata": {},
   "source": [
    "- 잔차가 0을 중심으로 왔다갔다하고 있으므로 적절한 평활법을 쓴 거 같다."
   ]
  },
  {
   "cell_type": "markdown",
   "id": "73fc1d13-a280-4854-944d-cce35911eb13",
   "metadata": {},
   "source": [
    "#### 2) `book.txt`: 일별 베스트셀러 판매부수"
   ]
  },
  {
   "cell_type": "code",
   "execution_count": 165,
   "id": "daed2be0-b47e-4b72-8357-704f51e16951",
   "metadata": {
    "tags": []
   },
   "outputs": [
    {
     "data": {
      "text/html": [
       "<table class=\"dataframe\">\n",
       "<caption>A data.frame: 6 × 1</caption>\n",
       "<thead>\n",
       "\t<tr><th></th><th scope=col>circulation</th></tr>\n",
       "\t<tr><th></th><th scope=col>&lt;int&gt;</th></tr>\n",
       "</thead>\n",
       "<tbody>\n",
       "\t<tr><th scope=row>1</th><td>12</td></tr>\n",
       "\t<tr><th scope=row>2</th><td>15</td></tr>\n",
       "\t<tr><th scope=row>3</th><td>17</td></tr>\n",
       "\t<tr><th scope=row>4</th><td>21</td></tr>\n",
       "\t<tr><th scope=row>5</th><td>25</td></tr>\n",
       "\t<tr><th scope=row>6</th><td>28</td></tr>\n",
       "</tbody>\n",
       "</table>\n"
      ],
      "text/latex": [
       "A data.frame: 6 × 1\n",
       "\\begin{tabular}{r|l}\n",
       "  & circulation\\\\\n",
       "  & <int>\\\\\n",
       "\\hline\n",
       "\t1 & 12\\\\\n",
       "\t2 & 15\\\\\n",
       "\t3 & 17\\\\\n",
       "\t4 & 21\\\\\n",
       "\t5 & 25\\\\\n",
       "\t6 & 28\\\\\n",
       "\\end{tabular}\n"
      ],
      "text/markdown": [
       "\n",
       "A data.frame: 6 × 1\n",
       "\n",
       "| <!--/--> | circulation &lt;int&gt; |\n",
       "|---|---|\n",
       "| 1 | 12 |\n",
       "| 2 | 15 |\n",
       "| 3 | 17 |\n",
       "| 4 | 21 |\n",
       "| 5 | 25 |\n",
       "| 6 | 28 |\n",
       "\n"
      ],
      "text/plain": [
       "  circulation\n",
       "1 12         \n",
       "2 15         \n",
       "3 17         \n",
       "4 21         \n",
       "5 25         \n",
       "6 28         "
      ]
     },
     "metadata": {},
     "output_type": "display_data"
    }
   ],
   "source": [
    "data = read.table(\"book.txt\")\n",
    "names(data)[1] = \"circulation\"\n",
    "data %>% head"
   ]
  },
  {
   "cell_type": "code",
   "execution_count": 170,
   "id": "7cff13ad-68f8-431d-aa8a-c5b23ba008c9",
   "metadata": {},
   "outputs": [
    {
     "data": {
      "text/html": [
       "<table class=\"dataframe\">\n",
       "<caption>A Time Series: 6 × 1</caption>\n",
       "<thead>\n",
       "\t<tr><th scope=col>circulation</th></tr>\n",
       "</thead>\n",
       "<tbody>\n",
       "\t<tr><td>12</td></tr>\n",
       "\t<tr><td>15</td></tr>\n",
       "\t<tr><td>17</td></tr>\n",
       "\t<tr><td>21</td></tr>\n",
       "\t<tr><td>25</td></tr>\n",
       "\t<tr><td>28</td></tr>\n",
       "</tbody>\n",
       "</table>\n"
      ],
      "text/latex": [
       "A Time Series: 6 × 1\n",
       "\\begin{tabular}{l}\n",
       " circulation\\\\\n",
       "\\hline\n",
       "\t 12\\\\\n",
       "\t 15\\\\\n",
       "\t 17\\\\\n",
       "\t 21\\\\\n",
       "\t 25\\\\\n",
       "\t 28\\\\\n",
       "\\end{tabular}\n"
      ],
      "text/markdown": [
       "\n",
       "A Time Series: 6 × 1\n",
       "\n",
       "| circulation |\n",
       "|---|\n",
       "| 12 |\n",
       "| 15 |\n",
       "| 17 |\n",
       "| 21 |\n",
       "| 25 |\n",
       "| 28 |\n",
       "\n"
      ],
      "text/plain": [
       "     circulation\n",
       "[1,] 12         \n",
       "[2,] 15         \n",
       "[3,] 17         \n",
       "[4,] 21         \n",
       "[5,] 25         \n",
       "[6,] 28         "
      ]
     },
     "metadata": {},
     "output_type": "display_data"
    }
   ],
   "source": [
    "# 시계열 data로 변환\n",
    "circulation = ts(data[1] , start = c(2000,1) , frequency = 365)\n",
    "circulation %>% head"
   ]
  },
  {
   "cell_type": "code",
   "execution_count": 171,
   "id": "0e50335f-c6ad-41c7-ae49-d4ba3c7b151d",
   "metadata": {},
   "outputs": [
    {
     "data": {
      "image/png": "[encoded data removed]",
      "text/plain": [
       "Plot with title \"일별 베스트 셀러 판매부수\""
      ]
     },
     "metadata": {
      "image/png": {
       "height": 420,
       "width": 420
      }
     },
     "output_type": "display_data"
    }
   ],
   "source": [
    "plot.ts(circulation , main = \"일별 베스트 셀러 판매부수\")"
   ]
  },
  {
   "cell_type": "markdown",
   "id": "abc8a3a1-c751-43a6-9e30-d3a9e18dcb9a",
   "metadata": {},
   "source": [
    "- 시계열 자료가 선형추세에 따라 증가하고 있다.\n",
    "\n",
    "-> 이중지수평활법 적용"
   ]
  },
  {
   "cell_type": "code",
   "execution_count": 172,
   "id": "8cc2fae9-37ed-4ded-9fc7-6bb225449511",
   "metadata": {},
   "outputs": [],
   "source": [
    "fit2 = holt(circulation , h =6 )"
   ]
  },
  {
   "cell_type": "markdown",
   "id": "badb9e3e-5c4e-4cc4-a9dc-4124264d69cb",
   "metadata": {},
   "source": [
    "- Holt - Winters의 이중지수평활법\n",
    "- 6개월 뒤까지 예측(h=6)\n",
    "- alpha, beta의 값을 주지 않음으로써 최적의 모수를 자체적으로 추정하도록 함"
   ]
  },
  {
   "cell_type": "code",
   "execution_count": 173,
   "id": "42b511fd-aedd-424e-81e9-1c0e80c66d6f",
   "metadata": {},
   "outputs": [
    {
     "data": {
      "text/plain": [
       "Holt's method \n",
       "\n",
       "Call:\n",
       " holt(y = circulation, h = 6) \n",
       "\n",
       "  Smoothing parameters:\n",
       "    alpha = 0.9629 \n",
       "    beta  = 1e-04 \n",
       "\n",
       "  Initial states:\n",
       "    l = 9.2938 \n",
       "    b = 3.0224 \n",
       "\n",
       "  sigma:  0.9185\n",
       "\n",
       "     AIC     AICc      BIC \n",
       "102.6415 105.1415 109.6475 "
      ]
     },
     "metadata": {},
     "output_type": "display_data"
    }
   ],
   "source": [
    "fit2$model"
   ]
  },
  {
   "cell_type": "markdown",
   "id": "27acc256-356c-46c0-83c8-577373ed0a41",
   "metadata": {},
   "source": [
    "- alpha(레벨): 0.9629\n",
    "- beta(기울기): 1e-04"
   ]
  },
  {
   "cell_type": "code",
   "execution_count": 174,
   "id": "c7a747ef-96ee-471a-8bf1-d200e110182d",
   "metadata": {
    "tags": []
   },
   "outputs": [
    {
     "data": {
      "image/png": "[encoded data removed]",
      "text/plain": [
       "Plot with title \"일별 베스트셀러 판매부수\""
      ]
     },
     "metadata": {
      "image/png": {
       "height": 420,
       "width": 420
      }
     },
     "output_type": "display_data"
    }
   ],
   "source": [
    "plot(fit2, main = \"일별 베스트셀러 판매부수\")\n",
    "lines(fitted(fit), col =\"red\" , lty =2)\n",
    "legend(\"topleft\", lty = 1:2 , col =c(\"black\" , \"red\" ) ,c(\"Actual\" , \"Forecast\"),bty = \"n\")"
   ]
  },
  {
   "cell_type": "markdown",
   "id": "50f0df62-b653-4eea-a19b-6f787f242315",
   "metadata": {},
   "source": [
    "- 이전의 데이터가 증가하는 추세대로 6개월 후 예측값도 꾸준히 증가하고 있다."
   ]
  },
  {
   "cell_type": "code",
   "execution_count": 175,
   "id": "d2eef151-6933-4482-84d3-4d1b47b0ad16",
   "metadata": {},
   "outputs": [
    {
     "data": {
      "image/png": "[encoded data removed]",
      "text/plain": [
       "Plot with title \"예측오차의 시계열 그림\""
      ]
     },
     "metadata": {
      "image/png": {
       "height": 420,
       "width": 420
      }
     },
     "output_type": "display_data"
    }
   ],
   "source": [
    "plot(resid(fit2) , main = \"예측오차의 시계열 그림\")\n",
    "abline(h=0,col = \"red\")"
   ]
  },
  {
   "cell_type": "markdown",
   "id": "c851a1d9-c12e-43aa-90b7-960831525fcf",
   "metadata": {},
   "source": [
    "- 잔차가 0을 중심으로 퍼져있지만 2000.05 전까지의 잔차에 약간의 규칙성이 보인다.\n",
    "- 그러나 시계열 데이터의 plot을 보면 이중지수평활법을 적용하는 것이 가장 적절해 보인다."
   ]
  },
  {
   "cell_type": "code",
   "execution_count": null,
   "id": "79119d0c-9f4d-41b5-9cbd-eb67404034c7",
   "metadata": {},
   "outputs": [],
   "source": []
  }
 ],
 "metadata": {
  "kernelspec": {
   "display_name": "R",
   "language": "R",
   "name": "ir"
  },
  "language_info": {
   "codemirror_mode": "r",
   "file_extension": ".r",
   "mimetype": "text/x-r-source",
   "name": "R",
   "pygments_lexer": "r",
   "version": "4.0.5"
  }
 },
 "nbformat": 4,
 "nbformat_minor": 5
}
