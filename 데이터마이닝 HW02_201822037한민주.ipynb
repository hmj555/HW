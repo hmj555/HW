{
 "cells": [
  {
   "cell_type": "markdown",
   "id": "add8dc8e-78af-4a2e-920b-150348d21090",
   "metadata": {},
   "source": [
    "# 데이터마이닝 HW02"
   ]
  },
  {
   "cell_type": "markdown",
   "id": "6508cb27-bd1d-4c2f-abfe-41b5f51b74be",
   "metadata": {},
   "source": [
    "Exercises for Classification"
   ]
  },
  {
   "cell_type": "markdown",
   "id": "fd76540c-05da-4d7d-929c-3162d9e851c5",
   "metadata": {},
   "source": [
    "## 201822037 통계학과 한민주"
   ]
  },
  {
   "cell_type": "markdown",
   "id": "2ceb207e-2ba4-4f33-932c-81536b34476d",
   "metadata": {},
   "source": [
    "  "
   ]
  },
  {
   "cell_type": "markdown",
   "id": "93f016f7-d86b-4d9b-b50d-2275ce7b4609",
   "metadata": {},
   "source": [
    "## 1. LDA"
   ]
  },
  {
   "cell_type": "markdown",
   "id": "20e6a1e3-3ae7-408c-880e-a6afff9acd8e",
   "metadata": {},
   "source": [
    "두 범주(Yes , No)의 분산이 $\\hat{\\sigma}^2= 36$으로 동일하므로 LDA를 사용한다. "
   ]
  },
  {
   "cell_type": "markdown",
   "id": "1c133f4d-d7b3-4060-b216-f9354d3aa671",
   "metadata": {},
   "source": [
    "$\\pi_1 = 0.5 , \\pi_2 = 0.5$ , $\\mu_1 =0 , \\mu_2 = 10$,  $f_k(x) = \\frac{1}{\\sqrt{2\\pi}\\sigma}e^{-\\frac{1}{2}(\\frac{x-\\mu_k}{\\sigma})^2}$"
   ]
  },
  {
   "cell_type": "markdown",
   "id": "54b392d4-f60c-4b28-8d6b-51aa0879e8e5",
   "metadata": {},
   "source": [
    "$P(Y=1 | X= 4) = \\frac{\\pi_2f_2(4)}{\\pi_1f_1(4)+\\pi_2f_2(4)}$"
   ]
  },
  {
   "cell_type": "code",
   "execution_count": 19,
   "id": "ee43a3ae-00eb-4339-8363-207157a5103d",
   "metadata": {},
   "outputs": [
    {
     "data": {
      "text/html": [
       "0.986207116743916"
      ],
      "text/latex": [
       "0.986207116743916"
      ],
      "text/markdown": [
       "0.986207116743916"
      ],
      "text/plain": [
       "[1] 0.9862071"
      ]
     },
     "metadata": {},
     "output_type": "display_data"
    }
   ],
   "source": [
    "exp(-0.5*((4-10)/36)**2) ## 분자"
   ]
  },
  {
   "cell_type": "code",
   "execution_count": 20,
   "id": "58c9357f-5dfb-42db-b67f-e7ac5fcd07ab",
   "metadata": {},
   "outputs": [
    {
     "data": {
      "text/html": [
       "1.98005329007036"
      ],
      "text/latex": [
       "1.98005329007036"
      ],
      "text/markdown": [
       "1.98005329007036"
      ],
      "text/plain": [
       "[1] 1.980053"
      ]
     },
     "metadata": {},
     "output_type": "display_data"
    }
   ],
   "source": [
    "exp(-0.5*((4-0)/36)**2) + exp(-0.5*((4-10)/36)**2) ## 분모"
   ]
  },
  {
   "cell_type": "code",
   "execution_count": 21,
   "id": "28979e23-2b3e-4795-aa83-149ffd664d4c",
   "metadata": {},
   "outputs": [
    {
     "data": {
      "text/html": [
       "0.498070997224964"
      ],
      "text/latex": [
       "0.498070997224964"
      ],
      "text/markdown": [
       "0.498070997224964"
      ],
      "text/plain": [
       "[1] 0.498071"
      ]
     },
     "metadata": {},
     "output_type": "display_data"
    }
   ],
   "source": [
    "0.986207116743916 / 1.98005329007036 ## P(Y=1 | X=4)"
   ]
  },
  {
   "cell_type": "markdown",
   "id": "d9bf9736-a251-467c-8a3b-af1499fe98b9",
   "metadata": {},
   "source": [
    "작년 수익률이 X=4일 때, 이 회사가 배당금을 지급할 확률은 약 0.498이다."
   ]
  },
  {
   "cell_type": "markdown",
   "id": "e5bc6866-08b8-4bf3-b0a9-0e9405a2259a",
   "metadata": {},
   "source": [
    "  "
   ]
  },
  {
   "cell_type": "code",
   "execution_count": 80,
   "id": "b14a0bff-25d0-4df5-bf40-9c3f9332c3cd",
   "metadata": {},
   "outputs": [
    {
     "name": "stderr",
     "output_type": "stream",
     "text": [
      "\n",
      "Attaching package: 'MASS'\n",
      "\n",
      "\n",
      "The following object is masked from 'package:dplyr':\n",
      "\n",
      "    select\n",
      "\n",
      "\n"
     ]
    }
   ],
   "source": [
    "library(tidyverse)\n",
    "library(MASS) # for LDA"
   ]
  },
  {
   "cell_type": "markdown",
   "id": "060d55c7-ba1e-4df6-9160-e1931747fcc6",
   "metadata": {},
   "source": [
    "## 2 Auto.csv"
   ]
  },
  {
   "cell_type": "markdown",
   "id": "adcf0810-76b2-423a-8b81-c21eed5b89d2",
   "metadata": {},
   "source": [
    "- 데이터 불러오기"
   ]
  },
  {
   "cell_type": "code",
   "execution_count": 157,
   "id": "e3d937f1-4dd9-4e11-9c88-286b1d768ff6",
   "metadata": {},
   "outputs": [],
   "source": [
    "Auto = read.csv(\"Auto.csv\",stringsAsFactors=T)"
   ]
  },
  {
   "cell_type": "markdown",
   "id": "7fd98be4-1d19-4444-8c94-866349d5e603",
   "metadata": {},
   "source": [
    "- 데이터 확인"
   ]
  },
  {
   "cell_type": "code",
   "execution_count": 158,
   "id": "f4ab9ffe-f54e-4df1-916f-05efbc72bb11",
   "metadata": {},
   "outputs": [
    {
     "data": {
      "text/html": [
       "<table class=\"dataframe\">\n",
       "<caption>A data.frame: 6 × 9</caption>\n",
       "<thead>\n",
       "\t<tr><th></th><th scope=col>mpg</th><th scope=col>cylinders</th><th scope=col>displacement</th><th scope=col>horsepower</th><th scope=col>weight</th><th scope=col>acceleration</th><th scope=col>year</th><th scope=col>origin</th><th scope=col>name</th></tr>\n",
       "\t<tr><th></th><th scope=col>&lt;dbl&gt;</th><th scope=col>&lt;int&gt;</th><th scope=col>&lt;dbl&gt;</th><th scope=col>&lt;fct&gt;</th><th scope=col>&lt;int&gt;</th><th scope=col>&lt;dbl&gt;</th><th scope=col>&lt;int&gt;</th><th scope=col>&lt;int&gt;</th><th scope=col>&lt;fct&gt;</th></tr>\n",
       "</thead>\n",
       "<tbody>\n",
       "\t<tr><th scope=row>1</th><td>18</td><td>8</td><td>307</td><td>130</td><td>3504</td><td>12.0</td><td>70</td><td>1</td><td>chevrolet chevelle malibu</td></tr>\n",
       "\t<tr><th scope=row>2</th><td>15</td><td>8</td><td>350</td><td>165</td><td>3693</td><td>11.5</td><td>70</td><td>1</td><td>buick skylark 320        </td></tr>\n",
       "\t<tr><th scope=row>3</th><td>18</td><td>8</td><td>318</td><td>150</td><td>3436</td><td>11.0</td><td>70</td><td>1</td><td>plymouth satellite       </td></tr>\n",
       "\t<tr><th scope=row>4</th><td>16</td><td>8</td><td>304</td><td>150</td><td>3433</td><td>12.0</td><td>70</td><td>1</td><td>amc rebel sst            </td></tr>\n",
       "\t<tr><th scope=row>5</th><td>17</td><td>8</td><td>302</td><td>140</td><td>3449</td><td>10.5</td><td>70</td><td>1</td><td>ford torino              </td></tr>\n",
       "\t<tr><th scope=row>6</th><td>15</td><td>8</td><td>429</td><td>198</td><td>4341</td><td>10.0</td><td>70</td><td>1</td><td>ford galaxie 500         </td></tr>\n",
       "</tbody>\n",
       "</table>\n"
      ],
      "text/latex": [
       "A data.frame: 6 × 9\n",
       "\\begin{tabular}{r|lllllllll}\n",
       "  & mpg & cylinders & displacement & horsepower & weight & acceleration & year & origin & name\\\\\n",
       "  & <dbl> & <int> & <dbl> & <fct> & <int> & <dbl> & <int> & <int> & <fct>\\\\\n",
       "\\hline\n",
       "\t1 & 18 & 8 & 307 & 130 & 3504 & 12.0 & 70 & 1 & chevrolet chevelle malibu\\\\\n",
       "\t2 & 15 & 8 & 350 & 165 & 3693 & 11.5 & 70 & 1 & buick skylark 320        \\\\\n",
       "\t3 & 18 & 8 & 318 & 150 & 3436 & 11.0 & 70 & 1 & plymouth satellite       \\\\\n",
       "\t4 & 16 & 8 & 304 & 150 & 3433 & 12.0 & 70 & 1 & amc rebel sst            \\\\\n",
       "\t5 & 17 & 8 & 302 & 140 & 3449 & 10.5 & 70 & 1 & ford torino              \\\\\n",
       "\t6 & 15 & 8 & 429 & 198 & 4341 & 10.0 & 70 & 1 & ford galaxie 500         \\\\\n",
       "\\end{tabular}\n"
      ],
      "text/markdown": [
       "\n",
       "A data.frame: 6 × 9\n",
       "\n",
       "| <!--/--> | mpg &lt;dbl&gt; | cylinders &lt;int&gt; | displacement &lt;dbl&gt; | horsepower &lt;fct&gt; | weight &lt;int&gt; | acceleration &lt;dbl&gt; | year &lt;int&gt; | origin &lt;int&gt; | name &lt;fct&gt; |\n",
       "|---|---|---|---|---|---|---|---|---|---|\n",
       "| 1 | 18 | 8 | 307 | 130 | 3504 | 12.0 | 70 | 1 | chevrolet chevelle malibu |\n",
       "| 2 | 15 | 8 | 350 | 165 | 3693 | 11.5 | 70 | 1 | buick skylark 320         |\n",
       "| 3 | 18 | 8 | 318 | 150 | 3436 | 11.0 | 70 | 1 | plymouth satellite        |\n",
       "| 4 | 16 | 8 | 304 | 150 | 3433 | 12.0 | 70 | 1 | amc rebel sst             |\n",
       "| 5 | 17 | 8 | 302 | 140 | 3449 | 10.5 | 70 | 1 | ford torino               |\n",
       "| 6 | 15 | 8 | 429 | 198 | 4341 | 10.0 | 70 | 1 | ford galaxie 500          |\n",
       "\n"
      ],
      "text/plain": [
       "  mpg cylinders displacement horsepower weight acceleration year origin\n",
       "1 18  8         307          130        3504   12.0         70   1     \n",
       "2 15  8         350          165        3693   11.5         70   1     \n",
       "3 18  8         318          150        3436   11.0         70   1     \n",
       "4 16  8         304          150        3433   12.0         70   1     \n",
       "5 17  8         302          140        3449   10.5         70   1     \n",
       "6 15  8         429          198        4341   10.0         70   1     \n",
       "  name                     \n",
       "1 chevrolet chevelle malibu\n",
       "2 buick skylark 320        \n",
       "3 plymouth satellite       \n",
       "4 amc rebel sst            \n",
       "5 ford torino              \n",
       "6 ford galaxie 500         "
      ]
     },
     "metadata": {},
     "output_type": "display_data"
    }
   ],
   "source": [
    "Auto %>% head"
   ]
  },
  {
   "cell_type": "markdown",
   "id": "02b5e461-80cc-4af2-bf45-033b85465b09",
   "metadata": {},
   "source": [
    "- 결측치 없음"
   ]
  },
  {
   "cell_type": "code",
   "execution_count": 159,
   "id": "72e60cfc-32a1-4cc5-a4c1-e144221f94d8",
   "metadata": {},
   "outputs": [
    {
     "data": {
      "text/html": [
       "0"
      ],
      "text/latex": [
       "0"
      ],
      "text/markdown": [
       "0"
      ],
      "text/plain": [
       "[1] 0"
      ]
     },
     "metadata": {},
     "output_type": "display_data"
    }
   ],
   "source": [
    "sum(is.na(Auto))  "
   ]
  },
  {
   "cell_type": "markdown",
   "id": "7ffbf002-0d00-4dd2-bb68-defbb41ff8e5",
   "metadata": {},
   "source": [
    "#### (a) mpg01 변수 생성"
   ]
  },
  {
   "cell_type": "code",
   "execution_count": 161,
   "id": "452e7e7e-0e49-4467-bb40-e6cf753fdd20",
   "metadata": {},
   "outputs": [],
   "source": [
    "Auto$mpg01 = ifelse(Auto$mpg>median(Auto$mpg) , 1,0)"
   ]
  },
  {
   "cell_type": "markdown",
   "id": "0e7193c3-83f5-4d74-8079-714dfd701900",
   "metadata": {},
   "source": [
    "- 확인"
   ]
  },
  {
   "cell_type": "code",
   "execution_count": 162,
   "id": "c07a1695-581c-4e61-b365-2dd171776c6d",
   "metadata": {},
   "outputs": [
    {
     "data": {
      "text/html": [
       "23"
      ],
      "text/latex": [
       "23"
      ],
      "text/markdown": [
       "23"
      ],
      "text/plain": [
       "[1] 23"
      ]
     },
     "metadata": {},
     "output_type": "display_data"
    }
   ],
   "source": [
    "median(Auto$mpg)"
   ]
  },
  {
   "cell_type": "code",
   "execution_count": 339,
   "id": "b72237f6-3e4d-4c51-b590-a3943aa3145c",
   "metadata": {
    "scrolled": true,
    "tags": []
   },
   "outputs": [
    {
     "data": {
      "text/html": [
       "<table class=\"dataframe\">\n",
       "<caption>A data.frame: 6 × 10</caption>\n",
       "<thead>\n",
       "\t<tr><th></th><th scope=col>mpg</th><th scope=col>cylinders</th><th scope=col>displacement</th><th scope=col>horsepower</th><th scope=col>weight</th><th scope=col>acceleration</th><th scope=col>year</th><th scope=col>origin</th><th scope=col>name</th><th scope=col>mpg01</th></tr>\n",
       "\t<tr><th></th><th scope=col>&lt;dbl&gt;</th><th scope=col>&lt;int&gt;</th><th scope=col>&lt;dbl&gt;</th><th scope=col>&lt;fct&gt;</th><th scope=col>&lt;int&gt;</th><th scope=col>&lt;dbl&gt;</th><th scope=col>&lt;int&gt;</th><th scope=col>&lt;int&gt;</th><th scope=col>&lt;fct&gt;</th><th scope=col>&lt;fct&gt;</th></tr>\n",
       "</thead>\n",
       "<tbody>\n",
       "\t<tr><th scope=row>1</th><td>18</td><td>8</td><td>307</td><td>130</td><td>3504</td><td>12.0</td><td>70</td><td>1</td><td>chevrolet chevelle malibu</td><td>0</td></tr>\n",
       "\t<tr><th scope=row>2</th><td>15</td><td>8</td><td>350</td><td>165</td><td>3693</td><td>11.5</td><td>70</td><td>1</td><td>buick skylark 320        </td><td>0</td></tr>\n",
       "\t<tr><th scope=row>3</th><td>18</td><td>8</td><td>318</td><td>150</td><td>3436</td><td>11.0</td><td>70</td><td>1</td><td>plymouth satellite       </td><td>0</td></tr>\n",
       "\t<tr><th scope=row>4</th><td>16</td><td>8</td><td>304</td><td>150</td><td>3433</td><td>12.0</td><td>70</td><td>1</td><td>amc rebel sst            </td><td>0</td></tr>\n",
       "\t<tr><th scope=row>5</th><td>17</td><td>8</td><td>302</td><td>140</td><td>3449</td><td>10.5</td><td>70</td><td>1</td><td>ford torino              </td><td>0</td></tr>\n",
       "\t<tr><th scope=row>6</th><td>15</td><td>8</td><td>429</td><td>198</td><td>4341</td><td>10.0</td><td>70</td><td>1</td><td>ford galaxie 500         </td><td>0</td></tr>\n",
       "</tbody>\n",
       "</table>\n"
      ],
      "text/latex": [
       "A data.frame: 6 × 10\n",
       "\\begin{tabular}{r|llllllllll}\n",
       "  & mpg & cylinders & displacement & horsepower & weight & acceleration & year & origin & name & mpg01\\\\\n",
       "  & <dbl> & <int> & <dbl> & <fct> & <int> & <dbl> & <int> & <int> & <fct> & <fct>\\\\\n",
       "\\hline\n",
       "\t1 & 18 & 8 & 307 & 130 & 3504 & 12.0 & 70 & 1 & chevrolet chevelle malibu & 0\\\\\n",
       "\t2 & 15 & 8 & 350 & 165 & 3693 & 11.5 & 70 & 1 & buick skylark 320         & 0\\\\\n",
       "\t3 & 18 & 8 & 318 & 150 & 3436 & 11.0 & 70 & 1 & plymouth satellite        & 0\\\\\n",
       "\t4 & 16 & 8 & 304 & 150 & 3433 & 12.0 & 70 & 1 & amc rebel sst             & 0\\\\\n",
       "\t5 & 17 & 8 & 302 & 140 & 3449 & 10.5 & 70 & 1 & ford torino               & 0\\\\\n",
       "\t6 & 15 & 8 & 429 & 198 & 4341 & 10.0 & 70 & 1 & ford galaxie 500          & 0\\\\\n",
       "\\end{tabular}\n"
      ],
      "text/markdown": [
       "\n",
       "A data.frame: 6 × 10\n",
       "\n",
       "| <!--/--> | mpg &lt;dbl&gt; | cylinders &lt;int&gt; | displacement &lt;dbl&gt; | horsepower &lt;fct&gt; | weight &lt;int&gt; | acceleration &lt;dbl&gt; | year &lt;int&gt; | origin &lt;int&gt; | name &lt;fct&gt; | mpg01 &lt;fct&gt; |\n",
       "|---|---|---|---|---|---|---|---|---|---|---|\n",
       "| 1 | 18 | 8 | 307 | 130 | 3504 | 12.0 | 70 | 1 | chevrolet chevelle malibu | 0 |\n",
       "| 2 | 15 | 8 | 350 | 165 | 3693 | 11.5 | 70 | 1 | buick skylark 320         | 0 |\n",
       "| 3 | 18 | 8 | 318 | 150 | 3436 | 11.0 | 70 | 1 | plymouth satellite        | 0 |\n",
       "| 4 | 16 | 8 | 304 | 150 | 3433 | 12.0 | 70 | 1 | amc rebel sst             | 0 |\n",
       "| 5 | 17 | 8 | 302 | 140 | 3449 | 10.5 | 70 | 1 | ford torino               | 0 |\n",
       "| 6 | 15 | 8 | 429 | 198 | 4341 | 10.0 | 70 | 1 | ford galaxie 500          | 0 |\n",
       "\n"
      ],
      "text/plain": [
       "  mpg cylinders displacement horsepower weight acceleration year origin\n",
       "1 18  8         307          130        3504   12.0         70   1     \n",
       "2 15  8         350          165        3693   11.5         70   1     \n",
       "3 18  8         318          150        3436   11.0         70   1     \n",
       "4 16  8         304          150        3433   12.0         70   1     \n",
       "5 17  8         302          140        3449   10.5         70   1     \n",
       "6 15  8         429          198        4341   10.0         70   1     \n",
       "  name                      mpg01\n",
       "1 chevrolet chevelle malibu 0    \n",
       "2 buick skylark 320         0    \n",
       "3 plymouth satellite        0    \n",
       "4 amc rebel sst             0    \n",
       "5 ford torino               0    \n",
       "6 ford galaxie 500          0    "
      ]
     },
     "metadata": {},
     "output_type": "display_data"
    }
   ],
   "source": [
    "Auto %>% head"
   ]
  },
  {
   "cell_type": "markdown",
   "id": "a0cad051-0e90-4cf9-89d8-d1dd3c0377ee",
   "metadata": {
    "tags": []
   },
   "source": [
    "#### (b) mpg01과 다른 변수들 사이의 관계 시각화"
   ]
  },
  {
   "cell_type": "code",
   "execution_count": 167,
   "id": "108b6225-c8d9-4d0a-a87a-df8a3ad74d04",
   "metadata": {},
   "outputs": [
    {
     "data": {
      "image/png": "[encoded data removed]",
      "text/plain": [
       "plot without title"
      ]
     },
     "metadata": {
      "image/png": {
       "height": 420,
       "width": 420
      }
     },
     "output_type": "display_data"
    }
   ],
   "source": [
    "par(mfrow=c(1,3))\n",
    "boxplot(Auto[,2], Auto[,10])\n",
    "boxplot(Auto[,3], Auto[,10])\n",
    "boxplot(Auto[,4], Auto[,10])"
   ]
  },
  {
   "cell_type": "code",
   "execution_count": 168,
   "id": "969d15de-a318-4e0b-8198-392badf2db96",
   "metadata": {},
   "outputs": [
    {
     "data": {
      "image/png": "[encoded data removed]",
      "text/plain": [
       "plot without title"
      ]
     },
     "metadata": {
      "image/png": {
       "height": 420,
       "width": 420
      }
     },
     "output_type": "display_data"
    }
   ],
   "source": [
    "par(mfrow=c(1,3))\n",
    "boxplot(Auto[,5], Auto[,10])\n",
    "boxplot(Auto[,6], Auto[,10])\n",
    "boxplot(Auto[,7], Auto[,10])"
   ]
  },
  {
   "cell_type": "code",
   "execution_count": 169,
   "id": "b573c524-1820-4b9c-b1f8-8708ddbed4fa",
   "metadata": {},
   "outputs": [
    {
     "data": {
      "image/png": "[encoded data removed]",
      "text/plain": [
       "plot without title"
      ]
     },
     "metadata": {
      "image/png": {
       "height": 420,
       "width": 420
      }
     },
     "output_type": "display_data"
    }
   ],
   "source": [
    "boxplot(Auto[,8], Auto[,10])"
   ]
  },
  {
   "cell_type": "markdown",
   "id": "b518416f-f8d0-447c-b92d-5b8b9cbbc4e1",
   "metadata": {},
   "source": [
    "- 2,6,7번째 변수인 cylinders, acceleration, year변수가 mpg01을 예측하기에 가장 유용할 것 같다. mpg01의 두 범주 간 상자 그림의 거리가 가장 떨어져 있기 때문이다."
   ]
  },
  {
   "cell_type": "markdown",
   "id": "1d038e57-4e28-4a4c-a1f2-bedd254674d2",
   "metadata": {},
   "source": [
    "#### (c) training data 60% , test data 40%"
   ]
  },
  {
   "cell_type": "code",
   "execution_count": 295,
   "id": "8b66fded-fbcd-4754-9dc5-8da43fdb0d77",
   "metadata": {},
   "outputs": [],
   "source": [
    "Auto$mpg01 = as.factor(Auto$mpg01) # 종속 변수를 factor로 변환"
   ]
  },
  {
   "cell_type": "code",
   "execution_count": 296,
   "id": "c189ac17-3c55-42da-aa28-dcd64203673a",
   "metadata": {},
   "outputs": [],
   "source": [
    "train_index = sample(1:nrow(Auto), nrow(Auto)*0.6) "
   ]
  },
  {
   "cell_type": "code",
   "execution_count": 297,
   "id": "cd73e0c7-796d-4de7-82cb-ff3921de5eda",
   "metadata": {},
   "outputs": [],
   "source": [
    "train = Auto[train_index,]\n",
    "test = Auto[-train_index,]"
   ]
  },
  {
   "cell_type": "markdown",
   "id": "b5e363fb-656c-4396-b375-93d63e51f921",
   "metadata": {
    "tags": []
   },
   "source": [
    "#### (d) 연관이 있다고 생각되는 변수들을 이용하여, mpg01을 예측하기 위한 LDA 수행 , test 오분류율은?"
   ]
  },
  {
   "cell_type": "markdown",
   "id": "a6dcc5c9-c44d-47c6-b11a-5702adc60387",
   "metadata": {},
   "source": [
    "- LDA 모형 적합"
   ]
  },
  {
   "cell_type": "code",
   "execution_count": 175,
   "id": "159f8c10-0c9b-47d6-be7b-13f73de2e074",
   "metadata": {},
   "outputs": [],
   "source": [
    "lda = lda(mpg01 ~ cylinders + acceleration + year , data= Auto)"
   ]
  },
  {
   "cell_type": "code",
   "execution_count": 176,
   "id": "099bb023-e4fc-4720-9a08-e36122860fbb",
   "metadata": {},
   "outputs": [
    {
     "data": {
      "text/plain": [
       "Call:\n",
       "lda(mpg01 ~ cylinders + acceleration + year, data = Auto)\n",
       "\n",
       "Prior probabilities of groups:\n",
       "        0         1 \n",
       "0.5188917 0.4811083 \n",
       "\n",
       "Group means:\n",
       "  cylinders acceleration     year\n",
       "0  6.669903     14.70243 74.38350\n",
       "1  4.151832     16.47592 77.73298\n",
       "\n",
       "Coefficients of linear discriminants:\n",
       "                     LD1\n",
       "cylinders    -0.85022976\n",
       "acceleration -0.07569483\n",
       "year          0.13091154"
      ]
     },
     "metadata": {},
     "output_type": "display_data"
    }
   ],
   "source": [
    "lda"
   ]
  },
  {
   "cell_type": "markdown",
   "id": "7f7ee5f7-db90-4e78-af97-2a93c5a6f6b1",
   "metadata": {},
   "source": [
    "- 사전 확률이 약 0.52 , 0.48\n",
    "- 각 설명변수에 대한 정규분포의 평균\n",
    "- 판별 점수"
   ]
  },
  {
   "cell_type": "code",
   "execution_count": 177,
   "id": "1124a60c-30ad-42e1-8950-9c8b0f283c79",
   "metadata": {},
   "outputs": [
    {
     "data": {
      "text/plain": [
       "   \n",
       "     0  1\n",
       "  0 66 14\n",
       "  1  2 77"
      ]
     },
     "metadata": {},
     "output_type": "display_data"
    }
   ],
   "source": [
    "table(test$mpg01 ,predict(lda,test)$class)"
   ]
  },
  {
   "cell_type": "code",
   "execution_count": 178,
   "id": "967b5776-a9a3-4bad-9749-24087b41200a",
   "metadata": {},
   "outputs": [
    {
     "data": {
      "text/html": [
       "0.10062893081761"
      ],
      "text/latex": [
       "0.10062893081761"
      ],
      "text/markdown": [
       "0.10062893081761"
      ],
      "text/plain": [
       "[1] 0.1006289"
      ]
     },
     "metadata": {},
     "output_type": "display_data"
    }
   ],
   "source": [
    "mean(test$mpg01 != predict(lda,test)$class)"
   ]
  },
  {
   "cell_type": "markdown",
   "id": "14742d8f-9df2-494e-a393-84a445b7a346",
   "metadata": {},
   "source": [
    "- test 오분류율 : 약 0.1"
   ]
  },
  {
   "cell_type": "markdown",
   "id": "0dcb5dfe-7f7d-4915-9943-e28bd777b1c7",
   "metadata": {},
   "source": [
    "#### (e) 연관이 있다고 생각되는 변수들을 이용하여, mpg01을 예측하기 위한 QDA 수행 , test 오분류율은?"
   ]
  },
  {
   "cell_type": "markdown",
   "id": "16f40121-8b95-486c-b955-86c4d5414ce3",
   "metadata": {},
   "source": [
    "- QDA 모형 적합"
   ]
  },
  {
   "cell_type": "code",
   "execution_count": 179,
   "id": "fb217705-ef4b-46e8-b8c8-0dbb322c50b6",
   "metadata": {},
   "outputs": [],
   "source": [
    "qda = qda(mpg01 ~ cylinders + acceleration + year , data= Auto)"
   ]
  },
  {
   "cell_type": "code",
   "execution_count": 180,
   "id": "06276008-1256-4e8c-aae4-9d4ab70bdde4",
   "metadata": {},
   "outputs": [
    {
     "data": {
      "text/plain": [
       "Call:\n",
       "qda(mpg01 ~ cylinders + acceleration + year, data = Auto)\n",
       "\n",
       "Prior probabilities of groups:\n",
       "        0         1 \n",
       "0.5188917 0.4811083 \n",
       "\n",
       "Group means:\n",
       "  cylinders acceleration     year\n",
       "0  6.669903     14.70243 74.38350\n",
       "1  4.151832     16.47592 77.73298"
      ]
     },
     "metadata": {},
     "output_type": "display_data"
    }
   ],
   "source": [
    "qda"
   ]
  },
  {
   "cell_type": "markdown",
   "id": "be2ad7dd-c307-41d0-966a-7cb7ab101022",
   "metadata": {},
   "source": [
    "- 사전확률 0.52 , 0.48\n",
    "- 각 설명변수에 대한 정규분포의 평균"
   ]
  },
  {
   "cell_type": "code",
   "execution_count": 181,
   "id": "83a568f4-416a-4a1f-9253-1db7cc28de3b",
   "metadata": {},
   "outputs": [
    {
     "data": {
      "text/plain": [
       "   \n",
       "     0  1\n",
       "  0 68 12\n",
       "  1  5 74"
      ]
     },
     "metadata": {},
     "output_type": "display_data"
    }
   ],
   "source": [
    "table(test$mpg01 ,predict(qda,test)$class)"
   ]
  },
  {
   "cell_type": "code",
   "execution_count": 182,
   "id": "bbf87729-f5ed-44d0-ae11-86aad6595c4f",
   "metadata": {},
   "outputs": [
    {
     "data": {
      "text/html": [
       "0.106918238993711"
      ],
      "text/latex": [
       "0.106918238993711"
      ],
      "text/markdown": [
       "0.106918238993711"
      ],
      "text/plain": [
       "[1] 0.1069182"
      ]
     },
     "metadata": {},
     "output_type": "display_data"
    }
   ],
   "source": [
    "mean(test$mpg01 != predict(qda,test)$class)"
   ]
  },
  {
   "cell_type": "markdown",
   "id": "464796fd-ff08-46d5-aa9b-030a8e25b09f",
   "metadata": {},
   "source": [
    "- 1을 0으로, 0을 1로 오분류한 각각의 개수는 lda와 다르나 전체 오분류율은 lda와 0.107로 비슷하다."
   ]
  },
  {
   "cell_type": "markdown",
   "id": "14e62e48-0358-46f3-a391-de8371b55fd8",
   "metadata": {
    "tags": []
   },
   "source": [
    "#### (f) 연관이 있다고 생각되는 변수들을 이용하여, mpg01을 예측하기 위한 logistic regression 수행 , test 오분류율은?"
   ]
  },
  {
   "cell_type": "markdown",
   "id": "bc5a1c2a-2639-44c9-a82a-8d7fca3dd98f",
   "metadata": {},
   "source": [
    "- Logistic regression 모형 적합"
   ]
  },
  {
   "cell_type": "code",
   "execution_count": 298,
   "id": "17921305-a577-4de7-a538-0cbd1c73df9f",
   "metadata": {},
   "outputs": [],
   "source": [
    "glm = glm(mpg01 ~ cylinders + acceleration + year , data= train , family = binomial)"
   ]
  },
  {
   "cell_type": "code",
   "execution_count": 299,
   "id": "43164570-061b-4d81-9930-181969332838",
   "metadata": {},
   "outputs": [
    {
     "data": {
      "text/plain": [
       "\n",
       "Call:\n",
       "glm(formula = mpg01 ~ cylinders + acceleration + year, family = binomial, \n",
       "    data = train)\n",
       "\n",
       "Deviance Residuals: \n",
       "     Min        1Q    Median        3Q       Max  \n",
       "-2.58041  -0.39779  -0.06026   0.43731   2.83277  \n",
       "\n",
       "Coefficients:\n",
       "              Estimate Std. Error z value Pr(>|z|)    \n",
       "(Intercept)  -13.25604    4.82630  -2.747  0.00602 ** \n",
       "cylinders     -1.54450    0.20793  -7.428 1.10e-13 ***\n",
       "acceleration  -0.01371    0.08805  -0.156  0.87623    \n",
       "year           0.27750    0.06227   4.456 8.34e-06 ***\n",
       "---\n",
       "Signif. codes:  0 '***' 0.001 '**' 0.01 '*' 0.05 '.' 0.1 ' ' 1\n",
       "\n",
       "(Dispersion parameter for binomial family taken to be 1)\n",
       "\n",
       "    Null deviance: 328.26  on 237  degrees of freedom\n",
       "Residual deviance: 153.09  on 234  degrees of freedom\n",
       "AIC: 161.09\n",
       "\n",
       "Number of Fisher Scoring iterations: 6\n"
      ]
     },
     "metadata": {},
     "output_type": "display_data"
    }
   ],
   "source": [
    "summary(glm)"
   ]
  },
  {
   "cell_type": "markdown",
   "id": "20451a1d-64d7-4b94-b6f9-a3537861f395",
   "metadata": {},
   "source": [
    "- acceleration가 mpg01을 분류하기에 유의하지 않은 설명변수이다."
   ]
  },
  {
   "cell_type": "code",
   "execution_count": 300,
   "id": "d7db840f-833d-4b8d-b9b6-7390926817c7",
   "metadata": {},
   "outputs": [
    {
     "data": {
      "text/html": [
       "<table class=\"dataframe\">\n",
       "<caption>A matrix: 2 × 1 of type dbl</caption>\n",
       "<thead>\n",
       "\t<tr><th></th><th scope=col>1</th></tr>\n",
       "</thead>\n",
       "<tbody>\n",
       "\t<tr><th scope=row>0</th><td>0</td></tr>\n",
       "\t<tr><th scope=row>1</th><td>1</td></tr>\n",
       "</tbody>\n",
       "</table>\n"
      ],
      "text/latex": [
       "A matrix: 2 × 1 of type dbl\n",
       "\\begin{tabular}{r|l}\n",
       "  & 1\\\\\n",
       "\\hline\n",
       "\t0 & 0\\\\\n",
       "\t1 & 1\\\\\n",
       "\\end{tabular}\n"
      ],
      "text/markdown": [
       "\n",
       "A matrix: 2 × 1 of type dbl\n",
       "\n",
       "| <!--/--> | 1 |\n",
       "|---|---|\n",
       "| 0 | 0 |\n",
       "| 1 | 1 |\n",
       "\n"
      ],
      "text/plain": [
       "  1\n",
       "0 0\n",
       "1 1"
      ]
     },
     "metadata": {},
     "output_type": "display_data"
    }
   ],
   "source": [
    "contrasts(Auto$mpg01) # 범주에 따른 값 확인"
   ]
  },
  {
   "cell_type": "markdown",
   "id": "1eb28aa2-9634-49a5-a750-8f463fff3adf",
   "metadata": {},
   "source": [
    "- test data로 모형 적합치 확인"
   ]
  },
  {
   "cell_type": "code",
   "execution_count": 191,
   "id": "6025e834-bf14-4716-9120-e68fb0a4b5e9",
   "metadata": {},
   "outputs": [],
   "source": [
    "fitted.test = predict(glm,newdata=subset(test),type='response')\n",
    "fitted.test = ifelse(fitted.test > 0.5,1,0)"
   ]
  },
  {
   "cell_type": "code",
   "execution_count": 195,
   "id": "d5580b16-e0db-41e6-a447-1f29907a5935",
   "metadata": {},
   "outputs": [
    {
     "data": {
      "text/plain": [
       "   fitted.test\n",
       "     0  1\n",
       "  0 67 13\n",
       "  1  7 72"
      ]
     },
     "metadata": {},
     "output_type": "display_data"
    }
   ],
   "source": [
    "tab = table(test$mpg01 ,fitted.test)\n",
    "tab"
   ]
  },
  {
   "cell_type": "code",
   "execution_count": 199,
   "id": "f370b68e-5f47-4582-9dd2-50d4138643b8",
   "metadata": {},
   "outputs": [
    {
     "data": {
      "text/html": [
       "0.125786163522013"
      ],
      "text/latex": [
       "0.125786163522013"
      ],
      "text/markdown": [
       "0.125786163522013"
      ],
      "text/plain": [
       "[1] 0.1257862"
      ]
     },
     "metadata": {},
     "output_type": "display_data"
    }
   ],
   "source": [
    "(tab[1,2]+tab[2,1])/(tab[1,1]+tab[1,2]+tab[2,1]+tab[2,2])"
   ]
  },
  {
   "cell_type": "markdown",
   "id": "175a4305-4f13-4dc6-a299-34e62a17e67e",
   "metadata": {},
   "source": [
    "- 오분류율은 약 0.126이다."
   ]
  },
  {
   "cell_type": "markdown",
   "id": "fdb61193-e7f2-4c09-a8f8-eb07634e4ac4",
   "metadata": {},
   "source": [
    "#### (g) 연관이 있다고 생각되는 변수들을 이용하여, mpg01을 예측하기 위한 KNN 수행 , test 오분류율은?"
   ]
  },
  {
   "cell_type": "code",
   "execution_count": 202,
   "id": "1876a21d-c37c-463f-8ef0-16cea5de1656",
   "metadata": {},
   "outputs": [],
   "source": [
    "library(class)  ## for knn"
   ]
  },
  {
   "cell_type": "markdown",
   "id": "29b102a9-6de3-4d51-9973-31b4f2746d6e",
   "metadata": {},
   "source": [
    "- k=3일 때, KNN 모형에서 test data 적합치"
   ]
  },
  {
   "cell_type": "code",
   "execution_count": 247,
   "id": "39ac62d6-37bb-4ba6-ab70-b40ee0a4c323",
   "metadata": {},
   "outputs": [],
   "source": [
    "fitted.test=knn(train[,c(2,6,7)], test[,c(2,6,7)],cl=train[,10], k=3,prob=T)"
   ]
  },
  {
   "cell_type": "code",
   "execution_count": 248,
   "id": "6389d25b-6357-4148-9278-8d06aecd2d44",
   "metadata": {},
   "outputs": [
    {
     "data": {
      "text/plain": [
       "   fitted.test\n",
       "     0  1\n",
       "  0 70 10\n",
       "  1  9 70"
      ]
     },
     "metadata": {},
     "output_type": "display_data"
    }
   ],
   "source": [
    "tab=table(test[,10],fitted.test)\n",
    "tab"
   ]
  },
  {
   "cell_type": "markdown",
   "id": "0187f1bb-260e-439d-9740-fe0737c7e307",
   "metadata": {},
   "source": [
    "- k=3일 때, KNN 모형에서 test data 오분류율"
   ]
  },
  {
   "cell_type": "code",
   "execution_count": 249,
   "id": "4cd81fdd-8d5f-4a0b-9871-c76379a92709",
   "metadata": {},
   "outputs": [
    {
     "data": {
      "text/html": [
       "0.119496855345912"
      ],
      "text/latex": [
       "0.119496855345912"
      ],
      "text/markdown": [
       "0.119496855345912"
      ],
      "text/plain": [
       "[1] 0.1194969"
      ]
     },
     "metadata": {},
     "output_type": "display_data"
    }
   ],
   "source": [
    "(tab[1,2]+tab[2,1])/(tab[1,1]+tab[1,2]+tab[2,1]+tab[2,2])"
   ]
  },
  {
   "cell_type": "markdown",
   "id": "ac0461d1-8f4f-4d93-9d01-18bd82af0f01",
   "metadata": {},
   "source": [
    "- k=5일 때, KNN 모형에서 test data 적합치"
   ]
  },
  {
   "cell_type": "code",
   "execution_count": 250,
   "id": "12e8897e-6dcc-4fa3-8f14-1a46c08e6828",
   "metadata": {},
   "outputs": [],
   "source": [
    "fitted.test=knn(train[,c(2,6,7)], test[,c(2,6,7)],cl=train[,10], k=5,prob=T)"
   ]
  },
  {
   "cell_type": "code",
   "execution_count": 251,
   "id": "3fd4a563-f02a-4308-bac7-b4213cbaab5b",
   "metadata": {},
   "outputs": [
    {
     "data": {
      "text/plain": [
       "   fitted.test\n",
       "     0  1\n",
       "  0 68 12\n",
       "  1  5 74"
      ]
     },
     "metadata": {},
     "output_type": "display_data"
    }
   ],
   "source": [
    "tab=table(test[,10],fitted.test)\n",
    "tab"
   ]
  },
  {
   "cell_type": "markdown",
   "id": "b0575b21-a69a-449b-89c5-e29d643b523f",
   "metadata": {},
   "source": [
    "- k=5일 때, KNN 모형에서 test data 오분류율"
   ]
  },
  {
   "cell_type": "code",
   "execution_count": 253,
   "id": "df6f010e-13ad-43cd-a5c4-2e96a8e6280e",
   "metadata": {},
   "outputs": [
    {
     "data": {
      "text/html": [
       "0.106918238993711"
      ],
      "text/latex": [
       "0.106918238993711"
      ],
      "text/markdown": [
       "0.106918238993711"
      ],
      "text/plain": [
       "[1] 0.1069182"
      ]
     },
     "metadata": {},
     "output_type": "display_data"
    }
   ],
   "source": [
    "(tab[1,2]+tab[2,1])/(tab[1,1]+tab[1,2]+tab[2,1]+tab[2,2])"
   ]
  },
  {
   "cell_type": "markdown",
   "id": "5a52f369-39bf-4cd1-bed1-1d65f2cef21a",
   "metadata": {},
   "source": [
    "- k=7일 때, KNN 모형에서 test data 적합치"
   ]
  },
  {
   "cell_type": "code",
   "execution_count": 254,
   "id": "c5825571-fd1e-4a37-bd08-380f5c8a287f",
   "metadata": {},
   "outputs": [],
   "source": [
    "fitted.test=knn(train[,c(2,6,7)], test[,c(2,6,7)],cl=train[,10], k=7,prob=T)"
   ]
  },
  {
   "cell_type": "code",
   "execution_count": 255,
   "id": "608d26c8-f4c0-46d7-b03e-f00f20f382bf",
   "metadata": {},
   "outputs": [
    {
     "data": {
      "text/plain": [
       "   fitted.test\n",
       "     0  1\n",
       "  0 68 12\n",
       "  1  6 73"
      ]
     },
     "metadata": {},
     "output_type": "display_data"
    }
   ],
   "source": [
    "tab=table(test[,10],fitted.test)\n",
    "tab"
   ]
  },
  {
   "cell_type": "markdown",
   "id": "95604f7b-604d-48c4-b38e-4e36ebddf674",
   "metadata": {},
   "source": [
    "- k=7일 때, KNN 모형에서 test data 오분류율"
   ]
  },
  {
   "cell_type": "code",
   "execution_count": 256,
   "id": "256ca149-3c31-4e84-88dc-d0e93cb40df9",
   "metadata": {},
   "outputs": [
    {
     "data": {
      "text/html": [
       "0.113207547169811"
      ],
      "text/latex": [
       "0.113207547169811"
      ],
      "text/markdown": [
       "0.113207547169811"
      ],
      "text/plain": [
       "[1] 0.1132075"
      ]
     },
     "metadata": {},
     "output_type": "display_data"
    }
   ],
   "source": [
    "(tab[1,2]+tab[2,1])/(tab[1,1]+tab[1,2]+tab[2,1]+tab[2,2])"
   ]
  },
  {
   "cell_type": "markdown",
   "id": "2803f78b-33dc-4e96-889d-ee34f9af920a",
   "metadata": {},
   "source": [
    "- k=5일 때, 오분류율 값이 가장 작다."
   ]
  },
  {
   "cell_type": "markdown",
   "id": "1b4127ce-5158-4b0a-a7bb-6a3934febcc1",
   "metadata": {},
   "source": [
    "  "
   ]
  },
  {
   "cell_type": "markdown",
   "id": "82f2eaad-334b-4b2a-8409-288d187b0e95",
   "metadata": {},
   "source": [
    "### Boston.csv"
   ]
  },
  {
   "cell_type": "markdown",
   "id": "b7ab1487-2163-4682-8734-1d4472be0dec",
   "metadata": {},
   "source": [
    "- 데이터 불러오기"
   ]
  },
  {
   "cell_type": "code",
   "execution_count": 280,
   "id": "e637f102-419d-4028-80f2-3a74208ef885",
   "metadata": {},
   "outputs": [],
   "source": [
    "Boston = read.csv(\"Boston.csv\" , stringsAsFactors=T)"
   ]
  },
  {
   "cell_type": "code",
   "execution_count": 281,
   "id": "bb3b6f4c-7308-4e2a-b97f-ab9adae7c2f8",
   "metadata": {},
   "outputs": [
    {
     "data": {
      "text/html": [
       "<table class=\"dataframe\">\n",
       "<caption>A data.frame: 6 × 14</caption>\n",
       "<thead>\n",
       "\t<tr><th></th><th scope=col>X</th><th scope=col>crim</th><th scope=col>zn</th><th scope=col>indus</th><th scope=col>chas</th><th scope=col>nox</th><th scope=col>rm</th><th scope=col>age</th><th scope=col>dis</th><th scope=col>rad</th><th scope=col>tax</th><th scope=col>ptratio</th><th scope=col>lstat</th><th scope=col>medv</th></tr>\n",
       "\t<tr><th></th><th scope=col>&lt;int&gt;</th><th scope=col>&lt;dbl&gt;</th><th scope=col>&lt;dbl&gt;</th><th scope=col>&lt;dbl&gt;</th><th scope=col>&lt;int&gt;</th><th scope=col>&lt;dbl&gt;</th><th scope=col>&lt;dbl&gt;</th><th scope=col>&lt;dbl&gt;</th><th scope=col>&lt;dbl&gt;</th><th scope=col>&lt;int&gt;</th><th scope=col>&lt;int&gt;</th><th scope=col>&lt;dbl&gt;</th><th scope=col>&lt;dbl&gt;</th><th scope=col>&lt;dbl&gt;</th></tr>\n",
       "</thead>\n",
       "<tbody>\n",
       "\t<tr><th scope=row>1</th><td>1</td><td>0.00632</td><td>18</td><td>2.31</td><td>0</td><td>0.538</td><td>6.575</td><td>65.2</td><td>4.0900</td><td>1</td><td>296</td><td>15.3</td><td>4.98</td><td>24.0</td></tr>\n",
       "\t<tr><th scope=row>2</th><td>2</td><td>0.02731</td><td> 0</td><td>7.07</td><td>0</td><td>0.469</td><td>6.421</td><td>78.9</td><td>4.9671</td><td>2</td><td>242</td><td>17.8</td><td>9.14</td><td>21.6</td></tr>\n",
       "\t<tr><th scope=row>3</th><td>3</td><td>0.02729</td><td> 0</td><td>7.07</td><td>0</td><td>0.469</td><td>7.185</td><td>61.1</td><td>4.9671</td><td>2</td><td>242</td><td>17.8</td><td>4.03</td><td>34.7</td></tr>\n",
       "\t<tr><th scope=row>4</th><td>4</td><td>0.03237</td><td> 0</td><td>2.18</td><td>0</td><td>0.458</td><td>6.998</td><td>45.8</td><td>6.0622</td><td>3</td><td>222</td><td>18.7</td><td>2.94</td><td>33.4</td></tr>\n",
       "\t<tr><th scope=row>5</th><td>5</td><td>0.06905</td><td> 0</td><td>2.18</td><td>0</td><td>0.458</td><td>7.147</td><td>54.2</td><td>6.0622</td><td>3</td><td>222</td><td>18.7</td><td>5.33</td><td>36.2</td></tr>\n",
       "\t<tr><th scope=row>6</th><td>6</td><td>0.02985</td><td> 0</td><td>2.18</td><td>0</td><td>0.458</td><td>6.430</td><td>58.7</td><td>6.0622</td><td>3</td><td>222</td><td>18.7</td><td>5.21</td><td>28.7</td></tr>\n",
       "</tbody>\n",
       "</table>\n"
      ],
      "text/latex": [
       "A data.frame: 6 × 14\n",
       "\\begin{tabular}{r|llllllllllllll}\n",
       "  & X & crim & zn & indus & chas & nox & rm & age & dis & rad & tax & ptratio & lstat & medv\\\\\n",
       "  & <int> & <dbl> & <dbl> & <dbl> & <int> & <dbl> & <dbl> & <dbl> & <dbl> & <int> & <int> & <dbl> & <dbl> & <dbl>\\\\\n",
       "\\hline\n",
       "\t1 & 1 & 0.00632 & 18 & 2.31 & 0 & 0.538 & 6.575 & 65.2 & 4.0900 & 1 & 296 & 15.3 & 4.98 & 24.0\\\\\n",
       "\t2 & 2 & 0.02731 &  0 & 7.07 & 0 & 0.469 & 6.421 & 78.9 & 4.9671 & 2 & 242 & 17.8 & 9.14 & 21.6\\\\\n",
       "\t3 & 3 & 0.02729 &  0 & 7.07 & 0 & 0.469 & 7.185 & 61.1 & 4.9671 & 2 & 242 & 17.8 & 4.03 & 34.7\\\\\n",
       "\t4 & 4 & 0.03237 &  0 & 2.18 & 0 & 0.458 & 6.998 & 45.8 & 6.0622 & 3 & 222 & 18.7 & 2.94 & 33.4\\\\\n",
       "\t5 & 5 & 0.06905 &  0 & 2.18 & 0 & 0.458 & 7.147 & 54.2 & 6.0622 & 3 & 222 & 18.7 & 5.33 & 36.2\\\\\n",
       "\t6 & 6 & 0.02985 &  0 & 2.18 & 0 & 0.458 & 6.430 & 58.7 & 6.0622 & 3 & 222 & 18.7 & 5.21 & 28.7\\\\\n",
       "\\end{tabular}\n"
      ],
      "text/markdown": [
       "\n",
       "A data.frame: 6 × 14\n",
       "\n",
       "| <!--/--> | X &lt;int&gt; | crim &lt;dbl&gt; | zn &lt;dbl&gt; | indus &lt;dbl&gt; | chas &lt;int&gt; | nox &lt;dbl&gt; | rm &lt;dbl&gt; | age &lt;dbl&gt; | dis &lt;dbl&gt; | rad &lt;int&gt; | tax &lt;int&gt; | ptratio &lt;dbl&gt; | lstat &lt;dbl&gt; | medv &lt;dbl&gt; |\n",
       "|---|---|---|---|---|---|---|---|---|---|---|---|---|---|---|\n",
       "| 1 | 1 | 0.00632 | 18 | 2.31 | 0 | 0.538 | 6.575 | 65.2 | 4.0900 | 1 | 296 | 15.3 | 4.98 | 24.0 |\n",
       "| 2 | 2 | 0.02731 |  0 | 7.07 | 0 | 0.469 | 6.421 | 78.9 | 4.9671 | 2 | 242 | 17.8 | 9.14 | 21.6 |\n",
       "| 3 | 3 | 0.02729 |  0 | 7.07 | 0 | 0.469 | 7.185 | 61.1 | 4.9671 | 2 | 242 | 17.8 | 4.03 | 34.7 |\n",
       "| 4 | 4 | 0.03237 |  0 | 2.18 | 0 | 0.458 | 6.998 | 45.8 | 6.0622 | 3 | 222 | 18.7 | 2.94 | 33.4 |\n",
       "| 5 | 5 | 0.06905 |  0 | 2.18 | 0 | 0.458 | 7.147 | 54.2 | 6.0622 | 3 | 222 | 18.7 | 5.33 | 36.2 |\n",
       "| 6 | 6 | 0.02985 |  0 | 2.18 | 0 | 0.458 | 6.430 | 58.7 | 6.0622 | 3 | 222 | 18.7 | 5.21 | 28.7 |\n",
       "\n"
      ],
      "text/plain": [
       "  X crim    zn indus chas nox   rm    age  dis    rad tax ptratio lstat medv\n",
       "1 1 0.00632 18 2.31  0    0.538 6.575 65.2 4.0900 1   296 15.3    4.98  24.0\n",
       "2 2 0.02731  0 7.07  0    0.469 6.421 78.9 4.9671 2   242 17.8    9.14  21.6\n",
       "3 3 0.02729  0 7.07  0    0.469 7.185 61.1 4.9671 2   242 17.8    4.03  34.7\n",
       "4 4 0.03237  0 2.18  0    0.458 6.998 45.8 6.0622 3   222 18.7    2.94  33.4\n",
       "5 5 0.06905  0 2.18  0    0.458 7.147 54.2 6.0622 3   222 18.7    5.33  36.2\n",
       "6 6 0.02985  0 2.18  0    0.458 6.430 58.7 6.0622 3   222 18.7    5.21  28.7"
      ]
     },
     "metadata": {},
     "output_type": "display_data"
    }
   ],
   "source": [
    "Boston %>% head"
   ]
  },
  {
   "cell_type": "markdown",
   "id": "9ffb0436-5872-497d-be86-205f99e30abc",
   "metadata": {},
   "source": [
    "- 결측치 없음"
   ]
  },
  {
   "cell_type": "code",
   "execution_count": 282,
   "id": "29bbf74f-8bb5-4571-900d-da1760589243",
   "metadata": {},
   "outputs": [
    {
     "data": {
      "text/html": [
       "0"
      ],
      "text/latex": [
       "0"
      ],
      "text/markdown": [
       "0"
      ],
      "text/plain": [
       "[1] 0"
      ]
     },
     "metadata": {},
     "output_type": "display_data"
    }
   ],
   "source": [
    "sum(is.na(Boston))"
   ]
  },
  {
   "cell_type": "markdown",
   "id": "76bbd8ab-11b9-4aa9-bafd-259c6a052569",
   "metadata": {},
   "source": [
    "- 범주형 종속변수 생성"
   ]
  },
  {
   "cell_type": "code",
   "execution_count": 283,
   "id": "b9ccbf9a-ad94-48a2-a9c9-e9ee87090b73",
   "metadata": {},
   "outputs": [],
   "source": [
    "Boston$crim10 = ifelse(Boston$crim >= median(Boston$crim),1,0 )"
   ]
  },
  {
   "cell_type": "code",
   "execution_count": 289,
   "id": "9fdfb787-37d7-41c0-bbcb-bb43da2761a6",
   "metadata": {},
   "outputs": [],
   "source": [
    "Boston$crim10 = as.factor(Boston$crim10) # 종속 변수를 factor로 변환"
   ]
  },
  {
   "cell_type": "code",
   "execution_count": 284,
   "id": "65774960-d95c-45a2-8917-dd990ddb2d29",
   "metadata": {},
   "outputs": [],
   "source": [
    "Boston = Boston[,-c(1,2)] # index 변수, crim변수 삭제"
   ]
  },
  {
   "cell_type": "code",
   "execution_count": 290,
   "id": "062c3791-4bce-476a-bd0d-eab846ac2985",
   "metadata": {},
   "outputs": [
    {
     "data": {
      "text/html": [
       "<table class=\"dataframe\">\n",
       "<caption>A data.frame: 6 × 13</caption>\n",
       "<thead>\n",
       "\t<tr><th></th><th scope=col>zn</th><th scope=col>indus</th><th scope=col>chas</th><th scope=col>nox</th><th scope=col>rm</th><th scope=col>age</th><th scope=col>dis</th><th scope=col>rad</th><th scope=col>tax</th><th scope=col>ptratio</th><th scope=col>lstat</th><th scope=col>medv</th><th scope=col>crim10</th></tr>\n",
       "\t<tr><th></th><th scope=col>&lt;dbl&gt;</th><th scope=col>&lt;dbl&gt;</th><th scope=col>&lt;int&gt;</th><th scope=col>&lt;dbl&gt;</th><th scope=col>&lt;dbl&gt;</th><th scope=col>&lt;dbl&gt;</th><th scope=col>&lt;dbl&gt;</th><th scope=col>&lt;int&gt;</th><th scope=col>&lt;int&gt;</th><th scope=col>&lt;dbl&gt;</th><th scope=col>&lt;dbl&gt;</th><th scope=col>&lt;dbl&gt;</th><th scope=col>&lt;fct&gt;</th></tr>\n",
       "</thead>\n",
       "<tbody>\n",
       "\t<tr><th scope=row>1</th><td>18</td><td>2.31</td><td>0</td><td>0.538</td><td>6.575</td><td>65.2</td><td>4.0900</td><td>1</td><td>296</td><td>15.3</td><td>4.98</td><td>24.0</td><td>0</td></tr>\n",
       "\t<tr><th scope=row>2</th><td> 0</td><td>7.07</td><td>0</td><td>0.469</td><td>6.421</td><td>78.9</td><td>4.9671</td><td>2</td><td>242</td><td>17.8</td><td>9.14</td><td>21.6</td><td>0</td></tr>\n",
       "\t<tr><th scope=row>3</th><td> 0</td><td>7.07</td><td>0</td><td>0.469</td><td>7.185</td><td>61.1</td><td>4.9671</td><td>2</td><td>242</td><td>17.8</td><td>4.03</td><td>34.7</td><td>0</td></tr>\n",
       "\t<tr><th scope=row>4</th><td> 0</td><td>2.18</td><td>0</td><td>0.458</td><td>6.998</td><td>45.8</td><td>6.0622</td><td>3</td><td>222</td><td>18.7</td><td>2.94</td><td>33.4</td><td>0</td></tr>\n",
       "\t<tr><th scope=row>5</th><td> 0</td><td>2.18</td><td>0</td><td>0.458</td><td>7.147</td><td>54.2</td><td>6.0622</td><td>3</td><td>222</td><td>18.7</td><td>5.33</td><td>36.2</td><td>0</td></tr>\n",
       "\t<tr><th scope=row>6</th><td> 0</td><td>2.18</td><td>0</td><td>0.458</td><td>6.430</td><td>58.7</td><td>6.0622</td><td>3</td><td>222</td><td>18.7</td><td>5.21</td><td>28.7</td><td>0</td></tr>\n",
       "</tbody>\n",
       "</table>\n"
      ],
      "text/latex": [
       "A data.frame: 6 × 13\n",
       "\\begin{tabular}{r|lllllllllllll}\n",
       "  & zn & indus & chas & nox & rm & age & dis & rad & tax & ptratio & lstat & medv & crim10\\\\\n",
       "  & <dbl> & <dbl> & <int> & <dbl> & <dbl> & <dbl> & <dbl> & <int> & <int> & <dbl> & <dbl> & <dbl> & <fct>\\\\\n",
       "\\hline\n",
       "\t1 & 18 & 2.31 & 0 & 0.538 & 6.575 & 65.2 & 4.0900 & 1 & 296 & 15.3 & 4.98 & 24.0 & 0\\\\\n",
       "\t2 &  0 & 7.07 & 0 & 0.469 & 6.421 & 78.9 & 4.9671 & 2 & 242 & 17.8 & 9.14 & 21.6 & 0\\\\\n",
       "\t3 &  0 & 7.07 & 0 & 0.469 & 7.185 & 61.1 & 4.9671 & 2 & 242 & 17.8 & 4.03 & 34.7 & 0\\\\\n",
       "\t4 &  0 & 2.18 & 0 & 0.458 & 6.998 & 45.8 & 6.0622 & 3 & 222 & 18.7 & 2.94 & 33.4 & 0\\\\\n",
       "\t5 &  0 & 2.18 & 0 & 0.458 & 7.147 & 54.2 & 6.0622 & 3 & 222 & 18.7 & 5.33 & 36.2 & 0\\\\\n",
       "\t6 &  0 & 2.18 & 0 & 0.458 & 6.430 & 58.7 & 6.0622 & 3 & 222 & 18.7 & 5.21 & 28.7 & 0\\\\\n",
       "\\end{tabular}\n"
      ],
      "text/markdown": [
       "\n",
       "A data.frame: 6 × 13\n",
       "\n",
       "| <!--/--> | zn &lt;dbl&gt; | indus &lt;dbl&gt; | chas &lt;int&gt; | nox &lt;dbl&gt; | rm &lt;dbl&gt; | age &lt;dbl&gt; | dis &lt;dbl&gt; | rad &lt;int&gt; | tax &lt;int&gt; | ptratio &lt;dbl&gt; | lstat &lt;dbl&gt; | medv &lt;dbl&gt; | crim10 &lt;fct&gt; |\n",
       "|---|---|---|---|---|---|---|---|---|---|---|---|---|---|\n",
       "| 1 | 18 | 2.31 | 0 | 0.538 | 6.575 | 65.2 | 4.0900 | 1 | 296 | 15.3 | 4.98 | 24.0 | 0 |\n",
       "| 2 |  0 | 7.07 | 0 | 0.469 | 6.421 | 78.9 | 4.9671 | 2 | 242 | 17.8 | 9.14 | 21.6 | 0 |\n",
       "| 3 |  0 | 7.07 | 0 | 0.469 | 7.185 | 61.1 | 4.9671 | 2 | 242 | 17.8 | 4.03 | 34.7 | 0 |\n",
       "| 4 |  0 | 2.18 | 0 | 0.458 | 6.998 | 45.8 | 6.0622 | 3 | 222 | 18.7 | 2.94 | 33.4 | 0 |\n",
       "| 5 |  0 | 2.18 | 0 | 0.458 | 7.147 | 54.2 | 6.0622 | 3 | 222 | 18.7 | 5.33 | 36.2 | 0 |\n",
       "| 6 |  0 | 2.18 | 0 | 0.458 | 6.430 | 58.7 | 6.0622 | 3 | 222 | 18.7 | 5.21 | 28.7 | 0 |\n",
       "\n"
      ],
      "text/plain": [
       "  zn indus chas nox   rm    age  dis    rad tax ptratio lstat medv crim10\n",
       "1 18 2.31  0    0.538 6.575 65.2 4.0900 1   296 15.3    4.98  24.0 0     \n",
       "2  0 7.07  0    0.469 6.421 78.9 4.9671 2   242 17.8    9.14  21.6 0     \n",
       "3  0 7.07  0    0.469 7.185 61.1 4.9671 2   242 17.8    4.03  34.7 0     \n",
       "4  0 2.18  0    0.458 6.998 45.8 6.0622 3   222 18.7    2.94  33.4 0     \n",
       "5  0 2.18  0    0.458 7.147 54.2 6.0622 3   222 18.7    5.33  36.2 0     \n",
       "6  0 2.18  0    0.458 6.430 58.7 6.0622 3   222 18.7    5.21  28.7 0     "
      ]
     },
     "metadata": {},
     "output_type": "display_data"
    }
   ],
   "source": [
    "Boston %>% head"
   ]
  },
  {
   "cell_type": "markdown",
   "id": "f5cad747-6e87-40f4-ad08-56ae05252c67",
   "metadata": {},
   "source": [
    "- training data 60% , test data 40%"
   ]
  },
  {
   "cell_type": "code",
   "execution_count": 301,
   "id": "c3d1fba5-3630-4e7b-9a23-08a3515190f9",
   "metadata": {},
   "outputs": [],
   "source": [
    "train_index = sample(1:nrow(Boston), nrow(Boston)*0.6) "
   ]
  },
  {
   "cell_type": "code",
   "execution_count": 302,
   "id": "74330554-d8dd-4538-a928-dd399af82b6b",
   "metadata": {},
   "outputs": [],
   "source": [
    "train = Boston[train_index,]\n",
    "test = Boston[-train_index,]"
   ]
  },
  {
   "cell_type": "markdown",
   "id": "366f4f0b-3d37-434b-b3fa-04e328a9bad4",
   "metadata": {},
   "source": [
    "#### Logistic regression"
   ]
  },
  {
   "cell_type": "markdown",
   "id": "0733c01e-19a2-47d6-83d5-bf5827e1cff6",
   "metadata": {},
   "source": [
    "- Logistic regression 모형 적합"
   ]
  },
  {
   "cell_type": "code",
   "execution_count": 303,
   "id": "4aba272e-0aef-4426-98f7-ec877e5eb8f1",
   "metadata": {},
   "outputs": [],
   "source": [
    "glm = glm(crim10 ~. , data = train, family = 'binomial')"
   ]
  },
  {
   "cell_type": "code",
   "execution_count": 304,
   "id": "e6688e54-0a6e-4e5b-a5fb-6d620d69537f",
   "metadata": {},
   "outputs": [
    {
     "data": {
      "text/plain": [
       "\n",
       "Call:\n",
       "glm(formula = crim10 ~ ., family = \"binomial\", data = train)\n",
       "\n",
       "Deviance Residuals: \n",
       "    Min       1Q   Median       3Q      Max  \n",
       "-2.0342  -0.1478  -0.0018   0.0031   3.4733  \n",
       "\n",
       "Coefficients:\n",
       "              Estimate Std. Error z value Pr(>|z|)    \n",
       "(Intercept) -41.731585   8.676565  -4.810 1.51e-06 ***\n",
       "zn           -0.068154   0.046403  -1.469  0.14190    \n",
       "indus        -0.013343   0.057310  -0.233  0.81590    \n",
       "chas         -0.020520   1.124578  -0.018  0.98544    \n",
       "nox          50.834178  10.142195   5.012 5.38e-07 ***\n",
       "rm           -0.572121   1.004998  -0.569  0.56917    \n",
       "age           0.026371   0.015854   1.663  0.09624 .  \n",
       "dis           0.748767   0.287784   2.602  0.00927 ** \n",
       "rad           0.624953   0.208922   2.991  0.00278 ** \n",
       "tax          -0.004858   0.003788  -1.283  0.19961    \n",
       "ptratio       0.375000   0.161740   2.319  0.02042 *  \n",
       "lstat         0.065043   0.062437   1.042  0.29753    \n",
       "medv          0.184014   0.097505   1.887  0.05913 .  \n",
       "---\n",
       "Signif. codes:  0 '***' 0.001 '**' 0.01 '*' 0.05 '.' 0.1 ' ' 1\n",
       "\n",
       "(Dispersion parameter for binomial family taken to be 1)\n",
       "\n",
       "    Null deviance: 419.49  on 302  degrees of freedom\n",
       "Residual deviance: 125.51  on 290  degrees of freedom\n",
       "AIC: 151.51\n",
       "\n",
       "Number of Fisher Scoring iterations: 9\n"
      ]
     },
     "metadata": {},
     "output_type": "display_data"
    }
   ],
   "source": [
    "summary(glm)"
   ]
  },
  {
   "cell_type": "markdown",
   "id": "b084bf09-f1b0-4220-8314-d3b735b595da",
   "metadata": {},
   "source": [
    "- 유의하지 않은 변수 제거"
   ]
  },
  {
   "cell_type": "code",
   "execution_count": 305,
   "id": "f71f5f76-a3f1-48f7-bc5f-865a5e6054a1",
   "metadata": {},
   "outputs": [
    {
     "name": "stdout",
     "output_type": "stream",
     "text": [
      "Start:  AIC=151.51\n",
      "crim10 ~ zn + indus + chas + nox + rm + age + dis + rad + tax + \n",
      "    ptratio + lstat + medv\n",
      "\n",
      "          Df Deviance    AIC\n",
      "- chas     1   125.51 149.51\n",
      "- indus    1   125.56 149.56\n",
      "- rm       1   125.83 149.83\n",
      "- lstat    1   126.58 150.59\n",
      "- tax      1   127.17 151.18\n",
      "<none>         125.50 151.50\n",
      "- zn       1   128.43 152.43\n",
      "- age      1   128.45 152.45\n",
      "- medv     1   129.40 153.40\n",
      "- ptratio  1   131.39 155.39\n",
      "- dis      1   133.42 157.42\n",
      "- rad      1   141.77 165.77\n",
      "- nox      1   174.56 198.56\n",
      "\n",
      "Step:  AIC=149.51\n",
      "crim10 ~ zn + indus + nox + rm + age + dis + rad + tax + ptratio + \n",
      "    lstat + medv\n",
      "\n",
      "          Df Deviance    AIC\n",
      "- indus    1   125.56 147.56\n",
      "- rm       1   125.84 147.84\n",
      "- lstat    1   126.58 148.59\n",
      "- tax      1   127.18 149.18\n",
      "<none>         125.51 149.51\n",
      "- zn       1   128.44 150.44\n",
      "- age      1   128.47 150.47\n",
      "- medv     1   129.45 151.45\n",
      "- ptratio  1   131.50 153.50\n",
      "- dis      1   133.42 155.42\n",
      "- rad      1   141.80 163.80\n",
      "- nox      1   174.82 196.82\n",
      "\n",
      "Step:  AIC=147.56\n",
      "crim10 ~ zn + nox + rm + age + dis + rad + tax + ptratio + lstat + \n",
      "    medv\n",
      "\n",
      "          Df Deviance    AIC\n",
      "- rm       1   125.90 145.90\n",
      "- lstat    1   126.59 146.59\n",
      "- tax      1   127.47 147.47\n",
      "<none>         125.56 147.56\n",
      "- zn       1   128.53 148.53\n",
      "- age      1   128.57 148.57\n",
      "- medv     1   129.46 149.46\n",
      "- ptratio  1   131.57 151.57\n",
      "- dis      1   133.53 153.53\n",
      "- rad      1   142.35 162.35\n",
      "- nox      1   180.38 200.38\n",
      "\n",
      "Step:  AIC=145.9\n",
      "crim10 ~ zn + nox + age + dis + rad + tax + ptratio + lstat + \n",
      "    medv\n",
      "\n",
      "          Df Deviance    AIC\n",
      "- lstat    1   127.61 145.60\n",
      "<none>         125.90 145.90\n",
      "- tax      1   128.12 146.12\n",
      "- age      1   128.66 146.66\n",
      "- zn       1   129.21 147.21\n",
      "- ptratio  1   131.95 149.95\n",
      "- medv     1   133.31 151.31\n",
      "- dis      1   133.55 151.55\n",
      "- rad      1   142.53 160.53\n",
      "- nox      1   180.69 198.69\n",
      "\n",
      "Step:  AIC=145.6\n",
      "crim10 ~ zn + nox + age + dis + rad + tax + ptratio + medv\n",
      "\n",
      "          Df Deviance    AIC\n",
      "<none>         127.61 145.60\n",
      "- tax      1   130.10 146.10\n",
      "- zn       1   130.60 146.60\n",
      "- age      1   131.88 147.88\n",
      "- ptratio  1   133.23 149.23\n",
      "- medv     1   133.39 149.39\n",
      "- dis      1   134.78 150.78\n",
      "- rad      1   144.74 160.74\n",
      "- nox      1   182.44 198.44\n"
     ]
    }
   ],
   "source": [
    "new_glm = step(glm)"
   ]
  },
  {
   "cell_type": "code",
   "execution_count": 306,
   "id": "4ac15320-adbb-4d70-83aa-48c5711a8f53",
   "metadata": {},
   "outputs": [
    {
     "data": {
      "text/plain": [
       "\n",
       "Call:\n",
       "glm(formula = crim10 ~ zn + nox + age + dis + rad + tax + ptratio + \n",
       "    medv, family = \"binomial\", data = train)\n",
       "\n",
       "Deviance Residuals: \n",
       "    Min       1Q   Median       3Q      Max  \n",
       "-1.8697  -0.1896  -0.0025   0.0039   3.4372  \n",
       "\n",
       "Coefficients:\n",
       "              Estimate Std. Error z value Pr(>|z|)    \n",
       "(Intercept) -39.692359   7.725756  -5.138 2.78e-07 ***\n",
       "zn           -0.063598   0.042880  -1.483  0.13803    \n",
       "nox          48.136497   8.854373   5.436 5.43e-08 ***\n",
       "age           0.026799   0.013404   1.999  0.04557 *  \n",
       "dis           0.673997   0.266014   2.534  0.01129 *  \n",
       "rad           0.618560   0.199008   3.108  0.00188 ** \n",
       "tax          -0.005698   0.003629  -1.570  0.11635    \n",
       "ptratio       0.317848   0.137632   2.309  0.02092 *  \n",
       "medv          0.100200   0.044276   2.263  0.02363 *  \n",
       "---\n",
       "Signif. codes:  0 '***' 0.001 '**' 0.01 '*' 0.05 '.' 0.1 ' ' 1\n",
       "\n",
       "(Dispersion parameter for binomial family taken to be 1)\n",
       "\n",
       "    Null deviance: 419.49  on 302  degrees of freedom\n",
       "Residual deviance: 127.60  on 294  degrees of freedom\n",
       "AIC: 145.6\n",
       "\n",
       "Number of Fisher Scoring iterations: 9\n"
      ]
     },
     "metadata": {},
     "output_type": "display_data"
    }
   ],
   "source": [
    "summary(new_glm)"
   ]
  },
  {
   "cell_type": "code",
   "execution_count": 308,
   "id": "bc83135c-3dd4-4977-86df-7e3a97ff4262",
   "metadata": {},
   "outputs": [
    {
     "data": {
      "text/html": [
       "<table class=\"dataframe\">\n",
       "<caption>A matrix: 2 × 1 of type dbl</caption>\n",
       "<thead>\n",
       "\t<tr><th></th><th scope=col>1</th></tr>\n",
       "</thead>\n",
       "<tbody>\n",
       "\t<tr><th scope=row>0</th><td>0</td></tr>\n",
       "\t<tr><th scope=row>1</th><td>1</td></tr>\n",
       "</tbody>\n",
       "</table>\n"
      ],
      "text/latex": [
       "A matrix: 2 × 1 of type dbl\n",
       "\\begin{tabular}{r|l}\n",
       "  & 1\\\\\n",
       "\\hline\n",
       "\t0 & 0\\\\\n",
       "\t1 & 1\\\\\n",
       "\\end{tabular}\n"
      ],
      "text/markdown": [
       "\n",
       "A matrix: 2 × 1 of type dbl\n",
       "\n",
       "| <!--/--> | 1 |\n",
       "|---|---|\n",
       "| 0 | 0 |\n",
       "| 1 | 1 |\n",
       "\n"
      ],
      "text/plain": [
       "  1\n",
       "0 0\n",
       "1 1"
      ]
     },
     "metadata": {},
     "output_type": "display_data"
    }
   ],
   "source": [
    "contrasts(Boston$crim10) # 범주에 따른 값 확인"
   ]
  },
  {
   "cell_type": "markdown",
   "id": "ec9d1345-80fa-4311-971c-d05950db6e14",
   "metadata": {},
   "source": [
    "- test data로 모형 적합치 확인"
   ]
  },
  {
   "cell_type": "code",
   "execution_count": 309,
   "id": "cf735108-db5f-40d6-850a-c84d86bb0226",
   "metadata": {},
   "outputs": [],
   "source": [
    "fitted.test = predict(new_glm,newdata=subset(test),type='response')\n",
    "fitted.test = ifelse(fitted.test > 0.5,1,0)"
   ]
  },
  {
   "cell_type": "code",
   "execution_count": 310,
   "id": "1fdf2f32-3d46-41ea-8910-57c96d6a5e83",
   "metadata": {},
   "outputs": [
    {
     "data": {
      "text/plain": [
       "   fitted.test\n",
       "     0  1\n",
       "  0 84 11\n",
       "  1 13 95"
      ]
     },
     "metadata": {},
     "output_type": "display_data"
    }
   ],
   "source": [
    "tab = table(test$crim10 ,fitted.test)\n",
    "tab"
   ]
  },
  {
   "cell_type": "code",
   "execution_count": 311,
   "id": "d55dcc6a-0878-4f3f-a637-f9d5f465cca6",
   "metadata": {},
   "outputs": [
    {
     "data": {
      "text/html": [
       "0.118226600985222"
      ],
      "text/latex": [
       "0.118226600985222"
      ],
      "text/markdown": [
       "0.118226600985222"
      ],
      "text/plain": [
       "[1] 0.1182266"
      ]
     },
     "metadata": {},
     "output_type": "display_data"
    }
   ],
   "source": [
    "(tab[1,2]+tab[2,1])/(tab[1,1]+tab[1,2]+tab[2,1]+tab[2,2])"
   ]
  },
  {
   "cell_type": "markdown",
   "id": "5d1f76ca-51b3-40b7-a684-7ebe0181a385",
   "metadata": {},
   "source": [
    "- 오분류율은 약 0.12이다."
   ]
  },
  {
   "cell_type": "markdown",
   "id": "8500352b-3b9b-4b0c-a04e-379a52f084bc",
   "metadata": {},
   "source": [
    "#### LDA"
   ]
  },
  {
   "cell_type": "markdown",
   "id": "2d5a4122-fb33-44b2-bf97-42b33570c90d",
   "metadata": {},
   "source": [
    "- LDA 모형 적합"
   ]
  },
  {
   "cell_type": "code",
   "execution_count": 313,
   "id": "624dcd9c-215f-4aa7-b191-6600e4595cb3",
   "metadata": {},
   "outputs": [],
   "source": [
    "lda = lda(crim10 ~. , data= Boston)"
   ]
  },
  {
   "cell_type": "code",
   "execution_count": 314,
   "id": "45b0c7ff-6423-46a8-b3b4-102afdff3a6d",
   "metadata": {},
   "outputs": [
    {
     "data": {
      "text/plain": [
       "Call:\n",
       "lda(crim10 ~ ., data = Boston)\n",
       "\n",
       "Prior probabilities of groups:\n",
       "  0   1 \n",
       "0.5 0.5 \n",
       "\n",
       "Group means:\n",
       "         zn     indus       chas       nox       rm      age      dis       rad\n",
       "0 21.525692  7.002292 0.05138340 0.4709711 6.394395 51.31028 5.091596  4.158103\n",
       "1  1.201581 15.271265 0.08695652 0.6384190 6.174874 85.83953 2.498489 14.940711\n",
       "       tax  ptratio     lstat     medv\n",
       "0 305.7431 17.90711  9.419486 24.94941\n",
       "1 510.7312 19.00395 15.886640 20.11621\n",
       "\n",
       "Coefficients of linear discriminants:\n",
       "                  LD1\n",
       "zn      -0.0053148532\n",
       "indus    0.0130577992\n",
       "chas    -0.0730621890\n",
       "nox      8.1768734308\n",
       "rm       0.1163174910\n",
       "age      0.0109686800\n",
       "dis      0.0373506901\n",
       "rad      0.0758790405\n",
       "tax     -0.0008607417\n",
       "ptratio  0.0456052636\n",
       "lstat    0.0166777032\n",
       "medv     0.0348732607"
      ]
     },
     "metadata": {},
     "output_type": "display_data"
    }
   ],
   "source": [
    "lda"
   ]
  },
  {
   "cell_type": "markdown",
   "id": "3dfa2d2f-fffc-4917-92b2-16ab6fa7edb1",
   "metadata": {},
   "source": [
    "- 사전 확률이 0.5 , 0.5\n",
    "- 각 설명변수에 대한 정규분포의 평균\n",
    "- 판별 점수"
   ]
  },
  {
   "cell_type": "code",
   "execution_count": 315,
   "id": "7ac1ba11-b280-4b98-aead-b7eb9011c3f3",
   "metadata": {},
   "outputs": [
    {
     "data": {
      "text/plain": [
       "   \n",
       "     0  1\n",
       "  0 88  7\n",
       "  1 27 81"
      ]
     },
     "metadata": {},
     "output_type": "display_data"
    }
   ],
   "source": [
    "table(test$crim10 ,predict(lda,test)$class)"
   ]
  },
  {
   "cell_type": "code",
   "execution_count": 316,
   "id": "4754bfb2-faaf-4987-b1aa-4999e984af8c",
   "metadata": {},
   "outputs": [
    {
     "data": {
      "text/html": [
       "0.167487684729064"
      ],
      "text/latex": [
       "0.167487684729064"
      ],
      "text/markdown": [
       "0.167487684729064"
      ],
      "text/plain": [
       "[1] 0.1674877"
      ]
     },
     "metadata": {},
     "output_type": "display_data"
    }
   ],
   "source": [
    "mean(test$crim10 != predict(lda,test)$class)"
   ]
  },
  {
   "cell_type": "markdown",
   "id": "93fe834b-3f6f-4ff7-9e81-3c2c78767da5",
   "metadata": {},
   "source": [
    "- 오분류율이 약 0.17이다."
   ]
  },
  {
   "cell_type": "code",
   "execution_count": 317,
   "id": "fc628955-eaae-4753-90da-b2be89e1d8fc",
   "metadata": {},
   "outputs": [],
   "source": [
    "lda = lda(crim10 ~zn + nox +age + dis + rad + tax + ptratio + medv, data= Boston)"
   ]
  },
  {
   "cell_type": "code",
   "execution_count": 318,
   "id": "e56d9114-0a3e-4e58-9420-c26e24ae0b59",
   "metadata": {},
   "outputs": [
    {
     "data": {
      "text/plain": [
       "Call:\n",
       "lda(crim10 ~ zn + nox + age + dis + rad + tax + ptratio + medv, \n",
       "    data = Boston)\n",
       "\n",
       "Prior probabilities of groups:\n",
       "  0   1 \n",
       "0.5 0.5 \n",
       "\n",
       "Group means:\n",
       "         zn       nox      age      dis       rad      tax  ptratio     medv\n",
       "0 21.525692 0.4709711 51.31028 5.091596  4.158103 305.7431 17.90711 24.94941\n",
       "1  1.201581 0.6384190 85.83953 2.498489 14.940711 510.7312 19.00395 20.11621\n",
       "\n",
       "Coefficients of linear discriminants:\n",
       "                  LD1\n",
       "zn      -0.0049507198\n",
       "nox      8.3384571768\n",
       "age      0.0124096276\n",
       "dis      0.0214232184\n",
       "rad      0.0753431526\n",
       "tax     -0.0005730698\n",
       "ptratio  0.0448838770\n",
       "medv     0.0317835334"
      ]
     },
     "metadata": {},
     "output_type": "display_data"
    }
   ],
   "source": [
    "lda"
   ]
  },
  {
   "cell_type": "code",
   "execution_count": 319,
   "id": "7ba7c70f-2273-49f9-aef7-e93110a3a7ff",
   "metadata": {},
   "outputs": [
    {
     "data": {
      "text/plain": [
       "   \n",
       "     0  1\n",
       "  0 91  4\n",
       "  1 27 81"
      ]
     },
     "metadata": {},
     "output_type": "display_data"
    }
   ],
   "source": [
    "table(test$crim10 ,predict(lda,test)$class)"
   ]
  },
  {
   "cell_type": "code",
   "execution_count": 320,
   "id": "dbd9c671-e4cb-4f15-9ec6-23d8c2feaa87",
   "metadata": {},
   "outputs": [
    {
     "data": {
      "text/html": [
       "0.152709359605911"
      ],
      "text/latex": [
       "0.152709359605911"
      ],
      "text/markdown": [
       "0.152709359605911"
      ],
      "text/plain": [
       "[1] 0.1527094"
      ]
     },
     "metadata": {},
     "output_type": "display_data"
    }
   ],
   "source": [
    "mean(test$crim10 != predict(lda,test)$class)"
   ]
  },
  {
   "cell_type": "markdown",
   "id": "b30e2408-93a7-40e8-822f-d6fb89217560",
   "metadata": {},
   "source": [
    "- 로지스틱 회귀분석에서 유의하지 않았던 설명변수를 제거하고 모형을 다시 적합했을 때, test data의 오분류율이 약 0.15로 full LDA 모형보다 줄어들었다. "
   ]
  },
  {
   "cell_type": "markdown",
   "id": "28db2dfb-ce65-47e4-8f7d-496e9cbce339",
   "metadata": {},
   "source": [
    "#### KNN"
   ]
  },
  {
   "cell_type": "markdown",
   "id": "6ffcf7d3-4f15-48c9-ae75-1e35158815e6",
   "metadata": {},
   "source": [
    "- k=3일 때, KNN 모형에서 test data 적합치"
   ]
  },
  {
   "cell_type": "code",
   "execution_count": 329,
   "id": "b35a2d61-d7be-4831-97c9-7a4ce540ca17",
   "metadata": {},
   "outputs": [],
   "source": [
    "fitted.test=knn(train[,-13], test[,-13],cl=train[,13], k=3,prob=T)"
   ]
  },
  {
   "cell_type": "code",
   "execution_count": 330,
   "id": "c7d7b572-795f-4a2b-b030-315784723871",
   "metadata": {},
   "outputs": [
    {
     "data": {
      "text/plain": [
       "   fitted.test\n",
       "     0  1\n",
       "  0 88  7\n",
       "  1 11 97"
      ]
     },
     "metadata": {},
     "output_type": "display_data"
    }
   ],
   "source": [
    "tab=table(test[,13],fitted.test)\n",
    "tab"
   ]
  },
  {
   "cell_type": "markdown",
   "id": "dbb5be3f-9b42-44ad-ad08-ebc2a8e3c68a",
   "metadata": {},
   "source": [
    "- k=3일 때, KNN 모형에서 test data 오분류율"
   ]
  },
  {
   "cell_type": "code",
   "execution_count": 331,
   "id": "e12ba745-f70f-4111-a992-547ab54741b7",
   "metadata": {},
   "outputs": [
    {
     "data": {
      "text/html": [
       "0.0886699507389163"
      ],
      "text/latex": [
       "0.0886699507389163"
      ],
      "text/markdown": [
       "0.0886699507389163"
      ],
      "text/plain": [
       "[1] 0.08866995"
      ]
     },
     "metadata": {},
     "output_type": "display_data"
    }
   ],
   "source": [
    "(tab[1,2]+tab[2,1])/(tab[1,1]+tab[1,2]+tab[2,1]+tab[2,2])"
   ]
  },
  {
   "cell_type": "markdown",
   "id": "9a203554-a3c7-4e5a-ab56-f98a40d74329",
   "metadata": {},
   "source": [
    "- k=5일 때, KNN 모형에서 test data 적합치"
   ]
  },
  {
   "cell_type": "code",
   "execution_count": 332,
   "id": "89fe87d2-439e-4ffb-baa6-5d0647ff9095",
   "metadata": {},
   "outputs": [],
   "source": [
    "fitted.test=knn(train[,-13], test[,-13],cl=train[,13], k=5,prob=T)"
   ]
  },
  {
   "cell_type": "code",
   "execution_count": 333,
   "id": "3fb7ec77-b756-4861-aa02-18d13baccc4d",
   "metadata": {},
   "outputs": [
    {
     "data": {
      "text/plain": [
       "   fitted.test\n",
       "     0  1\n",
       "  0 88  7\n",
       "  1 11 97"
      ]
     },
     "metadata": {},
     "output_type": "display_data"
    }
   ],
   "source": [
    "tab=table(test[,13],fitted.test)\n",
    "tab"
   ]
  },
  {
   "cell_type": "markdown",
   "id": "cf8d0536-8b14-4d0c-9ccc-79e1223ddd79",
   "metadata": {},
   "source": [
    "- k=5일 때, KNN 모형에서 test data 오분류율"
   ]
  },
  {
   "cell_type": "code",
   "execution_count": 334,
   "id": "22516aa8-d943-44e6-8cf1-ff5fc9472537",
   "metadata": {},
   "outputs": [
    {
     "data": {
      "text/html": [
       "0.0886699507389163"
      ],
      "text/latex": [
       "0.0886699507389163"
      ],
      "text/markdown": [
       "0.0886699507389163"
      ],
      "text/plain": [
       "[1] 0.08866995"
      ]
     },
     "metadata": {},
     "output_type": "display_data"
    }
   ],
   "source": [
    "(tab[1,2]+tab[2,1])/(tab[1,1]+tab[1,2]+tab[2,1]+tab[2,2])"
   ]
  },
  {
   "cell_type": "markdown",
   "id": "f9c8d706-ac22-4a26-be45-061c3000b208",
   "metadata": {},
   "source": [
    "- k=7일 때, KNN 모형에서 test data 적합치"
   ]
  },
  {
   "cell_type": "code",
   "execution_count": 336,
   "id": "0c3f64c2-ebb7-436b-8763-cb06bd065805",
   "metadata": {},
   "outputs": [],
   "source": [
    "fitted.test=knn(train[,-13], test[,-13],cl=train[,13], k=7,prob=T)"
   ]
  },
  {
   "cell_type": "code",
   "execution_count": 337,
   "id": "162b50cb-97ef-4696-9ede-6af4270a1598",
   "metadata": {},
   "outputs": [
    {
     "data": {
      "text/plain": [
       "   fitted.test\n",
       "     0  1\n",
       "  0 86  9\n",
       "  1 11 97"
      ]
     },
     "metadata": {},
     "output_type": "display_data"
    }
   ],
   "source": [
    "tab=table(test[,13],fitted.test)\n",
    "tab"
   ]
  },
  {
   "cell_type": "markdown",
   "id": "bb10d103-69a5-47ec-8f9a-c3b1e8f8d806",
   "metadata": {},
   "source": [
    "- k=7일 때, KNN 모형에서 test data 오분류율"
   ]
  },
  {
   "cell_type": "code",
   "execution_count": 338,
   "id": "aeb3863d-9c28-4f6a-ba6f-ff2b60e2aeea",
   "metadata": {},
   "outputs": [
    {
     "data": {
      "text/html": [
       "0.0985221674876847"
      ],
      "text/latex": [
       "0.0985221674876847"
      ],
      "text/markdown": [
       "0.0985221674876847"
      ],
      "text/plain": [
       "[1] 0.09852217"
      ]
     },
     "metadata": {},
     "output_type": "display_data"
    }
   ],
   "source": [
    "(tab[1,2]+tab[2,1])/(tab[1,1]+tab[1,2]+tab[2,1]+tab[2,2])"
   ]
  },
  {
   "cell_type": "markdown",
   "id": "2c81bd9e-3046-4546-8903-da38c3d9a8f8",
   "metadata": {},
   "source": [
    "- k=3일 때, 오분류율 값이 가장 작으면서, 모형 복잡도도 작다."
   ]
  },
  {
   "cell_type": "markdown",
   "id": "52f2aae1-3d7f-40e5-b935-7daed70ec360",
   "metadata": {},
   "source": [
    "- Logistic regression , LDA , KNN 중에서 오분류율이 가장 작은 모형이 KNN이므로 어떤 지역의 범죄율이 중앙값 이상인지 아닌지를 예측하기 위한 분류 모형으로 가장 적합한 거 같다."
   ]
  },
  {
   "cell_type": "code",
   "execution_count": null,
   "id": "9efc83c7-05cb-4f19-84a3-7271d35a6ac5",
   "metadata": {},
   "outputs": [],
   "source": []
  }
 ],
 "metadata": {
  "kernelspec": {
   "display_name": "R",
   "language": "R",
   "name": "ir"
  },
  "language_info": {
   "codemirror_mode": "r",
   "file_extension": ".r",
   "mimetype": "text/x-r-source",
   "name": "R",
   "pygments_lexer": "r",
   "version": "4.0.5"
  }
 },
 "nbformat": 4,
 "nbformat_minor": 5
}
