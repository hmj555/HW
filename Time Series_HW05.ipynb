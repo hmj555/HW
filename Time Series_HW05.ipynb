{
 "cells": [
  {
   "cell_type": "markdown",
   "id": "83f530e6-b837-49cb-9204-c37527205bf0",
   "metadata": {},
   "source": [
    "#  <center>  **시계열 자료분석 HW05(final)**  </center> "
   ]
  },
  {
   "cell_type": "markdown",
   "id": "4c8e471f-ea63-4c07-a66e-142bff7459d7",
   "metadata": {},
   "source": [
    "## <div style=\"text-align: right\">  201822037 통계학과 한민주 </div> "
   ]
  },
  {
   "cell_type": "markdown",
   "id": "768d1d80-ee36-42e9-8b08-fc856b1598c4",
   "metadata": {},
   "source": [
    "----"
   ]
  },
  {
   "cell_type": "code",
   "execution_count": 406,
   "id": "3930fb6e-dd24-4237-a247-74bdc8e4a805",
   "metadata": {},
   "outputs": [
    {
     "name": "stderr",
     "output_type": "stream",
     "text": [
      "\n",
      "Attaching package: 'TTR'\n",
      "\n",
      "\n",
      "The following object is masked from 'package:fBasics':\n",
      "\n",
      "    volatility\n",
      "\n",
      "\n"
     ]
    }
   ],
   "source": [
    "# packages\n",
    "library(lmtest)\n",
    "library(fpp2)\n",
    "library(data.table)\n",
    "library(fUnitRoots)\n",
    "library(forecast)\n",
    "library(fracdiff)\n",
    "library(TTR)"
   ]
  },
  {
   "cell_type": "markdown",
   "id": "d5ee4bd6-7941-4990-9131-6961380c8ee7",
   "metadata": {},
   "source": [
    "## 2. [sheep] 어떤 지역의 1867년부터 1939년가지 양의 개채 수 변화"
   ]
  },
  {
   "cell_type": "code",
   "execution_count": 52,
   "id": "8def0806-4197-4cc5-825f-fce837b1022c",
   "metadata": {},
   "outputs": [
    {
     "data": {
      "text/html": [
       "A Time Series:<br><style>\n",
       ".list-inline {list-style: none; margin:0; padding: 0}\n",
       ".list-inline>li {display: inline-block}\n",
       ".list-inline>li:not(:last-child)::after {content: \"\\00b7\"; padding: 0 .5ex}\n",
       "</style>\n",
       "<ol class=list-inline><li>2203</li><li>2360</li><li>2254</li><li>2165</li><li>2024</li><li>2078</li><li>2214</li><li>2292</li><li>2207</li><li>2119</li><li>2119</li><li>2137</li><li>2132</li><li>1955</li><li>1785</li><li>1747</li><li>1818</li><li>1909</li><li>1958</li><li>1892</li><li>1919</li><li>1853</li><li>1868</li><li>1991</li><li>2111</li><li>2119</li><li>1991</li><li>1859</li><li>1856</li><li>1924</li><li>1892</li><li>1916</li><li>1968</li><li>1928</li><li>1898</li><li>1850</li><li>1841</li><li>1824</li><li>1823</li><li>1843</li><li>1880</li><li>1968</li><li>2029</li><li>1996</li><li>1933</li><li>1805</li><li>1713</li><li>1726</li><li>1752</li><li>1795</li><li>1717</li><li>1648</li><li>1512</li><li>1338</li><li>1383</li><li>1344</li><li>1384</li><li>1484</li><li>1597</li><li>1686</li><li>1707</li><li>1640</li><li>1611</li><li>1632</li><li>1775</li><li>1850</li><li>1809</li><li>1653</li><li>1648</li><li>1665</li><li>1627</li><li>1791</li><li>1797</li></ol>\n"
      ],
      "text/latex": [
       "A Time Series:\\\\\\begin{enumerate*}\n",
       "\\item 2203\n",
       "\\item 2360\n",
       "\\item 2254\n",
       "\\item 2165\n",
       "\\item 2024\n",
       "\\item 2078\n",
       "\\item 2214\n",
       "\\item 2292\n",
       "\\item 2207\n",
       "\\item 2119\n",
       "\\item 2119\n",
       "\\item 2137\n",
       "\\item 2132\n",
       "\\item 1955\n",
       "\\item 1785\n",
       "\\item 1747\n",
       "\\item 1818\n",
       "\\item 1909\n",
       "\\item 1958\n",
       "\\item 1892\n",
       "\\item 1919\n",
       "\\item 1853\n",
       "\\item 1868\n",
       "\\item 1991\n",
       "\\item 2111\n",
       "\\item 2119\n",
       "\\item 1991\n",
       "\\item 1859\n",
       "\\item 1856\n",
       "\\item 1924\n",
       "\\item 1892\n",
       "\\item 1916\n",
       "\\item 1968\n",
       "\\item 1928\n",
       "\\item 1898\n",
       "\\item 1850\n",
       "\\item 1841\n",
       "\\item 1824\n",
       "\\item 1823\n",
       "\\item 1843\n",
       "\\item 1880\n",
       "\\item 1968\n",
       "\\item 2029\n",
       "\\item 1996\n",
       "\\item 1933\n",
       "\\item 1805\n",
       "\\item 1713\n",
       "\\item 1726\n",
       "\\item 1752\n",
       "\\item 1795\n",
       "\\item 1717\n",
       "\\item 1648\n",
       "\\item 1512\n",
       "\\item 1338\n",
       "\\item 1383\n",
       "\\item 1344\n",
       "\\item 1384\n",
       "\\item 1484\n",
       "\\item 1597\n",
       "\\item 1686\n",
       "\\item 1707\n",
       "\\item 1640\n",
       "\\item 1611\n",
       "\\item 1632\n",
       "\\item 1775\n",
       "\\item 1850\n",
       "\\item 1809\n",
       "\\item 1653\n",
       "\\item 1648\n",
       "\\item 1665\n",
       "\\item 1627\n",
       "\\item 1791\n",
       "\\item 1797\n",
       "\\end{enumerate*}\n"
      ],
      "text/markdown": [
       "A Time Series:  \n",
       "1. 2203\n",
       "2. 2360\n",
       "3. 2254\n",
       "4. 2165\n",
       "5. 2024\n",
       "6. 2078\n",
       "7. 2214\n",
       "8. 2292\n",
       "9. 2207\n",
       "10. 2119\n",
       "11. 2119\n",
       "12. 2137\n",
       "13. 2132\n",
       "14. 1955\n",
       "15. 1785\n",
       "16. 1747\n",
       "17. 1818\n",
       "18. 1909\n",
       "19. 1958\n",
       "20. 1892\n",
       "21. 1919\n",
       "22. 1853\n",
       "23. 1868\n",
       "24. 1991\n",
       "25. 2111\n",
       "26. 2119\n",
       "27. 1991\n",
       "28. 1859\n",
       "29. 1856\n",
       "30. 1924\n",
       "31. 1892\n",
       "32. 1916\n",
       "33. 1968\n",
       "34. 1928\n",
       "35. 1898\n",
       "36. 1850\n",
       "37. 1841\n",
       "38. 1824\n",
       "39. 1823\n",
       "40. 1843\n",
       "41. 1880\n",
       "42. 1968\n",
       "43. 2029\n",
       "44. 1996\n",
       "45. 1933\n",
       "46. 1805\n",
       "47. 1713\n",
       "48. 1726\n",
       "49. 1752\n",
       "50. 1795\n",
       "51. 1717\n",
       "52. 1648\n",
       "53. 1512\n",
       "54. 1338\n",
       "55. 1383\n",
       "56. 1344\n",
       "57. 1384\n",
       "58. 1484\n",
       "59. 1597\n",
       "60. 1686\n",
       "61. 1707\n",
       "62. 1640\n",
       "63. 1611\n",
       "64. 1632\n",
       "65. 1775\n",
       "66. 1850\n",
       "67. 1809\n",
       "68. 1653\n",
       "69. 1648\n",
       "70. 1665\n",
       "71. 1627\n",
       "72. 1791\n",
       "73. 1797\n",
       "\n",
       "\n"
      ],
      "text/plain": [
       "A Time Series:\n",
       " [1] 2203 2360 2254 2165 2024 2078 2214 2292 2207 2119 2119 2137 2132 1955 1785\n",
       "[16] 1747 1818 1909 1958 1892 1919 1853 1868 1991 2111 2119 1991 1859 1856 1924\n",
       "[31] 1892 1916 1968 1928 1898 1850 1841 1824 1823 1843 1880 1968 2029 1996 1933\n",
       "[46] 1805 1713 1726 1752 1795 1717 1648 1512 1338 1383 1344 1384 1484 1597 1686\n",
       "[61] 1707 1640 1611 1632 1775 1850 1809 1653 1648 1665 1627 1791 1797"
      ]
     },
     "metadata": {},
     "output_type": "display_data"
    },
    {
     "name": "stdout",
     "output_type": "stream",
     "text": [
      "[1] \"73개의 데이터\"\n"
     ]
    }
   ],
   "source": [
    "# 데이터 확인\n",
    "sheep ; print(paste0(length(sheep),\"개의 데이터\"))"
   ]
  },
  {
   "cell_type": "markdown",
   "id": "1ec52eb1-1b13-4100-a297-4166d362db4c",
   "metadata": {},
   "source": [
    "### 2-(1) 시계열 그림"
   ]
  },
  {
   "cell_type": "code",
   "execution_count": 32,
   "id": "a4a2a063-e3f6-4b40-84ef-6265d28601c5",
   "metadata": {},
   "outputs": [
    {
     "data": {
      "image/png": "[encoded data removed]",
      "text/plain": [
       "Plot with title \"Time Series Plot\""
      ]
     },
     "metadata": {
      "image/png": {
       "height": 420,
       "width": 420
      }
     },
     "output_type": "display_data"
    }
   ],
   "source": [
    "ts.plot(sheep , main = \"Time Series Plot\")"
   ]
  },
  {
   "cell_type": "markdown",
   "id": "a45f06bf-b8ac-4262-8503-412dc771ed28",
   "metadata": {},
   "source": [
    "- 시간이 지남에 따라 감소하는 추세가 있어보인다.\n",
    "- 이분산성과 계절성은 없어보인다."
   ]
  },
  {
   "cell_type": "markdown",
   "id": "170eda13-732d-4307-9a5d-7de129baf6c9",
   "metadata": {},
   "source": [
    "### 2-(2) 모형 가정"
   ]
  },
  {
   "cell_type": "markdown",
   "id": "a8e40fef-1264-4938-a641-4b9090595021",
   "metadata": {},
   "source": [
    "<center> $Z_t = Z_{t-1} + \\phi_1 (Z_{t-1} -Z_{t-2}) + \\phi_2 (Z_{t-2} - Z_{t-3}) + \\phi_3 (Z_{t-3} - Z_{t-4}) +\\epsilon_t $ $, \\epsilon_t  \\sim WN(0 , \\sigma^2)$</center>  "
   ]
  },
  {
   "cell_type": "markdown",
   "id": "930d729d-c788-4e72-b41e-6a618c1b67a4",
   "metadata": {},
   "source": [
    "위 모형식은   \n",
    "\n",
    "<center>  $(1-B)Z_t = \\phi_1 (1-B)Z_{t-1} + \\phi_2 (1-B)Z_{t-2} + \\phi_3 (1-B)Z_{t-3} + \\epsilon_t $   </center>  \n",
    "<center>  $  (=) (1-\\phi_1 B - \\phi_2 B^2 -\\phi_3 B^3)(1-B)Z_t = \\epsilon_t$  </center>  \n",
    "<center>  $ (=) \\Phi(B)(1-B)Z_t = \\epsilon_t$ </center>  \n",
    "\n",
    "이므로 **ARIMA(3,1,0)** 모형이다."
   ]
  },
  {
   "cell_type": "markdown",
   "id": "fc61f949-e7c7-4cab-a420-37962f57a3a4",
   "metadata": {},
   "source": [
    "### 2-(3) 가정한 모형이 적합한지 확인"
   ]
  },
  {
   "cell_type": "code",
   "execution_count": 576,
   "id": "adebad21-711e-4c8d-9e7d-11248d2c8368",
   "metadata": {},
   "outputs": [],
   "source": [
    "# 1번 차분\n",
    "diff_sheep = diff(sheep)"
   ]
  },
  {
   "cell_type": "code",
   "execution_count": 40,
   "id": "7087cf8a-3f3a-4916-b95a-5e3f324dd459",
   "metadata": {},
   "outputs": [
    {
     "data": {
      "image/png": "[encoded data removed]",
      "text/plain": [
       "Plot with title \"Time Series Plot\""
      ]
     },
     "metadata": {
      "image/png": {
       "height": 420,
       "width": 420
      }
     },
     "output_type": "display_data"
    }
   ],
   "source": [
    "plot(diff_sheep , main = \"Time Series Plot\")"
   ]
  },
  {
   "cell_type": "markdown",
   "id": "05986ea8-d051-4c44-a65a-3da225ccc546",
   "metadata": {},
   "source": [
    "- 차분한 데이터의 시계열도표를 보니 0을 중심으로 왔다갔다하고 있다.\n",
    "- 추세, 계절성, 이분산성이 모두 없어보인다. -> 더이상 차분할 필요 없어보이지만 단위근 검정으로 한번 더 확인"
   ]
  },
  {
   "cell_type": "code",
   "execution_count": 569,
   "id": "4a7653c3-a045-4432-9fa6-069e687a182a",
   "metadata": {},
   "outputs": [
    {
     "data": {
      "text/plain": [
       "\n",
       "\tOne Sample t-test\n",
       "\n",
       "data:  diff_sheep\n",
       "t = -0.57185, df = 71, p-value = 0.5692\n",
       "alternative hypothesis: true mean is not equal to 0\n",
       "95 percent confidence interval:\n",
       " -25.30075  14.02298\n",
       "sample estimates:\n",
       "mean of x \n",
       "-5.638889 \n"
      ]
     },
     "metadata": {},
     "output_type": "display_data"
    }
   ],
   "source": [
    "# 평균 검정\n",
    "t.test(diff_sheep) "
   ]
  },
  {
   "cell_type": "markdown",
   "id": "4afd9d80-16ac-46ef-a5b1-f3a720613ff2",
   "metadata": {},
   "source": [
    "- 모형에 상수항이 들어가는지 알아보기 위해 가설 검정 $H_0: \\mu =0$ $vs.$ $H_1: \\mu \\neq 0$ 을 실시했다.\n",
    "- t-검정을 했을 때 유의 확률이 0.5692이므로 유의 수준 0.05 하에서 영가설을 기각하지 못하여 평균은 0이다. => 모형에 상수항이 없다."
   ]
  },
  {
   "cell_type": "code",
   "execution_count": 571,
   "id": "5796d898-21a8-4aba-a2dc-df24ffbcc08f",
   "metadata": {},
   "outputs": [
    {
     "name": "stderr",
     "output_type": "stream",
     "text": [
      "Warning message in adfTest(diff_sheep, lags = 2, type = \"nc\"):\n",
      "\"p-value smaller than printed p-value\"\n"
     ]
    },
    {
     "data": {
      "text/plain": [
       "\n",
       "Title:\n",
       " Augmented Dickey-Fuller Test\n",
       "\n",
       "Test Results:\n",
       "  PARAMETER:\n",
       "    Lag Order: 2\n",
       "  STATISTIC:\n",
       "    Dickey-Fuller: -6.7913\n",
       "  P VALUE:\n",
       "    0.01 \n",
       "\n",
       "Description:\n",
       " Sun Dec 18 13:29:25 2022 by user: user\n"
      ]
     },
     "metadata": {},
     "output_type": "display_data"
    }
   ],
   "source": [
    "# 상수항이 없는 단위근 검정\n",
    "adfTest(diff_sheep, lags = 2, type = \"nc\")"
   ]
  },
  {
   "cell_type": "markdown",
   "id": "ecc50387-ce30-40b8-b216-e48546122c2a",
   "metadata": {},
   "source": [
    "- $H_0:$ 단위근이 있다 $vs.$ $H_1:$ 단위근이 없다 (상수항이 없는 단위근 검정)를 실시하였다.\n",
    "- 유의확률이 <0.01로 유의수준 0.05 하에서 영가설이 기각되어 단위근이 없다고 판단한다. => 더이상 차분할 필요 없음"
   ]
  },
  {
   "cell_type": "code",
   "execution_count": 577,
   "id": "60df833a-0219-444d-bd7a-1b3dc9b53c3f",
   "metadata": {},
   "outputs": [
    {
     "data": {
      "image/png": "[encoded data removed]",
      "text/plain": [
       "Plot with title \"PACF Plot\""
      ]
     },
     "metadata": {
      "image/png": {
       "height": 420,
       "width": 420
      }
     },
     "output_type": "display_data"
    }
   ],
   "source": [
    "par(mfrow= c(2,1))\n",
    "acf(diff_sheep , main = \"ACF Plot\",lag.max = 60)\n",
    "pacf(diff_sheep , main = \"PACF Plot\",lag.max = 60)\n",
    "par(mfrow= c(1,1))"
   ]
  },
  {
   "cell_type": "markdown",
   "id": "3f4b12d6-8db6-47c3-acdc-65fb41af45a7",
   "metadata": {},
   "source": [
    "- 차분한 데이터의 PACF Plot을 보면 시차가 3일 때까지 부분자기상관계수가 유의하다. 그러므로 AR의 차수는 3이 적합해보인다.\n",
    "- 차분한 데이터의 ACF Plot을 보면 시차가 1일 때까지 자기상관계수가 유의하다. 그러므로 MA의 차수는 1이 적합해보인다.\n",
    "\n",
    "=> 문제에서는 ARIMA(3,1,0)을 가정했지만 ARIMA(3,1,1)의 모형도 적합해서 비교해 볼 필요가 있을 것 같다."
   ]
  },
  {
   "cell_type": "markdown",
   "id": "a9320b63-23c1-4c67-b9c9-50f811c1ff83",
   "metadata": {},
   "source": [
    "### 2-(4) 양의 개체 수의 다음 3년 예측값 계산"
   ]
  },
  {
   "cell_type": "markdown",
   "id": "fa47aaaf-6af5-46bd-8a21-e2f651c69a8a",
   "metadata": {},
   "source": [
    "|연도|1935|1936|1937|1938|1939|\n",
    "|:---:|:---:|:---:|:---:|:---:|:---:|\n",
    "|양(단위:백만마리)|1648|1665|1627|1791|1797|"
   ]
  },
  {
   "cell_type": "markdown",
   "id": "36f11bc1-28db-4bc3-b3cd-07d3e635fb34",
   "metadata": {},
   "source": [
    "$\\hat{\\phi}_1 = 0.42, \\hat{\\phi}_2 = -0.20, \\hat{\\phi}_3 = -0.3$"
   ]
  },
  {
   "cell_type": "markdown",
   "id": "65356b51-d25a-47f1-aecb-20c3a431e5c1",
   "metadata": {},
   "source": [
    "시점 n으로부터 $l$-시차 후의 관측값은\n",
    "\n",
    "$Z_{n+l} = Z_{n+l-1} + \\phi_1 (Z_{n+l-1} -Z_{n+l-2}) + \\phi_2 (Z_{n+l-2} - Z_{n+l-3}) + \\phi_3 (Z_{n+l-3} - Z_{n+l-4}) +\\epsilon_{n+l} $ \n",
    "\n",
    "이므로\n",
    "\n",
    "$\\hat{Z}_{73}(1) =  Z_{n} + \\hat{\\phi}_1 (Z_{n} -Z_{n-1}) + \\hat{\\phi}_2 (Z_{n-1} - Z_{n-2}) + \\hat{\\phi}_3 (Z_{n-2} - Z_{n-3})$  \n",
    "= $1797 + 0.42 \\times (1797 - 1791) -0.20 \\times (1791 - 1627) -0.3 \\times(1627 - 1665) =  1778.12$\n",
    "\n",
    "$\\hat{Z}_{73}(2) =  \\hat{Z}_{n}(1) + \\hat{\\phi}_1 (\\hat{Z}_{n}(1) -Z_{n}) + \\hat{\\phi}_2 (Z_{n} - Z_{n-1}) + \\hat{\\phi}_3 (Z_{n-1} - Z_{n-2})$  \n",
    "= $1778.12 + 0.42 \\times (1778.12 - 1797) -0.20 \\times (1797 - 1791) -0.3 \\times(1791 - 1627) = 1719.7904$\n",
    "\n",
    "$\\hat{Z}_{73}(3) =  \\hat{Z}_{n}(2) + \\hat{\\phi}_1 (\\hat{Z}_{n}(2) -\\hat{Z}_{n}(1)) + \\hat{\\phi}_2 (\\hat{Z}_{n}(1) - Z_{n}) + \\hat{\\phi}_3 (Z_{n} - Z_{n-1})$  \n",
    "= $1719.7904 + 0.42 \\times (1719.7904 - 1778.12) -0.20 \\times (1778.12 - 1797) -0.3 \\times(1797 - 1791) = 1697.267968  $ \n",
    "\n",
    "이다.\n",
    "\n",
    "=> $\\hat{Z}_n(1) = 1778.12 , \\hat{Z}_n(2) = 1719.79 , \\hat{Z}_n(3) = 1697.27$"
   ]
  },
  {
   "cell_type": "code",
   "execution_count": 574,
   "id": "1955f066-3813-4a78-b855-a16e53f07762",
   "metadata": {},
   "outputs": [
    {
     "data": {
      "text/html": [
       "1778.12"
      ],
      "text/latex": [
       "1778.12"
      ],
      "text/markdown": [
       "1778.12"
      ],
      "text/plain": [
       "[1] 1778.12"
      ]
     },
     "metadata": {},
     "output_type": "display_data"
    },
    {
     "data": {
      "text/html": [
       "1719.7904"
      ],
      "text/latex": [
       "1719.7904"
      ],
      "text/markdown": [
       "1719.7904"
      ],
      "text/plain": [
       "[1] 1719.79"
      ]
     },
     "metadata": {},
     "output_type": "display_data"
    },
    {
     "data": {
      "text/html": [
       "1697.267968"
      ],
      "text/latex": [
       "1697.267968"
      ],
      "text/markdown": [
       "1697.267968"
      ],
      "text/plain": [
       "[1] 1697.268"
      ]
     },
     "metadata": {},
     "output_type": "display_data"
    }
   ],
   "source": [
    "phi1 = 0.42 ; phi2 = -0.20 ; phi3 = -0.3\n",
    "\n",
    "# Z_73(1)\n",
    "1797 + 0.42*(1797 - 1791) -0.20 * (1791 - 1627) -0.3 *(1627 - 1665)\n",
    "# Z_73(2)\n",
    "1778.12 + 0.42 * (1778.12 - 1797) -0.20 * (1797 - 1791) -0.3 *(1791 - 1627) \n",
    "# Z_73(3)\n",
    "1719.7904 + 0.42 * (1719.7904 - 1778.12) -0.20 * (1778.12 - 1797) -0.3 * (1797 - 1791)"
   ]
  },
  {
   "cell_type": "markdown",
   "id": "cfd5a4b6-99b1-4388-8fee-56ac6edd8578",
   "metadata": {},
   "source": [
    "## 3. [hsales] 1973년 이후 미국에서 단독 주택의 월별 거래량"
   ]
  },
  {
   "cell_type": "code",
   "execution_count": 578,
   "id": "0e4f3386-98fb-4b07-879d-4fe18616afd5",
   "metadata": {},
   "outputs": [
    {
     "data": {
      "text/html": [
       "<table class=\"dataframe\">\n",
       "<caption>A Time Series: 2 × 12</caption>\n",
       "<thead>\n",
       "\t<tr><th></th><th scope=col>Jan</th><th scope=col>Feb</th><th scope=col>Mar</th><th scope=col>Apr</th><th scope=col>May</th><th scope=col>Jun</th><th scope=col>Jul</th><th scope=col>Aug</th><th scope=col>Sep</th><th scope=col>Oct</th><th scope=col>Nov</th><th scope=col>Dec</th></tr>\n",
       "</thead>\n",
       "<tbody>\n",
       "\t<tr><th scope=row>1973</th><td>55</td><td>60</td><td>68</td><td>63</td><td>65</td><td>61</td><td>54</td><td>52</td><td>46</td><td>42</td><td>37</td><td>30</td></tr>\n",
       "\t<tr><th scope=row>1974</th><td>37</td><td>44</td><td>55</td><td>53</td><td>58</td><td>50</td><td>48</td><td>45</td><td>41</td><td>34</td><td>30</td><td>24</td></tr>\n",
       "</tbody>\n",
       "</table>\n"
      ],
      "text/latex": [
       "A Time Series: 2 × 12\n",
       "\\begin{tabular}{r|llllllllllll}\n",
       "  & Jan & Feb & Mar & Apr & May & Jun & Jul & Aug & Sep & Oct & Nov & Dec\\\\\n",
       "\\hline\n",
       "\t1973 & 55 & 60 & 68 & 63 & 65 & 61 & 54 & 52 & 46 & 42 & 37 & 30\\\\\n",
       "\t1974 & 37 & 44 & 55 & 53 & 58 & 50 & 48 & 45 & 41 & 34 & 30 & 24\\\\\n",
       "\\end{tabular}\n"
      ],
      "text/markdown": [
       "\n",
       "A Time Series: 2 × 12\n",
       "\n",
       "| <!--/--> | Jan | Feb | Mar | Apr | May | Jun | Jul | Aug | Sep | Oct | Nov | Dec |\n",
       "|---|---|---|---|---|---|---|---|---|---|---|---|---|\n",
       "| 1973 | 55 | 60 | 68 | 63 | 65 | 61 | 54 | 52 | 46 | 42 | 37 | 30 |\n",
       "| 1974 | 37 | 44 | 55 | 53 | 58 | 50 | 48 | 45 | 41 | 34 | 30 | 24 |\n",
       "\n"
      ],
      "text/plain": [
       "     Jan Feb Mar Apr May Jun Jul Aug Sep Oct Nov Dec\n",
       "1973 55  60  68  63  65  61  54  52  46  42  37  30 \n",
       "1974 37  44  55  53  58  50  48  45  41  34  30  24 "
      ]
     },
     "metadata": {},
     "output_type": "display_data"
    }
   ],
   "source": [
    "# 데이터 확인\n",
    "head(hsales, 24)"
   ]
  },
  {
   "cell_type": "markdown",
   "id": "63201c4f-92f5-4735-bf00-50be46547579",
   "metadata": {},
   "source": [
    "### 3-(1) 시계열 그림"
   ]
  },
  {
   "cell_type": "code",
   "execution_count": 579,
   "id": "ba9e9b6d-e2f4-49d5-abee-346c9ff6633c",
   "metadata": {},
   "outputs": [
    {
     "name": "stdout",
     "output_type": "stream",
     "text": [
      "[1] \"평균: 52.29\"\n"
     ]
    },
    {
     "data": {
      "image/png": "[encoded data removed]",
      "text/plain": [
       "Plot with title \"Time Series Plot\""
      ]
     },
     "metadata": {
      "image/png": {
       "height": 420,
       "width": 420
      }
     },
     "output_type": "display_data"
    }
   ],
   "source": [
    "plot(hsales , main = \"Time Series Plot\")\n",
    "print(paste0(\"평균: \", round(mean(hsales),2)))"
   ]
  },
  {
   "cell_type": "markdown",
   "id": "40cac82d-8a68-46b2-8026-5384fbf7e21b",
   "metadata": {},
   "source": [
    "- 계절성이 있어보인다.\n",
    "- 추세는 없어보인다.\n",
    "- 이분산성이 있는지는 잘 모르겠다. => Breusch-Pagan 검정 실시"
   ]
  },
  {
   "cell_type": "markdown",
   "id": "dc694939-f19c-4637-a2b3-4683b4d9378f",
   "metadata": {
    "tags": []
   },
   "source": [
    "### 3-(2) 변수변환"
   ]
  },
  {
   "cell_type": "code",
   "execution_count": 580,
   "id": "75fad286-42f7-42c6-b859-583d3543db0e",
   "metadata": {},
   "outputs": [],
   "source": [
    "dt <- data.table(t = 1:length(hsales),\n",
    "                 z = hsales)"
   ]
  },
  {
   "cell_type": "code",
   "execution_count": 581,
   "id": "074cf4b3-4b7b-4f49-949b-995d6266fed9",
   "metadata": {},
   "outputs": [
    {
     "data": {
      "text/plain": [
       "\n",
       "\tstudentized Breusch-Pagan test\n",
       "\n",
       "data:  lm(z ~ t, dt)\n",
       "BP = 11.849, df = 1, p-value = 0.0005769\n"
      ]
     },
     "metadata": {},
     "output_type": "display_data"
    }
   ],
   "source": [
    "bptest(lm(z~t, dt))"
   ]
  },
  {
   "cell_type": "markdown",
   "id": "a2b7f58c-2d14-447b-9f1f-15a35b3301df",
   "metadata": {},
   "source": [
    "- 이분산성이 있는지 확인하기 위해 Breusch-Pagan의 등분산성 검정을 실시했다.\n",
    "- $H_0: 등분산이다. vs. H_1: 이분산이다.$ \n",
    "- 유의확률이 <0.001 이므로 영가설이 기각되어 원자료 hsales는 이분산성이 있다. => 변수 변환이 필요하다."
   ]
  },
  {
   "cell_type": "code",
   "execution_count": 582,
   "id": "ca161d88-d9d4-4ddd-a249-66261bd01406",
   "metadata": {},
   "outputs": [],
   "source": [
    "# 변수변환 비교\n",
    "dt[, ln_z := log(z)]\n",
    "dt[, sqrt_z := sqrt(z)]\n",
    "dt[, boxcox_z := BoxCox(z,lambda= \"auto\")]"
   ]
  },
  {
   "cell_type": "code",
   "execution_count": 583,
   "id": "837b7bd5-523e-47ad-bf77-3876d73e8f87",
   "metadata": {},
   "outputs": [
    {
     "data": {
      "image/png": "[encoded data removed]",
      "text/plain": [
       "Plot with title \"Box-Cox 변환\""
      ]
     },
     "metadata": {
      "image/png": {
       "height": 420,
       "width": 420
      }
     },
     "output_type": "display_data"
    }
   ],
   "source": [
    "par(mfrow = c(2,2))\n",
    "plot(dt$z , main = \"원 시계열\") ; plot(dt$ln_z , main= \"로그 변환\") ; plot(dt$sqrt_z,main =  \"루트 변환\") ; plot(dt$boxcox_z, main = \"Box-Cox 변환\")\n",
    "par(mfrow = c(1,1))"
   ]
  },
  {
   "cell_type": "markdown",
   "id": "a9ee019b-2c5b-4916-876d-3895f07a9e2c",
   "metadata": {},
   "source": [
    "- 로그 변환, 루트 변환, Box-Cox 변환의 시계열 도표에 큰 차이가 없어보인다."
   ]
  },
  {
   "cell_type": "code",
   "execution_count": 584,
   "id": "93337f16-e7c9-4de7-a575-74959f94ac1c",
   "metadata": {},
   "outputs": [
    {
     "data": {
      "text/plain": [
       "\n",
       "\tstudentized Breusch-Pagan test\n",
       "\n",
       "data:  lm(dt$ln_z ~ t[1:(length(t) - 1)])\n",
       "BP = 2.9327, df = 1, p-value = 0.0868\n"
      ]
     },
     "metadata": {},
     "output_type": "display_data"
    },
    {
     "data": {
      "text/plain": [
       "\n",
       "\tstudentized Breusch-Pagan test\n",
       "\n",
       "data:  lm(dt$sqrt_z ~ t[1:(length(t) - 1)])\n",
       "BP = 6.6179, df = 1, p-value = 0.0101\n"
      ]
     },
     "metadata": {},
     "output_type": "display_data"
    },
    {
     "data": {
      "text/plain": [
       "\n",
       "\tstudentized Breusch-Pagan test\n",
       "\n",
       "data:  lm(dt$boxcox_z ~ t[1:(length(t) - 1)])\n",
       "BP = 3.8763, df = 1, p-value = 0.04897\n"
      ]
     },
     "metadata": {},
     "output_type": "display_data"
    }
   ],
   "source": [
    "t =  rep(1:12 , 23) # s=12인 계절성이 있음을 고려\n",
    "bptest(lm(dt$ln_z~t[1:(length(t)-1)]))\n",
    "bptest(lm(dt$sqrt_z~t[1:(length(t)-1)]))\n",
    "bptest(lm(dt$boxcox_z~t[1:(length(t)-1)]))"
   ]
  },
  {
   "cell_type": "markdown",
   "id": "5f0e6fec-630f-457c-80db-317ef752542e",
   "metadata": {},
   "source": [
    "- 변수 변환 후에도 이분산성이 남아있는지 확인하기 위해 계절성을 고려하여 Breusch-Pagan의 등분산성 검정을 실시했다.\n",
    "- $H_0: 등분산이다. vs. H_1: 이분산이다.$ \n",
    "\n",
    "|변수변환|유의확률|유의수준|영가설 기각여부|결론|\n",
    "|:---:|:---:|:---:|:---:|:---:|\n",
    "|log|0.0868|0.05|x|등분산|\n",
    "|root|0.0101|0.05|o|이분산|\n",
    "|Box-Cox|0.0489|0.05|o|이분산|\n",
    "\n",
    "- log 변환된 data만 등분산이므로 log변환된 data로 분석하겠다."
   ]
  },
  {
   "cell_type": "markdown",
   "id": "9c36ba0f-8564-46b7-a559-bbdcaaae61d6",
   "metadata": {},
   "source": [
    "### 3-(3) 정상시계열로 변환"
   ]
  },
  {
   "cell_type": "code",
   "execution_count": 585,
   "id": "e300be3e-db08-4b91-8772-f2e94a7cf116",
   "metadata": {},
   "outputs": [
    {
     "data": {
      "image/png": "[encoded data removed]",
      "text/plain": [
       "Plot with title \"PACF Plot\""
      ]
     },
     "metadata": {
      "image/png": {
       "height": 420,
       "width": 420
      }
     },
     "output_type": "display_data"
    }
   ],
   "source": [
    "ln_z = ts(log(as.vector(hsales)))\n",
    "par(mfrow = c(2,1))\n",
    "acf(ln_z , lag.max = 60,main = \"ACF Plot\")\n",
    "pacf(ln_z, lag.max = 60, main = \"PACF Plot\")\n",
    "par(mfrow = c(1,1))"
   ]
  },
  {
   "cell_type": "markdown",
   "id": "0acdcf4d-da0b-4912-b7fa-64c476eb723c",
   "metadata": {},
   "source": [
    "- acf가 서서히 감소하여 확률적 추세가 의심되고, 계절주기 12의 영향을 받는 것 같다. => 계절 차분이 필요해보인다.\n",
    "- pacf가 1-시차에서 유의, 계절 주기 근처에서 유의하다."
   ]
  },
  {
   "cell_type": "code",
   "execution_count": 586,
   "id": "0c39d293-c45d-43a8-b03b-03503c86fe51",
   "metadata": {},
   "outputs": [
    {
     "name": "stderr",
     "output_type": "stream",
     "text": [
      "`geom_smooth()` using formula 'y ~ x'\n",
      "\n"
     ]
    },
    {
     "data": {
      "image/png": "[encoded data removed]",
      "text/plain": [
       "plot without title"
      ]
     },
     "metadata": {
      "image/png": {
       "height": 420,
       "width": 420
      }
     },
     "output_type": "display_data"
    }
   ],
   "source": [
    "##### 계절차분\n",
    "sdiff_log_hsales <- diff(log(hsales), lag=12)\n",
    "\n",
    "ggtsdisplay(sdiff_log_hsales, lag.max  = 60,\n",
    "            theme = theme_bw(),\n",
    "            smooth=T)"
   ]
  },
  {
   "cell_type": "markdown",
   "id": "e46d0c36-b884-419b-90e9-cb23ee9e3656",
   "metadata": {},
   "source": [
    "- 계절주기를 12로 하여 계절차분을 진행하였더니 ACF가 서서히 감소하여 여전히 확률적 추세가 있어보인다. => 차분이 더 필요한지 단위근 검정 실시"
   ]
  },
  {
   "cell_type": "code",
   "execution_count": 587,
   "id": "dbd3d3cf-6dff-4c36-8281-4752a7f92557",
   "metadata": {},
   "outputs": [
    {
     "data": {
      "text/plain": [
       "\n",
       "\tOne Sample t-test\n",
       "\n",
       "data:  sdiff_log_hsales\n",
       "t = 0.18942, df = 262, p-value = 0.8499\n",
       "alternative hypothesis: true mean is not equal to 0\n",
       "95 percent confidence interval:\n",
       " -0.02358688  0.02860794\n",
       "sample estimates:\n",
       " mean of x \n",
       "0.00251053 \n"
      ]
     },
     "metadata": {},
     "output_type": "display_data"
    }
   ],
   "source": [
    "# 평균 검정\n",
    "t.test(sdiff_log_hsales) "
   ]
  },
  {
   "cell_type": "markdown",
   "id": "1820f783-5ca8-4732-906d-0ee24ea138bb",
   "metadata": {},
   "source": [
    "- 모형에 상수항이 들어가는지 알아보기 위해 계절차분한 data에 대해 가설 검정 $H_0: \\mu =0$ $vs.$ $H_1: \\mu \\neq 0$ 을 실시했다.\n",
    "- t-검정을 했을 때 유의확률이 0.8499이므로 유의수준 0.05 하에서 영가설을 기각하지 못해 평균은 0이다. => 모형에 상수항이 없다."
   ]
  },
  {
   "cell_type": "code",
   "execution_count": 588,
   "id": "835b3618-5280-4d07-8239-7adcc81f1ddd",
   "metadata": {},
   "outputs": [
    {
     "name": "stderr",
     "output_type": "stream",
     "text": [
      "Warning message in adfTest(sdiff_log_hsales, lags = 2, type = \"nc\"):\n",
      "\"p-value smaller than printed p-value\"\n"
     ]
    },
    {
     "data": {
      "text/plain": [
       "\n",
       "Title:\n",
       " Augmented Dickey-Fuller Test\n",
       "\n",
       "Test Results:\n",
       "  PARAMETER:\n",
       "    Lag Order: 2\n",
       "  STATISTIC:\n",
       "    Dickey-Fuller: -4.0676\n",
       "  P VALUE:\n",
       "    0.01 \n",
       "\n",
       "Description:\n",
       " Sun Dec 18 13:40:36 2022 by user: user\n"
      ]
     },
     "metadata": {},
     "output_type": "display_data"
    }
   ],
   "source": [
    "# 상수항이 없는 단위근 검정\n",
    "adfTest(sdiff_log_hsales, lags = 2, type = \"nc\")"
   ]
  },
  {
   "cell_type": "markdown",
   "id": "7236088b-51ff-4425-a6b3-4ac97e7268b1",
   "metadata": {},
   "source": [
    "- $H_0:$ 단위근이 있다 $vs.$ $H_1:$ 단위근이 없다 (상수항이 없는 단위근 검정)를 실시하였다.\n",
    "- 유의확률이 <0.01로 유의수준 0.05 하에서 영가설이 기각되어 단위근이 없다고 판단한다. => 더이상 차분할 필요 없음"
   ]
  },
  {
   "cell_type": "markdown",
   "id": "4b279a2d-6359-4b7d-a046-f013fc4718e4",
   "metadata": {},
   "source": [
    "### 3-(4) 모형 식별"
   ]
  },
  {
   "cell_type": "code",
   "execution_count": 589,
   "id": "5beaeddf-3765-4982-852b-5486ebff7849",
   "metadata": {},
   "outputs": [
    {
     "name": "stderr",
     "output_type": "stream",
     "text": [
      "`geom_smooth()` using formula 'y ~ x'\n",
      "\n"
     ]
    },
    {
     "data": {
      "image/png": "[encoded data removed]",
      "text/plain": [
       "plot without title"
      ]
     },
     "metadata": {
      "image/png": {
       "height": 420,
       "width": 420
      }
     },
     "output_type": "display_data"
    }
   ],
   "source": [
    "ggtsdisplay(sdiff_log_hsales, lag.max  = 60,\n",
    "            theme = theme_bw(),\n",
    "            smooth=T)"
   ]
  },
  {
   "cell_type": "markdown",
   "id": "b0f27120-d05c-4fe1-bdea-713de2b17226",
   "metadata": {},
   "source": [
    "- ACF가 서서히 감소하는 모양이 MA(0) , SMA(0) 같지만, 시차가 30이상일 때 유의한 모양에 대해서 잘 모르겠다.\n",
    "- PACF가 1-시차에서 유의하다 => AR(1)\n",
    "- PACF가 12-시차 , 24-시차, 36-시차, 48-시차, ... 에서 점점 감소하고 있다. => SAR(0)\n",
    "\n",
    "따라서 모형은 $ARIMA(1,0,0)(0,1,0)_{12}$가 적합해 보인다.  \n",
    "ACF Plot으로 MA의 차수를 잘 판단하지 못하겠으므로 $ARIMA(1,0,1)(0,1,0)_{12}$, $ARIMA(1,0,0)(0,1,1)_{12}$ 도 함께 적합해본다."
   ]
  },
  {
   "cell_type": "markdown",
   "id": "3fe72fc6-4c34-4308-9ce2-aba659599b45",
   "metadata": {},
   "source": [
    "### 3-(5) 모형 적합"
   ]
  },
  {
   "cell_type": "code",
   "execution_count": 590,
   "id": "f3db2f4f-349a-4274-b96a-cf31372a06a5",
   "metadata": {},
   "outputs": [
    {
     "data": {
      "text/plain": [
       "\n",
       "Call:\n",
       "arima(x = dt$ln_z, order = c(1, 0, 0), seasonal = list(order = c(0, 1, 0), period = 12))\n",
       "\n",
       "Coefficients:\n",
       "         ar1\n",
       "      0.8517\n",
       "s.e.  0.0323\n",
       "\n",
       "sigma^2 estimated as 0.01281:  log likelihood = 199.16,  aic = -394.31\n",
       "\n",
       "Training set error measures:\n",
       "                      ME      RMSE        MAE          MPE     MAPE      MASE\n",
       "Training set 0.001144324 0.1107011 0.08738421 -0.003170397 2.242578 0.8744655\n",
       "                    ACF1\n",
       "Training set -0.02632799"
      ]
     },
     "metadata": {},
     "output_type": "display_data"
    }
   ],
   "source": [
    "model1 = arima(dt$ln_z, order = c(1,0,0), \n",
    "             seasonal = list(order = c(0,1,0),  # 계절\n",
    "                             period = 12)) # 계절주기\n",
    "summary(model1)"
   ]
  },
  {
   "cell_type": "code",
   "execution_count": 591,
   "id": "5d7da131-ae20-45f5-a921-1da959329921",
   "metadata": {},
   "outputs": [
    {
     "data": {
      "text/plain": [
       "\n",
       "z test of coefficients:\n",
       "\n",
       "    Estimate Std. Error z value  Pr(>|z|)    \n",
       "ar1 0.851740   0.032325  26.349 < 2.2e-16 ***\n",
       "---\n",
       "Signif. codes:  0 '***' 0.001 '**' 0.01 '*' 0.05 '.' 0.1 ' ' 1\n"
      ]
     },
     "metadata": {},
     "output_type": "display_data"
    }
   ],
   "source": [
    "coeftest(model1)"
   ]
  },
  {
   "cell_type": "code",
   "execution_count": 592,
   "id": "9d8aff29-4cd4-45d8-ba79-1ce33391721e",
   "metadata": {},
   "outputs": [
    {
     "data": {
      "text/plain": [
       "\n",
       "Call:\n",
       "arima(x = dt$ln_z, order = c(1, 0, 1), seasonal = list(order = c(0, 1, 0), period = 12))\n",
       "\n",
       "Coefficients:\n",
       "         ar1      ma1\n",
       "      0.8594  -0.0274\n",
       "s.e.  0.0378   0.0769\n",
       "\n",
       "sigma^2 estimated as 0.01281:  log likelihood = 199.22,  aic = -392.44"
      ]
     },
     "metadata": {},
     "output_type": "display_data"
    }
   ],
   "source": [
    "model2 = arima(dt$ln_z, order = c(1,0,1), \n",
    "             seasonal = list(order = c(0,1,0),  # 계절\n",
    "                             period = 12)) # 계절주기\n",
    "model2 "
   ]
  },
  {
   "cell_type": "code",
   "execution_count": 593,
   "id": "3a99e8be-2d1e-49cb-a37e-21bc6f4eff08",
   "metadata": {},
   "outputs": [
    {
     "data": {
      "text/plain": [
       "\n",
       "z test of coefficients:\n",
       "\n",
       "     Estimate Std. Error z value Pr(>|z|)    \n",
       "ar1  0.859365   0.037785 22.7435   <2e-16 ***\n",
       "ma1 -0.027448   0.076865 -0.3571    0.721    \n",
       "---\n",
       "Signif. codes:  0 '***' 0.001 '**' 0.01 '*' 0.05 '.' 0.1 ' ' 1\n"
      ]
     },
     "metadata": {},
     "output_type": "display_data"
    }
   ],
   "source": [
    "coeftest(model2)"
   ]
  },
  {
   "cell_type": "code",
   "execution_count": 594,
   "id": "5794a81c-76f9-40c4-869e-a806552d833e",
   "metadata": {},
   "outputs": [
    {
     "data": {
      "text/plain": [
       "\n",
       "Call:\n",
       "arima(x = dt$ln_z, order = c(1, 0, 0), seasonal = list(order = c(0, 1, 1), period = 12))\n",
       "\n",
       "Coefficients:\n",
       "         ar1     sma1\n",
       "      0.9170  -1.0000\n",
       "s.e.  0.0254   0.0719\n",
       "\n",
       "sigma^2 estimated as 0.006808:  log likelihood = 263.67,  aic = -521.35"
      ]
     },
     "metadata": {},
     "output_type": "display_data"
    }
   ],
   "source": [
    "model3 = arima(dt$ln_z, order = c(1,0,0), \n",
    "             seasonal = list(order = c(0,1,1),  # 계절\n",
    "                             period = 12)) # 계절주기\n",
    "model3 "
   ]
  },
  {
   "cell_type": "code",
   "execution_count": 595,
   "id": "74f42495-c670-41bc-9e53-e6ba42ba62fb",
   "metadata": {},
   "outputs": [
    {
     "data": {
      "text/plain": [
       "\n",
       "z test of coefficients:\n",
       "\n",
       "      Estimate Std. Error z value  Pr(>|z|)    \n",
       "ar1   0.916987   0.025416  36.079 < 2.2e-16 ***\n",
       "sma1 -0.999996   0.071895 -13.909 < 2.2e-16 ***\n",
       "---\n",
       "Signif. codes:  0 '***' 0.001 '**' 0.01 '*' 0.05 '.' 0.1 ' ' 1\n"
      ]
     },
     "metadata": {},
     "output_type": "display_data"
    }
   ],
   "source": [
    "coeftest(model3)"
   ]
  },
  {
   "cell_type": "markdown",
   "id": "40ea2ed0-a1e7-4725-87a8-483f36d45653",
   "metadata": {},
   "source": [
    "`model1`: $ARIMA(1,0,0)(0,1,0)_{12}$\n",
    "|모수|추정값|표준오차|z-값|유의확률|AIC|\n",
    "|:---:|:---:|:---:|:---:|:---:|:---:|\n",
    "|$\\phi_1$|0.8517| 0.0323|26.349|<0.001|-394.31|\n",
    "\n",
    "`model2`: $ARIMA(1,0,1)(0,1,0)_{12}$\n",
    "|모수|추정값|표준오차|z-값|유의확률|AIC|\n",
    "|:---:|:---:|:---:|:---:|:---:|:---:|\n",
    "|$\\phi_1$|0.8594| 0.0378|22.7435|<0.001|-392.44|\n",
    "|$\\theta_1$|-0.0274|0.0769|-0.3571|0.721||\n",
    "\n",
    "`model3`:$ARIMA(1,0,0)(0,1,1)_{12}$\n",
    "|모수|추정값|표준오차|z-값|유의확률|AIC|\n",
    "|:---:|:---:|:---:|:---:|:---:|:---:|\n",
    "|$\\phi_1$|0.9170| 0.0254|36.079|<0.001|-521.35|\n",
    "|$\\Theta_1$|-1.0| 0.0719|-13.909|<0.001||"
   ]
  },
  {
   "cell_type": "markdown",
   "id": "0ce8cfad-7287-4726-9118-54817aa04436",
   "metadata": {},
   "source": [
    "### 3-(6) 더 좋은 모형 선택"
   ]
  },
  {
   "cell_type": "markdown",
   "id": "319c4e16-67c4-4f19-87af-dd71a3379f9d",
   "metadata": {},
   "source": [
    "파라미터의 수를 고려해도 AIC의 차이가 크기 때문에 AIC가 -521.35으로 제일 작은 `model3`: $ARIMA(1,0,0)(0,1,1)_{12}$를 선택한다."
   ]
  },
  {
   "cell_type": "markdown",
   "id": "fec19e72-1f5e-4735-a3ec-a8b30c3047bd",
   "metadata": {},
   "source": [
    "**<추정된 최종모형식>**\n",
    "\n",
    "$(1-0.92B)(1-B^{12})lnZ_t = (1+B^{12})\\epsilon_t$ , $\\epsilon_t \\sim WN(0,0.007)$"
   ]
  },
  {
   "cell_type": "markdown",
   "id": "18365ef6-65ad-451a-94d9-1bc4f522ff52",
   "metadata": {},
   "source": [
    "### 3-(7) 잔차 검정"
   ]
  },
  {
   "cell_type": "code",
   "execution_count": 596,
   "id": "5dcb9bf7-c30a-40c9-9ced-956f911a9182",
   "metadata": {},
   "outputs": [
    {
     "name": "stdout",
     "output_type": "stream",
     "text": [
      "\n",
      "\tLjung-Box test\n",
      "\n",
      "data:  Residuals from ARIMA(1,0,0)(0,1,1)[12]\n",
      "Q* = 17.895, df = 22, p-value = 0.7122\n",
      "\n",
      "Model df: 2.   Total lags used: 24\n",
      "\n"
     ]
    },
    {
     "data": {
      "text/plain": [
       "\n",
       "\tstudentized Breusch-Pagan test\n",
       "\n",
       "data:  lm(model3$residuals ~ t)\n",
       "BP = 0.046987, df = 1, p-value = 0.8284\n"
      ]
     },
     "metadata": {},
     "output_type": "display_data"
    },
    {
     "data": {
      "image/png": "[encoded data removed]",
      "text/plain": [
       "plot without title"
      ]
     },
     "metadata": {
      "image/png": {
       "height": 420,
       "width": 420
      }
     },
     "output_type": "display_data"
    }
   ],
   "source": [
    "checkresiduals(model3)\n",
    "t = 1:275\n",
    "bptest(lm(model3$residuals~t))"
   ]
  },
  {
   "cell_type": "markdown",
   "id": "0b02f3f7-6499-4a52-962d-0f19c464eee1",
   "metadata": {},
   "source": [
    "- 잔차가 등분산인지 검정하기 위해 Breusch-Pagan 검정을 실시하였더니 유의확률 0.8284로 유의수준 0.05 하에서 영가설($H_0$:등분산)을 기각할 수 없어 등분산이라고 판단한다.\n",
    "-  Ljung-Box 검정 $H_0: \\rho_1 = \\rho_2 = \\rho_3 = ... = \\rho_k = 0$  $vs.$  $H_1: not H_0$\n",
    "- Ljung-Box 검정의 결과로 유의확률이 0.7122이므로 유의수준 0.05하에서 영가설을 기각할 수 없어 잔차는 백색 잡음이다.\n",
    "- ACF Plot에서 acf가 모든 시차에서 유의하지 않다.\n",
    "- 잔차의 히스토그램을 보니 정규분포와 유사하다.\n"
   ]
  },
  {
   "cell_type": "markdown",
   "id": "56228e2c-95e7-4a89-b509-67209d011062",
   "metadata": {},
   "source": [
    "### 3-(8) 다음 2년간 주택의 월별 거래량 예측"
   ]
  },
  {
   "cell_type": "code",
   "execution_count": 355,
   "id": "ed49576f-0359-4411-85c3-ca776a88a447",
   "metadata": {},
   "outputs": [
    {
     "data": {
      "text/plain": [
       "         Point Forecast    Lo 80    Hi 80    Lo 95    Hi 95\n",
       "Dec 1995       3.691484 3.583401 3.799567 3.526185 3.856783\n",
       "Jan 1996       3.819071 3.672476 3.965665 3.594873 4.043268\n",
       "Feb 1996       3.938916 3.766505 4.111328 3.675236 4.202597\n",
       "Mar 1996       4.116767 3.925330 4.308205 3.823989 4.409546\n",
       "Apr 1996       4.093399 3.887324 4.299473 3.778235 4.408562\n",
       "May 1996       4.091807 3.874193 4.309420 3.758996 4.424617\n",
       "Jun 1996       4.047209 3.820355 4.274062 3.700267 4.394151\n",
       "Jul 1996       3.989536 3.755205 4.223866 3.631158 4.347914\n",
       "Aug 1996       4.012349 3.771923 4.252776 3.644649 4.380050\n",
       "Sep 1996       3.927933 3.682511 4.173354 3.552593 4.303273\n",
       "Oct 1996       3.907657 3.658129 4.157185 3.526036 4.289277\n",
       "Nov 1996       3.770116 3.517206 4.023027 3.383323 4.156909\n",
       "Dec 1996       3.678579 3.422143 3.935014 3.286394 4.070763\n",
       "Jan 1997       3.807237 3.547903 4.066571 3.410620 4.203854\n",
       "Feb 1997       3.928065 3.666286 4.189844 3.527708 4.328421\n",
       "Mar 1997       4.106816 3.843004 4.370629 3.703350 4.510283\n",
       "Apr 1997       4.084274 3.818769 4.349779 3.678219 4.490329\n",
       "May 1997       4.083439 3.816525 4.350353 3.675230 4.491649\n",
       "Jun 1997       4.039536 3.771451 4.307621 3.629535 4.449537\n",
       "Jul 1997       3.982500 3.713443 4.251557 3.571013 4.393987\n",
       "Aug 1997       4.005898 3.736037 4.275759 3.593181 4.418615\n",
       "Sep 1997       3.922017 3.651494 4.192540 3.508288 4.335746\n",
       "Oct 1997       3.902232 3.631168 4.173295 3.487676 4.316787\n",
       "Nov 1997       3.765142 3.493643 4.036641 3.349920 4.180363\n",
       "Dec 1997       3.674017 3.401879 3.946156 3.257817 4.090217"
      ]
     },
     "metadata": {},
     "output_type": "display_data"
    }
   ],
   "source": [
    "forecast(model3, h=25)"
   ]
  },
  {
   "cell_type": "markdown",
   "id": "294c5b89-469b-450d-8446-e3859b4d291c",
   "metadata": {},
   "source": [
    "`다음 2년간의 주택 월별 거래량 예측값`: forecast()를 사용하여 다음 24개의 data를 예측하였다.\n",
    "|년도|1월|2월|3월|4월|5월|6월|7월|8월|9월|10월|11월|12월|\n",
    "|:---:|:---:|:---:|:---:|:---:|:---:|:---:|:---:|:---:|:---:|:---:|:---:|:---:|\n",
    "|1996|3.819|3.938|4.116|4.093|4.091|4.047|3.989|4.012|3.927|3.907|3.770|3.678|\n",
    "|1997|3.807| 3.928|4.106|4.084|4.083|4.039|3.982| 4.005|3.922|3.902|3.765|3.674|"
   ]
  },
  {
   "cell_type": "code",
   "execution_count": 597,
   "id": "ad5b7652-466a-43f4-90ea-0ca425e41801",
   "metadata": {},
   "outputs": [
    {
     "data": {
      "image/png": "[encoded data removed]",
      "text/plain": [
       "Plot with title \"예측값이 추가된 Time Series Plot\""
      ]
     },
     "metadata": {
      "image/png": {
       "height": 420,
       "width": 420
      }
     },
     "output_type": "display_data"
    }
   ],
   "source": [
    "plot(forecast(model3, h=25,level = c(80, 95)) , main = \"예측값이 추가된 Time Series Plot\")"
   ]
  },
  {
   "cell_type": "markdown",
   "id": "17b9e936-1992-4447-a7a7-5a5d90510924",
   "metadata": {},
   "source": [
    "## 4. [ukcars] 영국의 분기별 승용차 생산 대수 (단위: 천 대)"
   ]
  },
  {
   "cell_type": "code",
   "execution_count": 598,
   "id": "9cbe3f05-5c7d-467c-8c4a-3c2f7547c6b6",
   "metadata": {},
   "outputs": [
    {
     "data": {
      "text/html": [
       "<table class=\"dataframe\">\n",
       "<caption>A Time Series: 2 × 4</caption>\n",
       "<thead>\n",
       "\t<tr><th></th><th scope=col>Qtr1</th><th scope=col>Qtr2</th><th scope=col>Qtr3</th><th scope=col>Qtr4</th></tr>\n",
       "</thead>\n",
       "<tbody>\n",
       "\t<tr><th scope=row>1977</th><td>330.371</td><td>371.051</td><td>270.670</td><td>343.880</td></tr>\n",
       "\t<tr><th scope=row>1978</th><td>358.491</td><td>362.822</td><td>261.281</td><td>240.355</td></tr>\n",
       "</tbody>\n",
       "</table>\n"
      ],
      "text/latex": [
       "A Time Series: 2 × 4\n",
       "\\begin{tabular}{r|llll}\n",
       "  & Qtr1 & Qtr2 & Qtr3 & Qtr4\\\\\n",
       "\\hline\n",
       "\t1977 & 330.371 & 371.051 & 270.670 & 343.880\\\\\n",
       "\t1978 & 358.491 & 362.822 & 261.281 & 240.355\\\\\n",
       "\\end{tabular}\n"
      ],
      "text/markdown": [
       "\n",
       "A Time Series: 2 × 4\n",
       "\n",
       "| <!--/--> | Qtr1 | Qtr2 | Qtr3 | Qtr4 |\n",
       "|---|---|---|---|---|\n",
       "| 1977 | 330.371 | 371.051 | 270.670 | 343.880 |\n",
       "| 1978 | 358.491 | 362.822 | 261.281 | 240.355 |\n",
       "\n"
      ],
      "text/plain": [
       "     Qtr1    Qtr2    Qtr3    Qtr4   \n",
       "1977 330.371 371.051 270.670 343.880\n",
       "1978 358.491 362.822 261.281 240.355"
      ]
     },
     "metadata": {},
     "output_type": "display_data"
    }
   ],
   "source": [
    "# 데이터 확인\n",
    "head(ukcars, 8)"
   ]
  },
  {
   "cell_type": "markdown",
   "id": "e9da5dbe-0d4c-42f4-bd68-863f9fd5991d",
   "metadata": {},
   "source": [
    "### 4-(1) 시계열 그림"
   ]
  },
  {
   "cell_type": "code",
   "execution_count": 599,
   "id": "3d0ed3f1-92eb-475b-b1c9-949a1cd9c886",
   "metadata": {},
   "outputs": [
    {
     "data": {
      "image/png": "[encoded data removed]",
      "text/plain": [
       "Plot with title \"Time Series Plot\""
      ]
     },
     "metadata": {
      "image/png": {
       "height": 420,
       "width": 420
      }
     },
     "output_type": "display_data"
    }
   ],
   "source": [
    "plot(ukcars, main = \"Time Series Plot\")"
   ]
  },
  {
   "cell_type": "markdown",
   "id": "0d4cfddb-95a7-422f-96ad-471316b2f03c",
   "metadata": {},
   "source": [
    "- 추세가 있어보인다.\n",
    "- 폭이 좁고 위로 볼록한 모양이 반복되고 있다. => 계절성 있어보임\n",
    "- 이분산성은 없어 보인다."
   ]
  },
  {
   "cell_type": "markdown",
   "id": "f090ad9f-dd18-4aa7-ba29-82d33a8d46f0",
   "metadata": {},
   "source": [
    "### 4-(2) 변수 변환"
   ]
  },
  {
   "cell_type": "code",
   "execution_count": 382,
   "id": "8fa8c45c-2f66-46f4-854e-49d5832891c8",
   "metadata": {},
   "outputs": [
    {
     "data": {
      "text/plain": [
       "\n",
       "\tstudentized Breusch-Pagan test\n",
       "\n",
       "data:  lm(ukcars ~ t[1:113])\n",
       "BP = 1.2592, df = 1, p-value = 0.2618\n"
      ]
     },
     "metadata": {},
     "output_type": "display_data"
    }
   ],
   "source": [
    "t = rep((1:4),29) # 계절 주기 고려\n",
    "bptest(lm(ukcars~t[1:113]))"
   ]
  },
  {
   "cell_type": "markdown",
   "id": "0875ed6c-11f8-4360-a406-f8cce5939410",
   "metadata": {},
   "source": [
    "- 이분산성이 있는지 확인하기 위해 계절성을 고려하여 Breusch-Pagan의 등분산성 검정을 실시했다.\n",
    "- $H_0: 등분산이다. vs. H_1: 이분산이다.$ \n",
    "- 유의확률이 0.2618 이므로 유의수준 0.05 하에서 영가설을 기각하지 못해 원자료 ukcars는 등분산이다. => 변수 변환이 필요없다."
   ]
  },
  {
   "cell_type": "markdown",
   "id": "da4b2535-ac00-47a4-8cce-4e6e66ff6093",
   "metadata": {},
   "source": [
    "### 4-(3) train/test data 분할"
   ]
  },
  {
   "cell_type": "code",
   "execution_count": 600,
   "id": "12bce75c-37cf-4bab-a37c-f21e33f942be",
   "metadata": {},
   "outputs": [
    {
     "data": {
      "text/html": [
       "<table class=\"dataframe\">\n",
       "<caption>A Time Series: 2 × 4</caption>\n",
       "<thead>\n",
       "\t<tr><th></th><th scope=col>Qtr1</th><th scope=col>Qtr2</th><th scope=col>Qtr3</th><th scope=col>Qtr4</th></tr>\n",
       "</thead>\n",
       "<tbody>\n",
       "\t<tr><th scope=row>1977</th><td>330.371</td><td>371.051</td><td>270.670</td><td>343.880</td></tr>\n",
       "\t<tr><th scope=row>1978</th><td>358.491</td><td>362.822</td><td>261.281</td><td>240.355</td></tr>\n",
       "</tbody>\n",
       "</table>\n"
      ],
      "text/latex": [
       "A Time Series: 2 × 4\n",
       "\\begin{tabular}{r|llll}\n",
       "  & Qtr1 & Qtr2 & Qtr3 & Qtr4\\\\\n",
       "\\hline\n",
       "\t1977 & 330.371 & 371.051 & 270.670 & 343.880\\\\\n",
       "\t1978 & 358.491 & 362.822 & 261.281 & 240.355\\\\\n",
       "\\end{tabular}\n"
      ],
      "text/markdown": [
       "\n",
       "A Time Series: 2 × 4\n",
       "\n",
       "| <!--/--> | Qtr1 | Qtr2 | Qtr3 | Qtr4 |\n",
       "|---|---|---|---|---|\n",
       "| 1977 | 330.371 | 371.051 | 270.670 | 343.880 |\n",
       "| 1978 | 358.491 | 362.822 | 261.281 | 240.355 |\n",
       "\n"
      ],
      "text/plain": [
       "     Qtr1    Qtr2    Qtr3    Qtr4   \n",
       "1977 330.371 371.051 270.670 343.880\n",
       "1978 358.491 362.822 261.281 240.355"
      ]
     },
     "metadata": {},
     "output_type": "display_data"
    }
   ],
   "source": [
    "train = ts(ukcars[1:(length(ukcars)-9)] , frequency = 4,start = c(1977, 1))\n",
    "head(train , 8)"
   ]
  },
  {
   "cell_type": "markdown",
   "id": "6f55310d-34d8-41b4-8825-ce4d9a47d579",
   "metadata": {},
   "source": [
    "- `train data`: 1977년~2002년의 분기별 승용차 생산 대수"
   ]
  },
  {
   "cell_type": "code",
   "execution_count": 604,
   "id": "d1369595-d89b-4ff8-8ca4-59ab75877bbe",
   "metadata": {},
   "outputs": [
    {
     "data": {
      "text/html": [
       "<table class=\"dataframe\">\n",
       "<caption>A Time Series: 2 × 4</caption>\n",
       "<thead>\n",
       "\t<tr><th></th><th scope=col>Qtr1</th><th scope=col>Qtr2</th><th scope=col>Qtr3</th><th scope=col>Qtr4</th></tr>\n",
       "</thead>\n",
       "<tbody>\n",
       "\t<tr><th scope=row>2003</th><td>385.890</td><td>424.325</td><td>433.280</td><td>391.213</td></tr>\n",
       "\t<tr><th scope=row>2004</th><td>408.740</td><td>445.458</td><td>428.202</td><td>379.048</td></tr>\n",
       "</tbody>\n",
       "</table>\n"
      ],
      "text/latex": [
       "A Time Series: 2 × 4\n",
       "\\begin{tabular}{r|llll}\n",
       "  & Qtr1 & Qtr2 & Qtr3 & Qtr4\\\\\n",
       "\\hline\n",
       "\t2003 & 385.890 & 424.325 & 433.280 & 391.213\\\\\n",
       "\t2004 & 408.740 & 445.458 & 428.202 & 379.048\\\\\n",
       "\\end{tabular}\n"
      ],
      "text/markdown": [
       "\n",
       "A Time Series: 2 × 4\n",
       "\n",
       "| <!--/--> | Qtr1 | Qtr2 | Qtr3 | Qtr4 |\n",
       "|---|---|---|---|---|\n",
       "| 2003 | 385.890 | 424.325 | 433.280 | 391.213 |\n",
       "| 2004 | 408.740 | 445.458 | 428.202 | 379.048 |\n",
       "\n"
      ],
      "text/plain": [
       "     Qtr1    Qtr2    Qtr3    Qtr4   \n",
       "2003 385.890 424.325 433.280 391.213\n",
       "2004 408.740 445.458 428.202 379.048"
      ]
     },
     "metadata": {},
     "output_type": "display_data"
    }
   ],
   "source": [
    "test = ts(ukcars[(length(ukcars)-9):length(ukcars)] , frequency = 4,start = c(2003, 1))\n",
    "head(test,8)"
   ]
  },
  {
   "cell_type": "markdown",
   "id": "836a1558-0b1c-412b-96c8-225148481842",
   "metadata": {},
   "source": [
    "- `test data`: 2003년~2004년의 분기별 승용차 생산 대수"
   ]
  },
  {
   "cell_type": "markdown",
   "id": "8eb2c1ae-8798-4a45-8510-a4e9f8c63e16",
   "metadata": {},
   "source": [
    "### 4-(4) train data에 이동평균 모형 적합, 마지막 2년 승용차 생산 대수 예측"
   ]
  },
  {
   "cell_type": "code",
   "execution_count": 609,
   "id": "75e40db5-b45a-48aa-80f9-ce1027b8c58b",
   "metadata": {},
   "outputs": [
    {
     "data": {
      "image/png": "[encoded data removed]",
      "text/plain": [
       "Plot with title \"이동평균 모형\""
      ]
     },
     "metadata": {
      "image/png": {
       "height": 420,
       "width": 420
      }
     },
     "output_type": "display_data"
    }
   ],
   "source": [
    "plot.ts(train, ylab = \"\" , xlab = \"\", main = \"이동평균 모형\")\n",
    "lines(SMA(train , n=4) , col = \"red\" , lwd=2) # 단순이동평균, window size = 4, 앞에 3개 NA\n",
    "lines(ma(train , order = 4) , col = \"blue\" , lty=2, lwd=2) # 중심이동 평균, 앞뒤 2개씩 NA\n",
    "legend(\"bottomright\" , lty = c(1,1,2), col = c(\"black\" , \"red\" , \"blue\" ) ,\n",
    "       lwd = c(1,1,2) , \n",
    "       c(\"원시계열\" , \"SMA(m=4)\" ,\"CSMA(l=2)\" ), \n",
    "       bty = \"n\")"
   ]
  },
  {
   "cell_type": "markdown",
   "id": "26080a5a-bdc0-4a7e-805d-9434907f4ff0",
   "metadata": {},
   "source": [
    "- 주기가 4인 계절성이 있는 data이므로 단순이동평균과 중심이동평균의 window size = 4 로 설정했다.\n",
    "- 단순이동평균은 SMA(), 중심이동평균은 ma() 함수를 사용하였다.\n",
    "- 계절성분이 smoothing 되고, 각 이동평균모형이 전체적인 data의 추세를 잘 따라가고 있다."
   ]
  },
  {
   "cell_type": "code",
   "execution_count": 611,
   "id": "0ad7618e-c3c4-4c2d-bc8e-f18a28de9ebe",
   "metadata": {},
   "outputs": [
    {
     "name": "stderr",
     "output_type": "stream",
     "text": [
      "Warning message in ets(object, lambda = lambda, biasadj = biasadj, allow.multiplicative.trend = allow.multiplicative.trend, :\n",
      "\"Missing values encountered. Using longest contiguous portion of time series\"\n"
     ]
    },
    {
     "data": {
      "text/plain": [
       "        Point Forecast    Lo 80    Hi 80    Lo 95    Hi 95\n",
       "2003 Q1       408.3898 396.2314 420.5481 389.7951 426.9844\n",
       "2003 Q2       409.1518 386.8974 431.4062 375.1166 443.1870\n",
       "2003 Q3       409.7614 377.1592 442.3637 359.9005 459.6223\n",
       "2003 Q4       410.2492 367.2903 453.2080 344.5493 475.9490\n",
       "2004 Q1       410.6393 357.4912 463.7874 329.3563 491.9223\n",
       "2004 Q2       410.9515 347.8864 474.0166 314.5017 507.4012\n",
       "2004 Q3       411.2012 338.5484 483.8539 300.0883 522.3140\n",
       "2004 Q4       411.4009 329.5161 493.2858 286.1688 536.6330"
      ]
     },
     "metadata": {},
     "output_type": "display_data"
    }
   ],
   "source": [
    "# 예측값: 단순이동평균 모형\n",
    "predict(SMA(train , n=4),8)"
   ]
  },
  {
   "cell_type": "code",
   "execution_count": 612,
   "id": "a1c560b2-d2bb-4d45-9c5b-4e952dad4b42",
   "metadata": {},
   "outputs": [],
   "source": [
    "ma_pred = c(408.3898,409.1518,409.7614,410.2492,410.6393,410.9515,411.2012, 411.4009)"
   ]
  },
  {
   "cell_type": "markdown",
   "id": "b27ea5f9-1d56-4ec9-94cc-cc9e68984015",
   "metadata": {},
   "source": [
    "`마지막 2년 승용차 생산 대수 예측(단순이동평균 모형)`: predict()를 사용하여 다음 8개의 data를 예측함.\n",
    "|년도|1분기|2분기|3분기|4분기|\n",
    "|:---:|:---:|:---:|:---:|:---:|\n",
    "|2003|408.3898|409.1518|409.7614|410.2492|\n",
    "|2004|410.6393|410.9515|411.2012|411.4009|"
   ]
  },
  {
   "cell_type": "code",
   "execution_count": 614,
   "id": "ce27892a-d994-4ed3-98bc-2b0c551493ef",
   "metadata": {},
   "outputs": [
    {
     "name": "stderr",
     "output_type": "stream",
     "text": [
      "Warning message in ets(object, lambda = lambda, biasadj = biasadj, allow.multiplicative.trend = allow.multiplicative.trend, :\n",
      "\"Missing values encountered. Using longest contiguous portion of time series\"\n"
     ]
    },
    {
     "data": {
      "text/plain": [
       "        Point Forecast    Lo 80    Hi 80    Lo 95    Hi 95\n",
       "2002 Q3       413.3221 405.0795 421.5648 400.7161 425.9282\n",
       "2002 Q4       416.9118 399.9405 433.8831 390.9565 442.8671\n",
       "2003 Q1       419.7835 393.4694 446.0977 379.5395 460.0275\n",
       "2003 Q2       422.0809 386.2428 457.9190 367.2713 476.8906\n",
       "2003 Q3       423.9188 378.6202 469.2175 354.6405 493.1972\n",
       "2003 Q4       425.3892 370.8318 479.9466 341.9508 508.8275\n",
       "2004 Q1       426.5654 363.0272 490.1037 329.3921 523.7388\n",
       "2004 Q2       427.5065 355.3035 499.7094 317.0816 537.9314\n",
       "2004 Q3       428.2593 347.7224 508.7961 305.0888 551.4298\n",
       "2004 Q4       428.8615 340.3219 517.4011 293.4519 564.2712"
      ]
     },
     "metadata": {},
     "output_type": "display_data"
    }
   ],
   "source": [
    "# 예측값: 중심이동평균 모형\n",
    "predict(ma(train , order = 4), 10)"
   ]
  },
  {
   "cell_type": "code",
   "execution_count": 615,
   "id": "fd4bb215-3dda-4519-aa3d-3f2a519a4d9a",
   "metadata": {},
   "outputs": [],
   "source": [
    "cma_pred = c(419.7835,422.0809,423.9188,425.3892,426.5654,427.5065,428.2593,428.8615)"
   ]
  },
  {
   "cell_type": "markdown",
   "id": "35fdb5d6-b579-4e92-b300-fc200fb67f91",
   "metadata": {},
   "source": [
    "`마지막 2년 승용차 생산 대수 예측(중심이동평균 모형)`: predict()를 사용하여 다음 10개의 data를 예측함.\n",
    "|년도|1분기|2분기|3분기|4분기|\n",
    "|:---:|:---:|:---:|:---:|:---:|\n",
    "|2003|419.7835|422.0809|423.9188|425.3892|\n",
    "|2004|426.5654| 427.5065|428.2593|428.8615|"
   ]
  },
  {
   "cell_type": "code",
   "execution_count": 623,
   "id": "49047dd1-9d1b-4754-802b-76e89d08defd",
   "metadata": {},
   "outputs": [
    {
     "name": "stderr",
     "output_type": "stream",
     "text": [
      "Warning message in ets(object, lambda = lambda, biasadj = biasadj, allow.multiplicative.trend = allow.multiplicative.trend, :\n",
      "\"Missing values encountered. Using longest contiguous portion of time series\"\n",
      "Warning message in ets(object, lambda = lambda, biasadj = biasadj, allow.multiplicative.trend = allow.multiplicative.trend, :\n",
      "\"Missing values encountered. Using longest contiguous portion of time series\"\n"
     ]
    },
    {
     "data": {
      "image/png": "[encoded data removed]",
      "text/plain": [
       "Plot with title \"중심이동 평균의 예측값이 포함된 Time Series Plot\""
      ]
     },
     "metadata": {
      "image/png": {
       "height": 420,
       "width": 420
      }
     },
     "output_type": "display_data"
    }
   ],
   "source": [
    "par(mfrow=c(2,1))\n",
    "plot(predict(SMA(train , n=4),8), main = \"단순이동 평균의 예측값이 포함된 Time Series Plot\")\n",
    "plot(predict(ma(train , order = 4), 10), main = \"중심이동 평균의 예측값이 포함된 Time Series Plot\")\n",
    "par(mfrow=c(1,1))"
   ]
  },
  {
   "cell_type": "markdown",
   "id": "9aa545bd-ef23-4a2a-acf4-e8747ea23703",
   "metadata": {},
   "source": [
    "- 눈으로 보기에는 중심이동 평균 모형이 더 예측을 잘 한 것 같다."
   ]
  },
  {
   "cell_type": "markdown",
   "id": "34706f8e-f5ed-40c0-b7f9-7907da32f37f",
   "metadata": {},
   "source": [
    "### 4-(5) train data에 지수평활 모형 적합, 마지막 2년 승용차 생산 대수 예측"
   ]
  },
  {
   "cell_type": "code",
   "execution_count": 625,
   "id": "d69a2d00-ba45-434f-b8ad-52ed8f6207a1",
   "metadata": {},
   "outputs": [
    {
     "data": {
      "text/plain": [
       "Holt-Winters' additive method \n",
       "\n",
       "Call:\n",
       " hw(y = train, h = 8, seasonal = \"additive\") \n",
       "\n",
       "  Smoothing parameters:\n",
       "    alpha = 0.6177 \n",
       "    beta  = 0.0019 \n",
       "    gamma = 1e-04 \n",
       "\n",
       "  Initial states:\n",
       "    l = 333.3573 \n",
       "    b = 0.8663 \n",
       "    s = 0.5052 -46.5605 22.4941 23.5611\n",
       "\n",
       "  sigma:  27.0772\n",
       "\n",
       "     AIC     AICc      BIC \n",
       "1178.820 1180.735 1202.620 "
      ]
     },
     "metadata": {},
     "output_type": "display_data"
    }
   ],
   "source": [
    "model = hw(train , seasonal = \"additive\" , h=8)\n",
    "model$model"
   ]
  },
  {
   "cell_type": "markdown",
   "id": "49e9a5b9-62d2-4acc-9afc-f671686c96a8",
   "metadata": {},
   "source": [
    "- 주기가 4인 계절성이 있으므로 hw()함수를 사용하여 Holt-Winters의 가법계절지수평활 모형을 적합했다.\n",
    "- $\\alpha = 0.6177$ , $\\beta = 0.0019$, $\\gamma = 0.0001$이 최적의 모수로 추정되었다.\n",
    "- $\\hat{\\sigma}^2$ = 27.0772"
   ]
  },
  {
   "cell_type": "code",
   "execution_count": 626,
   "id": "791063be-9453-4943-92b3-524276514f40",
   "metadata": {},
   "outputs": [
    {
     "data": {
      "image/png": "[encoded data removed]",
      "text/plain": [
       "Plot with title \"Holt-Winters 가법계절지수평활된 자료의 시계열 그림\""
      ]
     },
     "metadata": {
      "image/png": {
       "height": 420,
       "width": 420
      }
     },
     "output_type": "display_data"
    }
   ],
   "source": [
    "plot(model,  ylab=\"number of cars produced\", xlab=\"year\", lty=1, col=\"blue\",\n",
    "     main=\"Holt-Winters 가법계절지수평활된 자료의 시계열 그림\")\n",
    "lines(model$fitted, col=\"red\", lty=2)\n",
    "legend(\"topleft\", lty=1:2, col=c(\"blue\",\"red\"), c(\"number\", \"Additive\"),  bty = \"n\")"
   ]
  },
  {
   "cell_type": "code",
   "execution_count": 627,
   "id": "d69c2037-51f2-4b8c-a0b2-edb6f3dcb13d",
   "metadata": {},
   "outputs": [
    {
     "data": {
      "image/png": "[encoded data removed]",
      "text/plain": [
       "Plot with title \"가법모형의 예측오차\""
      ]
     },
     "metadata": {
      "image/png": {
       "height": 420,
       "width": 420
      }
     },
     "output_type": "display_data"
    }
   ],
   "source": [
    "plot(resid(model),main = \"가법모형의 예측오차\" , ylab = \"residuals\")\n",
    "abline(h=0)"
   ]
  },
  {
   "cell_type": "markdown",
   "id": "a5ff0fc5-de4f-45ec-83a7-36be06dd5c83",
   "metadata": {},
   "source": [
    "- 적합한 가법계절지수평활 모형의 잔차가 0을 기준으로 잘 왔다갔다하고 있는 것 같다."
   ]
  },
  {
   "cell_type": "code",
   "execution_count": 629,
   "id": "522100a9-69e9-4245-86c0-2a2029e566a1",
   "metadata": {},
   "outputs": [
    {
     "data": {
      "image/png": "[encoded data removed]",
      "text/plain": [
       "Plot with title \"잔차에 대한 PACF Plot\""
      ]
     },
     "metadata": {
      "image/png": {
       "height": 420,
       "width": 420
      }
     },
     "output_type": "display_data"
    }
   ],
   "source": [
    "par(mfrow = c(2,1))\n",
    "acf(resid(model) , main = \"잔차에 대한 ACF Plot\", lag.max = 60)\n",
    "pacf(resid(model),main = \"잔차에 대한 PACF Plot\", lag.max = 60)\n",
    "par(mfrow = c(1,1))"
   ]
  },
  {
   "cell_type": "markdown",
   "id": "a91ac8e3-92a6-4e7c-bece-f003c968a91b",
   "metadata": {},
   "source": [
    "- ACF와 PACF 모두 거의 유의하지 않으므로 잔차는 백색잡음이다. => 잔차에 따로 모형을 걸어줄 필요x"
   ]
  },
  {
   "cell_type": "code",
   "execution_count": 630,
   "id": "9e33ce37-abb3-4328-a0ce-aa3e0cfa595e",
   "metadata": {},
   "outputs": [
    {
     "data": {
      "text/plain": [
       "        Point Forecast    Lo 80    Hi 80    Lo 95    Hi 95\n",
       "2003 Q1       423.7983 389.0975 458.4992 370.7279 476.8687\n",
       "2003 Q2       423.5532 382.7326 464.3739 361.1234 485.9831\n",
       "2003 Q3       355.3400 309.1741 401.5059 284.7354 425.9447\n",
       "2003 Q4       403.2351 352.2542 454.2160 325.2665 481.2036\n",
       "2004 Q1       427.1340 371.7285 482.5395 342.3986 511.8694\n",
       "2004 Q2       426.8889 367.3645 486.4133 335.8542 517.9236\n",
       "2004 Q3       358.6757 295.2773 422.0741 261.7162 455.6351\n",
       "2004 Q4       406.5707 339.5007 473.6408 303.9960 509.1455"
      ]
     },
     "metadata": {},
     "output_type": "display_data"
    }
   ],
   "source": [
    "# 예측값\n",
    "model"
   ]
  },
  {
   "cell_type": "code",
   "execution_count": 631,
   "id": "bdb929fe-0641-408d-80ae-37f43ee63faa",
   "metadata": {},
   "outputs": [],
   "source": [
    "expsmooting_pred = c(423.7983,423.5532,355.3400,403.2351,427.1340 ,426.8889,358.6757,406.5707)"
   ]
  },
  {
   "cell_type": "markdown",
   "id": "d5caef2a-94f8-4492-bb37-948c0e13507f",
   "metadata": {},
   "source": [
    "`마지막 2년 승용차 생산 대수 예측(가법계절지수평활 모형)`\n",
    "|년도|1분기|2분기|3분기|4분기|\n",
    "|:---:|:---:|:---:|:---:|:---:|\n",
    "|2003|423.7983|423.5532|355.3400|403.2351|\n",
    "|2004|427.1340|426.8889|358.6757|406.5707|"
   ]
  },
  {
   "cell_type": "code",
   "execution_count": 632,
   "id": "f2bc3ab0-e176-4c29-b6f0-aac891174553",
   "metadata": {},
   "outputs": [
    {
     "data": {
      "image/png": "[encoded data removed]",
      "text/plain": [
       "Plot with title \"가법계절지수평활 모형의 예측값이 추가된 Time Series Plot\""
      ]
     },
     "metadata": {
      "image/png": {
       "height": 420,
       "width": 420
      }
     },
     "output_type": "display_data"
    }
   ],
   "source": [
    "plot(model, main = \"가법계절지수평활 모형의 예측값이 추가된 Time Series Plot\")"
   ]
  },
  {
   "cell_type": "markdown",
   "id": "a56bc8d3-3ef2-4332-abe2-8c3e1fe7ef21",
   "metadata": {},
   "source": [
    "### 4-(6) train data에 계절형 ARIMA 모형 적합, 마지막 2년 승용차 생산 대수 예측"
   ]
  },
  {
   "cell_type": "code",
   "execution_count": 633,
   "id": "78c62286-9ab6-4e95-a9aa-a383fec0c19e",
   "metadata": {},
   "outputs": [
    {
     "name": "stderr",
     "output_type": "stream",
     "text": [
      "`geom_smooth()` using formula 'y ~ x'\n",
      "\n"
     ]
    },
    {
     "data": {
      "image/png": "[encoded data removed]",
      "text/plain": [
       "plot without title"
      ]
     },
     "metadata": {
      "image/png": {
       "height": 420,
       "width": 420
      }
     },
     "output_type": "display_data"
    }
   ],
   "source": [
    "ggtsdisplay(train, lag.max  = 60,\n",
    "            theme = theme_bw(),\n",
    "            smooth=T)"
   ]
  },
  {
   "cell_type": "markdown",
   "id": "2553fb92-6656-4d54-9cad-d2037e93b4c1",
   "metadata": {},
   "source": [
    "- time series plot에서 계절성과 추세가 있어보인다.\n",
    "- ACF가 서서히 감소하고 있어 확률적 추세가 의심된다 => 차분 필요\n",
    "- PACF가 1-시차에서 유의하고, 계절주기 주변에서 유의하다. "
   ]
  },
  {
   "cell_type": "code",
   "execution_count": 452,
   "id": "d4c50a9f-4dda-4d9d-88d9-139d53ae72e8",
   "metadata": {},
   "outputs": [
    {
     "name": "stderr",
     "output_type": "stream",
     "text": [
      "`geom_smooth()` using formula 'y ~ x'\n",
      "\n"
     ]
    },
    {
     "data": {
      "image/png": "[encoded data removed]",
      "text/plain": [
       "plot without title"
      ]
     },
     "metadata": {
      "image/png": {
       "height": 420,
       "width": 420
      }
     },
     "output_type": "display_data"
    }
   ],
   "source": [
    "# 계절 차분\n",
    "sdiff_z = diff(train , lag = 4)\n",
    "ggtsdisplay(sdiff_z, lag.max  = 60,\n",
    "            theme = theme_bw(),\n",
    "            smooth=T)"
   ]
  },
  {
   "cell_type": "markdown",
   "id": "0d3c8e48-185f-4530-8f12-cdece20884d1",
   "metadata": {},
   "source": [
    "- 계절주기 4로 계절차분을 하였더니 time series plot에서 추세와 계절성이 어느정도 잡힌 것 같다.\n",
    "- ACF를 보니 확률적 추세도 제거된 것 같다.\n",
    "- PACF가 1-시차에서 유의하고, 계절주기 주변에서 유의하다.\n",
    "- 차분이 더 필요한지 단위근 검정을 실시하여 한번 더 확인한다."
   ]
  },
  {
   "cell_type": "code",
   "execution_count": 634,
   "id": "1309898b-a338-4135-92ff-ee9d14d70a74",
   "metadata": {},
   "outputs": [
    {
     "data": {
      "text/plain": [
       "\n",
       "\tOne Sample t-test\n",
       "\n",
       "data:  sdiff_z\n",
       "t = 0.78431, df = 99, p-value = 0.4347\n",
       "alternative hypothesis: true mean is not equal to 0\n",
       "95 percent confidence interval:\n",
       " -4.800365 11.075805\n",
       "sample estimates:\n",
       "mean of x \n",
       "  3.13772 \n"
      ]
     },
     "metadata": {},
     "output_type": "display_data"
    }
   ],
   "source": [
    "# 평균 검정\n",
    "t.test(sdiff_z) "
   ]
  },
  {
   "cell_type": "markdown",
   "id": "280a8213-4622-46aa-9d3f-6ae8770c0e17",
   "metadata": {},
   "source": [
    "- 모형에 상수항이 들어가는지 알아보기 위해 가설 검정 $H_0: \\mu =0$ $vs.$ $H_1: \\mu \\neq 0$ 을 실시했다.\n",
    "- t-검정을 했을 때 유의확률이 0.4347이므로 유의수준 0.05 하에서 영가설을 기각하지 못해 평균은 0이다. => 모형에 상수항이 없다."
   ]
  },
  {
   "cell_type": "code",
   "execution_count": 635,
   "id": "913d85fb-31c1-4c65-9b02-81eae3eaa82b",
   "metadata": {},
   "outputs": [
    {
     "name": "stderr",
     "output_type": "stream",
     "text": [
      "Warning message in adfTest(sdiff_z, lags = 2, type = \"nc\"):\n",
      "\"p-value smaller than printed p-value\"\n"
     ]
    },
    {
     "data": {
      "text/plain": [
       "\n",
       "Title:\n",
       " Augmented Dickey-Fuller Test\n",
       "\n",
       "Test Results:\n",
       "  PARAMETER:\n",
       "    Lag Order: 2\n",
       "  STATISTIC:\n",
       "    Dickey-Fuller: -5.902\n",
       "  P VALUE:\n",
       "    0.01 \n",
       "\n",
       "Description:\n",
       " Sun Dec 18 14:06:36 2022 by user: user\n"
      ]
     },
     "metadata": {},
     "output_type": "display_data"
    }
   ],
   "source": [
    "# 상수항이 없는 단위근 검정\n",
    "adfTest(sdiff_z, lags = 2, type = \"nc\")"
   ]
  },
  {
   "cell_type": "markdown",
   "id": "35d5014e-329c-470a-83b8-356d6b98d298",
   "metadata": {},
   "source": [
    "- 차분이 더 필요한지 판단하기 위해 상수항이 없는 단위근 검정을 실시하였다.\n",
    "- $H_0:$ 단위근이 있다 $vs.$ $H_1:$ 단위근이 없다\n",
    "- 유의확률이 <0.01로 유의수준 0.05 하에서 영가설이 기각되어 단위근이 없다고 판단한다. => 더이상 차분할 필요 없음"
   ]
  },
  {
   "cell_type": "code",
   "execution_count": 637,
   "id": "ad609e3e-afe6-4e2f-8df3-9cd34e3e198c",
   "metadata": {},
   "outputs": [
    {
     "data": {
      "image/png": "[encoded data removed]",
      "text/plain": [
       "Plot with title \"PACF Plot\""
      ]
     },
     "metadata": {
      "image/png": {
       "height": 420,
       "width": 420
      }
     },
     "output_type": "display_data"
    }
   ],
   "source": [
    "par(mfrow = c(2,1))\n",
    "acf(sdiff_z , main = \"ACF Plot\" , lag.max= 60)\n",
    "pacf(sdiff_z , main = \"PACF Plot\", lag.max= 60)\n",
    "par(mfrow = c(1,1))"
   ]
  },
  {
   "cell_type": "markdown",
   "id": "2751acab-1645-438f-aa8b-8758b2bf6478",
   "metadata": {},
   "source": [
    "적합할 모형을 식별하기 위해 계절 차분된 train data에 대한 ACF Plot과 PACF Plot을 그렸다.\n",
    "\n",
    "- ACF가 1-시차에서 유의하다. => MA(1)\n",
    "- ACF가 4-시차, 8-시차, 12-시차, .... 에서 점점 감소하고 있다. => SMA(0)\n",
    "- PACF가 1-시차에서 유의하다 => AR(1)\n",
    "- PACF가 4-시차 , 8-시차에서 유의한데, 유의성의 정도가 크지 않은 것 같다. => SAR(2)/SAR(1)\n",
    "\n",
    "따라서 모형은 $ARIMA(1,0,1)(2,1,0)_{4}$, $ARIMA(1,0,1)(1,1,0)_{4}$, $ARIMA(1,0,1)(1,1,1)_{4}$ 정도가 적합해 보인다."
   ]
  },
  {
   "cell_type": "code",
   "execution_count": 638,
   "id": "913e5a82-5bc1-4b36-93f5-b9d57559e457",
   "metadata": {},
   "outputs": [
    {
     "data": {
      "text/plain": [
       "\n",
       "Call:\n",
       "arima(x = train, order = c(1, 0, 1), seasonal = list(order = c(2, 1, 0), period = 4))\n",
       "\n",
       "Coefficients:\n",
       "         ar1      ma1     sar1     sar2\n",
       "      0.8431  -0.2479  -0.7640  -0.2046\n",
       "s.e.  0.0808   0.1479   0.1152   0.1147\n",
       "\n",
       "sigma^2 estimated as 749.4:  log likelihood = -474.11,  aic = 958.23\n",
       "\n",
       "Training set error measures:\n",
       "                    ME     RMSE      MAE        MPE     MAPE      MASE\n",
       "Training set 0.9384791 26.84316 20.73557 -0.1136181 6.856936 0.5067348\n",
       "                     ACF1\n",
       "Training set -0.005331869"
      ]
     },
     "metadata": {},
     "output_type": "display_data"
    }
   ],
   "source": [
    "model1 = arima(train, order = c(1,0,1), \n",
    "             seasonal = list(order = c(2,1,0),  # 계절\n",
    "                             period = 4)) # 계절주기\n",
    "summary(model1)"
   ]
  },
  {
   "cell_type": "code",
   "execution_count": 639,
   "id": "6c999dc6-87e8-4199-a62b-1d530be16bdf",
   "metadata": {},
   "outputs": [
    {
     "data": {
      "text/plain": [
       "\n",
       "z test of coefficients:\n",
       "\n",
       "      Estimate Std. Error z value  Pr(>|z|)    \n",
       "ar1   0.843077   0.080841 10.4288 < 2.2e-16 ***\n",
       "ma1  -0.247919   0.147924 -1.6760   0.09374 .  \n",
       "sar1 -0.764025   0.115217 -6.6312  3.33e-11 ***\n",
       "sar2 -0.204558   0.114741 -1.7828   0.07462 .  \n",
       "---\n",
       "Signif. codes:  0 '***' 0.001 '**' 0.01 '*' 0.05 '.' 0.1 ' ' 1\n"
      ]
     },
     "metadata": {},
     "output_type": "display_data"
    }
   ],
   "source": [
    "coeftest(model1)"
   ]
  },
  {
   "cell_type": "code",
   "execution_count": 640,
   "id": "e7ba7110-9a7d-4e88-be28-4c2f4eea8202",
   "metadata": {},
   "outputs": [
    {
     "data": {
      "text/plain": [
       "\n",
       "Call:\n",
       "arima(x = train, order = c(1, 0, 1), seasonal = list(order = c(1, 1, 0), period = 4))\n",
       "\n",
       "Coefficients:\n",
       "         ar1      ma1     sar1\n",
       "      0.7949  -0.2277  -0.6275\n",
       "s.e.  0.0943   0.1534   0.0881\n",
       "\n",
       "sigma^2 estimated as 774.8:  log likelihood = -475.63,  aic = 959.26\n",
       "\n",
       "Training set error measures:\n",
       "                   ME     RMSE      MAE         MPE     MAPE     MASE\n",
       "Training set 1.133127 27.29422 21.12518 -0.07456415 7.012199 0.516256\n",
       "                     ACF1\n",
       "Training set -0.009436043"
      ]
     },
     "metadata": {},
     "output_type": "display_data"
    }
   ],
   "source": [
    "model2 = arima(train, order = c(1,0,1), \n",
    "             seasonal = list(order = c(1,1,0),  # 계절\n",
    "                             period = 4)) # 계절주기\n",
    "summary(model2)"
   ]
  },
  {
   "cell_type": "code",
   "execution_count": 641,
   "id": "64683d76-c2a8-469a-bfd9-908a33666d6a",
   "metadata": {},
   "outputs": [
    {
     "data": {
      "text/plain": [
       "\n",
       "z test of coefficients:\n",
       "\n",
       "      Estimate Std. Error z value  Pr(>|z|)    \n",
       "ar1   0.794932   0.094253  8.4341 < 2.2e-16 ***\n",
       "ma1  -0.227651   0.153383 -1.4842    0.1378    \n",
       "sar1 -0.627462   0.088142 -7.1188 1.089e-12 ***\n",
       "---\n",
       "Signif. codes:  0 '***' 0.001 '**' 0.01 '*' 0.05 '.' 0.1 ' ' 1\n"
      ]
     },
     "metadata": {},
     "output_type": "display_data"
    }
   ],
   "source": [
    "coeftest(model2)"
   ]
  },
  {
   "cell_type": "code",
   "execution_count": 642,
   "id": "0b4feee5-7fae-4abb-9b03-591b8b2968ee",
   "metadata": {},
   "outputs": [
    {
     "data": {
      "text/plain": [
       "\n",
       "Call:\n",
       "arima(x = train, order = c(1, 0, 1), seasonal = list(order = c(1, 1, 1), period = 4))\n",
       "\n",
       "Coefficients:\n",
       "         ar1      ma1     sar1     sma1\n",
       "      0.9127  -0.3138  -0.3433  -0.5682\n",
       "s.e.  0.0633   0.1325   0.1501   0.1741\n",
       "\n",
       "sigma^2 estimated as 715.6:  log likelihood = -472.2,  aic = 954.39\n",
       "\n",
       "Training set error measures:\n",
       "                    ME     RMSE      MAE         MPE     MAPE      MASE\n",
       "Training set 0.9041294 26.23155 20.69006 -0.08250125 6.869856 0.5056225\n",
       "                     ACF1\n",
       "Training set -0.001461165"
      ]
     },
     "metadata": {},
     "output_type": "display_data"
    }
   ],
   "source": [
    "model3 = arima(train, order = c(1,0,1), \n",
    "             seasonal = list(order = c(1,1,1),  # 계절\n",
    "                             period = 4)) # 계절주기\n",
    "summary(model3)"
   ]
  },
  {
   "cell_type": "code",
   "execution_count": 643,
   "id": "9fa56be9-8b60-48ca-8242-df3735b09ac2",
   "metadata": {},
   "outputs": [
    {
     "data": {
      "text/plain": [
       "\n",
       "z test of coefficients:\n",
       "\n",
       "     Estimate Std. Error z value Pr(>|z|)    \n",
       "ar1   0.91272    0.06334 14.4099  < 2e-16 ***\n",
       "ma1  -0.31385    0.13248 -2.3691  0.01783 *  \n",
       "sar1 -0.34334    0.15014 -2.2868  0.02221 *  \n",
       "sma1 -0.56815    0.17408 -3.2637  0.00110 ** \n",
       "---\n",
       "Signif. codes:  0 '***' 0.001 '**' 0.01 '*' 0.05 '.' 0.1 ' ' 1\n"
      ]
     },
     "metadata": {},
     "output_type": "display_data"
    }
   ],
   "source": [
    "coeftest(model3)"
   ]
  },
  {
   "cell_type": "markdown",
   "id": "695f0f26-f1bd-433c-a6ce-ffe4a2886a74",
   "metadata": {},
   "source": [
    "`model1`: $ARIMA(1,0,1)(2,1,0)_{4}$\n",
    "|모수|추정값|표준오차|z-값|유의확률|AIC|\n",
    "|:---:|:---:|:---:|:---:|:---:|:---:|\n",
    "|$\\phi_1$|0.8430| 0.0808|10.428|<0.001|958.23|\n",
    "|$\\theta_1$|-0.2479|0.1479|-1.676| 0.093||\n",
    "|$\\Phi_1$|-0.7640|0.1152|-6.631|<0.001||\n",
    "|$\\Phi_2$|-0.2045|0.1147|-1.782|0.074||\n",
    "\n",
    "\n",
    "`model2`: $ARIMA(1,0,1)(1,1,0)_{4}$\n",
    "|모수|추정값|표준오차|z-값|유의확률|AIC|\n",
    "|:---:|:---:|:---:|:---:|:---:|:---:|\n",
    "|$\\phi_1$|0.7949| 0.0942|8.4341|<0.001|959.26|\n",
    "|$\\theta_1$|-0.2276|0.1533|-1.4842|0.1378||\n",
    "|$\\Phi_1$|-0.6274|0.0881|-7.1188|<0.001||\n",
    "\n",
    "\n",
    "`model3`:$ARIMA(1,0,1)(1,1,1)_{4}$\n",
    "|모수|추정값|표준오차|z-값|유의확률|AIC|\n",
    "|:---:|:---:|:---:|:---:|:---:|:---:|\n",
    "|$\\phi_1$|0.9127| 0.06334|14.4099|<0.001|954.39|\n",
    "|$\\theta_1$|-0.3138| 0.13248|-2.3691|0.0178||\n",
    "|$\\Phi_1$|-0.3433| 0.15014|-2.2868|0.0222||\n",
    "|$\\Theta_1$|-0.5681| 0.17408|-3.2637|0.0011||"
   ]
  },
  {
   "cell_type": "markdown",
   "id": "0464b4a5-f2a0-4a81-8f08-bd3a15f1e90f",
   "metadata": {},
   "source": [
    "=> 유의수준 0.05 하에서 추정된 모수가 모두 유의하고 AIC가 가장 작은 `model3`: $ARIMA(1,0,1)(1,1,1)_{4}$을 최종 모형으로 선택한다."
   ]
  },
  {
   "cell_type": "markdown",
   "id": "7aedf026-1281-41f5-a4a2-c8a94afe47c0",
   "metadata": {},
   "source": [
    "**<추정된 최종모형식>**\n",
    "\n",
    "$(1-0.91B)(1+0.34B^{4})(1-B^{4})Z_t = (1+0.31B)(1+0.57B^4)\\epsilon_t$ , $\\epsilon_t \\sim WN(0,715.6)$"
   ]
  },
  {
   "cell_type": "code",
   "execution_count": 644,
   "id": "efabfde6-da35-4f9a-bb8b-8fe5cf28191a",
   "metadata": {},
   "outputs": [
    {
     "name": "stdout",
     "output_type": "stream",
     "text": [
      "\n",
      "\tLjung-Box test\n",
      "\n",
      "data:  Residuals from ARIMA(1,0,1)(1,1,1)[4]\n",
      "Q* = 7.4399, df = 4, p-value = 0.1144\n",
      "\n",
      "Model df: 4.   Total lags used: 8\n",
      "\n"
     ]
    },
    {
     "data": {
      "text/plain": [
       "\n",
       "\tstudentized Breusch-Pagan test\n",
       "\n",
       "data:  lm(model3$residuals ~ t)\n",
       "BP = 0.16915, df = 1, p-value = 0.6809\n"
      ]
     },
     "metadata": {},
     "output_type": "display_data"
    },
    {
     "data": {
      "image/png": "[encoded data removed]",
      "text/plain": [
       "plot without title"
      ]
     },
     "metadata": {
      "image/png": {
       "height": 420,
       "width": 420
      }
     },
     "output_type": "display_data"
    }
   ],
   "source": [
    "# 잔차검정\n",
    "checkresiduals(model3)\n",
    "t = 1:length(train)\n",
    "bptest(lm(model3$residuals~t))"
   ]
  },
  {
   "cell_type": "markdown",
   "id": "22e2e7d4-599c-49c6-a57e-53e27d5b7347",
   "metadata": {},
   "source": [
    "- 잔차가 등분산인지 검정하기 위해 Breusch-Pagan 검정을 실시하였더니 유의확률 0.6809로 유의수준 0.05 하에서 영가설($H_0$:등분산)을 기각할 수 없어 등분산이라고 판단한다.\n",
    "-  Ljung-Box 검정 $H_0: \\rho_1 = \\rho_2 = \\rho_3 = ... = \\rho_k = 0$  $vs.$  $H_1: not H_0$\n",
    "- Ljung-Box 검정의 결과로 유의확률이 0.1144이므로 유의수준 0.05하에서 영가설을 기각할 수 없어 잔차는 백색 잡음이다.\n",
    "- ACF Plot에서 acf가 모든 시차에서 유의하지 않다.\n",
    "- 잔차의 히스토그램을 보니 정규분포보다 오른쪽으로 치우친 경향이 있지만 정규성의 위배 정도가 크지 않은 것 같다.\n"
   ]
  },
  {
   "cell_type": "code",
   "execution_count": 646,
   "id": "59453a13-b400-43ab-9781-6712ddcea892",
   "metadata": {},
   "outputs": [
    {
     "data": {
      "text/html": [
       "<table class=\"dataframe\">\n",
       "<caption>A Time Series: 2 × 4</caption>\n",
       "<thead>\n",
       "\t<tr><th></th><th scope=col>Qtr1</th><th scope=col>Qtr2</th><th scope=col>Qtr3</th><th scope=col>Qtr4</th></tr>\n",
       "</thead>\n",
       "<tbody>\n",
       "\t<tr><th scope=row>2003</th><td>420.9922</td><td>397.9714</td><td>345.0822</td><td>395.1067</td></tr>\n",
       "\t<tr><th scope=row>2004</th><td>429.2142</td><td>397.9321</td><td>359.7610</td><td>390.6852</td></tr>\n",
       "</tbody>\n",
       "</table>\n"
      ],
      "text/latex": [
       "A Time Series: 2 × 4\n",
       "\\begin{tabular}{r|llll}\n",
       "  & Qtr1 & Qtr2 & Qtr3 & Qtr4\\\\\n",
       "\\hline\n",
       "\t2003 & 420.9922 & 397.9714 & 345.0822 & 395.1067\\\\\n",
       "\t2004 & 429.2142 & 397.9321 & 359.7610 & 390.6852\\\\\n",
       "\\end{tabular}\n"
      ],
      "text/markdown": [
       "\n",
       "A Time Series: 2 × 4\n",
       "\n",
       "| <!--/--> | Qtr1 | Qtr2 | Qtr3 | Qtr4 |\n",
       "|---|---|---|---|---|\n",
       "| 2003 | 420.9922 | 397.9714 | 345.0822 | 395.1067 |\n",
       "| 2004 | 429.2142 | 397.9321 | 359.7610 | 390.6852 |\n",
       "\n"
      ],
      "text/plain": [
       "     Qtr1     Qtr2     Qtr3     Qtr4    \n",
       "2003 420.9922 397.9714 345.0822 395.1067\n",
       "2004 429.2142 397.9321 359.7610 390.6852"
      ]
     },
     "metadata": {},
     "output_type": "display_data"
    }
   ],
   "source": [
    "sarima_pred = predict(model3,8)$pred\n",
    "sarima_pred"
   ]
  },
  {
   "cell_type": "markdown",
   "id": "f4871e6e-6e4c-46b5-b4fb-c22bb90f4959",
   "metadata": {},
   "source": [
    "`마지막 2년 승용차 생산 대수 예측(계절형 ARIMA 모형)`: predict()를 사용하여 다음 8개 data 예측\n",
    "|년도|1분기|2분기|3분기|4분기|\n",
    "|:---:|:---:|:---:|:---:|:---:|\n",
    "|2003|420.9922 |397.9714|345.0822|395.1067|\n",
    "|2004|429.2142|397.9321|359.7610|390.6852|"
   ]
  },
  {
   "cell_type": "code",
   "execution_count": 650,
   "id": "d882e6e2-e811-4bff-a7e4-ed8d36978863",
   "metadata": {},
   "outputs": [
    {
     "data": {
      "image/png": "[encoded data removed]",
      "text/plain": [
       "Plot with title \"SARIMA 모형의 예측값이 추가된 Time Series Plot\""
      ]
     },
     "metadata": {
      "image/png": {
       "height": 420,
       "width": 420
      }
     },
     "output_type": "display_data"
    }
   ],
   "source": [
    "plot(forecast(model3, h=8,level = c(80, 95)) , main = \"SARIMA 모형의 예측값이 추가된 Time Series Plot\")"
   ]
  },
  {
   "cell_type": "markdown",
   "id": "f3c8fc6d-026d-454a-8299-92531a0afb1a",
   "metadata": {},
   "source": [
    "### 4-(7) 위 세 모형의 결과에 대하여 MSE/MAPE/MAE를 구하고, 가장 좋은 모형을 선택"
   ]
  },
  {
   "cell_type": "code",
   "execution_count": 651,
   "id": "48ad4b79-f3be-470a-b00e-3a438a19958a",
   "metadata": {},
   "outputs": [],
   "source": [
    "## MSE, MAPE, MAE 구하는 함수\n",
    "acc = function(true,pred){\n",
    "     mse_ = sum((true-pred)^2)/8\n",
    "     mape_ = sum(abs(true-pred)*100/true)/8\n",
    "     mae_ = sum(abs(true-pred))/8\n",
    "     return(paste(round(mse_,2) , round(mape_,2) , round(mae_,2)))\n",
    "    }"
   ]
  },
  {
   "cell_type": "code",
   "execution_count": 658,
   "id": "8a884461-8e2b-49d2-9619-f1ef245d4b8d",
   "metadata": {},
   "outputs": [
    {
     "data": {
      "text/html": [
       "'522.75 5.06 20.75'"
      ],
      "text/latex": [
       "'522.75 5.06 20.75'"
      ],
      "text/markdown": [
       "'522.75 5.06 20.75'"
      ],
      "text/plain": [
       "[1] \"522.75 5.06 20.75\""
      ]
     },
     "metadata": {},
     "output_type": "display_data"
    }
   ],
   "source": [
    "# 단순이동평균 모형 accuracy\n",
    "acc(ma_pred,test[1:8]) "
   ]
  },
  {
   "cell_type": "code",
   "execution_count": 655,
   "id": "83af0f75-5907-466a-a420-00e1f685b874",
   "metadata": {},
   "outputs": [
    {
     "data": {
      "text/html": [
       "'691.35 4.86 20.67'"
      ],
      "text/latex": [
       "'691.35 4.86 20.67'"
      ],
      "text/markdown": [
       "'691.35 4.86 20.67'"
      ],
      "text/plain": [
       "[1] \"691.35 4.86 20.67\""
      ]
     },
     "metadata": {},
     "output_type": "display_data"
    }
   ],
   "source": [
    "# 중심이동평균 모형 accuracy\n",
    "acc(cma_pred,test[1:8]) "
   ]
  },
  {
   "cell_type": "code",
   "execution_count": 656,
   "id": "64f5db3c-6a1e-4f3c-9b7f-77d59645d61f",
   "metadata": {},
   "outputs": [
    {
     "data": {
      "text/html": [
       "'1741.42 8.61 32.83'"
      ],
      "text/latex": [
       "'1741.42 8.61 32.83'"
      ],
      "text/markdown": [
       "'1741.42 8.61 32.83'"
      ],
      "text/plain": [
       "[1] \"1741.42 8.61 32.83\""
      ]
     },
     "metadata": {},
     "output_type": "display_data"
    }
   ],
   "source": [
    "# 가법 계절지수평활 accuracy\n",
    "acc(expsmooting_pred,test[1:8])"
   ]
  },
  {
   "cell_type": "code",
   "execution_count": 657,
   "id": "9479d8a4-f54d-4b7f-ac1d-ce787f5340dc",
   "metadata": {},
   "outputs": [
    {
     "data": {
      "text/html": [
       "'2152.27 10.03 37.7'"
      ],
      "text/latex": [
       "'2152.27 10.03 37.7'"
      ],
      "text/markdown": [
       "'2152.27 10.03 37.7'"
      ],
      "text/plain": [
       "[1] \"2152.27 10.03 37.7\""
      ]
     },
     "metadata": {},
     "output_type": "display_data"
    }
   ],
   "source": [
    "# SARIMA accuracy\n",
    "acc(sarima_pred , test[1:8])"
   ]
  },
  {
   "cell_type": "markdown",
   "id": "1adff6db-3194-4151-8a38-35aff4ca8e81",
   "metadata": {},
   "source": [
    "`Accuracy`\n",
    "|모형|MSE|MAPE|MAE|\n",
    "|:---:|:---:|:---:|:---:|\n",
    "|단순이동평균모형|522.75| 5.06| 20.75|\n",
    "|중심이동평균모형|691.35 |4.86 |20.67|\n",
    "|가법계절모형|1741.42|8.61|32.83|\n",
    "|SARIMA|2152.27|10.03|32.83|\n",
    "\n",
    "- MSE, MAPE, MAE 모두 가법계절 모형과 SARIMA 모형에 비해 이동평균 모형이 가장 작다.\n",
    "- 이동평균모형 중 MSE가 단순이동평균 모형이 더 작다.  \n",
    "\n",
    "=> 예측을 가장 잘 하고 좋은 모형은 단순이동평균 모형이다. "
   ]
  },
  {
   "cell_type": "code",
   "execution_count": null,
   "id": "c1361d2b-2c27-4849-8bae-e7226717ee28",
   "metadata": {},
   "outputs": [],
   "source": []
  }
 ],
 "metadata": {
  "kernelspec": {
   "display_name": "R",
   "language": "R",
   "name": "ir"
  },
  "language_info": {
   "codemirror_mode": "r",
   "file_extension": ".r",
   "mimetype": "text/x-r-source",
   "name": "R",
   "pygments_lexer": "r",
   "version": "4.0.5"
  }
 },
 "nbformat": 4,
 "nbformat_minor": 5
}
