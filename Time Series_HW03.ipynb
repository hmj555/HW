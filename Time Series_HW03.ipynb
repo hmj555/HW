{
 "cells": [
  {
   "cell_type": "markdown",
   "id": "1587e5b9-68a9-45a5-ad77-fb0eb0f83404",
   "metadata": {},
   "source": [
    "#  <center>  **시계열 자료분석 HW03(Midterm)**  </center> "
   ]
  },
  {
   "cell_type": "markdown",
   "id": "b3432a72-1937-477d-83a7-3b6e338df808",
   "metadata": {},
   "source": [
    "## <div style=\"text-align: right\">  201822037 통계학과 한민주 </div> "
   ]
  },
  {
   "cell_type": "markdown",
   "id": "91cbfc9b-debc-4d82-9cd9-0837e2fcd813",
   "metadata": {},
   "source": [
    "----"
   ]
  },
  {
   "cell_type": "markdown",
   "id": "3e126e24-d63c-4561-85e9-869aede05079",
   "metadata": {},
   "source": [
    "### 1. `stationery.txt`\n",
    "\n",
    "어느 대형 문구점에서 30일 동안 판매한 문구류의 일별 판매액(단위 : 천원) 시계열자료이다."
   ]
  },
  {
   "cell_type": "code",
   "execution_count": 6,
   "id": "a2cdd31b-e3cd-4e04-8826-3335ae46dd2a",
   "metadata": {
    "jupyter": {
     "source_hidden": true
    }
   },
   "outputs": [
    {
     "name": "stderr",
     "output_type": "stream",
     "text": [
      "Registered S3 method overwritten by 'quantmod':\n",
      "  method            from\n",
      "  as.zoo.data.frame zoo \n",
      "\n",
      "Loading required package: zoo\n",
      "\n",
      "\n",
      "Attaching package: 'zoo'\n",
      "\n",
      "\n",
      "The following objects are masked from 'package:base':\n",
      "\n",
      "    as.Date, as.Date.numeric\n",
      "\n",
      "\n"
     ]
    }
   ],
   "source": [
    "## 필요한 package\n",
    "library(forecast)\n",
    "library(data.table)\n",
    "library(lmtest) ## DW test "
   ]
  },
  {
   "cell_type": "code",
   "execution_count": 7,
   "id": "aee02497-7959-4545-a86d-c2e0a7389e1d",
   "metadata": {
    "jupyter": {
     "source_hidden": true
    }
   },
   "outputs": [],
   "source": [
    "## 경로 지정\n",
    "setwd(\"C:/Users/user/OneDrive/바탕 화면/전공 수업 자료/시계열자료분석_이영미/제5판_시계열분석/data\")"
   ]
  },
  {
   "cell_type": "code",
   "execution_count": 6,
   "id": "39f706d2-48c8-44b5-a59c-5bee7d57a444",
   "metadata": {
    "jupyter": {
     "source_hidden": true
    }
   },
   "outputs": [],
   "source": [
    "sales = scan(\"stationery.txt\")"
   ]
  },
  {
   "cell_type": "code",
   "execution_count": 79,
   "id": "5767142e-1cdf-4269-b7ce-571ef70a0a51",
   "metadata": {
    "jupyter": {
     "source_hidden": true
    }
   },
   "outputs": [],
   "source": [
    "sales_data = data.table( sales = sales , \n",
    "                       t = 1:length(sales))"
   ]
  },
  {
   "cell_type": "code",
   "execution_count": 15,
   "id": "3887d145-7c39-4ab9-9c58-017ca67f37e2",
   "metadata": {
    "jupyter": {
     "source_hidden": true
    }
   },
   "outputs": [
    {
     "data": {
      "image/png": "[encoded data removed]",
      "text/plain": [
       "Plot with title \"문구류의 일별 판매액에 대한 TimeSeries Plot\""
      ]
     },
     "metadata": {
      "image/png": {
       "height": 420,
       "width": 420
      }
     },
     "output_type": "display_data"
    }
   ],
   "source": [
    "plot(sales_data$t , sales_data$sales , type = \"l\",\n",
    "    xlab = \"t\"  , ylab = \"sales(Zt)\" , \n",
    "    main = \"문구류의 일별 판매액에 대한 TimeSeries Plot\")"
   ]
  },
  {
   "cell_type": "markdown",
   "id": "63680190-db60-4ecf-8797-99c2c357f55a",
   "metadata": {},
   "source": [
    "추세와 계절성, 이분산성이 없어보이며 일정 수준에 머물면서 불규칙한 변화를 보이는 시계열 도표로 추세 모형 중 상수평균 모형을 적합하는 게 적당해 보인다."
   ]
  },
  {
   "cell_type": "markdown",
   "id": "b2b355e1-c545-4aa6-b5f7-643796fe256d",
   "metadata": {},
   "source": [
    "#### 1-1) 상수평균모형 적합"
   ]
  },
  {
   "cell_type": "markdown",
   "id": "cdfbf25a-1fc0-429b-a2eb-daaaa9dffc57",
   "metadata": {},
   "source": [
    "$Z_t = \\beta_0 + \\epsilon_t$ , $\\epsilon_t \\sim N(0,\\sigma^2)$ i.i.d."
   ]
  },
  {
   "cell_type": "code",
   "execution_count": 38,
   "id": "2a68e4b1-d46b-429e-98a2-8462e830806c",
   "metadata": {
    "jupyter": {
     "source_hidden": true
    }
   },
   "outputs": [],
   "source": [
    "model = lm(sales~1 , data = sales_data)"
   ]
  },
  {
   "cell_type": "code",
   "execution_count": 40,
   "id": "2f88cd5a-a020-485a-aea9-db9289edab1b",
   "metadata": {
    "jupyter": {
     "source_hidden": true
    }
   },
   "outputs": [
    {
     "data": {
      "text/plain": [
       "\n",
       "Call:\n",
       "lm(formula = sales ~ 1, data = sales_data)\n",
       "\n",
       "Residuals:\n",
       "   Min     1Q Median     3Q    Max \n",
       " -27.9  -16.4    0.1   16.1   34.1 \n",
       "\n",
       "Coefficients:\n",
       "            Estimate Std. Error t value Pr(>|t|)    \n",
       "(Intercept)    104.9        3.4   30.86   <2e-16 ***\n",
       "---\n",
       "Signif. codes:  0 '***' 0.001 '**' 0.01 '*' 0.05 '.' 0.1 ' ' 1\n",
       "\n",
       "Residual standard error: 18.62 on 29 degrees of freedom\n"
      ]
     },
     "metadata": {},
     "output_type": "display_data"
    }
   ],
   "source": [
    "summary(model)"
   ]
  },
  {
   "cell_type": "code",
   "execution_count": 41,
   "id": "ea8859e2-75cb-4da7-801a-687daee6f6fd",
   "metadata": {
    "jupyter": {
     "source_hidden": true
    }
   },
   "outputs": [
    {
     "data": {
      "text/html": [
       "<table class=\"dataframe\">\n",
       "<caption>A anova: 1 × 5</caption>\n",
       "<thead>\n",
       "\t<tr><th></th><th scope=col>Df</th><th scope=col>Sum Sq</th><th scope=col>Mean Sq</th><th scope=col>F value</th><th scope=col>Pr(&gt;F)</th></tr>\n",
       "\t<tr><th></th><th scope=col>&lt;int&gt;</th><th scope=col>&lt;dbl&gt;</th><th scope=col>&lt;dbl&gt;</th><th scope=col>&lt;dbl&gt;</th><th scope=col>&lt;dbl&gt;</th></tr>\n",
       "</thead>\n",
       "<tbody>\n",
       "\t<tr><th scope=row>Residuals</th><td>29</td><td>10054.7</td><td>346.7138</td><td>NA</td><td>NA</td></tr>\n",
       "</tbody>\n",
       "</table>\n"
      ],
      "text/latex": [
       "A anova: 1 × 5\n",
       "\\begin{tabular}{r|lllll}\n",
       "  & Df & Sum Sq & Mean Sq & F value & Pr(>F)\\\\\n",
       "  & <int> & <dbl> & <dbl> & <dbl> & <dbl>\\\\\n",
       "\\hline\n",
       "\tResiduals & 29 & 10054.7 & 346.7138 & NA & NA\\\\\n",
       "\\end{tabular}\n"
      ],
      "text/markdown": [
       "\n",
       "A anova: 1 × 5\n",
       "\n",
       "| <!--/--> | Df &lt;int&gt; | Sum Sq &lt;dbl&gt; | Mean Sq &lt;dbl&gt; | F value &lt;dbl&gt; | Pr(&gt;F) &lt;dbl&gt; |\n",
       "|---|---|---|---|---|---|\n",
       "| Residuals | 29 | 10054.7 | 346.7138 | NA | NA |\n",
       "\n"
      ],
      "text/plain": [
       "          Df Sum Sq  Mean Sq  F value Pr(>F)\n",
       "Residuals 29 10054.7 346.7138 NA      NA    "
      ]
     },
     "metadata": {},
     "output_type": "display_data"
    }
   ],
   "source": [
    "anova(model)"
   ]
  },
  {
   "cell_type": "code",
   "execution_count": 70,
   "id": "6ccbe3c6-81fe-4f9e-b252-68deb8d1fff3",
   "metadata": {
    "jupyter": {
     "source_hidden": true
    }
   },
   "outputs": [
    {
     "data": {
      "image/png": "[encoded data removed]",
      "text/plain": [
       "Plot with title \"Sales: observation vs. fitted value\""
      ]
     },
     "metadata": {
      "image/png": {
       "height": 420,
       "width": 420
      }
     },
     "output_type": "display_data"
    }
   ],
   "source": [
    "plot(sales_data$t , \n",
    "    sales_data$sales , \n",
    "    type = \"l\" , xlab = \"t\" , ylab = \"Zt\" , main = \"Sales: observation vs. fitted value\")\n",
    "lines(sales_data$t , fitted(model) , col = \"red\")\n",
    "legend(\"topright\",legend=c(\"observation\",\"fitted value\"), lty = 1, col = c(\"black\" , \"red\")\n",
    "       ,border=\"white\",box.lty=1,cex=0.9)"
   ]
  },
  {
   "cell_type": "markdown",
   "id": "cede8fe7-ab90-40e5-a2d5-ea88c3b8f75c",
   "metadata": {},
   "source": [
    "<center>  분산분석표    </center> \n",
    "    \n",
    "|  | 자유도 | 제곱합 | 제곱평균 |  \n",
    "|:---:|:---:|:---:|:---:|\n",
    "| 오차 | 29 | 10054.7| 346.71| <br>\n",
    "\n",
    "<center> 회귀계수 추정 결과 </center> \n",
    "    \n",
    "|변수 | 회귀계수 | 표준오차 |  t-값 | 유의확률|\n",
    "|:---:|:---:|:---:|:---:|:---:|\n",
    "| $\\hat{\\beta_0}$| 104.9 | 3.4 | 30.86 | 0.0001| "
   ]
  },
  {
   "cell_type": "markdown",
   "id": "3292d325-7ec5-4d68-9e51-5a471b482977",
   "metadata": {},
   "source": [
    "추정된 모형식은 $\\widehat{Sales_t} = 104.9$ 이다. 회귀계수 $\\hat{\\beta_0}$의 유의확률이 0.001로 유의하다. 원시계열데이터와 상수평균모형에 의해 적합된 값을 도표에 그려보니 원시계열데이터가 적합된 값 104.9를 중심으로 왔다갔다하고 있다."
   ]
  },
  {
   "cell_type": "markdown",
   "id": "225ca2a9-6d33-4a47-9fd1-c4b1af024496",
   "metadata": {},
   "source": [
    "#### 1-2) 잔차분석"
   ]
  },
  {
   "cell_type": "code",
   "execution_count": 81,
   "id": "f1b0f19b-edf1-44d2-a816-2108c5ffa50f",
   "metadata": {
    "jupyter": {
     "source_hidden": true
    }
   },
   "outputs": [],
   "source": [
    "sales_data = sales_data[, fitted := fitted(model)] # 적합값 추가\n",
    "sales_data = sales_data[, res := resid(model)]  # 잔차 추가"
   ]
  },
  {
   "cell_type": "code",
   "execution_count": 107,
   "id": "a6325097-954a-4027-96f7-677b2da2e7a2",
   "metadata": {
    "jupyter": {
     "source_hidden": true
    }
   },
   "outputs": [
    {
     "data": {
      "image/png": "[encoded data removed]",
      "text/plain": [
       "Plot with title \"잔차 도표\""
      ]
     },
     "metadata": {
      "image/png": {
       "height": 420,
       "width": 420
      }
     },
     "output_type": "display_data"
    }
   ],
   "source": [
    "## 잔차 plot , 등분산성 검토\n",
    "plot(sales_data$t , sales_data$res , type = \"l\" , \n",
    "    xlab = \"t\" , ylab = \"residuals\" , main = \"잔차 도표\")\n",
    "abline( h =0)"
   ]
  },
  {
   "cell_type": "code",
   "execution_count": 98,
   "id": "e156b5ff-3bda-4668-9a98-3de72bd3c4dd",
   "metadata": {
    "jupyter": {
     "source_hidden": true
    }
   },
   "outputs": [
    {
     "data": {
      "text/plain": [
       "\n",
       "\tOne Sample t-test\n",
       "\n",
       "data:  sales_data$res\n",
       "t = -1.0454e-16, df = 29, p-value = 1\n",
       "alternative hypothesis: true mean is not equal to 0\n",
       "95 percent confidence interval:\n",
       " -6.952916  6.952916\n",
       "sample estimates:\n",
       "   mean of x \n",
       "-3.55387e-16 \n"
      ]
     },
     "metadata": {},
     "output_type": "display_data"
    }
   ],
   "source": [
    "## 선형성 검정\n",
    "t.test(sales_data$res , mu =0 )"
   ]
  },
  {
   "cell_type": "code",
   "execution_count": 100,
   "id": "688419f1-ccae-4508-ab03-4453cedb8b00",
   "metadata": {
    "jupyter": {
     "source_hidden": true
    }
   },
   "outputs": [
    {
     "data": {
      "text/plain": [
       "\n",
       "\tDurbin-Watson test\n",
       "\n",
       "data:  model\n",
       "DW = 2.3954, p-value = 0.2693\n",
       "alternative hypothesis: true autocorrelation is not 0\n"
      ]
     },
     "metadata": {},
     "output_type": "display_data"
    }
   ],
   "source": [
    "## 독립성 검정\n",
    "dwtest(model , alternative = \"two.sided\")"
   ]
  },
  {
   "cell_type": "code",
   "execution_count": 104,
   "id": "c97c91c0-7cfa-4d9c-b5d2-e7ee5d80be9a",
   "metadata": {
    "jupyter": {
     "source_hidden": true
    }
   },
   "outputs": [
    {
     "data": {
      "text/plain": [
       "\n",
       "\tShapiro-Wilk normality test\n",
       "\n",
       "data:  sales_data$res\n",
       "W = 0.95093, p-value = 0.179\n"
      ]
     },
     "metadata": {},
     "output_type": "display_data"
    },
    {
     "data": {
      "image/png": "[encoded data removed]",
      "text/plain": [
       "Plot with title \"Normal Q-Q Plot\""
      ]
     },
     "metadata": {
      "image/png": {
       "height": 420,
       "width": 420
      }
     },
     "output_type": "display_data"
    }
   ],
   "source": [
    "## 정규성 검정\n",
    "qqnorm(sales_data$res , pch = 16)\n",
    "qqline(sales_data$res , col = 2)\n",
    "\n",
    "shapiro.test(sales_data$res)"
   ]
  },
  {
   "cell_type": "markdown",
   "id": "1c01379c-8437-4180-821f-c138579ab24f",
   "metadata": {},
   "source": [
    "오차항의 선형성을 검정하기 위해 T-test를 실시하였더니 유의확률이 1이다. 따라서 $H_0 : \\mu = 0 \\, vs. H_1 : \\mu \\neq 0$에서 영가설을 기각하지 못해 잔차의 평균이 0이고, 오차항의 선형성 가정이 만족된다.\n",
    "\n",
    "오차항의 독립성을 검정하기 위해 Durbin-Watson test를 실시하였더니 DW 통계량이 2.3954, 유의확률이 0.2693이다. 따라서 $H_0 : \\rho = 0  \\, vs. H_1 : \\rho \\neq 0$에서 영가설을 기각하지 못해 잔차의 상관계수는 0이고, 오차항의 독립성 가정이 만족된다. \n",
    "\n",
    "오차항의 정규성을 살펴보기 위해 Q-Q plot을 봤더니 대부분의 데이터가 직선과 겹쳐지나 끝부분이 조금 의심스러워 shapiro-wilk test를 실시했다. 유의확률이 0.179이므로 $H_0 : 정규분포이다  \\, vs. H_1 : 정규분포가 아니다$ 에서 영가설을 기각하지 못하여 오차항의 정규성 가정이 만족된다.\n",
    "\n",
    "오차항의 등분산성을 살펴보기 위해 잔차 도표를 살펴보면 상수평균모형에 대한 잔차이므로 y축의 크기만 변하고, 형태는 시계열 도표와 동일하다. 0을 중심으로 일정한 범위 내에서 잔차가 왔다갔다하고 있으므로 오차항의 등분산성 가정에도 문제가 없어보인다."
   ]
  },
  {
   "cell_type": "markdown",
   "id": "c24cf33b-fd99-42ab-bd23-96bfe948154b",
   "metadata": {},
   "source": [
    "#### 1-3) 예측값"
   ]
  },
  {
   "cell_type": "markdown",
   "id": "e650c937-8b27-40de-bffd-d27bf4056d90",
   "metadata": {},
   "source": [
    "상수평균 모형에서 예측값은 $\\hat{Z_n}(l) = \\hat{\\beta_0}= \\bar{Z}$ 이다.\n",
    "따라서 $\\hat{Z_{30}}(1) = \\hat{Z_{30}}(2) = ... = \\hat{Z_{30}}(12) = \\hat{\\beta_0} = 104.9$ 이다."
   ]
  },
  {
   "cell_type": "markdown",
   "id": "93036294-3b93-4df7-8a66-a4f36d05a31e",
   "metadata": {},
   "source": [
    "----"
   ]
  },
  {
   "cell_type": "markdown",
   "id": "28385c01-2b51-4dd1-9a42-98e44210b447",
   "metadata": {},
   "source": [
    "### 2. `data1.csv`\n",
    "\n",
    "모의 실험에 의해 생성된 시계열 자료이다."
   ]
  },
  {
   "cell_type": "code",
   "execution_count": 125,
   "id": "61eb294f-0c68-4bca-9242-65717bf0f9d1",
   "metadata": {
    "jupyter": {
     "source_hidden": true
    }
   },
   "outputs": [],
   "source": [
    "data1 = read.csv(\"data1.csv\" )"
   ]
  },
  {
   "cell_type": "code",
   "execution_count": 126,
   "id": "935eb1da-f6f2-4535-b165-3e8d69d20e76",
   "metadata": {
    "jupyter": {
     "source_hidden": true
    }
   },
   "outputs": [
    {
     "data": {
      "text/html": [
       "<table class=\"dataframe\">\n",
       "<caption>A data.frame: 6 × 2</caption>\n",
       "<thead>\n",
       "\t<tr><th></th><th scope=col>t</th><th scope=col>z</th></tr>\n",
       "\t<tr><th></th><th scope=col>&lt;int&gt;</th><th scope=col>&lt;dbl&gt;</th></tr>\n",
       "</thead>\n",
       "<tbody>\n",
       "\t<tr><th scope=row>1</th><td>1</td><td>-1.5346871</td></tr>\n",
       "\t<tr><th scope=row>2</th><td>2</td><td> 2.6850469</td></tr>\n",
       "\t<tr><th scope=row>3</th><td>3</td><td>-0.4288189</td></tr>\n",
       "\t<tr><th scope=row>4</th><td>4</td><td> 1.3724199</td></tr>\n",
       "\t<tr><th scope=row>5</th><td>5</td><td>-0.9800884</td></tr>\n",
       "\t<tr><th scope=row>6</th><td>6</td><td> 2.4156505</td></tr>\n",
       "</tbody>\n",
       "</table>\n"
      ],
      "text/latex": [
       "A data.frame: 6 × 2\n",
       "\\begin{tabular}{r|ll}\n",
       "  & t & z\\\\\n",
       "  & <int> & <dbl>\\\\\n",
       "\\hline\n",
       "\t1 & 1 & -1.5346871\\\\\n",
       "\t2 & 2 &  2.6850469\\\\\n",
       "\t3 & 3 & -0.4288189\\\\\n",
       "\t4 & 4 &  1.3724199\\\\\n",
       "\t5 & 5 & -0.9800884\\\\\n",
       "\t6 & 6 &  2.4156505\\\\\n",
       "\\end{tabular}\n"
      ],
      "text/markdown": [
       "\n",
       "A data.frame: 6 × 2\n",
       "\n",
       "| <!--/--> | t &lt;int&gt; | z &lt;dbl&gt; |\n",
       "|---|---|---|\n",
       "| 1 | 1 | -1.5346871 |\n",
       "| 2 | 2 |  2.6850469 |\n",
       "| 3 | 3 | -0.4288189 |\n",
       "| 4 | 4 |  1.3724199 |\n",
       "| 5 | 5 | -0.9800884 |\n",
       "| 6 | 6 |  2.4156505 |\n",
       "\n"
      ],
      "text/plain": [
       "  t z         \n",
       "1 1 -1.5346871\n",
       "2 2  2.6850469\n",
       "3 3 -0.4288189\n",
       "4 4  1.3724199\n",
       "5 5 -0.9800884\n",
       "6 6  2.4156505"
      ]
     },
     "metadata": {},
     "output_type": "display_data"
    }
   ],
   "source": [
    "data1 = data1[ , -1] # 필요없는 열 제거\n",
    "data1 %>% head"
   ]
  },
  {
   "cell_type": "code",
   "execution_count": 129,
   "id": "25b18496-8db0-42c6-90a3-8d15cf40f4c5",
   "metadata": {
    "jupyter": {
     "source_hidden": true
    }
   },
   "outputs": [
    {
     "data": {
      "image/png": "[encoded data removed]",
      "text/plain": [
       "Plot with title \"Time Series Plot\""
      ]
     },
     "metadata": {
      "image/png": {
       "height": 420,
       "width": 420
      }
     },
     "output_type": "display_data"
    }
   ],
   "source": [
    "plot(data1$t , data1$z , type = \"l\", \n",
    "    xlab = \"t\" , ylab = \"Zt\" , \n",
    "    main = \"Time Series Plot\")"
   ]
  },
  {
   "cell_type": "markdown",
   "id": "aac8681c-5120-4621-9936-e4eb9ff7013e",
   "metadata": {},
   "source": [
    "시계열 도표를 보니 계절성과 이분산성 없이 1차 선형추세만 있어보인다. 따라서 선형추세모형이나 이중지수평활법 모형을 적합하는 것이 좋을 거 같다."
   ]
  },
  {
   "cell_type": "markdown",
   "id": "156195c1-b517-453e-b1a9-b50ce593c2c0",
   "metadata": {},
   "source": [
    "#### 2-1) 선형추세모형 적합과 잔차분석\n",
    "\n",
    "$Z_t = \\beta_0 + \\beta_1 + \\epsilon_t$ , $\\epsilon_t \\sim N(0, \\sigma^2)$ i.i.d."
   ]
  },
  {
   "cell_type": "code",
   "execution_count": 130,
   "id": "829a85c3-678b-49bf-8fe8-b8720096542f",
   "metadata": {
    "jupyter": {
     "source_hidden": true
    }
   },
   "outputs": [],
   "source": [
    "model1 = lm(z~t , data = data1)"
   ]
  },
  {
   "cell_type": "code",
   "execution_count": 131,
   "id": "1a5e2332-e75e-43fc-bff0-0145919f969d",
   "metadata": {
    "jupyter": {
     "source_hidden": true
    }
   },
   "outputs": [
    {
     "data": {
      "text/plain": [
       "\n",
       "Call:\n",
       "lm(formula = z ~ t, data = data1)\n",
       "\n",
       "Residuals:\n",
       "    Min      1Q  Median      3Q     Max \n",
       "-3.0803 -1.0287  0.0169  0.8426  4.3288 \n",
       "\n",
       "Coefficients:\n",
       "            Estimate Std. Error t value Pr(>|t|)    \n",
       "(Intercept) 0.818932   0.296301   2.764  0.00682 ** \n",
       "t           0.099619   0.005094  19.557  < 2e-16 ***\n",
       "---\n",
       "Signif. codes:  0 '***' 0.001 '**' 0.01 '*' 0.05 '.' 0.1 ' ' 1\n",
       "\n",
       "Residual standard error: 1.47 on 98 degrees of freedom\n",
       "Multiple R-squared:  0.796,\tAdjusted R-squared:  0.7939 \n",
       "F-statistic: 382.5 on 1 and 98 DF,  p-value: < 2.2e-16\n"
      ]
     },
     "metadata": {},
     "output_type": "display_data"
    }
   ],
   "source": [
    "summary(model1)"
   ]
  },
  {
   "cell_type": "code",
   "execution_count": 132,
   "id": "5e625c03-736d-43a4-aab3-b5a58d40b055",
   "metadata": {
    "jupyter": {
     "source_hidden": true
    }
   },
   "outputs": [
    {
     "data": {
      "text/html": [
       "<table class=\"dataframe\">\n",
       "<caption>A anova: 2 × 5</caption>\n",
       "<thead>\n",
       "\t<tr><th></th><th scope=col>Df</th><th scope=col>Sum Sq</th><th scope=col>Mean Sq</th><th scope=col>F value</th><th scope=col>Pr(&gt;F)</th></tr>\n",
       "\t<tr><th></th><th scope=col>&lt;int&gt;</th><th scope=col>&lt;dbl&gt;</th><th scope=col>&lt;dbl&gt;</th><th scope=col>&lt;dbl&gt;</th><th scope=col>&lt;dbl&gt;</th></tr>\n",
       "</thead>\n",
       "<tbody>\n",
       "\t<tr><th scope=row>t</th><td> 1</td><td>826.9112</td><td>826.911178</td><td>382.458</td><td>1.326206e-35</td></tr>\n",
       "\t<tr><th scope=row>Residuals</th><td>98</td><td>211.8855</td><td>  2.162097</td><td>     NA</td><td>          NA</td></tr>\n",
       "</tbody>\n",
       "</table>\n"
      ],
      "text/latex": [
       "A anova: 2 × 5\n",
       "\\begin{tabular}{r|lllll}\n",
       "  & Df & Sum Sq & Mean Sq & F value & Pr(>F)\\\\\n",
       "  & <int> & <dbl> & <dbl> & <dbl> & <dbl>\\\\\n",
       "\\hline\n",
       "\tt &  1 & 826.9112 & 826.911178 & 382.458 & 1.326206e-35\\\\\n",
       "\tResiduals & 98 & 211.8855 &   2.162097 &      NA &           NA\\\\\n",
       "\\end{tabular}\n"
      ],
      "text/markdown": [
       "\n",
       "A anova: 2 × 5\n",
       "\n",
       "| <!--/--> | Df &lt;int&gt; | Sum Sq &lt;dbl&gt; | Mean Sq &lt;dbl&gt; | F value &lt;dbl&gt; | Pr(&gt;F) &lt;dbl&gt; |\n",
       "|---|---|---|---|---|---|\n",
       "| t |  1 | 826.9112 | 826.911178 | 382.458 | 1.326206e-35 |\n",
       "| Residuals | 98 | 211.8855 |   2.162097 |      NA |           NA |\n",
       "\n"
      ],
      "text/plain": [
       "          Df Sum Sq   Mean Sq    F value Pr(>F)      \n",
       "t          1 826.9112 826.911178 382.458 1.326206e-35\n",
       "Residuals 98 211.8855   2.162097      NA           NA"
      ]
     },
     "metadata": {},
     "output_type": "display_data"
    }
   ],
   "source": [
    "anova(model1)"
   ]
  },
  {
   "cell_type": "code",
   "execution_count": 221,
   "id": "a6e62c42-2b7f-40cc-9360-64f3019eec22",
   "metadata": {
    "jupyter": {
     "source_hidden": true
    }
   },
   "outputs": [
    {
     "data": {
      "image/png": "[encoded data removed]",
      "text/plain": [
       "Plot with title \"raw data vs. fitted value(선형추세모형)\""
      ]
     },
     "metadata": {
      "image/png": {
       "height": 420,
       "width": 420
      }
     },
     "output_type": "display_data"
    }
   ],
   "source": [
    "plot(data1$t , \n",
    "    data1$z , \n",
    "    type = \"l\" , xlab = \"t\" , ylab = \"Zt\" , main = \"raw data vs. fitted value(선형추세모형)\")\n",
    "lines(data1$t , fitted(model1) , col = \"red\")\n",
    "legend(\"topleft\",legend=c(\"raw data\",\"fitted value\"), lty = 1, col = c(\"black\" , \"red\")\n",
    "       ,border=\"white\",box.lty=1,cex=0.9)"
   ]
  },
  {
   "cell_type": "markdown",
   "id": "6aa83638-1248-4a85-a2b4-7aa9b9426f7e",
   "metadata": {},
   "source": [
    "<center>  분산분석표    </center> \n",
    "    \n",
    "|  | 자유도 | 제곱합 | 제곱평균 | F값 | 유의확률|\n",
    "|:---:|:---:|:---:|:---:|:---:|:---:|\n",
    "| 모형 | 1 | 826.91| 826.91| 382.458 | 0.0001\n",
    "| 오차 | 98 | 211.88| 2.16| ||\n",
    "| 수정합 | 99 | 1038.79| | ||<br>\n",
    "\n",
    "\n",
    "<center> 회귀계수 추정 결과 </center> \n",
    "    \n",
    "|변수 | 회귀계수 | 표준오차 |  t-값 | 유의확률|\n",
    "|:---:|:---:|:---:|:---:|:---:|\n",
    "| Intercept | 0.8189| 0.2963 | 2.764 | 0.00682| \n",
    "| t | 0.0996 | 0.0050 | 19.557| 0.0001 |"
   ]
  },
  {
   "cell_type": "markdown",
   "id": "f864a19a-7eb8-45d7-82ab-12b9ac21ca53",
   "metadata": {},
   "source": [
    "추정된 모형식은 $\\hat{Z_t} = 0.8189 + 0.0996 \\times t$ 이다. 따라서 1시차가 증가하면 위 시계열데이터는 0.0996만큼 증가한다.<br>\n",
    "각 회귀계수 $\\hat{\\beta_0}$, $\\hat{\\beta_1}$의 유의확률은 유의수준 0.01하에서 유의하다. F-통계량은 382.5이고, 유의수준이 0.001 이하이므로 유의수준 0.01 하에서 회귀모형 역시 유의하다. 회귀모형의 설명력은 $R^2 = 79.6%$로 괜찮은 설명력을 가졌다. <br>\n",
    "원시계열데이터와 선형추세모형에 의해 적합된 값을 도표에 그려보니 원시계열 데이터의 추세를 적합한 모형이 잘 따라가고 있다."
   ]
  },
  {
   "cell_type": "code",
   "execution_count": 140,
   "id": "915c6882-eaad-4ecd-94a2-817c764f30f2",
   "metadata": {
    "jupyter": {
     "source_hidden": true
    }
   },
   "outputs": [],
   "source": [
    "### 잔차분석\n",
    "data1 = as.data.table(data1)\n",
    "data1 = data1[ , fitted := fitted(model1)]\n",
    "data1 = data1[, res := resid(model1)]"
   ]
  },
  {
   "cell_type": "code",
   "execution_count": 142,
   "id": "67d52d77-2144-4764-ad2c-ebf70701587d",
   "metadata": {
    "jupyter": {
     "source_hidden": true
    }
   },
   "outputs": [
    {
     "data": {
      "text/html": [
       "<table class=\"dataframe\">\n",
       "<caption>A data.table: 6 × 4</caption>\n",
       "<thead>\n",
       "\t<tr><th scope=col>t</th><th scope=col>z</th><th scope=col>fitted</th><th scope=col>res</th></tr>\n",
       "\t<tr><th scope=col>&lt;int&gt;</th><th scope=col>&lt;dbl&gt;</th><th scope=col>&lt;dbl&gt;</th><th scope=col>&lt;dbl&gt;</th></tr>\n",
       "</thead>\n",
       "<tbody>\n",
       "\t<tr><td>1</td><td>-1.5346871</td><td>0.918551</td><td>-2.4532381</td></tr>\n",
       "\t<tr><td>2</td><td> 2.6850469</td><td>1.018170</td><td> 1.6668770</td></tr>\n",
       "\t<tr><td>3</td><td>-0.4288189</td><td>1.117789</td><td>-1.5466077</td></tr>\n",
       "\t<tr><td>4</td><td> 1.3724199</td><td>1.217408</td><td> 0.1550122</td></tr>\n",
       "\t<tr><td>5</td><td>-0.9800884</td><td>1.317027</td><td>-2.2971150</td></tr>\n",
       "\t<tr><td>6</td><td> 2.4156505</td><td>1.416646</td><td> 0.9990050</td></tr>\n",
       "</tbody>\n",
       "</table>\n"
      ],
      "text/latex": [
       "A data.table: 6 × 4\n",
       "\\begin{tabular}{llll}\n",
       " t & z & fitted & res\\\\\n",
       " <int> & <dbl> & <dbl> & <dbl>\\\\\n",
       "\\hline\n",
       "\t 1 & -1.5346871 & 0.918551 & -2.4532381\\\\\n",
       "\t 2 &  2.6850469 & 1.018170 &  1.6668770\\\\\n",
       "\t 3 & -0.4288189 & 1.117789 & -1.5466077\\\\\n",
       "\t 4 &  1.3724199 & 1.217408 &  0.1550122\\\\\n",
       "\t 5 & -0.9800884 & 1.317027 & -2.2971150\\\\\n",
       "\t 6 &  2.4156505 & 1.416646 &  0.9990050\\\\\n",
       "\\end{tabular}\n"
      ],
      "text/markdown": [
       "\n",
       "A data.table: 6 × 4\n",
       "\n",
       "| t &lt;int&gt; | z &lt;dbl&gt; | fitted &lt;dbl&gt; | res &lt;dbl&gt; |\n",
       "|---|---|---|---|\n",
       "| 1 | -1.5346871 | 0.918551 | -2.4532381 |\n",
       "| 2 |  2.6850469 | 1.018170 |  1.6668770 |\n",
       "| 3 | -0.4288189 | 1.117789 | -1.5466077 |\n",
       "| 4 |  1.3724199 | 1.217408 |  0.1550122 |\n",
       "| 5 | -0.9800884 | 1.317027 | -2.2971150 |\n",
       "| 6 |  2.4156505 | 1.416646 |  0.9990050 |\n",
       "\n"
      ],
      "text/plain": [
       "  t z          fitted   res       \n",
       "1 1 -1.5346871 0.918551 -2.4532381\n",
       "2 2  2.6850469 1.018170  1.6668770\n",
       "3 3 -0.4288189 1.117789 -1.5466077\n",
       "4 4  1.3724199 1.217408  0.1550122\n",
       "5 5 -0.9800884 1.317027 -2.2971150\n",
       "6 6  2.4156505 1.416646  0.9990050"
      ]
     },
     "metadata": {},
     "output_type": "display_data"
    }
   ],
   "source": [
    "data1 %>% head"
   ]
  },
  {
   "cell_type": "code",
   "execution_count": 143,
   "id": "046bb2ec-6012-4424-8e71-408738e93caa",
   "metadata": {
    "jupyter": {
     "source_hidden": true
    }
   },
   "outputs": [
    {
     "data": {
      "image/png": "[encoded data removed]",
      "text/plain": [
       "Plot with title \"잔차 도표\""
      ]
     },
     "metadata": {
      "image/png": {
       "height": 420,
       "width": 420
      }
     },
     "output_type": "display_data"
    }
   ],
   "source": [
    "## 잔차 plot , 등분산성 검토\n",
    "plot(data1$t , data1$res , type = \"l\" , \n",
    "    xlab = \"t\" , ylab = \"residuals\" , main = \"잔차 도표\")\n",
    "abline( h =0)"
   ]
  },
  {
   "cell_type": "code",
   "execution_count": 145,
   "id": "4ed3b1c0-f99e-4b5f-ae3d-2d68603022a9",
   "metadata": {
    "jupyter": {
     "source_hidden": true
    }
   },
   "outputs": [
    {
     "data": {
      "text/plain": [
       "\n",
       "\tstudentized Breusch-Pagan test\n",
       "\n",
       "data:  model1\n",
       "BP = 0.28654, df = 1, p-value = 0.5924\n"
      ]
     },
     "metadata": {},
     "output_type": "display_data"
    }
   ],
   "source": [
    "## 등분산성 검정\n",
    "bptest(model1)"
   ]
  },
  {
   "cell_type": "code",
   "execution_count": 147,
   "id": "5a9e54f9-cd23-4ba1-976c-8cd213972468",
   "metadata": {
    "jupyter": {
     "source_hidden": true
    }
   },
   "outputs": [
    {
     "data": {
      "text/plain": [
       "\n",
       "\tOne Sample t-test\n",
       "\n",
       "data:  data1$res\n",
       "t = -3.7755e-16, df = 99, p-value = 1\n",
       "alternative hypothesis: true mean is not equal to 0\n",
       "95 percent confidence interval:\n",
       " -0.2902834  0.2902834\n",
       "sample estimates:\n",
       "    mean of x \n",
       "-5.523414e-17 \n"
      ]
     },
     "metadata": {},
     "output_type": "display_data"
    }
   ],
   "source": [
    "## 선형성 검정\n",
    "t.test(data1$res , mu =0 )"
   ]
  },
  {
   "cell_type": "code",
   "execution_count": 148,
   "id": "27481f8c-463c-4f59-866b-dfde554b73c9",
   "metadata": {
    "jupyter": {
     "source_hidden": true
    }
   },
   "outputs": [
    {
     "data": {
      "text/plain": [
       "\n",
       "\tDurbin-Watson test\n",
       "\n",
       "data:  model1\n",
       "DW = 2.2164, p-value = 0.3221\n",
       "alternative hypothesis: true autocorrelation is not 0\n"
      ]
     },
     "metadata": {},
     "output_type": "display_data"
    }
   ],
   "source": [
    "## 독립성 검정\n",
    "dwtest(model1 , alternative = \"two.sided\")"
   ]
  },
  {
   "cell_type": "code",
   "execution_count": 151,
   "id": "0957efbd-8f5a-4791-86ae-61dbe782e8a9",
   "metadata": {
    "jupyter": {
     "source_hidden": true
    }
   },
   "outputs": [
    {
     "data": {
      "text/plain": [
       "\n",
       "\tShapiro-Wilk normality test\n",
       "\n",
       "data:  data1$res\n",
       "W = 0.98926, p-value = 0.6049\n"
      ]
     },
     "metadata": {},
     "output_type": "display_data"
    },
    {
     "data": {
      "image/png": "[encoded data removed]",
      "text/plain": [
       "Plot with title \"Normal Q-Q Plot\""
      ]
     },
     "metadata": {
      "image/png": {
       "height": 420,
       "width": 420
      }
     },
     "output_type": "display_data"
    }
   ],
   "source": [
    "## 정규성 검토\n",
    "qqnorm(data1$res , pch = 16)\n",
    "qqline(data1$res , col = 2)\n",
    "\n",
    "shapiro.test(data1$res)"
   ]
  },
  {
   "cell_type": "markdown",
   "id": "6fc5f84f-691c-4ee2-8b5d-9cd8404abbb0",
   "metadata": {},
   "source": [
    "오차항의 선형성을 검정하기 위해 T-test를 실시하였더니 유의확률이 1이다. 따라서 $H_0 : \\mu = 0 \\, vs. H_1 : \\mu \\neq 0$에서 영가설을 기각하지 못해 잔차의 평균이 0이고, 오차항의 선형성 가정이 만족된다.\n",
    "\n",
    "오차항의 독립성을 검정하기 위해 Durbin-Watson test를 실시하였더니 DW 통계량이 2.2164, 유의확률이 0.3221이다. 따라서 $H_0 : \\rho = 0  \\, vs. H_1 : \\rho \\neq 0$에서 영가설을 기각하지 못해 잔차의 상관계수는 0이고, 오차항의 독립성 가정이 만족된다. \n",
    "\n",
    "오차항의 정규성을 살펴보기 위해 Q-Q plot을 봤더니 대부분의 데이터가 직선과 겹쳐지고 있으므로 오차항의 정규성 가정이 만족된다.\n",
    "\n",
    "오차항의 등분산성을 살펴보기 위해 잔차 도표를 살펴보면 0을 중심으로 움직이고 있으나 t가 커질수록 분산도 커지는 이분산성이 조금 의심되었다. 따라서 Breusch-Pagan의 등분산성 검정을 실시했다. 유의확률이 0.5924이므로 $H_0 : 등분산이다 \\, vs. H_1: 이분산이다$ 에서 영가설을 기각하지 못하여 오차항의 등분산성이 만족된다."
   ]
  },
  {
   "cell_type": "markdown",
   "id": "369f4601-abfb-4822-ae87-f19799184971",
   "metadata": {},
   "source": [
    "#### 2-2) 선형추세모형에서의 예측값"
   ]
  },
  {
   "cell_type": "markdown",
   "id": "2272133d-0713-42b3-b3b4-b14d6b9f6260",
   "metadata": {},
   "source": [
    "선형추세모형에서의 예측값은 $\\hat{Z_n}(l) = \\hat{\\beta_0} + \\hat{\\beta_1} \\times (n+l)$ 이다. <br>\n",
    "따라서 $\\hat{Z_{100}}(l) = 0.8189 + 0.0996 \\times (100 + l)$ 이므로\n",
    "\n",
    "\n",
    "$\\hat{Z_{100}}(1) = 0.8189 + 0.0996 \\times 101 = 10.88$ <br>\n",
    "$\\hat{Z_{100}}(2) = 0.8189 + 0.0996 \\times 102 = 10.98$ <br>\n",
    "$\\hat{Z_{100}}(3) = 0.8189 + 0.0996 \\times 103 = 11.08$ <br>\n",
    "$\\hat{Z_{100}}(4) = 0.8189 + 0.0996 \\times 104 = 11.179$ <br>\n",
    "$\\hat{Z_{100}}(5) = 0.8189 + 0.0996 \\times 105 = 11.279$ <br>\n",
    "$\\hat{Z_{100}}(6) = 0.8189 + 0.0996 \\times 106 = 11.379$ <br>\n",
    "$\\hat{Z_{100}}(7) = 0.8189 + 0.0996 \\times 107 = 11.478$ <br>\n",
    "$\\hat{Z_{100}}(8) = 0.8189 + 0.0996 \\times 108 = 11.578$ <br>\n",
    "$\\hat{Z_{100}}(9) = 0.8189 + 0.0996 \\times 109 = 11.677$ <br>\n",
    "$\\hat{Z_{100}}(10) = 0.8189 + 0.0996 \\times 110 = 11.777$ 이다."
   ]
  },
  {
   "cell_type": "code",
   "execution_count": 249,
   "id": "415828e8-d8ab-47a5-a50d-9d0c0ffc6b50",
   "metadata": {
    "jupyter": {
     "source_hidden": true
    }
   },
   "outputs": [
    {
     "data": {
      "text/html": [
       "<style>\n",
       ".list-inline {list-style: none; margin:0; padding: 0}\n",
       ".list-inline>li {display: inline-block}\n",
       ".list-inline>li:not(:last-child)::after {content: \"\\00b7\"; padding: 0 .5ex}\n",
       "</style>\n",
       "<ol class=list-inline><li>10.88</li><li>10.98</li><li>11.08</li><li>11.179</li><li>11.279</li><li>11.379</li><li>11.478</li><li>11.578</li><li>11.677</li><li>11.777</li></ol>\n"
      ],
      "text/latex": [
       "\\begin{enumerate*}\n",
       "\\item 10.88\n",
       "\\item 10.98\n",
       "\\item 11.08\n",
       "\\item 11.179\n",
       "\\item 11.279\n",
       "\\item 11.379\n",
       "\\item 11.478\n",
       "\\item 11.578\n",
       "\\item 11.677\n",
       "\\item 11.777\n",
       "\\end{enumerate*}\n"
      ],
      "text/markdown": [
       "1. 10.88\n",
       "2. 10.98\n",
       "3. 11.08\n",
       "4. 11.179\n",
       "5. 11.279\n",
       "6. 11.379\n",
       "7. 11.478\n",
       "8. 11.578\n",
       "9. 11.677\n",
       "10. 11.777\n",
       "\n",
       "\n"
      ],
      "text/plain": [
       " [1] 10.880 10.980 11.080 11.179 11.279 11.379 11.478 11.578 11.677 11.777"
      ]
     },
     "metadata": {},
     "output_type": "display_data"
    }
   ],
   "source": [
    "beta0 = coef(model1)[1]\n",
    "beta1 = coef(model1)[2]\n",
    "\n",
    "pred1 = beta0 + beta1*(101:110)\n",
    "round(pred1,3)"
   ]
  },
  {
   "cell_type": "markdown",
   "id": "832078c4-9e33-4de0-b9bb-3ec802571702",
   "metadata": {},
   "source": [
    "#### 2-3) 이중지수평활법 적합과 잔차분석"
   ]
  },
  {
   "cell_type": "code",
   "execution_count": 167,
   "id": "30b04204-0717-43e6-aadc-0e4f6fe3d28e",
   "metadata": {
    "jupyter": {
     "source_hidden": true
    }
   },
   "outputs": [
    {
     "data": {
      "text/html": [
       "<table class=\"dataframe\">\n",
       "<caption>A data.table: 6 × 4</caption>\n",
       "<thead>\n",
       "\t<tr><th scope=col>t</th><th scope=col>z</th><th scope=col>fitted</th><th scope=col>res</th></tr>\n",
       "\t<tr><th scope=col>&lt;int&gt;</th><th scope=col>&lt;dbl&gt;</th><th scope=col>&lt;dbl&gt;</th><th scope=col>&lt;dbl&gt;</th></tr>\n",
       "</thead>\n",
       "<tbody>\n",
       "\t<tr><td>1</td><td>-1.5346871</td><td>0.918551</td><td>-2.4532381</td></tr>\n",
       "\t<tr><td>2</td><td> 2.6850469</td><td>1.018170</td><td> 1.6668770</td></tr>\n",
       "\t<tr><td>3</td><td>-0.4288189</td><td>1.117789</td><td>-1.5466077</td></tr>\n",
       "\t<tr><td>4</td><td> 1.3724199</td><td>1.217408</td><td> 0.1550122</td></tr>\n",
       "\t<tr><td>5</td><td>-0.9800884</td><td>1.317027</td><td>-2.2971150</td></tr>\n",
       "\t<tr><td>6</td><td> 2.4156505</td><td>1.416646</td><td> 0.9990050</td></tr>\n",
       "</tbody>\n",
       "</table>\n"
      ],
      "text/latex": [
       "A data.table: 6 × 4\n",
       "\\begin{tabular}{llll}\n",
       " t & z & fitted & res\\\\\n",
       " <int> & <dbl> & <dbl> & <dbl>\\\\\n",
       "\\hline\n",
       "\t 1 & -1.5346871 & 0.918551 & -2.4532381\\\\\n",
       "\t 2 &  2.6850469 & 1.018170 &  1.6668770\\\\\n",
       "\t 3 & -0.4288189 & 1.117789 & -1.5466077\\\\\n",
       "\t 4 &  1.3724199 & 1.217408 &  0.1550122\\\\\n",
       "\t 5 & -0.9800884 & 1.317027 & -2.2971150\\\\\n",
       "\t 6 &  2.4156505 & 1.416646 &  0.9990050\\\\\n",
       "\\end{tabular}\n"
      ],
      "text/markdown": [
       "\n",
       "A data.table: 6 × 4\n",
       "\n",
       "| t &lt;int&gt; | z &lt;dbl&gt; | fitted &lt;dbl&gt; | res &lt;dbl&gt; |\n",
       "|---|---|---|---|\n",
       "| 1 | -1.5346871 | 0.918551 | -2.4532381 |\n",
       "| 2 |  2.6850469 | 1.018170 |  1.6668770 |\n",
       "| 3 | -0.4288189 | 1.117789 | -1.5466077 |\n",
       "| 4 |  1.3724199 | 1.217408 |  0.1550122 |\n",
       "| 5 | -0.9800884 | 1.317027 | -2.2971150 |\n",
       "| 6 |  2.4156505 | 1.416646 |  0.9990050 |\n",
       "\n"
      ],
      "text/plain": [
       "  t z          fitted   res       \n",
       "1 1 -1.5346871 0.918551 -2.4532381\n",
       "2 2  2.6850469 1.018170  1.6668770\n",
       "3 3 -0.4288189 1.117789 -1.5466077\n",
       "4 4  1.3724199 1.217408  0.1550122\n",
       "5 5 -0.9800884 1.317027 -2.2971150\n",
       "6 6  2.4156505 1.416646  0.9990050"
      ]
     },
     "metadata": {},
     "output_type": "display_data"
    }
   ],
   "source": [
    "data1 %>% head"
   ]
  },
  {
   "cell_type": "code",
   "execution_count": 210,
   "id": "42563b65-98ce-4a11-a314-60391c1f8c43",
   "metadata": {
    "jupyter": {
     "source_hidden": true
    }
   },
   "outputs": [
    {
     "data": {
      "text/plain": [
       "Holt's method \n",
       "\n",
       "Call:\n",
       " holt(y = data1$z, h = 10) \n",
       "\n",
       "  Smoothing parameters:\n",
       "    alpha = 0.0427 \n",
       "    beta  = 1e-04 \n",
       "\n",
       "  Initial states:\n",
       "    l = 0.1376 \n",
       "    b = 0.1041 \n",
       "\n",
       "  sigma:  1.5238\n",
       "\n",
       "     AIC     AICc      BIC \n",
       "550.6720 551.3103 563.6979 "
      ]
     },
     "metadata": {},
     "output_type": "display_data"
    }
   ],
   "source": [
    "model2 = holt(data1$z , h=10)\n",
    "model2$model ## alpha, beta는 자체적으로 추정하도록 함"
   ]
  },
  {
   "cell_type": "code",
   "execution_count": 212,
   "id": "c2cc6240-b794-4136-89d9-4c874777d5c6",
   "metadata": {
    "jupyter": {
     "source_hidden": true
    }
   },
   "outputs": [
    {
     "data": {
      "text/html": [
       "A Time Series:<br><style>\n",
       ".list-inline {list-style: none; margin:0; padding: 0}\n",
       ".list-inline>li {display: inline-block}\n",
       ".list-inline>li:not(:last-child)::after {content: \"\\00b7\"; padding: 0 .5ex}\n",
       "</style>\n",
       "<ol class=list-inline><li>0.241724643132792</li><li>0.269839295501642</li><li>0.477157550653013</li><li>0.542586547343713</li><li>0.682209299226296</li><li>0.715263752050705</li></ol>\n"
      ],
      "text/latex": [
       "A Time Series:\\\\\\begin{enumerate*}\n",
       "\\item 0.241724643132792\n",
       "\\item 0.269839295501642\n",
       "\\item 0.477157550653013\n",
       "\\item 0.542586547343713\n",
       "\\item 0.682209299226296\n",
       "\\item 0.715263752050705\n",
       "\\end{enumerate*}\n"
      ],
      "text/markdown": [
       "A Time Series:  \n",
       "1. 0.241724643132792\n",
       "2. 0.269839295501642\n",
       "3. 0.477157550653013\n",
       "4. 0.542586547343713\n",
       "5. 0.682209299226296\n",
       "6. 0.715263752050705\n",
       "\n",
       "\n"
      ],
      "text/plain": [
       "A Time Series:\n",
       "[1] 0.2417246 0.2698393 0.4771576 0.5425865 0.6822093 0.7152638"
      ]
     },
     "metadata": {},
     "output_type": "display_data"
    }
   ],
   "source": [
    "model2$fitted %>% head"
   ]
  },
  {
   "cell_type": "code",
   "execution_count": 217,
   "id": "a61758d4-ac2a-41f3-bfc8-ee3451f271c8",
   "metadata": {
    "jupyter": {
     "source_hidden": true
    }
   },
   "outputs": [
    {
     "data": {
      "image/png": "[encoded data removed]",
      "text/plain": [
       "Plot with title \"raw data vs. fitted value(이중지수평활법)\""
      ]
     },
     "metadata": {
      "image/png": {
       "height": 420,
       "width": 420
      }
     },
     "output_type": "display_data"
    }
   ],
   "source": [
    "plot(model2 , xlab = \"t\" , ylab = \"Zt\" , \n",
    "    main = \"raw data vs. fitted value(이중지수평활법)\")\n",
    "lines(fitted(model2), col= \"red\")"
   ]
  },
  {
   "cell_type": "markdown",
   "id": "68f40d4f-fd1f-495b-a2bb-331333a67ec2",
   "metadata": {},
   "source": [
    "초기평활값 $S_0^{(1)} = 0.1376, S_0^{(2)}=0.1041$이다. 평활상수는 $\\alpha = 0.0427 , \\beta = 1e-04$ 가 사용되었다. 적합된 선이 원데이터에서 추세를 잘 따라가고 있는 것처럼 보인다."
   ]
  },
  {
   "cell_type": "code",
   "execution_count": 224,
   "id": "e120fde9-e138-4867-b88a-e9289329e0bc",
   "metadata": {
    "jupyter": {
     "source_hidden": true
    }
   },
   "outputs": [
    {
     "data": {
      "image/png": "[encoded data removed]",
      "text/plain": [
       "Plot with title \"잔차 도표\""
      ]
     },
     "metadata": {
      "image/png": {
       "height": 420,
       "width": 420
      }
     },
     "output_type": "display_data"
    }
   ],
   "source": [
    "#### 잔차분석\n",
    "## 등분산성 검토\n",
    "plot(resid(model2) , type = \"l\" , xlab = \"t\" , ylab = \"residuals\" , \n",
    "    main = \"잔차 도표\")\n",
    "abline(h = 0 , lty =2 , col= \"grey\")"
   ]
  },
  {
   "cell_type": "code",
   "execution_count": 225,
   "id": "87b354c8-5bd8-40ef-8cdf-6937356a5433",
   "metadata": {
    "jupyter": {
     "source_hidden": true
    }
   },
   "outputs": [
    {
     "data": {
      "text/plain": [
       "\n",
       "\tOne Sample t-test\n",
       "\n",
       "data:  resid(model2)\n",
       "t = 0.39227, df = 99, p-value = 0.6957\n",
       "alternative hypothesis: true mean is not equal to 0\n",
       "95 percent confidence interval:\n",
       " -0.2386872  0.3563151\n",
       "sample estimates:\n",
       " mean of x \n",
       "0.05881397 \n"
      ]
     },
     "metadata": {},
     "output_type": "display_data"
    }
   ],
   "source": [
    "## 선형성 검정\n",
    "t.test(resid(model2) , mu = 0)"
   ]
  },
  {
   "cell_type": "code",
   "execution_count": 226,
   "id": "08b59af8-0971-457a-abd7-b1a20a522bca",
   "metadata": {
    "jupyter": {
     "source_hidden": true
    }
   },
   "outputs": [
    {
     "data": {
      "text/plain": [
       "\n",
       "\tDurbin-Watson test\n",
       "\n",
       "data:  lm(resid(model2) ~ 1)\n",
       "DW = 2.203, p-value = 0.8474\n",
       "alternative hypothesis: true autocorrelation is greater than 0\n"
      ]
     },
     "metadata": {},
     "output_type": "display_data"
    }
   ],
   "source": [
    "## 독립성 검정\n",
    "dwtest(lm(resid(model2)~1))"
   ]
  },
  {
   "cell_type": "code",
   "execution_count": 227,
   "id": "80c4057e-af20-45d3-b96c-f76a5cb9b667",
   "metadata": {
    "jupyter": {
     "source_hidden": true
    }
   },
   "outputs": [
    {
     "data": {
      "text/plain": [
       "\n",
       "\tShapiro-Wilk normality test\n",
       "\n",
       "data:  resid(model2)\n",
       "W = 0.98994, p-value = 0.6598\n"
      ]
     },
     "metadata": {},
     "output_type": "display_data"
    },
    {
     "data": {
      "image/png": "[encoded data removed]",
      "text/plain": [
       "Plot with title \"Normal Q-Q Plot\""
      ]
     },
     "metadata": {
      "image/png": {
       "height": 420,
       "width": 420
      }
     },
     "output_type": "display_data"
    }
   ],
   "source": [
    "## 정규성 검토\n",
    "qqnorm(resid(model2))\n",
    "qqline(resid(model2))\n",
    "\n",
    "shapiro.test(resid(model2))"
   ]
  },
  {
   "cell_type": "markdown",
   "id": "1e062509-057e-420d-8ef2-f9f4c7526efb",
   "metadata": {},
   "source": [
    "오차항의 선형성을 검정하기 위해 T-test를 실시하였더니 유의확률이 0.6957이다. 따라서 $H_0 : \\mu = 0 \\, vs. H_1 : \\mu \\neq 0$에서 영가설을 기각하지 못해 잔차의 평균이 0이고, 오차항의 선형성 가정이 만족된다.\n",
    "\n",
    "오차항의 독립성을 검정하기 위해 Durbin-Watson test를 실시하였더니 DW 통계량이 2.203, 유의확률이 0.8474이다. 따라서 $H_0 : \\rho = 0  \\, vs. H_1 : \\rho \\neq 0$에서 영가설을 기각하지 못해 잔차의 상관계수는 0이고, 오차항의 독립성 가정이 만족된다. \n",
    "\n",
    "오차항의 정규성을 살펴보기 위해 Q-Q plot을 봤더니 대부분의 데이터가 직선과 겹쳐지고 있으므로 오차항의 정규성 가정이 만족된다. \n",
    "\n",
    "오차항의 등분산성을 살펴보기 위해 잔차 도표를 살펴보면 일정한 범위 내에서 0을 중심으로 움직이고 있으며, 선형추세모형의 잔차 도표와 비교했을 때 이분산성처럼 보였던 분산 변동이 완화된 것처럼 보인다. 따라서 오차항의 등분산성 가정이 만족된 것처럼 보인다."
   ]
  },
  {
   "cell_type": "markdown",
   "id": "b843b050-c761-4342-aa0e-448cd3e58a7f",
   "metadata": {},
   "source": [
    "#### 2-4) 이중지수평활모형에서의 예측값"
   ]
  },
  {
   "cell_type": "markdown",
   "id": "fc9aa50a-ec4f-40cf-82e6-31861e3c851f",
   "metadata": {},
   "source": [
    "이중지수평활 모형에서 예측값은 $\\hat{Z_n}(l) = \\hat{\\beta_{0,n}} + \\hat{\\beta_{1,n}}\\times (n+l)$이다.\n",
    "\n",
    "위의 이중지수평활모형으로 예측된 값은 \n",
    "\n",
    "$\\hat{Z_{100}}(1) = 10.990$ <br>\n",
    "$\\hat{Z_{100}}(2) = 11.095$ <br>\n",
    "$\\hat{Z_{100}}(3) = 11.200$ <br>\n",
    "$\\hat{Z_{100}}(4) = 11.304$ <br>\n",
    "$\\hat{Z_{100}}(5) = 11.409$ <br>\n",
    "$\\hat{Z_{100}}(6) = 11.514$ <br>\n",
    "$\\hat{Z_{100}}(7) = 11.618$ <br>\n",
    "$\\hat{Z_{100}}(8) = 11.723$ <br>\n",
    "$\\hat{Z_{100}}(9) = 11.828$ <br>\n",
    "$\\hat{Z_{100}}(10) = 11.933$ 이다. "
   ]
  },
  {
   "cell_type": "code",
   "execution_count": 255,
   "id": "027d412d-1a57-4e15-9799-0b44a8028f60",
   "metadata": {
    "jupyter": {
     "source_hidden": true
    }
   },
   "outputs": [
    {
     "data": {
      "text/html": [
       "<table class=\"dataframe\">\n",
       "<caption>A data.table: 10 × 1</caption>\n",
       "<thead>\n",
       "\t<tr><th scope=col>Point Forecast</th></tr>\n",
       "\t<tr><th scope=col>&lt;dbl&gt;</th></tr>\n",
       "</thead>\n",
       "<tbody>\n",
       "\t<tr><td>10.990</td></tr>\n",
       "\t<tr><td>11.095</td></tr>\n",
       "\t<tr><td>11.200</td></tr>\n",
       "\t<tr><td>11.304</td></tr>\n",
       "\t<tr><td>11.409</td></tr>\n",
       "\t<tr><td>11.514</td></tr>\n",
       "\t<tr><td>11.618</td></tr>\n",
       "\t<tr><td>11.723</td></tr>\n",
       "\t<tr><td>11.828</td></tr>\n",
       "\t<tr><td>11.933</td></tr>\n",
       "</tbody>\n",
       "</table>\n"
      ],
      "text/latex": [
       "A data.table: 10 × 1\n",
       "\\begin{tabular}{l}\n",
       " Point Forecast\\\\\n",
       " <dbl>\\\\\n",
       "\\hline\n",
       "\t 10.990\\\\\n",
       "\t 11.095\\\\\n",
       "\t 11.200\\\\\n",
       "\t 11.304\\\\\n",
       "\t 11.409\\\\\n",
       "\t 11.514\\\\\n",
       "\t 11.618\\\\\n",
       "\t 11.723\\\\\n",
       "\t 11.828\\\\\n",
       "\t 11.933\\\\\n",
       "\\end{tabular}\n"
      ],
      "text/markdown": [
       "\n",
       "A data.table: 10 × 1\n",
       "\n",
       "| Point Forecast &lt;dbl&gt; |\n",
       "|---|\n",
       "| 10.990 |\n",
       "| 11.095 |\n",
       "| 11.200 |\n",
       "| 11.304 |\n",
       "| 11.409 |\n",
       "| 11.514 |\n",
       "| 11.618 |\n",
       "| 11.723 |\n",
       "| 11.828 |\n",
       "| 11.933 |\n",
       "\n"
      ],
      "text/plain": [
       "   Point Forecast\n",
       "1  10.990        \n",
       "2  11.095        \n",
       "3  11.200        \n",
       "4  11.304        \n",
       "5  11.409        \n",
       "6  11.514        \n",
       "7  11.618        \n",
       "8  11.723        \n",
       "9  11.828        \n",
       "10 11.933        "
      ]
     },
     "metadata": {},
     "output_type": "display_data"
    }
   ],
   "source": [
    "pred2 = as.data.table(predict(model2))[,1]\n",
    "pred2 = as.vector(pred2)\n",
    "round(pred2,3)"
   ]
  },
  {
   "cell_type": "markdown",
   "id": "8fef4102-5c93-4c0f-b2f4-7e8c4d570da0",
   "metadata": {},
   "source": [
    "#### 2-4) `data1_new.csv`"
   ]
  },
  {
   "cell_type": "code",
   "execution_count": 259,
   "id": "1689ca9b-97cb-462b-b02a-14ee9c95058a",
   "metadata": {
    "jupyter": {
     "source_hidden": true
    }
   },
   "outputs": [
    {
     "data": {
      "text/html": [
       "<table class=\"dataframe\">\n",
       "<caption>A data.frame: 10 × 2</caption>\n",
       "<thead>\n",
       "\t<tr><th scope=col>t</th><th scope=col>z</th></tr>\n",
       "\t<tr><th scope=col>&lt;int&gt;</th><th scope=col>&lt;dbl&gt;</th></tr>\n",
       "</thead>\n",
       "<tbody>\n",
       "\t<tr><td>101</td><td>11.577471</td></tr>\n",
       "\t<tr><td>102</td><td>13.171004</td></tr>\n",
       "\t<tr><td>103</td><td>12.730258</td></tr>\n",
       "\t<tr><td>104</td><td>12.242375</td></tr>\n",
       "\t<tr><td>105</td><td>10.877077</td></tr>\n",
       "\t<tr><td>106</td><td>13.297355</td></tr>\n",
       "\t<tr><td>107</td><td>14.632224</td></tr>\n",
       "\t<tr><td>108</td><td>15.049088</td></tr>\n",
       "\t<tr><td>109</td><td> 9.671734</td></tr>\n",
       "\t<tr><td>110</td><td>12.216420</td></tr>\n",
       "</tbody>\n",
       "</table>\n"
      ],
      "text/latex": [
       "A data.frame: 10 × 2\n",
       "\\begin{tabular}{ll}\n",
       " t & z\\\\\n",
       " <int> & <dbl>\\\\\n",
       "\\hline\n",
       "\t 101 & 11.577471\\\\\n",
       "\t 102 & 13.171004\\\\\n",
       "\t 103 & 12.730258\\\\\n",
       "\t 104 & 12.242375\\\\\n",
       "\t 105 & 10.877077\\\\\n",
       "\t 106 & 13.297355\\\\\n",
       "\t 107 & 14.632224\\\\\n",
       "\t 108 & 15.049088\\\\\n",
       "\t 109 &  9.671734\\\\\n",
       "\t 110 & 12.216420\\\\\n",
       "\\end{tabular}\n"
      ],
      "text/markdown": [
       "\n",
       "A data.frame: 10 × 2\n",
       "\n",
       "| t &lt;int&gt; | z &lt;dbl&gt; |\n",
       "|---|---|\n",
       "| 101 | 11.577471 |\n",
       "| 102 | 13.171004 |\n",
       "| 103 | 12.730258 |\n",
       "| 104 | 12.242375 |\n",
       "| 105 | 10.877077 |\n",
       "| 106 | 13.297355 |\n",
       "| 107 | 14.632224 |\n",
       "| 108 | 15.049088 |\n",
       "| 109 |  9.671734 |\n",
       "| 110 | 12.216420 |\n",
       "\n"
      ],
      "text/plain": [
       "   t   z        \n",
       "1  101 11.577471\n",
       "2  102 13.171004\n",
       "3  103 12.730258\n",
       "4  104 12.242375\n",
       "5  105 10.877077\n",
       "6  106 13.297355\n",
       "7  107 14.632224\n",
       "8  108 15.049088\n",
       "9  109  9.671734\n",
       "10 110 12.216420"
      ]
     },
     "metadata": {},
     "output_type": "display_data"
    }
   ],
   "source": [
    "data1_new = read.csv(\"data1_new.csv\")\n",
    "data1_new = data1_new[ , -1]\n",
    "data1_new"
   ]
  },
  {
   "cell_type": "code",
   "execution_count": 277,
   "id": "ceec17c9-87bf-4efc-94e6-cdcf3c617c89",
   "metadata": {
    "jupyter": {
     "source_hidden": true
    }
   },
   "outputs": [
    {
     "name": "stdout",
     "output_type": "stream",
     "text": [
      "[1] \"선형추세모형에서의 오차합: 39.198\"\n",
      "[1] \"이중지수평활모형에서의 오차합: 36.218\"\n"
     ]
    }
   ],
   "source": [
    "## 선형추세모형\n",
    "sse1 = (data1_new$z - pred1)**2 %>% sum\n",
    "\n",
    "## 이중지수평활모형\n",
    "sse2 = (data1_new$z - pred2)**2 %>% sum\n",
    "\n",
    "print(paste(\"선형추세모형에서의 오차합:\" , round(sse1,3)))\n",
    "print(paste(\"이중지수평활모형에서의 오차합:\", round(sse2,3)))"
   ]
  },
  {
   "cell_type": "markdown",
   "id": "34a81377-bdb1-4935-b9a1-f2fca2e6590e",
   "metadata": {},
   "source": [
    "어떤 모형이 더 예측을 잘 했는지 보기 위해 새로운 데이터와 예측한 값에 대한 오차합(실제값-예측값 의 합)을 보았다.\n",
    "선형추세모형에서의 오차합은 39.198 이고, 이중지수평활모형에서의 오차합은 36.218이므로 오차합이 더 작은 이중지수평활모형이 예측을 목적으로 할 때 더 적합하다."
   ]
  },
  {
   "cell_type": "markdown",
   "id": "5f2600d2-ad68-4938-a702-1cf6afe5b89c",
   "metadata": {},
   "source": [
    "----"
   ]
  },
  {
   "cell_type": "markdown",
   "id": "e3659ad2-1789-4f30-8926-1bbafd55c0a3",
   "metadata": {},
   "source": [
    "### 3. `usapass.txt`\n",
    "\n",
    "미국 월별 비행기 승객 수(단위: 천 명)의 시계열 자료이다."
   ]
  },
  {
   "cell_type": "code",
   "execution_count": 313,
   "id": "d565aa7f-2de6-41ae-98e9-a720a644304c",
   "metadata": {
    "jupyter": {
     "source_hidden": true
    }
   },
   "outputs": [
    {
     "data": {
      "text/html": [
       "<table class=\"dataframe\">\n",
       "<caption>A Time Series: 12 × 12</caption>\n",
       "<thead>\n",
       "\t<tr><th></th><th scope=col>Jan</th><th scope=col>Feb</th><th scope=col>Mar</th><th scope=col>Apr</th><th scope=col>May</th><th scope=col>Jun</th><th scope=col>Jul</th><th scope=col>Aug</th><th scope=col>Sep</th><th scope=col>Oct</th><th scope=col>Nov</th><th scope=col>Dec</th></tr>\n",
       "</thead>\n",
       "<tbody>\n",
       "\t<tr><th scope=row>2000</th><td>112</td><td>118</td><td>132</td><td>129</td><td>121</td><td>135</td><td>148</td><td>148</td><td>136</td><td>119</td><td>104</td><td>118</td></tr>\n",
       "\t<tr><th scope=row>2001</th><td>115</td><td>126</td><td>141</td><td>135</td><td>125</td><td>149</td><td>170</td><td>170</td><td>158</td><td>133</td><td>114</td><td>140</td></tr>\n",
       "\t<tr><th scope=row>2002</th><td>145</td><td>150</td><td>178</td><td>163</td><td>172</td><td>178</td><td>199</td><td>199</td><td>184</td><td>162</td><td>146</td><td>166</td></tr>\n",
       "\t<tr><th scope=row>2003</th><td>171</td><td>180</td><td>193</td><td>181</td><td>183</td><td>218</td><td>230</td><td>242</td><td>209</td><td>191</td><td>172</td><td>194</td></tr>\n",
       "\t<tr><th scope=row>2004</th><td>196</td><td>196</td><td>236</td><td>235</td><td>229</td><td>243</td><td>264</td><td>272</td><td>237</td><td>211</td><td>180</td><td>201</td></tr>\n",
       "\t<tr><th scope=row>2005</th><td>204</td><td>188</td><td>235</td><td>227</td><td>234</td><td>264</td><td>302</td><td>293</td><td>258</td><td>229</td><td>203</td><td>229</td></tr>\n",
       "\t<tr><th scope=row>2006</th><td>242</td><td>233</td><td>267</td><td>269</td><td>270</td><td>315</td><td>364</td><td>347</td><td>312</td><td>274</td><td>237</td><td>278</td></tr>\n",
       "\t<tr><th scope=row>2007</th><td>284</td><td>277</td><td>317</td><td>313</td><td>318</td><td>374</td><td>413</td><td>405</td><td>355</td><td>306</td><td>271</td><td>306</td></tr>\n",
       "\t<tr><th scope=row>2008</th><td>315</td><td>301</td><td>362</td><td>348</td><td>363</td><td>435</td><td>491</td><td>505</td><td>404</td><td>359</td><td>310</td><td>337</td></tr>\n",
       "\t<tr><th scope=row>2009</th><td>340</td><td>318</td><td>362</td><td>348</td><td>363</td><td>435</td><td>491</td><td>505</td><td>404</td><td>359</td><td>310</td><td>337</td></tr>\n",
       "\t<tr><th scope=row>2010</th><td>360</td><td>342</td><td>406</td><td>396</td><td>420</td><td>472</td><td>548</td><td>559</td><td>463</td><td>407</td><td>362</td><td>405</td></tr>\n",
       "\t<tr><th scope=row>2011</th><td>417</td><td>391</td><td>419</td><td>461</td><td>472</td><td>535</td><td>622</td><td>606</td><td>508</td><td>461</td><td>390</td><td>432</td></tr>\n",
       "</tbody>\n",
       "</table>\n"
      ],
      "text/latex": [
       "A Time Series: 12 × 12\n",
       "\\begin{tabular}{r|llllllllllll}\n",
       "  & Jan & Feb & Mar & Apr & May & Jun & Jul & Aug & Sep & Oct & Nov & Dec\\\\\n",
       "\\hline\n",
       "\t2000 & 112 & 118 & 132 & 129 & 121 & 135 & 148 & 148 & 136 & 119 & 104 & 118\\\\\n",
       "\t2001 & 115 & 126 & 141 & 135 & 125 & 149 & 170 & 170 & 158 & 133 & 114 & 140\\\\\n",
       "\t2002 & 145 & 150 & 178 & 163 & 172 & 178 & 199 & 199 & 184 & 162 & 146 & 166\\\\\n",
       "\t2003 & 171 & 180 & 193 & 181 & 183 & 218 & 230 & 242 & 209 & 191 & 172 & 194\\\\\n",
       "\t2004 & 196 & 196 & 236 & 235 & 229 & 243 & 264 & 272 & 237 & 211 & 180 & 201\\\\\n",
       "\t2005 & 204 & 188 & 235 & 227 & 234 & 264 & 302 & 293 & 258 & 229 & 203 & 229\\\\\n",
       "\t2006 & 242 & 233 & 267 & 269 & 270 & 315 & 364 & 347 & 312 & 274 & 237 & 278\\\\\n",
       "\t2007 & 284 & 277 & 317 & 313 & 318 & 374 & 413 & 405 & 355 & 306 & 271 & 306\\\\\n",
       "\t2008 & 315 & 301 & 362 & 348 & 363 & 435 & 491 & 505 & 404 & 359 & 310 & 337\\\\\n",
       "\t2009 & 340 & 318 & 362 & 348 & 363 & 435 & 491 & 505 & 404 & 359 & 310 & 337\\\\\n",
       "\t2010 & 360 & 342 & 406 & 396 & 420 & 472 & 548 & 559 & 463 & 407 & 362 & 405\\\\\n",
       "\t2011 & 417 & 391 & 419 & 461 & 472 & 535 & 622 & 606 & 508 & 461 & 390 & 432\\\\\n",
       "\\end{tabular}\n"
      ],
      "text/markdown": [
       "\n",
       "A Time Series: 12 × 12\n",
       "\n",
       "| <!--/--> | Jan | Feb | Mar | Apr | May | Jun | Jul | Aug | Sep | Oct | Nov | Dec |\n",
       "|---|---|---|---|---|---|---|---|---|---|---|---|---|\n",
       "| 2000 | 112 | 118 | 132 | 129 | 121 | 135 | 148 | 148 | 136 | 119 | 104 | 118 |\n",
       "| 2001 | 115 | 126 | 141 | 135 | 125 | 149 | 170 | 170 | 158 | 133 | 114 | 140 |\n",
       "| 2002 | 145 | 150 | 178 | 163 | 172 | 178 | 199 | 199 | 184 | 162 | 146 | 166 |\n",
       "| 2003 | 171 | 180 | 193 | 181 | 183 | 218 | 230 | 242 | 209 | 191 | 172 | 194 |\n",
       "| 2004 | 196 | 196 | 236 | 235 | 229 | 243 | 264 | 272 | 237 | 211 | 180 | 201 |\n",
       "| 2005 | 204 | 188 | 235 | 227 | 234 | 264 | 302 | 293 | 258 | 229 | 203 | 229 |\n",
       "| 2006 | 242 | 233 | 267 | 269 | 270 | 315 | 364 | 347 | 312 | 274 | 237 | 278 |\n",
       "| 2007 | 284 | 277 | 317 | 313 | 318 | 374 | 413 | 405 | 355 | 306 | 271 | 306 |\n",
       "| 2008 | 315 | 301 | 362 | 348 | 363 | 435 | 491 | 505 | 404 | 359 | 310 | 337 |\n",
       "| 2009 | 340 | 318 | 362 | 348 | 363 | 435 | 491 | 505 | 404 | 359 | 310 | 337 |\n",
       "| 2010 | 360 | 342 | 406 | 396 | 420 | 472 | 548 | 559 | 463 | 407 | 362 | 405 |\n",
       "| 2011 | 417 | 391 | 419 | 461 | 472 | 535 | 622 | 606 | 508 | 461 | 390 | 432 |\n",
       "\n"
      ],
      "text/plain": [
       "     Jan Feb Mar Apr May Jun Jul Aug Sep Oct Nov Dec\n",
       "2000 112 118 132 129 121 135 148 148 136 119 104 118\n",
       "2001 115 126 141 135 125 149 170 170 158 133 114 140\n",
       "2002 145 150 178 163 172 178 199 199 184 162 146 166\n",
       "2003 171 180 193 181 183 218 230 242 209 191 172 194\n",
       "2004 196 196 236 235 229 243 264 272 237 211 180 201\n",
       "2005 204 188 235 227 234 264 302 293 258 229 203 229\n",
       "2006 242 233 267 269 270 315 364 347 312 274 237 278\n",
       "2007 284 277 317 313 318 374 413 405 355 306 271 306\n",
       "2008 315 301 362 348 363 435 491 505 404 359 310 337\n",
       "2009 340 318 362 348 363 435 491 505 404 359 310 337\n",
       "2010 360 342 406 396 420 472 548 559 463 407 362 405\n",
       "2011 417 391 419 461 472 535 622 606 508 461 390 432"
      ]
     },
     "metadata": {},
     "output_type": "display_data"
    }
   ],
   "source": [
    "data = scan(\"usapass.txt\")\n",
    "usapass = ts(data , frequency = 12 , start = c(2000,1))\n",
    "usapass"
   ]
  },
  {
   "cell_type": "code",
   "execution_count": 314,
   "id": "08a187df-f1c9-49bf-ae97-fc73b3ac9b43",
   "metadata": {
    "jupyter": {
     "source_hidden": true
    }
   },
   "outputs": [
    {
     "data": {
      "image/png": "[encoded data removed]",
      "text/plain": [
       "Plot with title \"월별 비행기 승객 수 Time Series Plot\""
      ]
     },
     "metadata": {
      "image/png": {
       "height": 420,
       "width": 420
      }
     },
     "output_type": "display_data"
    }
   ],
   "source": [
    "plot(usapass , xlab = \"t\" , ylab = \"Zt\" , main = \"월별 비행기 승객 수 Time Series Plot\")"
   ]
  },
  {
   "cell_type": "code",
   "execution_count": 315,
   "id": "20f0cf9b-3e84-4333-a6f1-68b556ae70f0",
   "metadata": {
    "jupyter": {
     "source_hidden": true
    }
   },
   "outputs": [
    {
     "data": {
      "text/html": [
       "<table class=\"dataframe\">\n",
       "<caption>A data.table: 6 × 2</caption>\n",
       "<thead>\n",
       "\t<tr><th scope=col>day</th><th scope=col>usapass</th></tr>\n",
       "\t<tr><th scope=col>&lt;date&gt;</th><th scope=col>&lt;dbl&gt;</th></tr>\n",
       "</thead>\n",
       "<tbody>\n",
       "\t<tr><td>2000-01-01</td><td>112</td></tr>\n",
       "\t<tr><td>2000-02-01</td><td>118</td></tr>\n",
       "\t<tr><td>2000-03-01</td><td>132</td></tr>\n",
       "\t<tr><td>2000-04-01</td><td>129</td></tr>\n",
       "\t<tr><td>2000-05-01</td><td>121</td></tr>\n",
       "\t<tr><td>2000-06-01</td><td>135</td></tr>\n",
       "</tbody>\n",
       "</table>\n"
      ],
      "text/latex": [
       "A data.table: 6 × 2\n",
       "\\begin{tabular}{ll}\n",
       " day & usapass\\\\\n",
       " <date> & <dbl>\\\\\n",
       "\\hline\n",
       "\t 2000-01-01 & 112\\\\\n",
       "\t 2000-02-01 & 118\\\\\n",
       "\t 2000-03-01 & 132\\\\\n",
       "\t 2000-04-01 & 129\\\\\n",
       "\t 2000-05-01 & 121\\\\\n",
       "\t 2000-06-01 & 135\\\\\n",
       "\\end{tabular}\n"
      ],
      "text/markdown": [
       "\n",
       "A data.table: 6 × 2\n",
       "\n",
       "| day &lt;date&gt; | usapass &lt;dbl&gt; |\n",
       "|---|---|\n",
       "| 2000-01-01 | 112 |\n",
       "| 2000-02-01 | 118 |\n",
       "| 2000-03-01 | 132 |\n",
       "| 2000-04-01 | 129 |\n",
       "| 2000-05-01 | 121 |\n",
       "| 2000-06-01 | 135 |\n",
       "\n"
      ],
      "text/plain": [
       "  day        usapass\n",
       "1 2000-01-01 112    \n",
       "2 2000-02-01 118    \n",
       "3 2000-03-01 132    \n",
       "4 2000-04-01 129    \n",
       "5 2000-05-01 121    \n",
       "6 2000-06-01 135    "
      ]
     },
     "metadata": {},
     "output_type": "display_data"
    }
   ],
   "source": [
    "usa_data = data.table(\n",
    "    day = seq.Date(as.Date(\"2000-01-01\") , by=\"month\" , length.out = length(data)) , \n",
    "    usapass = data)\n",
    "\n",
    "usa_data %>% head"
   ]
  },
  {
   "cell_type": "code",
   "execution_count": 316,
   "id": "d1b14690-a0a1-4845-b580-6dab9c5d7a32",
   "metadata": {
    "jupyter": {
     "source_hidden": true
    }
   },
   "outputs": [
    {
     "data": {
      "text/html": [
       "<table class=\"dataframe\">\n",
       "<caption>A data.table: 6 × 3</caption>\n",
       "<thead>\n",
       "\t<tr><th scope=col>day</th><th scope=col>usapass</th><th scope=col>log_usapass</th></tr>\n",
       "\t<tr><th scope=col>&lt;date&gt;</th><th scope=col>&lt;dbl&gt;</th><th scope=col>&lt;dbl&gt;</th></tr>\n",
       "</thead>\n",
       "<tbody>\n",
       "\t<tr><td>2000-01-01</td><td>112</td><td>4.718499</td></tr>\n",
       "\t<tr><td>2000-02-01</td><td>118</td><td>4.770685</td></tr>\n",
       "\t<tr><td>2000-03-01</td><td>132</td><td>4.882802</td></tr>\n",
       "\t<tr><td>2000-04-01</td><td>129</td><td>4.859812</td></tr>\n",
       "\t<tr><td>2000-05-01</td><td>121</td><td>4.795791</td></tr>\n",
       "\t<tr><td>2000-06-01</td><td>135</td><td>4.905275</td></tr>\n",
       "</tbody>\n",
       "</table>\n"
      ],
      "text/latex": [
       "A data.table: 6 × 3\n",
       "\\begin{tabular}{lll}\n",
       " day & usapass & log\\_usapass\\\\\n",
       " <date> & <dbl> & <dbl>\\\\\n",
       "\\hline\n",
       "\t 2000-01-01 & 112 & 4.718499\\\\\n",
       "\t 2000-02-01 & 118 & 4.770685\\\\\n",
       "\t 2000-03-01 & 132 & 4.882802\\\\\n",
       "\t 2000-04-01 & 129 & 4.859812\\\\\n",
       "\t 2000-05-01 & 121 & 4.795791\\\\\n",
       "\t 2000-06-01 & 135 & 4.905275\\\\\n",
       "\\end{tabular}\n"
      ],
      "text/markdown": [
       "\n",
       "A data.table: 6 × 3\n",
       "\n",
       "| day &lt;date&gt; | usapass &lt;dbl&gt; | log_usapass &lt;dbl&gt; |\n",
       "|---|---|---|\n",
       "| 2000-01-01 | 112 | 4.718499 |\n",
       "| 2000-02-01 | 118 | 4.770685 |\n",
       "| 2000-03-01 | 132 | 4.882802 |\n",
       "| 2000-04-01 | 129 | 4.859812 |\n",
       "| 2000-05-01 | 121 | 4.795791 |\n",
       "| 2000-06-01 | 135 | 4.905275 |\n",
       "\n"
      ],
      "text/plain": [
       "  day        usapass log_usapass\n",
       "1 2000-01-01 112     4.718499   \n",
       "2 2000-02-01 118     4.770685   \n",
       "3 2000-03-01 132     4.882802   \n",
       "4 2000-04-01 129     4.859812   \n",
       "5 2000-05-01 121     4.795791   \n",
       "6 2000-06-01 135     4.905275   "
      ]
     },
     "metadata": {},
     "output_type": "display_data"
    }
   ],
   "source": [
    "usa_data = usa_data[ , log_usapass := log(data)]\n",
    "usa_data %>% head"
   ]
  },
  {
   "cell_type": "markdown",
   "id": "6bdcf134-2f90-4fd6-a74c-5aa8ae3a7e44",
   "metadata": {},
   "source": [
    "시계열 도표를 보니 추세와 계절성, 시간에 따른 분산의 변동(이분산성)이 있어보인다. 따라서 log변환 후 선형계절추세모형이나 계절지수평활법 혹은 분해법을 사용하는 것이 적절해 보인다."
   ]
  },
  {
   "cell_type": "markdown",
   "id": "5659219b-8a9a-4d00-a159-567db1d55f9b",
   "metadata": {},
   "source": [
    "#### 3-1) log변환이 필요한 이유"
   ]
  },
  {
   "cell_type": "markdown",
   "id": "de13621d-00f0-4d66-816b-515ceac07693",
   "metadata": {},
   "source": [
    "시계열 도표를 보면 계절성분의 진폭이 시계열의 수준에 따라 증가하고 있다. 따라서 이 데이터에는 이분산성이 있다. <br>\n",
    "추세모형과 평활법에는 오차항의 등분산성 가정이 있으므로 이에 위배되지 않으려면 log변환을 통해 뒤쪽 데이터의 이분산성을 완화시켜주는 분산안정화 과정을 거쳐야 한다."
   ]
  },
  {
   "cell_type": "markdown",
   "id": "7edcee07-ea12-439d-bfbf-e2eddfeddeed",
   "metadata": {},
   "source": [
    "#### 3-2) 선형계절추세모형 적합과 잔차분석"
   ]
  },
  {
   "cell_type": "code",
   "execution_count": 328,
   "id": "46c8bab2-246b-43d5-9dce-c55bb5e00097",
   "metadata": {
    "jupyter": {
     "source_hidden": true
    }
   },
   "outputs": [
    {
     "data": {
      "text/html": [
       "<table class=\"dataframe\">\n",
       "<caption>A data.table: 6 × 5</caption>\n",
       "<thead>\n",
       "\t<tr><th scope=col>day</th><th scope=col>usapass</th><th scope=col>log_usapass</th><th scope=col>s</th><th scope=col>Trend</th></tr>\n",
       "\t<tr><th scope=col>&lt;date&gt;</th><th scope=col>&lt;dbl&gt;</th><th scope=col>&lt;dbl&gt;</th><th scope=col>&lt;fct&gt;</th><th scope=col>&lt;int&gt;</th></tr>\n",
       "</thead>\n",
       "<tbody>\n",
       "\t<tr><td>2000-01-01</td><td>112</td><td>4.718499</td><td>1</td><td>1</td></tr>\n",
       "\t<tr><td>2000-02-01</td><td>118</td><td>4.770685</td><td>2</td><td>2</td></tr>\n",
       "\t<tr><td>2000-03-01</td><td>132</td><td>4.882802</td><td>3</td><td>3</td></tr>\n",
       "\t<tr><td>2000-04-01</td><td>129</td><td>4.859812</td><td>4</td><td>4</td></tr>\n",
       "\t<tr><td>2000-05-01</td><td>121</td><td>4.795791</td><td>5</td><td>5</td></tr>\n",
       "\t<tr><td>2000-06-01</td><td>135</td><td>4.905275</td><td>6</td><td>6</td></tr>\n",
       "</tbody>\n",
       "</table>\n"
      ],
      "text/latex": [
       "A data.table: 6 × 5\n",
       "\\begin{tabular}{lllll}\n",
       " day & usapass & log\\_usapass & s & Trend\\\\\n",
       " <date> & <dbl> & <dbl> & <fct> & <int>\\\\\n",
       "\\hline\n",
       "\t 2000-01-01 & 112 & 4.718499 & 1 & 1\\\\\n",
       "\t 2000-02-01 & 118 & 4.770685 & 2 & 2\\\\\n",
       "\t 2000-03-01 & 132 & 4.882802 & 3 & 3\\\\\n",
       "\t 2000-04-01 & 129 & 4.859812 & 4 & 4\\\\\n",
       "\t 2000-05-01 & 121 & 4.795791 & 5 & 5\\\\\n",
       "\t 2000-06-01 & 135 & 4.905275 & 6 & 6\\\\\n",
       "\\end{tabular}\n"
      ],
      "text/markdown": [
       "\n",
       "A data.table: 6 × 5\n",
       "\n",
       "| day &lt;date&gt; | usapass &lt;dbl&gt; | log_usapass &lt;dbl&gt; | s &lt;fct&gt; | Trend &lt;int&gt; |\n",
       "|---|---|---|---|---|\n",
       "| 2000-01-01 | 112 | 4.718499 | 1 | 1 |\n",
       "| 2000-02-01 | 118 | 4.770685 | 2 | 2 |\n",
       "| 2000-03-01 | 132 | 4.882802 | 3 | 3 |\n",
       "| 2000-04-01 | 129 | 4.859812 | 4 | 4 |\n",
       "| 2000-05-01 | 121 | 4.795791 | 5 | 5 |\n",
       "| 2000-06-01 | 135 | 4.905275 | 6 | 6 |\n",
       "\n"
      ],
      "text/plain": [
       "  day        usapass log_usapass s Trend\n",
       "1 2000-01-01 112     4.718499    1 1    \n",
       "2 2000-02-01 118     4.770685    2 2    \n",
       "3 2000-03-01 132     4.882802    3 3    \n",
       "4 2000-04-01 129     4.859812    4 4    \n",
       "5 2000-05-01 121     4.795791    5 5    \n",
       "6 2000-06-01 135     4.905275    6 6    "
      ]
     },
     "metadata": {},
     "output_type": "display_data"
    }
   ],
   "source": [
    "## 주기와 추세에 대한 설명변수 만들기\n",
    "usa_data= usa_data[ , s := factor(rep(1:12 , 12)) ]\n",
    "usa_data= usa_data[ , Trend := 1:length(data)]\n",
    "\n",
    "usa_data %>% head"
   ]
  },
  {
   "cell_type": "code",
   "execution_count": 329,
   "id": "1a59bc43-2ded-426a-b9e1-3b69ae5ff195",
   "metadata": {
    "jupyter": {
     "source_hidden": true
    }
   },
   "outputs": [
    {
     "data": {
      "text/plain": [
       "\n",
       "Call:\n",
       "lm(formula = log_usapass ~ 0 + Trend + s, data = usa_data)\n",
       "\n",
       "Residuals:\n",
       "      Min        1Q    Median        3Q       Max \n",
       "-0.159814 -0.044426  0.000623  0.045572  0.151846 \n",
       "\n",
       "Coefficients:\n",
       "       Estimate Std. Error t value Pr(>|t|)    \n",
       "Trend 0.0100999  0.0001252   80.67   <2e-16 ***\n",
       "s1    4.7246982  0.0198289  238.27   <2e-16 ***\n",
       "s2    4.7026123  0.0198822  236.52   <2e-16 ***\n",
       "s3    4.8342011  0.0199361  242.49   <2e-16 ***\n",
       "s4    4.8015084  0.0199907  240.19   <2e-16 ***\n",
       "s5    4.8009618  0.0200459  239.50   <2e-16 ***\n",
       "s6    4.9237482  0.0201017  244.94   <2e-16 ***\n",
       "s7    5.0296649  0.0201582  249.51   <2e-16 ***\n",
       "s8    5.0223242  0.0202153  248.44   <2e-16 ***\n",
       "s9    4.8708171  0.0202729  240.26   <2e-16 ***\n",
       "s10   4.7357833  0.0203312  232.93   <2e-16 ***\n",
       "s11   4.5905564  0.0203901  225.14   <2e-16 ***\n",
       "s12   4.7032829  0.0204496  229.99   <2e-16 ***\n",
       "---\n",
       "Signif. codes:  0 '***' 0.001 '**' 0.01 '*' 0.05 '.' 0.1 ' ' 1\n",
       "\n",
       "Residual standard error: 0.06224 on 131 degrees of freedom\n",
       "Multiple R-squared:  0.9999,\tAdjusted R-squared:  0.9999 \n",
       "F-statistic: 8.844e+04 on 13 and 131 DF,  p-value: < 2.2e-16\n"
      ]
     },
     "metadata": {},
     "output_type": "display_data"
    }
   ],
   "source": [
    "## 지시함수를 사용한 선형계절추세모형 적합 , B0=0을 가정\n",
    "model_31 = lm(log_usapass ~ 0 +Trend + s , data = usa_data)\n",
    "summary(model_31)"
   ]
  },
  {
   "cell_type": "code",
   "execution_count": 345,
   "id": "be1fa543-c1d9-434e-bffd-0260237793fd",
   "metadata": {
    "jupyter": {
     "source_hidden": true
    }
   },
   "outputs": [],
   "source": [
    "usa_data = usa_data[ , fitted1 := fitted(model_31)]"
   ]
  },
  {
   "cell_type": "code",
   "execution_count": 354,
   "id": "a56afccf-646e-4bec-ae26-23ddf583b4fe",
   "metadata": {
    "jupyter": {
     "source_hidden": true
    }
   },
   "outputs": [
    {
     "data": {
      "image/png": "[encoded data removed]",
      "text/plain": [
       "Plot with title \"월별 비행기 승객 수: observation vs. fitted value(선형계절추세)\""
      ]
     },
     "metadata": {
      "image/png": {
       "height": 420,
       "width": 420
      }
     },
     "output_type": "display_data"
    }
   ],
   "source": [
    "plot(usa_data$log_usapass , type = \"l\", \n",
    "     xlab = \"t\" , ylab = \"log(Zt)\" , \n",
    "     main = \"월별 비행기 승객 수: observation vs. fitted value(선형계절추세)\")\n",
    "lines(usa_data$fitted1 , col = \"red\")\n",
    "legend(\"topleft\",legend=c(\"observation\",\"fitted value\"), lty = 1, col = c(\"black\" , \"red\")\n",
    "       ,border=\"white\",box.lty=1,cex=1.0)"
   ]
  },
  {
   "cell_type": "markdown",
   "id": "2fb16c3d-8ad8-404f-bd24-067c3d6af076",
   "metadata": {},
   "source": [
    "<center> 회귀계수 추정 결과 </center> \n",
    "    \n",
    "|변수 | 회귀계수 | 표준오차 |  t-값 | 유의확률|\n",
    "|:---:|:---:|:---:|:---:|:---:|\n",
    "|Trend |0.01010| 0.00012 |  80.67  | 0.0001 | \n",
    "|s1   | 4.72469 | 0.01982 | 238.27   | 0.0001|\n",
    "|s2    |4.70261  |0.01988  | 236.52   | 0.0001| \n",
    "|s3    |4.83420  |0.01993   | 242.49   | 0.0001|\n",
    "|s4   | 4.80150  |0.01999  | 240.19  | 0.0001|\n",
    "|s5   | 4.80096  |0.02004   | 239.50   | 0.0001|\n",
    "|s6   | 4.92374  |0.02010  | 244.94   | 0.0001 |\n",
    "|s7   | 5.02966  |0.02015   | 249.51   | 0.0001 |\n",
    "|s8   | 5.02232 |  0.02021  | 248.44   | 0.0001 |\n",
    "|s9   | 4.87081  | 0.02027   | 240.26   | 0.0001 |\n",
    "|s10  | 4.73578 | 0.02033  | 232.93   | 0.0001 |\n",
    "|s11  | 4.59055 | 0.02039  | 225.14   | 0.0001 | \n",
    "|s12  | 4.70328 | 0.02044  | 229.99  | 0.0001 |"
   ]
  },
  {
   "cell_type": "markdown",
   "id": "22ac67fd-f8a6-420d-a054-75f1199ffa75",
   "metadata": {},
   "source": [
    "로그변환된 데이터에 계절형 지시함수를 이용하여 선형계절추세모형을 적합시켰다. 추세를 잡아주기 위해 매월 1씩 증가하는 시간변수 Trend를 독립변수로 쓰고 , 계절성을 잡아주기 위해 12개의 지시함수를 독립변수로 쓴다. 모수들 사이의 가정은 $\\beta_0 = 0$으로 주었다.\n",
    "\n",
    "적합 결과 변수 Trend와 각 계절에 해당하는 지시함수들이 모두 유의확률 0.0001 이하로 유의하다. \n",
    "F-통계량에 대한 유의확률도 0.0001 이하로 유의하여 이 모형 자체도 유의하다. \n",
    "모형의 설명력은 $R^2 = 99.99%$로 매우 충분히 데이터를 설명하고 있다. \n",
    "\n",
    "Trend의 회귀계수를 보면 log(비행기 승객 수)는 매월 0.01씩 증가함을 알 수 있다. \n",
    "또한 각 계절의 지시함수들에 대한 회귀계수는  해당 월별 log(비행기 승객 수)의 평균을 의미한다."
   ]
  },
  {
   "cell_type": "code",
   "execution_count": 357,
   "id": "35751683-bf70-4483-8e7f-f6559a8978f3",
   "metadata": {
    "jupyter": {
     "source_hidden": true
    }
   },
   "outputs": [
    {
     "data": {
      "image/png": "[encoded data removed]",
      "text/plain": [
       "Plot with title \"잔차 도표\""
      ]
     },
     "metadata": {
      "image/png": {
       "height": 420,
       "width": 420
      }
     },
     "output_type": "display_data"
    }
   ],
   "source": [
    "## 잔차 분석 , 등분산성 검토 \n",
    "plot(usa_data$day , resid(model_31) ,type = \"l\", \n",
    "    xlab = \"t\" , ylab = \"residuals\" , main = \"잔차 도표\")\n",
    "abline(h = 0)"
   ]
  },
  {
   "cell_type": "code",
   "execution_count": 359,
   "id": "1e9a897d-212f-45d7-8b8c-7c68bad4a3cf",
   "metadata": {
    "jupyter": {
     "source_hidden": true
    }
   },
   "outputs": [
    {
     "data": {
      "text/plain": [
       "\n",
       "\tstudentized Breusch-Pagan test\n",
       "\n",
       "data:  model_31\n",
       "BP = 5.9163, df = 12, p-value = 0.9202\n"
      ]
     },
     "metadata": {},
     "output_type": "display_data"
    }
   ],
   "source": [
    "bptest(model_31)"
   ]
  },
  {
   "cell_type": "code",
   "execution_count": 367,
   "id": "9b4e5e63-ea07-4a4c-ae77-cf074b09f81d",
   "metadata": {
    "jupyter": {
     "source_hidden": true
    }
   },
   "outputs": [
    {
     "data": {
      "text/plain": [
       "\n",
       "\tDurbin-Watson test\n",
       "\n",
       "data:  model_31\n",
       "DW = 0.40831, p-value < 2.2e-16\n",
       "alternative hypothesis: true autocorrelation is greater than 0\n"
      ]
     },
     "metadata": {},
     "output_type": "display_data"
    }
   ],
   "source": [
    "# 독립성 검정\n",
    "dwtest(model_31 , alternative = \"greater\")"
   ]
  },
  {
   "cell_type": "code",
   "execution_count": 365,
   "id": "8c0efd3f-c007-440b-9948-dda5fb64c286",
   "metadata": {
    "jupyter": {
     "source_hidden": true
    }
   },
   "outputs": [
    {
     "data": {
      "text/plain": [
       "\n",
       "\tOne Sample t-test\n",
       "\n",
       "data:  resid(model_31)\n",
       "t = -4.4287e-17, df = 143, p-value = 1\n",
       "alternative hypothesis: true mean is not equal to 0\n",
       "95 percent confidence interval:\n",
       " -0.009812747  0.009812747\n",
       "sample estimates:\n",
       "    mean of x \n",
       "-2.198521e-19 \n"
      ]
     },
     "metadata": {},
     "output_type": "display_data"
    }
   ],
   "source": [
    "# 선형성 검정\n",
    "t.test(resid(model_31) , mu =0)"
   ]
  },
  {
   "cell_type": "code",
   "execution_count": 368,
   "id": "56dfb0ea-277b-4a18-b3ac-a9b8f8efd13f",
   "metadata": {
    "jupyter": {
     "source_hidden": true
    }
   },
   "outputs": [
    {
     "data": {
      "image/png": "[encoded data removed]",
      "text/plain": [
       "Plot with title \"Normal Q-Q Plot\""
      ]
     },
     "metadata": {
      "image/png": {
       "height": 420,
       "width": 420
      }
     },
     "output_type": "display_data"
    }
   ],
   "source": [
    "# 정규성 검토\n",
    "qqnorm(resid(model_31))\n",
    "qqline(resid(model_31))"
   ]
  },
  {
   "cell_type": "markdown",
   "id": "a01dc546-9afd-49ad-bc86-79a840011cfc",
   "metadata": {},
   "source": [
    "오차항의 선형성을 검정하기 위해 T-test를 실시하였더니 유의확률이 1이다. 따라서 $H_0 : \\mu = 0 \\, vs. H_1 : \\mu \\neq 0$에서 영가설을 기각하지 못해 잔차의 평균이 0이고, 오차항의 선형성 가정이 만족된다.\n",
    "\n",
    "오차항의 독립성을 검정하기 위해 Durbin-Watson test(단측검정)를 실시하였더니 DW 통계량이 0.4083, 유의확률이 0.0001이다. 따라서 $H_0 : \\rho \\leq 0  \\, vs. H_1 : \\rho > 0$에서 영가설이 기각되어 잔차들 사이에 양의 자기상관관계가 있다. 오차항의 독립성이 위배된다.\n",
    "\n",
    "오차항의 정규성을 살펴보기 위해 Q-Q plot을 봤더니 대부분의 데이터가 직선과 겹쳐지고 있으므로 오차항의 정규성 가정이 만족된다. \n",
    "\n",
    "오차항의 등분산성을 살펴보기 위해 잔차 도표를 살펴보면 0을 중심으로 일정한 범위 내에 움직이고 있다. 따라서 오차항의 등분산성 가정이 만족된 것처럼 보인다."
   ]
  },
  {
   "cell_type": "markdown",
   "id": "442219ba-2d08-48fd-8b33-fec1df66a04a",
   "metadata": {},
   "source": [
    "#### 3-3) 계절지수평활법의 적합과 잔차분석"
   ]
  },
  {
   "cell_type": "code",
   "execution_count": 378,
   "id": "9e8138e4-37ec-4879-9b05-4e487fd95419",
   "metadata": {
    "jupyter": {
     "source_hidden": true
    }
   },
   "outputs": [
    {
     "data": {
      "text/plain": [
       "Holt-Winters' additive method \n",
       "\n",
       "Call:\n",
       " hw(y = log(usapass), h = 12, seasonal = \"additive\") \n",
       "\n",
       "  Smoothing parameters:\n",
       "    alpha = 0.7139 \n",
       "    beta  = 1e-04 \n",
       "    gamma = 2e-04 \n",
       "\n",
       "  Initial states:\n",
       "    l = 4.8268 \n",
       "    b = 0.0095 \n",
       "    s = -0.1015 -0.2159 -0.0759 0.0558 0.2052 0.2123\n",
       "           0.1122 -0.011 -0.0063 0.0218 -0.1123 -0.0843\n",
       "\n",
       "  sigma:  0.0394\n",
       "\n",
       "      AIC      AICc       BIC \n",
       "-198.7711 -193.9140 -148.2843 "
      ]
     },
     "metadata": {},
     "output_type": "display_data"
    }
   ],
   "source": [
    "model_32 = hw(log(usapass) , seasonal = \"additive\" , h =12 )\n",
    "model_32$model"
   ]
  },
  {
   "cell_type": "code",
   "execution_count": 382,
   "id": "5faf34a2-6ea9-4ecb-9bfa-cc5072d0a194",
   "metadata": {
    "jupyter": {
     "source_hidden": true
    }
   },
   "outputs": [
    {
     "data": {
      "image/png": "[encoded data removed]",
      "text/plain": [
       "Plot with title \"월별 비행기 승객 수: observation vs. fitted value(계절지수평활)\""
      ]
     },
     "metadata": {
      "image/png": {
       "height": 420,
       "width": 420
      }
     },
     "output_type": "display_data"
    }
   ],
   "source": [
    "plot(usa_data$log_usapass , type = \"l\", \n",
    "     xlab = \"t\" , ylab = \"log(Zt)\" , \n",
    "     main = \"월별 비행기 승객 수: observation vs. fitted value(계절지수평활)\")\n",
    "lines(as.vector(fitted(model_32)) , col = \"red\")\n",
    "legend(\"topleft\",legend=c(\"observation\",\"fitted value\"), lty = 1, col = c(\"black\" , \"red\")\n",
    "       ,border=\"white\",box.lty=1,cex=1.0)"
   ]
  },
  {
   "cell_type": "markdown",
   "id": "e5498a6c-1612-4a38-95df-fc42d72acad0",
   "metadata": {},
   "source": [
    "이분산성이 있는 데이터를 log변환하였으므로 계절지수평활법의 가법모형으로 적합했다. \n",
    "평활 상수는 $\\alpha = 0.7139  , \\beta = 1e-04 , \\gamma = 2e-04$가 사용되었다.\n",
    "원데이터를 적합값이 너무 잘 따라가고 있다."
   ]
  },
  {
   "cell_type": "code",
   "execution_count": 383,
   "id": "b2422095-16c3-409a-8109-810ec8233338",
   "metadata": {
    "jupyter": {
     "source_hidden": true
    }
   },
   "outputs": [
    {
     "data": {
      "image/png": "[encoded data removed]",
      "text/plain": [
       "Plot with title \"잔차 도표\""
      ]
     },
     "metadata": {
      "image/png": {
       "height": 420,
       "width": 420
      }
     },
     "output_type": "display_data"
    }
   ],
   "source": [
    "## 잔차 분석 , 등분산성 검토 \n",
    "plot(usa_data$day , resid(model_32) ,type = \"l\", \n",
    "    xlab = \"t\" , ylab = \"residuals\" , main = \"잔차 도표\")\n",
    "abline(h = 0)"
   ]
  },
  {
   "cell_type": "code",
   "execution_count": 386,
   "id": "505dce56-10d4-4ca1-bf96-5b2e836235cc",
   "metadata": {
    "jupyter": {
     "source_hidden": true
    }
   },
   "outputs": [
    {
     "data": {
      "text/plain": [
       "\n",
       "\tOne Sample t-test\n",
       "\n",
       "data:  resid(model_32)\n",
       "t = -0.049052, df = 143, p-value = 0.9609\n",
       "alternative hypothesis: true mean is not equal to 0\n",
       "95 percent confidence interval:\n",
       " -0.006291011  0.005986348\n",
       "sample estimates:\n",
       "    mean of x \n",
       "-0.0001523314 \n"
      ]
     },
     "metadata": {},
     "output_type": "display_data"
    }
   ],
   "source": [
    "## 선형성 검정\n",
    "t.test(resid(model_32)  , mu= 0)"
   ]
  },
  {
   "cell_type": "code",
   "execution_count": 388,
   "id": "c9d3b7fe-38b5-40fa-93d9-e74f126ad220",
   "metadata": {
    "jupyter": {
     "source_hidden": true
    }
   },
   "outputs": [
    {
     "data": {
      "text/plain": [
       "\n",
       "\tDurbin-Watson test\n",
       "\n",
       "data:  lm(resid(model_32) ~ 1)\n",
       "DW = 1.9031, p-value = 0.5584\n",
       "alternative hypothesis: true autocorrelation is not 0\n"
      ]
     },
     "metadata": {},
     "output_type": "display_data"
    }
   ],
   "source": [
    "# 독립성 검정\n",
    "dwtest(lm(resid(model_32) ~1), alternative = \"two.sided\")"
   ]
  },
  {
   "cell_type": "code",
   "execution_count": 389,
   "id": "e29f0cd1-a4d1-46a9-97f0-ed809089b2c1",
   "metadata": {
    "jupyter": {
     "source_hidden": true
    }
   },
   "outputs": [
    {
     "data": {
      "image/png": "[encoded data removed]",
      "text/plain": [
       "Plot with title \"Normal Q-Q Plot\""
      ]
     },
     "metadata": {
      "image/png": {
       "height": 420,
       "width": 420
      }
     },
     "output_type": "display_data"
    }
   ],
   "source": [
    "# 정규성 검토\n",
    "qqnorm(resid(model_32))\n",
    "qqline(resid(model_32))"
   ]
  },
  {
   "cell_type": "markdown",
   "id": "92db9dd0-680e-49ad-b316-378ce84fccad",
   "metadata": {},
   "source": [
    "오차항의 선형성을 검정하기 위해 T-test를 실시하였더니 유의확률이 0.9609이다. 따라서 $H_0 : \\mu = 0 \\, vs. H_1 : \\mu \\neq 0$에서 영가설을 기각하지 못해 잔차의 평균이 0이고, 오차항의 선형성 가정이 만족된다.\n",
    "\n",
    "오차항의 독립성을 검정하기 위해 Durbin-Watson test(단측검정)를 실시하였더니 DW 통계량이 1.9031, 유의확률이 0.5584 이다. 따라서 $H_0 : \\rho = 0  \\, vs. H_1 : \\rho \\neq 0$에서 영가설을 기각하지 못하여 오차항의 독립성 가정이 만족된다.\n",
    "\n",
    "오차항의 정규성을 살펴보기 위해 Q-Q plot을 봤더니 대부분의 데이터가 직선과 겹쳐지고 있으므로 오차항의 정규성 가정이 만족된다. \n",
    "\n",
    "오차항의 등분산성을 살펴보기 위해 잔차 도표를 살펴보면 가운데 부분만 잔차의 범위가 작게 퍼져있고, 양쪽으로 갈수록 잔차가 커지는 양상을 띈다. 따라서 오차항의 등분산성 가정이 위배된 것처럼 보인다."
   ]
  },
  {
   "cell_type": "markdown",
   "id": "cb65232e-bea8-44fd-9a51-ce65fc106e28",
   "metadata": {},
   "source": [
    "#### 3-4) 중심이동평균법에 의한 분해법"
   ]
  },
  {
   "cell_type": "code",
   "execution_count": 393,
   "id": "7fc1c47d-873e-4700-8777-5d57255645f9",
   "metadata": {
    "jupyter": {
     "source_hidden": true
    }
   },
   "outputs": [],
   "source": [
    "model_33 = decompose(log(usapass) , 'additive')"
   ]
  },
  {
   "cell_type": "code",
   "execution_count": 396,
   "id": "a4607e76-d50e-4400-baba-2b58bf3a4fb3",
   "metadata": {
    "jupyter": {
     "source_hidden": true
    }
   },
   "outputs": [
    {
     "data": {
      "image/png": "[encoded data removed]",
      "text/plain": [
       "plot without title"
      ]
     },
     "metadata": {
      "image/png": {
       "height": 420,
       "width": 420
      }
     },
     "output_type": "display_data"
    }
   ],
   "source": [
    "plot(model_33)"
   ]
  },
  {
   "cell_type": "markdown",
   "id": "cac42bdd-fdaf-4bc7-81d4-abcc256c2f49",
   "metadata": {},
   "source": [
    "window size를 12로 한 중심이동평균을 적용하면 계절성과 불규칙성이 제거되어 $\\hat{T_t}$가 추정된다.<br>\n",
    "{$Z_t - \\hat{T_t}$} 에 다른 중심이동평균을 적용하여 불규칙성을 제거하면 $\\hat{S_t}$가 추정된다.\n",
    "그 후 $\\hat{I_t} = Z_t - \\hat{T_t} - \\hat{S_t}$로 불규칙성분까지 분해하여 나온 시계열 도표이다."
   ]
  },
  {
   "cell_type": "markdown",
   "id": "57d158a5-6223-4d0b-8a6a-296a61d970bb",
   "metadata": {},
   "source": [
    "#### 3-5) 추정된 불규칙성분 검토"
   ]
  },
  {
   "cell_type": "code",
   "execution_count": 403,
   "id": "c37f92a6-f5a4-4daf-95d0-4f4bf16ced75",
   "metadata": {
    "jupyter": {
     "source_hidden": true
    }
   },
   "outputs": [
    {
     "data": {
      "image/png": "[encoded data removed]",
      "text/plain": [
       "Plot with title \"분해법에 의해 추정된 불규칙성분\""
      ]
     },
     "metadata": {
      "image/png": {
       "height": 420,
       "width": 420
      }
     },
     "output_type": "display_data"
    }
   ],
   "source": [
    "Ihat = model_33$random \n",
    "\n",
    "## 추정된 불규칙성분 검토\n",
    "plot(usa_data$day , Ihat ,type = \"l\", \n",
    "    xlab = \"t\" , ylab = \"Ihat\" , main = \"분해법에 의해 추정된 불규칙성분\")\n",
    "abline(h = 0)"
   ]
  },
  {
   "cell_type": "markdown",
   "id": "10cb8ad5-dee9-4423-b396-59f867199fe6",
   "metadata": {},
   "source": [
    "평균 0을 중심으로 왔다갔다하면서 불규칙성분이 산포되어있다. 그러나 가운데는 분산의 변동폭이 좁고, 왼쪽과 오른쪽은 분산의 폭이 일정한 범위 내에 있다고 볼 수 있다. 국지적으로는 분산이 같지만 global하게는 다르므로 이분산성이 있어보인다. 따라서 각 성분에 관한 체계적 정보가 아직 남아있을지도 모른다. "
   ]
  },
  {
   "cell_type": "markdown",
   "id": "2e683fd7-4934-46e8-8088-2ee4487f4f30",
   "metadata": {},
   "source": [
    "----"
   ]
  },
  {
   "cell_type": "markdown",
   "id": "1609db09-e837-4f98-8f60-4a8deeac4eeb",
   "metadata": {},
   "source": [
    "### 4. 확률과정"
   ]
  },
  {
   "cell_type": "markdown",
   "id": "29c18584-55e9-494c-8616-3a1f3d1a53b5",
   "metadata": {},
   "source": [
    "#### 4-1) \n",
    "$Z_t = 5+ 0.8\\times Z_{t-1} + \\epsilon_t$, $\\epsilon_t \\sim WN(0,1)$ 시계열 도표"
   ]
  },
  {
   "cell_type": "code",
   "execution_count": 95,
   "id": "eb1a197d-6b67-44e4-a60e-e27f9bb63b35",
   "metadata": {
    "jupyter": {
     "source_hidden": true
    }
   },
   "outputs": [],
   "source": [
    "library(astsa)\n",
    "set.seed(201822037)\n",
    "Z= arima.sim(n=100, model = list(order = c(1, 0, 0 ) , ar = 0.8) , rand.gen = rnorm) +25"
   ]
  },
  {
   "cell_type": "code",
   "execution_count": 96,
   "id": "9faa410b-38a4-484e-a440-3a0656bf6574",
   "metadata": {
    "jupyter": {
     "source_hidden": true
    }
   },
   "outputs": [],
   "source": [
    "##\n",
    "# set.seed(201822037)\n",
    "\n",
    "#Z = 5/(1-0.8)  ## Z_0 = 25\n",
    "#e = rnorm(101,0,1) # e_t ~ N(0,1)\n",
    "\n",
    "#for(i in 2:101){\n",
    "#    Z[i] = 5 + 0.8*Z[i-1] +e[i]\n",
    "#    }\n",
    "\n",
    "#Z = Z[2:101] # t = 1,2, ... , 100\n",
    "#Z = ts(Z)"
   ]
  },
  {
   "cell_type": "code",
   "execution_count": 97,
   "id": "c249894e-c56b-4ca7-af91-2b6963528d3e",
   "metadata": {
    "jupyter": {
     "source_hidden": true
    }
   },
   "outputs": [
    {
     "name": "stdout",
     "output_type": "stream",
     "text": [
      "[1] \"Zt의 평균: 24.867\"\n"
     ]
    },
    {
     "data": {
      "image/png": "[encoded data removed]",
      "text/plain": [
       "Plot with title \"AR(1) : Time Series Plot\""
      ]
     },
     "metadata": {
      "image/png": {
       "height": 420,
       "width": 420
      }
     },
     "output_type": "display_data"
    }
   ],
   "source": [
    "plot(Z , main = \"AR(1) : Time Series Plot\")\n",
    "print(paste(\"Zt의 평균:\" ,round(mean(Z),3)))"
   ]
  },
  {
   "cell_type": "markdown",
   "id": "7315c2b0-5ccb-4e91-b85d-c594a827be68",
   "metadata": {},
   "source": [
    "현재의 데이터가 1-시차 전 과거 관측값의 함수 형태로 나타나는 확률과정이므로 $Z_t$ 는 AR(1) 모형이다.\n",
    " $\\phi = 0.8$ 이고, 이 데이터의 평균은 이론적으로 25이므로 초기값을 25로 놓았다. 시뮬레이션으로 생성된 데이터의 평균은 24.867이다. \n",
    "시계열 도표를 보면 변화의 정도가 심하지 않고 부드러움을 알 수 있다."
   ]
  },
  {
   "cell_type": "markdown",
   "id": "92d0caff-ec5d-4526-b14f-710077727608",
   "metadata": {},
   "source": [
    "#### 4-2) \n",
    "SACF $\\hat{\\rho_k}$ 와 SPACF $\\hat{\\phi_{kk}}$의 상관도표"
   ]
  },
  {
   "cell_type": "code",
   "execution_count": 98,
   "id": "0767fb97-5d98-47f2-a126-435f05c4b3e8",
   "metadata": {
    "jupyter": {
     "source_hidden": true
    }
   },
   "outputs": [
    {
     "data": {
      "text/plain": [
       "\n",
       "Autocorrelations of series 'Z', by lag\n",
       "\n",
       "     1      2      3      4      5      6      7      8      9     10 \n",
       " 0.734  0.503  0.414  0.254  0.065 -0.050 -0.067 -0.091 -0.168 -0.129 "
      ]
     },
     "metadata": {},
     "output_type": "display_data"
    },
    {
     "data": {
      "image/png": "[encoded data removed]",
      "text/plain": [
       "Plot with title \"SACF\""
      ]
     },
     "metadata": {
      "image/png": {
       "height": 420,
       "width": 420
      }
     },
     "output_type": "display_data"
    }
   ],
   "source": [
    "rho = acf(Z , main = \"SACF\")\n",
    "rho[1:10]"
   ]
  },
  {
   "cell_type": "code",
   "execution_count": 99,
   "id": "1c3acea7-3dae-4ff5-82e7-2bd789b2e105",
   "metadata": {
    "jupyter": {
     "source_hidden": true
    }
   },
   "outputs": [
    {
     "data": {
      "text/plain": [
       "\n",
       "Partial autocorrelations of series 'Z', by lag\n",
       "\n",
       "     1      2      3      4      5      6      7      8      9     10 \n",
       " 0.734 -0.078  0.159 -0.207 -0.134 -0.062  0.095 -0.015 -0.126  0.117 "
      ]
     },
     "metadata": {},
     "output_type": "display_data"
    },
    {
     "data": {
      "image/png": "[encoded data removed]",
      "text/plain": [
       "Plot with title \"SPACF\""
      ]
     },
     "metadata": {
      "image/png": {
       "height": 420,
       "width": 420
      }
     },
     "output_type": "display_data"
    }
   ],
   "source": [
    "phi = pacf(Z , main = \"SPACF\")\n",
    "phi[1:10]"
   ]
  },
  {
   "cell_type": "markdown",
   "id": "1d151ebc-af05-4f68-b00d-0cb4030560b2",
   "metadata": {},
   "source": [
    "SACF Plot에서 $\\hat{\\rho_k}$는 k가 커짐에 따라 지수적으로 감소한다. <br>\n",
    "SPACF Plot에서 $\\hat{\\phi_{11}}$에서만 유의한 양수값을 가지고 2이상의 시차에서는 $\\hat{\\phi_{kk}}$의 값이 유의하지 않아 0으로 본다."
   ]
  },
  {
   "cell_type": "markdown",
   "id": "ae758466-a118-47ea-a744-cd8db4621892",
   "metadata": {
    "tags": []
   },
   "source": [
    "#### 4-3) 이론적인 ACF, PACF와의 비교"
   ]
  },
  {
   "cell_type": "markdown",
   "id": "cb428ea8-350e-462f-9b64-89ddc2d82f50",
   "metadata": {},
   "source": [
    "$Z_t$는 $|\\phi| <1$인 AR(1) 모형이므로 정상성 조건을 만족한다. 따라서 이론상 ACF: $\\hat{\\rho_k} = \\phi^k$ , PACF: $\\hat{\\phi_{11}} = \\phi$ ,  $\\hat{\\phi_{kk}} = 0 , k \\geq 2$ 이다.  \n",
    "\n",
    "<center> SACF \n",
    "    \n",
    "|k | 1 | 2| 3| 4| 5| 6|7|8|9|10|\n",
    "|:---:|:---:|:---:|:---:|:---:|:---:|:---:|:---:|:---:|:---:|:---:|\n",
    "|이론 | 0.80|0.640|0.512 |0.41 | 0.328 | 0.262 | 0.21 | 0.168 | 0.134 | 0.107 |\n",
    "|simulation|0.734 | 0.503 | 0.414 | 0.254 | 0.065 |-0.050 |-0.067 |-0.091 |-0.168 |-0.129 |\n",
    " \n",
    "    \n",
    "<center> SPACF \n",
    "    \n",
    "|k | 1 | 2| 3| 4| 5| 6|7|8|9|10|\n",
    "|:---:|:---:|:---:|:---:|:---:|:---:|:---:|:---:|:---:|:---:|:---:|\n",
    "|이론 | 0.8|0 |0 |0 | 0 | 0 | 0 | 0 | 0 | 0 |\n",
    "|simulation| 0.734 |-0.078|  0.159 |-0.207| -0.134| -0.062|  0.095| -0.015| -0.126|  0.117| \n",
    " \n",
    "$\\hat{\\rho_k}$ 이론과 simulation의 값은 다르나 k=5까지 부호가 양수로 같고 각 값이 지수적으로 감소하고 있는 것은 동일하다. <br>\n",
    "$\\hat{\\phi_{kk}}$이론과 simulation의 값은 다르나 $\\hat{\\phi_{11}}$은 0.8근처로 simulation이 이론값과 비슷하고 simulation에서 나머지 값들은 유의하지 않다는 점에서 0으로 볼 수 있으므로 이론값과 비슷하다."
   ]
  },
  {
   "cell_type": "code",
   "execution_count": 110,
   "id": "b8bb1347-e0b9-4373-91d6-83efcc97b62c",
   "metadata": {
    "jupyter": {
     "source_hidden": true
    }
   },
   "outputs": [
    {
     "data": {
      "text/html": [
       "<style>\n",
       ".list-inline {list-style: none; margin:0; padding: 0}\n",
       ".list-inline>li {display: inline-block}\n",
       ".list-inline>li:not(:last-child)::after {content: \"\\00b7\"; padding: 0 .5ex}\n",
       "</style>\n",
       "<ol class=list-inline><li>0.8</li><li>0.64</li><li>0.512</li><li>0.41</li><li>0.328</li><li>0.262</li><li>0.21</li><li>0.168</li><li>0.134</li><li>0.107</li></ol>\n"
      ],
      "text/latex": [
       "\\begin{enumerate*}\n",
       "\\item 0.8\n",
       "\\item 0.64\n",
       "\\item 0.512\n",
       "\\item 0.41\n",
       "\\item 0.328\n",
       "\\item 0.262\n",
       "\\item 0.21\n",
       "\\item 0.168\n",
       "\\item 0.134\n",
       "\\item 0.107\n",
       "\\end{enumerate*}\n"
      ],
      "text/markdown": [
       "1. 0.8\n",
       "2. 0.64\n",
       "3. 0.512\n",
       "4. 0.41\n",
       "5. 0.328\n",
       "6. 0.262\n",
       "7. 0.21\n",
       "8. 0.168\n",
       "9. 0.134\n",
       "10. 0.107\n",
       "\n",
       "\n"
      ],
      "text/plain": [
       " [1] 0.800 0.640 0.512 0.410 0.328 0.262 0.210 0.168 0.134 0.107"
      ]
     },
     "metadata": {},
     "output_type": "display_data"
    },
    {
     "data": {
      "text/plain": [
       "\n",
       "Autocorrelations of series 'Z', by lag\n",
       "\n",
       "     1      2      3      4      5      6      7      8      9     10 \n",
       " 0.734  0.503  0.414  0.254  0.065 -0.050 -0.067 -0.091 -0.168 -0.129 "
      ]
     },
     "metadata": {},
     "output_type": "display_data"
    }
   ],
   "source": [
    "rho_hat = round(0.8**(1:10) , 3)\n",
    "rho_hat\n",
    "rho[1:10]"
   ]
  },
  {
   "cell_type": "code",
   "execution_count": 108,
   "id": "2285545e-4102-43ac-bb68-bee77f4750b6",
   "metadata": {
    "jupyter": {
     "source_hidden": true
    },
    "tags": []
   },
   "outputs": [
    {
     "data": {
      "text/html": [
       "<style>\n",
       ".list-inline {list-style: none; margin:0; padding: 0}\n",
       ".list-inline>li {display: inline-block}\n",
       ".list-inline>li:not(:last-child)::after {content: \"\\00b7\"; padding: 0 .5ex}\n",
       "</style>\n",
       "<ol class=list-inline><li>0.8</li><li>0</li><li>0</li><li>0</li><li>0</li><li>0</li><li>0</li><li>0</li><li>0</li><li>0</li></ol>\n"
      ],
      "text/latex": [
       "\\begin{enumerate*}\n",
       "\\item 0.8\n",
       "\\item 0\n",
       "\\item 0\n",
       "\\item 0\n",
       "\\item 0\n",
       "\\item 0\n",
       "\\item 0\n",
       "\\item 0\n",
       "\\item 0\n",
       "\\item 0\n",
       "\\end{enumerate*}\n"
      ],
      "text/markdown": [
       "1. 0.8\n",
       "2. 0\n",
       "3. 0\n",
       "4. 0\n",
       "5. 0\n",
       "6. 0\n",
       "7. 0\n",
       "8. 0\n",
       "9. 0\n",
       "10. 0\n",
       "\n",
       "\n"
      ],
      "text/plain": [
       " [1] 0.8 0.0 0.0 0.0 0.0 0.0 0.0 0.0 0.0 0.0"
      ]
     },
     "metadata": {},
     "output_type": "display_data"
    },
    {
     "data": {
      "text/plain": [
       "\n",
       "Partial autocorrelations of series 'Z', by lag\n",
       "\n",
       "     1      2      3      4      5      6      7      8      9     10 \n",
       " 0.734 -0.078  0.159 -0.207 -0.134 -0.062  0.095 -0.015 -0.126  0.117 "
      ]
     },
     "metadata": {},
     "output_type": "display_data"
    }
   ],
   "source": [
    "phi_hat = c(0.8 , rep(0,9))\n",
    "phi_hat\n",
    "phi[1:10]"
   ]
  },
  {
   "cell_type": "markdown",
   "id": "f22dd5d5-1be3-4be9-abf1-bf192facf129",
   "metadata": {},
   "source": [
    "#### 4-4) 표본 증가 , ACF, PACF의 비교"
   ]
  },
  {
   "cell_type": "code",
   "execution_count": 112,
   "id": "7e3b365e-0121-4f79-881c-d0b449c7f6c8",
   "metadata": {
    "jupyter": {
     "source_hidden": true
    }
   },
   "outputs": [],
   "source": [
    "set.seed(201822037)\n",
    "Z2= arima.sim(n=10000, model = list(order = c(1, 0, 0 ) , ar = 0.8) , rand.gen = rnorm) +25"
   ]
  },
  {
   "cell_type": "code",
   "execution_count": 114,
   "id": "fa4221ed-1695-4660-ac6e-4f0b5ff06835",
   "metadata": {
    "jupyter": {
     "source_hidden": true
    }
   },
   "outputs": [
    {
     "data": {
      "text/plain": [
       "\n",
       "Autocorrelations of series 'Z', by lag\n",
       "\n",
       "    1     2     3     4     5     6     7     8     9    10 \n",
       "0.802 0.633 0.496 0.386 0.301 0.238 0.186 0.137 0.098 0.066 "
      ]
     },
     "metadata": {},
     "output_type": "display_data"
    },
    {
     "data": {
      "image/png": "[encoded data removed]",
      "text/plain": [
       "Plot with title \"SACF\""
      ]
     },
     "metadata": {
      "image/png": {
       "height": 420,
       "width": 420
      }
     },
     "output_type": "display_data"
    },
    {
     "data": {
      "text/plain": [
       "\n",
       "Partial autocorrelations of series 'Z', by lag\n",
       "\n",
       "     1      2      3      4      5      6      7      8      9     10 \n",
       " 0.802 -0.029 -0.008 -0.007  0.002  0.008 -0.004 -0.026 -0.002 -0.012 "
      ]
     },
     "metadata": {},
     "output_type": "display_data"
    },
    {
     "data": {
      "image/png": "[encoded data removed]",
      "text/plain": [
       "Plot with title \"SPACF\""
      ]
     },
     "metadata": {
      "image/png": {
       "height": 420,
       "width": 420
      }
     },
     "output_type": "display_data"
    }
   ],
   "source": [
    "rho2 = acf(Z , main = \"SACF\")\n",
    "rho2[1:10]\n",
    "\n",
    "phi2 = pacf(Z , main = \"SPACF\")\n",
    "phi2[1:10]"
   ]
  },
  {
   "cell_type": "code",
   "execution_count": 115,
   "id": "65087a9f-76ed-4064-9ae6-bc0517eb11c0",
   "metadata": {
    "jupyter": {
     "source_hidden": true
    }
   },
   "outputs": [
    {
     "data": {
      "text/html": [
       "<style>\n",
       ".list-inline {list-style: none; margin:0; padding: 0}\n",
       ".list-inline>li {display: inline-block}\n",
       ".list-inline>li:not(:last-child)::after {content: \"\\00b7\"; padding: 0 .5ex}\n",
       "</style>\n",
       "<ol class=list-inline><li>0.8</li><li>0.64</li><li>0.512</li><li>0.41</li><li>0.328</li><li>0.262</li><li>0.21</li><li>0.168</li><li>0.134</li><li>0.107</li></ol>\n"
      ],
      "text/latex": [
       "\\begin{enumerate*}\n",
       "\\item 0.8\n",
       "\\item 0.64\n",
       "\\item 0.512\n",
       "\\item 0.41\n",
       "\\item 0.328\n",
       "\\item 0.262\n",
       "\\item 0.21\n",
       "\\item 0.168\n",
       "\\item 0.134\n",
       "\\item 0.107\n",
       "\\end{enumerate*}\n"
      ],
      "text/markdown": [
       "1. 0.8\n",
       "2. 0.64\n",
       "3. 0.512\n",
       "4. 0.41\n",
       "5. 0.328\n",
       "6. 0.262\n",
       "7. 0.21\n",
       "8. 0.168\n",
       "9. 0.134\n",
       "10. 0.107\n",
       "\n",
       "\n"
      ],
      "text/plain": [
       " [1] 0.800 0.640 0.512 0.410 0.328 0.262 0.210 0.168 0.134 0.107"
      ]
     },
     "metadata": {},
     "output_type": "display_data"
    },
    {
     "data": {
      "text/plain": [
       "\n",
       "Autocorrelations of series 'Z', by lag\n",
       "\n",
       "    1     2     3     4     5     6     7     8     9    10 \n",
       "0.802 0.633 0.496 0.386 0.301 0.238 0.186 0.137 0.098 0.066 "
      ]
     },
     "metadata": {},
     "output_type": "display_data"
    }
   ],
   "source": [
    "rho_hat = round(0.8**(1:10) , 3)\n",
    "rho_hat\n",
    "rho2[1:10]"
   ]
  },
  {
   "cell_type": "code",
   "execution_count": 116,
   "id": "9daae250-0b65-46a6-b30b-45157fdbe2f3",
   "metadata": {
    "jupyter": {
     "source_hidden": true
    }
   },
   "outputs": [
    {
     "data": {
      "text/html": [
       "<style>\n",
       ".list-inline {list-style: none; margin:0; padding: 0}\n",
       ".list-inline>li {display: inline-block}\n",
       ".list-inline>li:not(:last-child)::after {content: \"\\00b7\"; padding: 0 .5ex}\n",
       "</style>\n",
       "<ol class=list-inline><li>0.8</li><li>0</li><li>0</li><li>0</li><li>0</li><li>0</li><li>0</li><li>0</li><li>0</li><li>0</li></ol>\n"
      ],
      "text/latex": [
       "\\begin{enumerate*}\n",
       "\\item 0.8\n",
       "\\item 0\n",
       "\\item 0\n",
       "\\item 0\n",
       "\\item 0\n",
       "\\item 0\n",
       "\\item 0\n",
       "\\item 0\n",
       "\\item 0\n",
       "\\item 0\n",
       "\\end{enumerate*}\n"
      ],
      "text/markdown": [
       "1. 0.8\n",
       "2. 0\n",
       "3. 0\n",
       "4. 0\n",
       "5. 0\n",
       "6. 0\n",
       "7. 0\n",
       "8. 0\n",
       "9. 0\n",
       "10. 0\n",
       "\n",
       "\n"
      ],
      "text/plain": [
       " [1] 0.8 0.0 0.0 0.0 0.0 0.0 0.0 0.0 0.0 0.0"
      ]
     },
     "metadata": {},
     "output_type": "display_data"
    },
    {
     "data": {
      "text/plain": [
       "\n",
       "Partial autocorrelations of series 'Z', by lag\n",
       "\n",
       "     1      2      3      4      5      6      7      8      9     10 \n",
       " 0.802 -0.029 -0.008 -0.007  0.002  0.008 -0.004 -0.026 -0.002 -0.012 "
      ]
     },
     "metadata": {},
     "output_type": "display_data"
    }
   ],
   "source": [
    "phi_hat = c(0.8 , rep(0,9))\n",
    "phi_hat\n",
    "phi2[1:10]"
   ]
  },
  {
   "cell_type": "markdown",
   "id": "3ea8d283-3d99-4c25-9275-781984435da7",
   "metadata": {},
   "source": [
    "<center> SACF \n",
    "    \n",
    "|k | 1 | 2| 3| 4| 5| 6|7|8|9|10|\n",
    "|:---:|:---:|:---:|:---:|:---:|:---:|:---:|:---:|:---:|:---:|:---:|\n",
    "|이론 | 0.80|0.640|0.512 |0.41 | 0.328 | 0.262 | 0.21 | 0.168 | 0.134 | 0.107 |\n",
    "|simulation|0.802| 0.633| 0.496| 0.386| 0.301| 0.238 |0.186 |0.137| 0.098| 0.066| \n",
    " \n",
    "    \n",
    "<center> SPACF \n",
    "    \n",
    "|k | 1 | 2| 3| 4| 5| 6|7|8|9|10|\n",
    "|:---:|:---:|:---:|:---:|:---:|:---:|:---:|:---:|:---:|:---:|:---:|\n",
    "|이론 | 0.8|0 |0 |0 | 0 | 0 | 0 | 0 | 0 | 0 |\n",
    "|simulation| 0.802| -0.029| -0.008| -0.007 | 0.002|  0.008 |-0.004| -0.026 | -0.002| -0.012| \n",
    "    \n",
    "표본의 크기를 10000으로 증가시켰더니 simulation에서 $\\hat{\\rho_k}$ , $\\hat{\\phi_{kk}}$의 값이 이론적인 $\\hat{\\rho_k}$ , $\\hat{\\phi_{kk}}$의 값에 매우 근사되었다."
   ]
  },
  {
   "cell_type": "code",
   "execution_count": null,
   "id": "c62e1981-f3c4-4d87-9599-c089b1022e4d",
   "metadata": {
    "jupyter": {
     "source_hidden": true
    },
    "tags": []
   },
   "outputs": [],
   "source": []
  }
 ],
 "metadata": {
  "kernelspec": {
   "display_name": "R",
   "language": "R",
   "name": "ir"
  },
  "language_info": {
   "codemirror_mode": "r",
   "file_extension": ".r",
   "mimetype": "text/x-r-source",
   "name": "R",
   "pygments_lexer": "r",
   "version": "4.0.5"
  }
 },
 "nbformat": 4,
 "nbformat_minor": 5
}
