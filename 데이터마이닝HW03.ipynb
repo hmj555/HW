{
 "cells": [
  {
   "cell_type": "markdown",
   "id": "e28f7781-034f-444d-a967-3f41f7c2e74d",
   "metadata": {},
   "source": [
    "# 데이터마이닝 HW03\n",
    "## <div style=\"text-align: right\"> 201822037 통계학과 한민주 </div>"
   ]
  },
  {
   "cell_type": "markdown",
   "id": "420fc878-04ad-47da-b969-4d152e91870c",
   "metadata": {},
   "source": [
    "### 3. `Carseats.csv`를 이용한 Sales(매출액) 예측"
   ]
  },
  {
   "cell_type": "code",
   "execution_count": 21,
   "id": "5536d2ba-dde3-4d98-aa7d-8397f94bc9af",
   "metadata": {},
   "outputs": [],
   "source": [
    "library(rpart)  ## Recursive Partitioning and Regression Trees\n",
    "library(rpart.plot)  ## 그림용\n",
    "library(tree)\n",
    "library(ISLR2)"
   ]
  },
  {
   "cell_type": "code",
   "execution_count": 7,
   "id": "73834b00-725f-4f74-a200-09a7f769c133",
   "metadata": {},
   "outputs": [
    {
     "data": {
      "text/html": [
       "<table class=\"dataframe\">\n",
       "<caption>A data.frame: 6 × 11</caption>\n",
       "<thead>\n",
       "\t<tr><th></th><th scope=col>Sales</th><th scope=col>CompPrice</th><th scope=col>Income</th><th scope=col>Advertising</th><th scope=col>Population</th><th scope=col>Price</th><th scope=col>ShelveLoc</th><th scope=col>Age</th><th scope=col>Education</th><th scope=col>Urban</th><th scope=col>US</th></tr>\n",
       "\t<tr><th></th><th scope=col>&lt;dbl&gt;</th><th scope=col>&lt;int&gt;</th><th scope=col>&lt;int&gt;</th><th scope=col>&lt;int&gt;</th><th scope=col>&lt;int&gt;</th><th scope=col>&lt;int&gt;</th><th scope=col>&lt;chr&gt;</th><th scope=col>&lt;int&gt;</th><th scope=col>&lt;int&gt;</th><th scope=col>&lt;chr&gt;</th><th scope=col>&lt;chr&gt;</th></tr>\n",
       "</thead>\n",
       "<tbody>\n",
       "\t<tr><th scope=row>1</th><td> 9.50</td><td>138</td><td> 73</td><td>11</td><td>276</td><td>120</td><td>Bad   </td><td>42</td><td>17</td><td>Yes</td><td>Yes</td></tr>\n",
       "\t<tr><th scope=row>2</th><td>11.22</td><td>111</td><td> 48</td><td>16</td><td>260</td><td> 83</td><td>Good  </td><td>65</td><td>10</td><td>Yes</td><td>Yes</td></tr>\n",
       "\t<tr><th scope=row>3</th><td>10.06</td><td>113</td><td> 35</td><td>10</td><td>269</td><td> 80</td><td>Medium</td><td>59</td><td>12</td><td>Yes</td><td>Yes</td></tr>\n",
       "\t<tr><th scope=row>4</th><td> 7.40</td><td>117</td><td>100</td><td> 4</td><td>466</td><td> 97</td><td>Medium</td><td>55</td><td>14</td><td>Yes</td><td>Yes</td></tr>\n",
       "\t<tr><th scope=row>5</th><td> 4.15</td><td>141</td><td> 64</td><td> 3</td><td>340</td><td>128</td><td>Bad   </td><td>38</td><td>13</td><td>Yes</td><td>No </td></tr>\n",
       "\t<tr><th scope=row>6</th><td>10.81</td><td>124</td><td>113</td><td>13</td><td>501</td><td> 72</td><td>Bad   </td><td>78</td><td>16</td><td>No </td><td>Yes</td></tr>\n",
       "</tbody>\n",
       "</table>\n"
      ],
      "text/latex": [
       "A data.frame: 6 × 11\n",
       "\\begin{tabular}{r|lllllllllll}\n",
       "  & Sales & CompPrice & Income & Advertising & Population & Price & ShelveLoc & Age & Education & Urban & US\\\\\n",
       "  & <dbl> & <int> & <int> & <int> & <int> & <int> & <chr> & <int> & <int> & <chr> & <chr>\\\\\n",
       "\\hline\n",
       "\t1 &  9.50 & 138 &  73 & 11 & 276 & 120 & Bad    & 42 & 17 & Yes & Yes\\\\\n",
       "\t2 & 11.22 & 111 &  48 & 16 & 260 &  83 & Good   & 65 & 10 & Yes & Yes\\\\\n",
       "\t3 & 10.06 & 113 &  35 & 10 & 269 &  80 & Medium & 59 & 12 & Yes & Yes\\\\\n",
       "\t4 &  7.40 & 117 & 100 &  4 & 466 &  97 & Medium & 55 & 14 & Yes & Yes\\\\\n",
       "\t5 &  4.15 & 141 &  64 &  3 & 340 & 128 & Bad    & 38 & 13 & Yes & No \\\\\n",
       "\t6 & 10.81 & 124 & 113 & 13 & 501 &  72 & Bad    & 78 & 16 & No  & Yes\\\\\n",
       "\\end{tabular}\n"
      ],
      "text/markdown": [
       "\n",
       "A data.frame: 6 × 11\n",
       "\n",
       "| <!--/--> | Sales &lt;dbl&gt; | CompPrice &lt;int&gt; | Income &lt;int&gt; | Advertising &lt;int&gt; | Population &lt;int&gt; | Price &lt;int&gt; | ShelveLoc &lt;chr&gt; | Age &lt;int&gt; | Education &lt;int&gt; | Urban &lt;chr&gt; | US &lt;chr&gt; |\n",
       "|---|---|---|---|---|---|---|---|---|---|---|---|\n",
       "| 1 |  9.50 | 138 |  73 | 11 | 276 | 120 | Bad    | 42 | 17 | Yes | Yes |\n",
       "| 2 | 11.22 | 111 |  48 | 16 | 260 |  83 | Good   | 65 | 10 | Yes | Yes |\n",
       "| 3 | 10.06 | 113 |  35 | 10 | 269 |  80 | Medium | 59 | 12 | Yes | Yes |\n",
       "| 4 |  7.40 | 117 | 100 |  4 | 466 |  97 | Medium | 55 | 14 | Yes | Yes |\n",
       "| 5 |  4.15 | 141 |  64 |  3 | 340 | 128 | Bad    | 38 | 13 | Yes | No  |\n",
       "| 6 | 10.81 | 124 | 113 | 13 | 501 |  72 | Bad    | 78 | 16 | No  | Yes |\n",
       "\n"
      ],
      "text/plain": [
       "  Sales CompPrice Income Advertising Population Price ShelveLoc Age Education\n",
       "1  9.50 138        73    11          276        120   Bad       42  17       \n",
       "2 11.22 111        48    16          260         83   Good      65  10       \n",
       "3 10.06 113        35    10          269         80   Medium    59  12       \n",
       "4  7.40 117       100     4          466         97   Medium    55  14       \n",
       "5  4.15 141        64     3          340        128   Bad       38  13       \n",
       "6 10.81 124       113    13          501         72   Bad       78  16       \n",
       "  Urban US \n",
       "1 Yes   Yes\n",
       "2 Yes   Yes\n",
       "3 Yes   Yes\n",
       "4 Yes   Yes\n",
       "5 Yes   No \n",
       "6 No    Yes"
      ]
     },
     "metadata": {},
     "output_type": "display_data"
    }
   ],
   "source": [
    "Carseats = read.csv(\"Carseats.csv\")  ## 데이터 불러오기\n",
    "head(Carseats)"
   ]
  },
  {
   "cell_type": "code",
   "execution_count": 22,
   "id": "8588a5ce-c3e9-4ce9-bb8d-4fd3ff36f2bc",
   "metadata": {},
   "outputs": [
    {
     "name": "stdout",
     "output_type": "stream",
     "text": [
      "'data.frame':\t400 obs. of  11 variables:\n",
      " $ Sales      : num  9.5 11.22 10.06 7.4 4.15 ...\n",
      " $ CompPrice  : int  138 111 113 117 141 124 115 136 132 132 ...\n",
      " $ Income     : int  73 48 35 100 64 113 105 81 110 113 ...\n",
      " $ Advertising: int  11 16 10 4 3 13 0 15 0 0 ...\n",
      " $ Population : int  276 260 269 466 340 501 45 425 108 131 ...\n",
      " $ Price      : int  120 83 80 97 128 72 108 120 124 124 ...\n",
      " $ ShelveLoc  : chr  \"Bad\" \"Good\" \"Medium\" \"Medium\" ...\n",
      " $ Age        : int  42 65 59 55 38 78 71 67 76 76 ...\n",
      " $ Education  : int  17 10 12 14 13 16 15 10 10 17 ...\n",
      " $ Urban      : chr  \"Yes\" \"Yes\" \"Yes\" \"Yes\" ...\n",
      " $ US         : chr  \"Yes\" \"Yes\" \"Yes\" \"Yes\" ...\n"
     ]
    }
   ],
   "source": [
    "str(Carseats)\n",
    "# ?Carsetas"
   ]
  },
  {
   "cell_type": "markdown",
   "id": "e8b0e030-cad1-4c91-b546-990d0dff0fca",
   "metadata": {},
   "source": [
    "| 변수 | 설명 | \n",
    "|-| - | \n",
    "|`Sales` | 매출액 | \n",
    "|`CompPrice` | 경쟁 업체가 청구한 가격 |\n",
    "|`Income` | 지역 사회 소득 수준 | \n",
    "|`Advertising` | 광고 예산 | \n",
    "|`Population` | 인구 규모 | \n",
    "|`Price` | 카시트에 대한 가격 | \n",
    "|`ShelveLoc` | 카시트 선반 위치의 품질 |\n",
    "|`Age` | 지역 인구의 평균 연령 |\n",
    "|`Education` | 각 지역의 교육 수준 |\n",
    "|`Urban` | 상점이 도시에 위치해 있는지 여부 |\n",
    "|`US` | 상점이 미국에 있는지 여부 |"
   ]
  },
  {
   "cell_type": "markdown",
   "id": "cddd3fcb-b764-4826-91cf-ccc91dfff309",
   "metadata": {},
   "source": [
    "#### (a) training data (60%)와 testing data(40%) 분리"
   ]
  },
  {
   "cell_type": "code",
   "execution_count": 233,
   "id": "dc8ef636-d9e3-48eb-ae5f-775350d21f2a",
   "metadata": {},
   "outputs": [
    {
     "data": {
      "text/html": [
       "0"
      ],
      "text/latex": [
       "0"
      ],
      "text/markdown": [
       "0"
      ],
      "text/plain": [
       "[1] 0"
      ]
     },
     "metadata": {},
     "output_type": "display_data"
    }
   ],
   "source": [
    "sum(is.na(Carseats)) ## NA 없음"
   ]
  },
  {
   "cell_type": "code",
   "execution_count": 29,
   "id": "a24f01bf-ee55-499d-a7a0-ca58867c5343",
   "metadata": {},
   "outputs": [],
   "source": [
    "set.seed(1000)"
   ]
  },
  {
   "cell_type": "code",
   "execution_count": 30,
   "id": "7b6e3f7b-f562-45b4-a0db-354ba33d0021",
   "metadata": {},
   "outputs": [],
   "source": [
    "train_id = sample(1:nrow(Carseats) , nrow(Carseats)*0.6)"
   ]
  },
  {
   "cell_type": "code",
   "execution_count": 31,
   "id": "11d93969-67d6-4eef-a8e6-a325ef3992ca",
   "metadata": {},
   "outputs": [],
   "source": [
    "train_dt = Carseats[train_id,]\n",
    "test_dt = Carseats[-train_id,]"
   ]
  },
  {
   "cell_type": "markdown",
   "id": "ffd5a990-0b4b-40c9-bb47-e8e90aa2431b",
   "metadata": {
    "tags": []
   },
   "source": [
    "#### (b) training data를 이용하여 회귀트리 적합"
   ]
  },
  {
   "cell_type": "code",
   "execution_count": 40,
   "id": "b93f850e-c6c4-488f-9c35-c538906356e1",
   "metadata": {},
   "outputs": [
    {
     "data": {
      "text/plain": [
       "n= 240 \n",
       "\n",
       "node), split, n, deviance, yval\n",
       "      * denotes terminal node\n",
       "\n",
       " 1) root 240 2016.004000  7.422042  \n",
       "   2) ShelveLoc=Bad,Medium 190 1134.042000  6.649211  \n",
       "     4) Price>=92.5 165  807.563300  6.231455  \n",
       "       8) ShelveLoc=Bad 52  186.079000  4.946154  \n",
       "        16) Income< 98.5 40  107.313200  4.479000  \n",
       "          32) CompPrice< 104.5 3    2.350467  1.773333 *\n",
       "          33) CompPrice>=104.5 37   81.220100  4.698378 *\n",
       "        17) Income>=98.5 12   40.938870  6.503333 *\n",
       "       9) ShelveLoc=Medium 113  496.049300  6.822920  \n",
       "        18) Price>=124.5 47  176.587300  5.704043  \n",
       "          36) Age>=60.5 15   63.895370  4.505333  \n",
       "            72) Income< 64 9   14.640000  3.203333 *\n",
       "            73) Income>=64 6   11.113280  6.458333 *\n",
       "          37) Age< 60.5 32   81.035170  6.265937  \n",
       "            74) CompPrice< 138.5 21   38.322780  5.649048 *\n",
       "            75) CompPrice>=138.5 11   19.464050  7.443636 *\n",
       "        19) Price< 124.5 66  218.723000  7.619697  \n",
       "          38) CompPrice< 115.5 21   48.747310  6.314286 *\n",
       "          39) CompPrice>=115.5 45  117.489400  8.228889  \n",
       "            78) Advertising< 6.5 21   26.332780  7.189048 *\n",
       "            79) Advertising>=6.5 24   48.581660  9.138750 *\n",
       "     5) Price< 92.5 25  107.630400  9.406400  \n",
       "      10) Income< 59 5   22.602080  7.138000 *\n",
       "      11) Income>=59 20   52.868050  9.973500 *\n",
       "   3) ShelveLoc=Good 50  337.254100 10.358800  \n",
       "     6) Price>=109.5 34  169.332400  9.360000  \n",
       "      12) CompPrice< 132.5 22   66.316790  8.352273  \n",
       "        24) Price>=132 8    6.972750  6.767500 *\n",
       "        25) Price< 132 14   27.770840  9.257857 *\n",
       "      13) CompPrice>=132.5 12   39.715230 11.207500  \n",
       "        26) Age>=68.5 3    1.036867  8.436667 *\n",
       "        27) Age< 68.5 9    7.968289 12.131110 *\n",
       "     7) Price< 109.5 16   61.926570 12.481250  \n",
       "      14) Age>=55.5 9   14.352890 11.288890 *\n",
       "      15) Age< 55.5 7   18.326770 14.014290 *"
      ]
     },
     "metadata": {},
     "output_type": "display_data"
    }
   ],
   "source": [
    "tree = rpart(Sales ~., data = train_dt ,\n",
    "                 control = rpart.control(cp=0.01 , minsplit=5))\n",
    "## cp = a = 0.01\n",
    "tree"
   ]
  },
  {
   "cell_type": "markdown",
   "id": "578f1916-e881-449c-8d81-32f9360f2ebf",
   "metadata": {},
   "source": [
    "- terminal node의 개수 : 18개"
   ]
  },
  {
   "cell_type": "code",
   "execution_count": 45,
   "id": "f008d2de-cc47-47c1-8014-37eca2788a8f",
   "metadata": {},
   "outputs": [
    {
     "data": {
      "image/png": "[encoded data removed]",
      "text/plain": [
       "Plot with title \"Classification using CART\""
      ]
     },
     "metadata": {
      "image/png": {
       "height": 420,
       "width": 420
      }
     },
     "output_type": "display_data"
    }
   ],
   "source": [
    "rpart.plot(tree , main = \"Classification using CART\")"
   ]
  },
  {
   "cell_type": "markdown",
   "id": "b08e50d7-e61e-4290-95d7-2d56a056c5e4",
   "metadata": {},
   "source": [
    "- 각 노드에 분류된 값의 평균이 써져있음."
   ]
  },
  {
   "cell_type": "code",
   "execution_count": 41,
   "id": "bf3ea552-f3ff-4ee1-a41a-1fe1b94162a3",
   "metadata": {
    "scrolled": true,
    "tags": []
   },
   "outputs": [
    {
     "name": "stdout",
     "output_type": "stream",
     "text": [
      "Call:\n",
      "rpart(formula = Sales ~ ., data = train_dt, control = rpart.control(cp = 0.01, \n",
      "    minsplit = 5))\n",
      "  n= 240 \n",
      "\n",
      "           CP nsplit rel error    xerror       xstd\n",
      "1  0.27019208      0 1.0000000 1.0066296 0.09041068\n",
      "2  0.10855540      1 0.7298079 0.7411019 0.06192960\n",
      "3  0.06221955      2 0.6212525 0.6922175 0.06086798\n",
      "4  0.05257685      3 0.5590330 0.7042091 0.06239184\n",
      "5  0.04996964      4 0.5064561 0.6927962 0.06160494\n",
      "6  0.03139894      5 0.4564865 0.6699297 0.05864856\n",
      "7  0.02603478      6 0.4250875 0.6596301 0.05684445\n",
      "8  0.02111851      7 0.3990528 0.6104254 0.05537428\n",
      "9  0.01876335      8 0.3779343 0.6009558 0.05396750\n",
      "10 0.01731119      9 0.3591709 0.5951121 0.05395512\n",
      "11 0.01595247     11 0.3245485 0.6236529 0.05469277\n",
      "12 0.01566128     12 0.3085960 0.6229629 0.05458116\n",
      "13 0.01523314     13 0.2929348 0.6236853 0.05462882\n",
      "14 0.01450737     14 0.2777016 0.6300685 0.05528600\n",
      "15 0.01177705     15 0.2631943 0.6212439 0.05365901\n",
      "16 0.01153189     16 0.2514172 0.6114978 0.05217175\n",
      "17 0.01000000     17 0.2398853 0.6075243 0.05264755\n",
      "\n",
      "Variable importance\n",
      "  ShelveLoc       Price   CompPrice      Income         Age Advertising \n",
      "         33          25          13           8           7           4 \n",
      " Population   Education          US \n",
      "          4           3           2 \n",
      "\n",
      "Node number 1: 240 observations,    complexity param=0.2701921\n",
      "  mean=7.422042, MSE=8.400018 \n",
      "  left son=2 (190 obs) right son=3 (50 obs)\n",
      "  Primary splits:\n",
      "      ShelveLoc   splits as  LRL,       improve=0.27019210, (0 missing)\n",
      "      Price       < 92.5  to the right, improve=0.18267750, (0 missing)\n",
      "      Advertising < 7.5   to the left,  improve=0.11702440, (0 missing)\n",
      "      US          splits as  LR,        improve=0.06863251, (0 missing)\n",
      "      Age         < 63.5  to the right, improve=0.06061258, (0 missing)\n",
      "  Surrogate splits:\n",
      "      Advertising < 22.5  to the left,  agree=0.796, adj=0.02, (0 split)\n",
      "\n",
      "Node number 2: 190 observations,    complexity param=0.1085554\n",
      "  mean=6.649211, MSE=5.968641 \n",
      "  left son=4 (165 obs) right son=5 (25 obs)\n",
      "  Primary splits:\n",
      "      Price       < 92.5  to the right, improve=0.19298070, (0 missing)\n",
      "      Advertising < 7.5   to the left,  improve=0.14135020, (0 missing)\n",
      "      ShelveLoc   splits as  L-R,       improve=0.11601740, (0 missing)\n",
      "      Age         < 71.5  to the right, improve=0.07786570, (0 missing)\n",
      "      Income      < 98.5  to the left,  improve=0.07351462, (0 missing)\n",
      "  Surrogate splits:\n",
      "      CompPrice < 95.5  to the right, agree=0.895, adj=0.2, (0 split)\n",
      "\n",
      "Node number 3: 50 observations,    complexity param=0.05257685\n",
      "  mean=10.3588, MSE=6.745083 \n",
      "  left son=6 (34 obs) right son=7 (16 obs)\n",
      "  Primary splits:\n",
      "      Price       < 109.5 to the right, improve=0.3142887, (0 missing)\n",
      "      CompPrice   < 133.5 to the left,  improve=0.2065969, (0 missing)\n",
      "      Advertising < 13.5  to the left,  improve=0.1652438, (0 missing)\n",
      "      Population  < 362.5 to the left,  improve=0.1263365, (0 missing)\n",
      "      Age         < 62.5  to the right, improve=0.1072917, (0 missing)\n",
      "  Surrogate splits:\n",
      "      Population < 404.5 to the left,  agree=0.74, adj=0.187, (0 split)\n",
      "      Age        < 72.5  to the left,  agree=0.72, adj=0.125, (0 split)\n",
      "      CompPrice  < 105.5 to the right, agree=0.70, adj=0.062, (0 split)\n",
      "      Income     < 61.5  to the right, agree=0.70, adj=0.062, (0 split)\n",
      "      Education  < 17.5  to the left,  agree=0.70, adj=0.062, (0 split)\n",
      "\n",
      "Node number 4: 165 observations,    complexity param=0.06221955\n",
      "  mean=6.231455, MSE=4.894323 \n",
      "  left son=8 (52 obs) right son=9 (113 obs)\n",
      "  Primary splits:\n",
      "      ShelveLoc   splits as  L-R,       improve=0.15532520, (0 missing)\n",
      "      Advertising < 6.5   to the left,  improve=0.13805440, (0 missing)\n",
      "      Price       < 124.5 to the right, improve=0.11522820, (0 missing)\n",
      "      Age         < 71.5  to the right, improve=0.10216360, (0 missing)\n",
      "      CompPrice   < 143.5 to the left,  improve=0.05216363, (0 missing)\n",
      "  Surrogate splits:\n",
      "      CompPrice   < 105   to the left,  agree=0.691, adj=0.019, (0 split)\n",
      "      Advertising < 20.5  to the right, agree=0.691, adj=0.019, (0 split)\n",
      "\n",
      "Node number 5: 25 observations,    complexity param=0.01595247\n",
      "  mean=9.4064, MSE=4.305215 \n",
      "  left son=10 (5 obs) right son=11 (20 obs)\n",
      "  Primary splits:\n",
      "      Income      < 59    to the left,  improve=0.29880260, (0 missing)\n",
      "      ShelveLoc   splits as  L-R,       improve=0.26752780, (0 missing)\n",
      "      Advertising < 11.5  to the left,  improve=0.19172860, (0 missing)\n",
      "      US          splits as  LR,        improve=0.16373370, (0 missing)\n",
      "      Population  < 46    to the right, improve=0.08942525, (0 missing)\n",
      "\n",
      "Node number 6: 34 observations,    complexity param=0.03139894\n",
      "  mean=9.36, MSE=4.980365 \n",
      "  left son=12 (22 obs) right son=13 (12 obs)\n",
      "  Primary splits:\n",
      "      CompPrice   < 132.5 to the left,  improve=0.3738233, (0 missing)\n",
      "      Advertising < 13.5  to the left,  improve=0.3604594, (0 missing)\n",
      "      Price       < 142.5 to the right, improve=0.2645398, (0 missing)\n",
      "      Income      < 49    to the left,  improve=0.2355410, (0 missing)\n",
      "      US          splits as  LR,        improve=0.1543149, (0 missing)\n",
      "  Surrogate splits:\n",
      "      Population  < 362.5 to the left,  agree=0.706, adj=0.167, (0 split)\n",
      "      Advertising < 13.5  to the left,  agree=0.676, adj=0.083, (0 split)\n",
      "      Age         < 59    to the left,  agree=0.676, adj=0.083, (0 split)\n",
      "      Education   < 10.5  to the right, agree=0.676, adj=0.083, (0 split)\n",
      "\n",
      "Node number 7: 16 observations,    complexity param=0.01450737\n",
      "  mean=12.48125, MSE=3.870411 \n",
      "  left son=14 (9 obs) right son=15 (7 obs)\n",
      "  Primary splits:\n",
      "      Age       < 55.5  to the right, improve=0.4722837, (0 missing)\n",
      "      CompPrice < 138   to the left,  improve=0.2701905, (0 missing)\n",
      "      Education < 11.5  to the right, improve=0.2196808, (0 missing)\n",
      "      Price     < 73    to the right, improve=0.1933489, (0 missing)\n",
      "      Urban     splits as  LR,        improve=0.1505457, (0 missing)\n",
      "  Surrogate splits:\n",
      "      Education   < 13    to the right, agree=0.812, adj=0.571, (0 split)\n",
      "      Income      < 87    to the left,  agree=0.750, adj=0.429, (0 split)\n",
      "      Population  < 358.5 to the left,  agree=0.750, adj=0.429, (0 split)\n",
      "      Advertising < 9.5   to the right, agree=0.688, adj=0.286, (0 split)\n",
      "      Price       < 73    to the right, agree=0.688, adj=0.286, (0 split)\n",
      "\n",
      "Node number 8: 52 observations,    complexity param=0.01876335\n",
      "  mean=4.946154, MSE=3.578443 \n",
      "  left son=16 (40 obs) right son=17 (12 obs)\n",
      "  Primary splits:\n",
      "      Income      < 98.5  to the left,  improve=0.2032846, (0 missing)\n",
      "      CompPrice   < 103.5 to the left,  improve=0.1722353, (0 missing)\n",
      "      Age         < 63.5  to the right, improve=0.1698086, (0 missing)\n",
      "      Advertising < 4.5   to the left,  improve=0.1257666, (0 missing)\n",
      "      Population  < 197   to the left,  improve=0.1216309, (0 missing)\n",
      "  Surrogate splits:\n",
      "      Advertising < 14    to the left,  agree=0.788, adj=0.083, (0 split)\n",
      "      Education   < 10.5  to the right, agree=0.788, adj=0.083, (0 split)\n",
      "\n",
      "Node number 9: 113 observations,    complexity param=0.04996964\n",
      "  mean=6.82292, MSE=4.389817 \n",
      "  left son=18 (47 obs) right son=19 (66 obs)\n",
      "  Primary splits:\n",
      "      Price       < 124.5 to the right, improve=0.20308260, (0 missing)\n",
      "      Advertising < 1.5   to the left,  improve=0.15683770, (0 missing)\n",
      "      Age         < 74.5  to the right, improve=0.09654409, (0 missing)\n",
      "      Income      < 58    to the left,  improve=0.09072119, (0 missing)\n",
      "      US          splits as  LR,        improve=0.08538620, (0 missing)\n",
      "  Surrogate splits:\n",
      "      CompPrice   < 133.5 to the right, agree=0.735, adj=0.362, (0 split)\n",
      "      Income      < 37.5  to the left,  agree=0.619, adj=0.085, (0 split)\n",
      "      Education   < 16.5  to the right, agree=0.619, adj=0.085, (0 split)\n",
      "      Advertising < 18.5  to the right, agree=0.593, adj=0.021, (0 split)\n",
      "      Age         < 53.5  to the left,  agree=0.593, adj=0.021, (0 split)\n",
      "\n",
      "Node number 10: 5 observations\n",
      "  mean=7.138, MSE=4.520416 \n",
      "\n",
      "Node number 11: 20 observations\n",
      "  mean=9.9735, MSE=2.643403 \n",
      "\n",
      "Node number 12: 22 observations,    complexity param=0.01566128\n",
      "  mean=8.352273, MSE=3.014399 \n",
      "  left son=24 (8 obs) right son=25 (14 obs)\n",
      "  Primary splits:\n",
      "      Price       < 132   to the right, improve=0.4760967, (0 missing)\n",
      "      Education   < 15.5  to the left,  improve=0.4170959, (0 missing)\n",
      "      Advertising < 16    to the left,  improve=0.3391061, (0 missing)\n",
      "      Income      < 74.5  to the left,  improve=0.3332026, (0 missing)\n",
      "      Population  < 347   to the left,  improve=0.2668946, (0 missing)\n",
      "  Surrogate splits:\n",
      "      Income      < 32.5  to the left,  agree=0.818, adj=0.500, (0 split)\n",
      "      Age         < 32.5  to the left,  agree=0.773, adj=0.375, (0 split)\n",
      "      Advertising < 6     to the left,  agree=0.682, adj=0.125, (0 split)\n",
      "      Population  < 138.5 to the left,  agree=0.682, adj=0.125, (0 split)\n",
      "\n",
      "Node number 13: 12 observations,    complexity param=0.01523314\n",
      "  mean=11.2075, MSE=3.309602 \n",
      "  left son=26 (3 obs) right son=27 (9 obs)\n",
      "  Primary splits:\n",
      "      Age         < 68.5  to the right, improve=0.7732568, (0 missing)\n",
      "      Advertising < 11.5  to the left,  improve=0.4859238, (0 missing)\n",
      "      Income      < 58.5  to the left,  improve=0.2645971, (0 missing)\n",
      "      CompPrice   < 141   to the left,  improve=0.1966292, (0 missing)\n",
      "      Price       < 124   to the right, improve=0.1156672, (0 missing)\n",
      "\n",
      "Node number 14: 9 observations\n",
      "  mean=11.28889, MSE=1.594765 \n",
      "\n",
      "Node number 15: 7 observations\n",
      "  mean=14.01429, MSE=2.61811 \n",
      "\n",
      "Node number 16: 40 observations,    complexity param=0.01177705\n",
      "  mean=4.479, MSE=2.682829 \n",
      "  left son=32 (3 obs) right son=33 (37 obs)\n",
      "  Primary splits:\n",
      "      CompPrice   < 104.5 to the left,  improve=0.22124580, (0 missing)\n",
      "      Age         < 42.5  to the right, improve=0.13978280, (0 missing)\n",
      "      Advertising < 1.5   to the left,  improve=0.13070470, (0 missing)\n",
      "      Population  < 75.5  to the left,  improve=0.08785056, (0 missing)\n",
      "      Education   < 11.5  to the left,  improve=0.06800668, (0 missing)\n",
      "\n",
      "Node number 17: 12 observations\n",
      "  mean=6.503333, MSE=3.411572 \n",
      "\n",
      "Node number 18: 47 observations,    complexity param=0.01731119\n",
      "  mean=5.704043, MSE=3.757177 \n",
      "  left son=36 (15 obs) right son=37 (32 obs)\n",
      "  Primary splits:\n",
      "      Age         < 60.5  to the right, improve=0.17926990, (0 missing)\n",
      "      Income      < 24.5  to the left,  improve=0.14575370, (0 missing)\n",
      "      Advertising < 1.5   to the left,  improve=0.14463010, (0 missing)\n",
      "      CompPrice   < 147.5 to the left,  improve=0.14401940, (0 missing)\n",
      "      Price       < 159.5 to the right, improve=0.09748533, (0 missing)\n",
      "  Surrogate splits:\n",
      "      Population  < 42.5  to the left,  agree=0.723, adj=0.133, (0 split)\n",
      "      Income      < 24.5  to the left,  agree=0.702, adj=0.067, (0 split)\n",
      "      Advertising < 12.5  to the right, agree=0.702, adj=0.067, (0 split)\n",
      "      Price       < 157   to the right, agree=0.702, adj=0.067, (0 split)\n",
      "\n",
      "Node number 19: 66 observations,    complexity param=0.02603478\n",
      "  mean=7.619697, MSE=3.313985 \n",
      "  left son=38 (21 obs) right son=39 (45 obs)\n",
      "  Primary splits:\n",
      "      CompPrice   < 115.5 to the left,  improve=0.23996670, (0 missing)\n",
      "      Advertising < 6.5   to the left,  improve=0.23271180, (0 missing)\n",
      "      US          splits as  LR,        improve=0.16040490, (0 missing)\n",
      "      Age         < 60.5  to the right, improve=0.15993370, (0 missing)\n",
      "      Income      < 95.5  to the left,  improve=0.06658281, (0 missing)\n",
      "  Surrogate splits:\n",
      "      Population  < 51.5  to the left,  agree=0.727, adj=0.143, (0 split)\n",
      "      Income      < 24.5  to the left,  agree=0.712, adj=0.095, (0 split)\n",
      "      Price       < 93.5  to the left,  agree=0.712, adj=0.095, (0 split)\n",
      "      Advertising < 17.5  to the right, agree=0.697, adj=0.048, (0 split)\n",
      "\n",
      "Node number 24: 8 observations\n",
      "  mean=6.7675, MSE=0.8715937 \n",
      "\n",
      "Node number 25: 14 observations\n",
      "  mean=9.257857, MSE=1.983631 \n",
      "\n",
      "Node number 26: 3 observations\n",
      "  mean=8.436667, MSE=0.3456222 \n",
      "\n",
      "Node number 27: 9 observations\n",
      "  mean=12.13111, MSE=0.8853654 \n",
      "\n",
      "Node number 32: 3 observations\n",
      "  mean=1.773333, MSE=0.7834889 \n",
      "\n",
      "Node number 33: 37 observations\n",
      "  mean=4.698378, MSE=2.195138 \n",
      "\n",
      "Node number 36: 15 observations,    complexity param=0.01731119\n",
      "  mean=4.505333, MSE=4.259692 \n",
      "  left son=72 (9 obs) right son=73 (6 obs)\n",
      "  Primary splits:\n",
      "      Income      < 64    to the left,  improve=0.5969460, (0 missing)\n",
      "      Advertising < 0.5   to the left,  improve=0.2411494, (0 missing)\n",
      "      Price       < 151.5 to the right, improve=0.2396026, (0 missing)\n",
      "      Age         < 78    to the right, improve=0.2080902, (0 missing)\n",
      "      CompPrice   < 148   to the left,  improve=0.1968604, (0 missing)\n",
      "  Surrogate splits:\n",
      "      Education   < 16.5  to the left,  agree=0.800, adj=0.500, (0 split)\n",
      "      CompPrice   < 148   to the left,  agree=0.733, adj=0.333, (0 split)\n",
      "      Population  < 54    to the right, agree=0.733, adj=0.333, (0 split)\n",
      "      Advertising < 3     to the left,  agree=0.667, adj=0.167, (0 split)\n",
      "      Price       < 130.5 to the right, agree=0.667, adj=0.167, (0 split)\n",
      "\n",
      "Node number 37: 32 observations,    complexity param=0.01153189\n",
      "  mean=6.265937, MSE=2.532349 \n",
      "  left son=74 (21 obs) right son=75 (11 obs)\n",
      "  Primary splits:\n",
      "      CompPrice   < 138.5 to the left,  improve=0.28689190, (0 missing)\n",
      "      Education   < 10.5  to the right, improve=0.24921570, (0 missing)\n",
      "      Advertising < 18    to the left,  improve=0.19607040, (0 missing)\n",
      "      US          splits as  LR,        improve=0.11365740, (0 missing)\n",
      "      Price       < 127   to the right, improve=0.08146062, (0 missing)\n",
      "  Surrogate splits:\n",
      "      Price      < 155   to the left,  agree=0.781, adj=0.364, (0 split)\n",
      "      Age        < 40.5  to the right, agree=0.781, adj=0.364, (0 split)\n",
      "      Income     < 41    to the right, agree=0.719, adj=0.182, (0 split)\n",
      "      Population < 484   to the left,  agree=0.688, adj=0.091, (0 split)\n",
      "      Education  < 10.5  to the right, agree=0.688, adj=0.091, (0 split)\n",
      "\n",
      "Node number 38: 21 observations\n",
      "  mean=6.314286, MSE=2.321301 \n",
      "\n",
      "Node number 39: 45 observations,    complexity param=0.02111851\n",
      "  mean=8.228889, MSE=2.610877 \n",
      "  left son=78 (21 obs) right son=79 (24 obs)\n",
      "  Primary splits:\n",
      "      Advertising < 6.5   to the left,  improve=0.3623730, (0 missing)\n",
      "      Age         < 71.5  to the right, improve=0.3459034, (0 missing)\n",
      "      US          splits as  LR,        improve=0.1877799, (0 missing)\n",
      "      Income      < 112.5 to the left,  improve=0.1404337, (0 missing)\n",
      "      Price       < 96.5  to the right, improve=0.1223900, (0 missing)\n",
      "  Surrogate splits:\n",
      "      US         splits as  LR,        agree=0.867, adj=0.714, (0 split)\n",
      "      Age        < 72.5  to the right, agree=0.689, adj=0.333, (0 split)\n",
      "      Price      < 114   to the right, agree=0.644, adj=0.238, (0 split)\n",
      "      Income     < 64.5  to the right, agree=0.622, adj=0.190, (0 split)\n",
      "      Population < 118.5 to the left,  agree=0.622, adj=0.190, (0 split)\n",
      "\n",
      "Node number 72: 9 observations\n",
      "  mean=3.203333, MSE=1.626667 \n",
      "\n",
      "Node number 73: 6 observations\n",
      "  mean=6.458333, MSE=1.852214 \n",
      "\n",
      "Node number 74: 21 observations\n",
      "  mean=5.649048, MSE=1.824894 \n",
      "\n",
      "Node number 75: 11 observations\n",
      "  mean=7.443636, MSE=1.76946 \n",
      "\n",
      "Node number 78: 21 observations\n",
      "  mean=7.189048, MSE=1.253942 \n",
      "\n",
      "Node number 79: 24 observations\n",
      "  mean=9.13875, MSE=2.024236 \n",
      "\n"
     ]
    }
   ],
   "source": [
    "summary(tree)"
   ]
  },
  {
   "cell_type": "code",
   "execution_count": 46,
   "id": "f4cf0314-a16b-41d2-bcca-b74025ce74a2",
   "metadata": {},
   "outputs": [
    {
     "data": {
      "text/html": [
       "<style>\n",
       ".dl-inline {width: auto; margin:0; padding: 0}\n",
       ".dl-inline>dt, .dl-inline>dd {float: none; width: auto; display: inline-block}\n",
       ".dl-inline>dt::after {content: \":\\0020\"; padding-right: .5ex}\n",
       ".dl-inline>dt:not(:first-of-type) {padding-left: .5ex}\n",
       "</style><dl class=dl-inline><dt>ShelveLoc</dt><dd>670.143273861064</dd><dt>Price</dt><dd>497.568782099522</dd><dt>CompPrice</dt><dd>264.735632565254</dd><dt>Income</dt><dd>171.094193062534</dd><dt>Age</dt><dd>146.767138287171</dd><dt>Advertising</dt><dd>89.7217674258606</dd><dt>Population</dt><dd>81.5611756674112</dd><dt>Education</dt><dd>61.5225653941371</dd><dt>US</dt><dd>30.4107149943311</dd></dl>\n"
      ],
      "text/latex": [
       "\\begin{description*}\n",
       "\\item[ShelveLoc] 670.143273861064\n",
       "\\item[Price] 497.568782099522\n",
       "\\item[CompPrice] 264.735632565254\n",
       "\\item[Income] 171.094193062534\n",
       "\\item[Age] 146.767138287171\n",
       "\\item[Advertising] 89.7217674258606\n",
       "\\item[Population] 81.5611756674112\n",
       "\\item[Education] 61.5225653941371\n",
       "\\item[US] 30.4107149943311\n",
       "\\end{description*}\n"
      ],
      "text/markdown": [
       "ShelveLoc\n",
       ":   670.143273861064Price\n",
       ":   497.568782099522CompPrice\n",
       ":   264.735632565254Income\n",
       ":   171.094193062534Age\n",
       ":   146.767138287171Advertising\n",
       ":   89.7217674258606Population\n",
       ":   81.5611756674112Education\n",
       ":   61.5225653941371US\n",
       ":   30.4107149943311\n",
       "\n"
      ],
      "text/plain": [
       "  ShelveLoc       Price   CompPrice      Income         Age Advertising \n",
       "  670.14327   497.56878   264.73563   171.09419   146.76714    89.72177 \n",
       " Population   Education          US \n",
       "   81.56118    61.52257    30.41071 "
      ]
     },
     "metadata": {},
     "output_type": "display_data"
    }
   ],
   "source": [
    "tree$variable.importance ##변수 중요도, 실제 지니를 얼마나 줄였는지 기여도"
   ]
  },
  {
   "cell_type": "code",
   "execution_count": 75,
   "id": "75b5b3f0-48b0-49ab-bab1-74ec8b962f18",
   "metadata": {},
   "outputs": [
    {
     "name": "stdout",
     "output_type": "stream",
     "text": [
      "\n",
      "Regression tree:\n",
      "rpart(formula = Sales ~ ., data = train_dt, control = rpart.control(cp = 0.01, \n",
      "    minsplit = 5))\n",
      "\n",
      "Variables actually used in tree construction:\n",
      "[1] Advertising Age         CompPrice   Income      Price       ShelveLoc  \n",
      "\n",
      "Root node error: 2016/240 = 8.4\n",
      "\n",
      "n= 240 \n",
      "\n",
      "         CP nsplit rel error  xerror     xstd\n",
      "1  0.270192      0   1.00000 1.00663 0.090411\n",
      "2  0.108555      1   0.72981 0.74110 0.061930\n",
      "3  0.062220      2   0.62125 0.69222 0.060868\n",
      "4  0.052577      3   0.55903 0.70421 0.062392\n",
      "5  0.049970      4   0.50646 0.69280 0.061605\n",
      "6  0.031399      5   0.45649 0.66993 0.058649\n",
      "7  0.026035      6   0.42509 0.65963 0.056844\n",
      "8  0.021119      7   0.39905 0.61043 0.055374\n",
      "9  0.018763      8   0.37793 0.60096 0.053967\n",
      "10 0.017311      9   0.35917 0.59511 0.053955\n",
      "11 0.015952     11   0.32455 0.62365 0.054693\n",
      "12 0.015661     12   0.30860 0.62296 0.054581\n",
      "13 0.015233     13   0.29293 0.62369 0.054629\n",
      "14 0.014507     14   0.27770 0.63007 0.055286\n",
      "15 0.011777     15   0.26319 0.62124 0.053659\n",
      "16 0.011532     16   0.25142 0.61150 0.052172\n",
      "17 0.010000     17   0.23989 0.60752 0.052648\n"
     ]
    }
   ],
   "source": [
    "printcp(tree) ## complexity parameter"
   ]
  },
  {
   "cell_type": "markdown",
   "id": "19a95709-6e6b-497c-bd4f-b8fafa870c2a",
   "metadata": {},
   "source": [
    "- 0.010000부터 시작, 분류 17번 발생, xerror(오분류율) 0.60752\n",
    "- 제일 작은 오분류율은 0.59511 이므로 9번 split하면 된다.\n",
    "- cp 정하는 법 :  xerror + xstd = 0.59511 + 0.053955 = 0.649 , 이 0.649 xerror 사이에 있는 CP값(0.021119 ~0.026035  ) 아무거나 정해주면 됨 ==> 0.025"
   ]
  },
  {
   "cell_type": "code",
   "execution_count": 51,
   "id": "3cdc3cf7-904f-4379-8435-da32e91c44b7",
   "metadata": {},
   "outputs": [
    {
     "data": {
      "text/html": [
       "0.649065"
      ],
      "text/latex": [
       "0.649065"
      ],
      "text/markdown": [
       "0.649065"
      ],
      "text/plain": [
       "[1] 0.649065"
      ]
     },
     "metadata": {},
     "output_type": "display_data"
    }
   ],
   "source": [
    "0.59511 + 0.053955"
   ]
  },
  {
   "cell_type": "code",
   "execution_count": 50,
   "id": "9f798ca6-d99c-485f-8db2-fe840b406fd7",
   "metadata": {},
   "outputs": [
    {
     "data": {
      "image/png": "[encoded data removed]",
      "text/plain": [
       "plot without title"
      ]
     },
     "metadata": {
      "image/png": {
       "height": 420,
       "width": 420
      }
     },
     "output_type": "display_data"
    }
   ],
   "source": [
    "plotcp(tree)"
   ]
  },
  {
   "cell_type": "code",
   "execution_count": 61,
   "id": "6b6d66ef-214e-423e-92fe-d1c1885fb4ec",
   "metadata": {},
   "outputs": [
    {
     "data": {
      "text/html": [
       "<style>\n",
       ".dl-inline {width: auto; margin:0; padding: 0}\n",
       ".dl-inline>dt, .dl-inline>dd {float: none; width: auto; display: inline-block}\n",
       ".dl-inline>dt::after {content: \":\\0020\"; padding-right: .5ex}\n",
       ".dl-inline>dt:not(:first-of-type) {padding-left: .5ex}\n",
       "</style><dl class=dl-inline><dt>1</dt><dd>4.69837837837838</dd><dt>2</dt><dd>11.2888888888889</dd><dt>10</dt><dd>7.18904761904762</dd><dt>11</dt><dd>4.69837837837838</dd><dt>12</dt><dd>14.0142857142857</dd><dt>13</dt><dd>3.20333333333333</dd></dl>\n"
      ],
      "text/latex": [
       "\\begin{description*}\n",
       "\\item[1] 4.69837837837838\n",
       "\\item[2] 11.2888888888889\n",
       "\\item[10] 7.18904761904762\n",
       "\\item[11] 4.69837837837838\n",
       "\\item[12] 14.0142857142857\n",
       "\\item[13] 3.20333333333333\n",
       "\\end{description*}\n"
      ],
      "text/markdown": [
       "1\n",
       ":   4.698378378378382\n",
       ":   11.288888888888910\n",
       ":   7.1890476190476211\n",
       ":   4.6983783783783812\n",
       ":   14.014285714285713\n",
       ":   3.20333333333333\n",
       "\n"
      ],
      "text/plain": [
       "        1         2        10        11        12        13 \n",
       " 4.698378 11.288889  7.189048  4.698378 14.014286  3.203333 "
      ]
     },
     "metadata": {},
     "output_type": "display_data"
    }
   ],
   "source": [
    "yhat = predict(tree, newdata=test_dt)\n",
    "head(yhat)"
   ]
  },
  {
   "cell_type": "code",
   "execution_count": 63,
   "id": "7abe6692-9cb5-42d8-ba1c-22e99dee5e83",
   "metadata": {},
   "outputs": [
    {
     "data": {
      "text/html": [
       "4.42118344663775"
      ],
      "text/latex": [
       "4.42118344663775"
      ],
      "text/markdown": [
       "4.42118344663775"
      ],
      "text/plain": [
       "[1] 4.421183"
      ]
     },
     "metadata": {},
     "output_type": "display_data"
    }
   ],
   "source": [
    "mean((yhat-test_dt$Sales)^2)  ## test MSE"
   ]
  },
  {
   "cell_type": "markdown",
   "id": "1d2d33c8-ece7-4e3b-8313-c300a1b2773e",
   "metadata": {},
   "source": [
    "#### (c) 가지치기 시행"
   ]
  },
  {
   "cell_type": "code",
   "execution_count": 53,
   "id": "01656d35-c162-420d-bc57-975ff57d1763",
   "metadata": {},
   "outputs": [
    {
     "data": {
      "image/png": "[encoded data removed]",
      "text/plain": [
       "Plot with title \"Classfication using CART\""
      ]
     },
     "metadata": {
      "image/png": {
       "height": 420,
       "width": 420
      }
     },
     "output_type": "display_data"
    }
   ],
   "source": [
    "prune_tree = rpart(Sales~. ,data = train_dt , \n",
    "                       control = rpart.control(cp=0.025))\n",
    "\n",
    "rpart.plot(prune_tree, main = \"Classfication using CART\")"
   ]
  },
  {
   "cell_type": "markdown",
   "id": "6145c71c-3718-4a82-b3f7-7f3fda96d3da",
   "metadata": {},
   "source": [
    "- terminal node 개수 : 8개\n",
    "- 각 노드에 분류된 값의 평균이 쓰여있음"
   ]
  },
  {
   "cell_type": "code",
   "execution_count": 64,
   "id": "281f2915-e2e3-4cca-82b6-afaedef300f0",
   "metadata": {},
   "outputs": [
    {
     "data": {
      "text/plain": [
       "n= 240 \n",
       "\n",
       "node), split, n, deviance, yval\n",
       "      * denotes terminal node\n",
       "\n",
       " 1) root 240 2016.00400  7.422042  \n",
       "   2) ShelveLoc=Bad,Medium 190 1134.04200  6.649211  \n",
       "     4) Price>=92.5 165  807.56330  6.231455  \n",
       "       8) ShelveLoc=Bad 52  186.07900  4.946154 *\n",
       "       9) ShelveLoc=Medium 113  496.04930  6.822920  \n",
       "        18) Price>=124.5 47  176.58730  5.704043 *\n",
       "        19) Price< 124.5 66  218.72300  7.619697  \n",
       "          38) CompPrice< 115.5 21   48.74731  6.314286 *\n",
       "          39) CompPrice>=115.5 45  117.48940  8.228889 *\n",
       "     5) Price< 92.5 25  107.63040  9.406400 *\n",
       "   3) ShelveLoc=Good 50  337.25410 10.358800  \n",
       "     6) Price>=109.5 34  169.33240  9.360000  \n",
       "      12) CompPrice< 132.5 22   66.31679  8.352273 *\n",
       "      13) CompPrice>=132.5 12   39.71523 11.207500 *\n",
       "     7) Price< 109.5 16   61.92657 12.481250 *"
      ]
     },
     "metadata": {},
     "output_type": "display_data"
    }
   ],
   "source": [
    "prune_tree"
   ]
  },
  {
   "cell_type": "code",
   "execution_count": 70,
   "id": "bee80584-b74a-4765-a4db-6a664138ad9a",
   "metadata": {},
   "outputs": [
    {
     "data": {
      "text/html": [
       "<style>\n",
       ".dl-inline {width: auto; margin:0; padding: 0}\n",
       ".dl-inline>dt, .dl-inline>dd {float: none; width: auto; display: inline-block}\n",
       ".dl-inline>dt::after {content: \":\\0020\"; padding-right: .5ex}\n",
       ".dl-inline>dt:not(:first-of-type) {padding-left: .5ex}\n",
       "</style><dl class=dl-inline><dt>1</dt><dd>4.94615384615385</dd><dt>2</dt><dd>12.48125</dd><dt>10</dt><dd>8.22888888888889</dd><dt>11</dt><dd>4.94615384615385</dd><dt>12</dt><dd>12.48125</dd><dt>13</dt><dd>5.70404255319149</dd></dl>\n"
      ],
      "text/latex": [
       "\\begin{description*}\n",
       "\\item[1] 4.94615384615385\n",
       "\\item[2] 12.48125\n",
       "\\item[10] 8.22888888888889\n",
       "\\item[11] 4.94615384615385\n",
       "\\item[12] 12.48125\n",
       "\\item[13] 5.70404255319149\n",
       "\\end{description*}\n"
      ],
      "text/markdown": [
       "1\n",
       ":   4.946153846153852\n",
       ":   12.4812510\n",
       ":   8.2288888888888911\n",
       ":   4.9461538461538512\n",
       ":   12.4812513\n",
       ":   5.70404255319149\n",
       "\n"
      ],
      "text/plain": [
       "        1         2        10        11        12        13 \n",
       " 4.946154 12.481250  8.228889  4.946154 12.481250  5.704043 "
      ]
     },
     "metadata": {},
     "output_type": "display_data"
    }
   ],
   "source": [
    "yhat = predict(prune_tree, newdata=test_dt)\n",
    "head(yhat)"
   ]
  },
  {
   "cell_type": "code",
   "execution_count": 71,
   "id": "2bf958bd-23b6-4097-b93f-1232aeba1561",
   "metadata": {},
   "outputs": [
    {
     "data": {
      "text/html": [
       "4.77948482017672"
      ],
      "text/latex": [
       "4.77948482017672"
      ],
      "text/markdown": [
       "4.77948482017672"
      ],
      "text/plain": [
       "[1] 4.779485"
      ]
     },
     "metadata": {},
     "output_type": "display_data"
    }
   ],
   "source": [
    "mean((yhat-test_dt$Sales)^2)  ## test MSE"
   ]
  },
  {
   "cell_type": "markdown",
   "id": "7dd4815b-9083-413c-b343-e2671a056d65",
   "metadata": {},
   "source": [
    "- 가지치기 전 모델의 test MSE는 4.42 , 가지치기 후 모델의 test MSE는 4.78로 가지치기 시행으로 test MSE는 커졌다."
   ]
  },
  {
   "cell_type": "markdown",
   "id": "4022b2d8-b834-47bd-af38-f175e5596a91",
   "metadata": {},
   "source": [
    "#### (d)  Bagging 시행"
   ]
  },
  {
   "cell_type": "code",
   "execution_count": 72,
   "id": "d171e89c-e0b4-4316-a1ba-dc971bec26ec",
   "metadata": {},
   "outputs": [
    {
     "name": "stderr",
     "output_type": "stream",
     "text": [
      "randomForest 4.6-14\n",
      "\n",
      "Type rfNews() to see new features/changes/bug fixes.\n",
      "\n",
      "\n",
      "Attaching package: 'ggplot2'\n",
      "\n",
      "\n",
      "The following object is masked from 'package:randomForest':\n",
      "\n",
      "    margin\n",
      "\n",
      "\n"
     ]
    }
   ],
   "source": [
    "library(randomForest) ##random Forest\n",
    "library(ipred) ##bagging\n",
    "library(ggplot2)\n",
    "library(data.table)"
   ]
  },
  {
   "cell_type": "code",
   "execution_count": 96,
   "id": "d137a2d1-7fc7-4130-a4e5-0dd82fab49dd",
   "metadata": {},
   "outputs": [],
   "source": [
    "bagg = ipredbagg(train_dt$Sales , train_dt[,-1] , nbagg=100 , coob= T)\n",
    "# y ,x , tree개수 100개(B) , OOB sample error 넣어줌."
   ]
  },
  {
   "cell_type": "code",
   "execution_count": 97,
   "id": "e35b7b20-e212-469c-8970-674f9579d65d",
   "metadata": {},
   "outputs": [
    {
     "data": {
      "text/plain": [
       "\n",
       "Bagging regression trees with 100 bootstrap replications \n",
       "Out-of-bag estimate of root mean squared error:  1.7976 \n"
      ]
     },
     "metadata": {},
     "output_type": "display_data"
    }
   ],
   "source": [
    "bagg"
   ]
  },
  {
   "cell_type": "markdown",
   "id": "d661a1aa-b119-446a-915d-006345b2f4e1",
   "metadata": {},
   "source": [
    "- OOB에 대한 RMSE 1.7976"
   ]
  },
  {
   "cell_type": "code",
   "execution_count": 98,
   "id": "fafccc55-301a-4c90-b2a0-849086e9b155",
   "metadata": {},
   "outputs": [],
   "source": [
    "pred = predict(bagg , newdata = test_dt)"
   ]
  },
  {
   "cell_type": "code",
   "execution_count": 99,
   "id": "5278df03-0b31-4c5f-870a-47614e240b2b",
   "metadata": {},
   "outputs": [
    {
     "data": {
      "text/html": [
       "3.18121124877613"
      ],
      "text/latex": [
       "3.18121124877613"
      ],
      "text/markdown": [
       "3.18121124877613"
      ],
      "text/plain": [
       "[1] 3.181211"
      ]
     },
     "metadata": {},
     "output_type": "display_data"
    }
   ],
   "source": [
    "mean((pred-test_dt$Sales)^2)  ## test MSE"
   ]
  },
  {
   "cell_type": "markdown",
   "id": "2e01ff3f-164e-41d8-902f-054478ebe2cf",
   "metadata": {},
   "source": [
    "- 배깅을 하니 test MSE가 4.42에서 3.18로 줄어들었다."
   ]
  },
  {
   "cell_type": "markdown",
   "id": "17b3946b-2a34-49f8-b733-3ff4c826282b",
   "metadata": {},
   "source": [
    "#### (e) Random Forest 실행"
   ]
  },
  {
   "cell_type": "code",
   "execution_count": 138,
   "id": "82fd67f9-dbde-457d-8ed0-03fd563d8962",
   "metadata": {},
   "outputs": [],
   "source": [
    "rf = randomForest(Sales ~. , data = train_dt ,ntree=1000,  mtry =4 , importance =TRUE) \n",
    "## tree를 1000개 생성 , 설명변수를 4개씩 선택 , 변수 중요도 계산"
   ]
  },
  {
   "cell_type": "code",
   "execution_count": 139,
   "id": "9e9b6189-aa10-4155-ba1c-c71513bfcc8f",
   "metadata": {},
   "outputs": [
    {
     "data": {
      "text/plain": [
       "\n",
       "Call:\n",
       " randomForest(formula = Sales ~ ., data = train_dt, ntree = 1000,      mtry = 4, importance = TRUE) \n",
       "               Type of random forest: regression\n",
       "                     Number of trees: 1000\n",
       "No. of variables tried at each split: 4\n",
       "\n",
       "          Mean of squared residuals: 3.075803\n",
       "                    % Var explained: 63.38"
      ]
     },
     "metadata": {},
     "output_type": "display_data"
    }
   ],
   "source": [
    "rf"
   ]
  },
  {
   "cell_type": "markdown",
   "id": "e6edb4d5-dc3f-4a08-afde-98dfa144f684",
   "metadata": {},
   "source": [
    "- 회귀모형\n",
    "- 1000개의 트리를 씀\n",
    "- 설명변수 4개씩 선택\n",
    "- MSE : 3.07\n",
    "- R-squared : 약 63.38%"
   ]
  },
  {
   "cell_type": "code",
   "execution_count": 140,
   "id": "2ea84c8a-637b-4aa7-8e50-1ab786785823",
   "metadata": {},
   "outputs": [
    {
     "data": {
      "image/png": "[encoded data removed]",
      "text/plain": [
       "plot without title"
      ]
     },
     "metadata": {
      "image/png": {
       "height": 420,
       "width": 420
      }
     },
     "output_type": "display_data"
    }
   ],
   "source": [
    "yhat.rf = predict(rf , newdata = test_dt)\n",
    "plot(yhat.rf , test_dt$Sales , pch =16) ## (예측값 , 실제값)\n",
    "abline(0,1, col = 'red')"
   ]
  },
  {
   "cell_type": "markdown",
   "id": "e9b09e33-93ed-44e3-939e-16d8c5849ede",
   "metadata": {},
   "source": [
    "- 값들의 경향이 빨간선과 비슷함 => 잘 예측"
   ]
  },
  {
   "cell_type": "code",
   "execution_count": 145,
   "id": "bea02bda-a19a-4efe-80b7-651a465445fb",
   "metadata": {},
   "outputs": [
    {
     "data": {
      "text/html": [
       "2.90308016036742"
      ],
      "text/latex": [
       "2.90308016036742"
      ],
      "text/markdown": [
       "2.90308016036742"
      ],
      "text/plain": [
       "[1] 2.90308"
      ]
     },
     "metadata": {},
     "output_type": "display_data"
    }
   ],
   "source": [
    "mean((yhat.rf - test_dt$Sales )^2) ## test MSE"
   ]
  },
  {
   "cell_type": "markdown",
   "id": "c18ef8fe-f963-4a0f-ba68-0ca23bc17d7d",
   "metadata": {},
   "source": [
    "- 배깅 실행 시 test MSE는 3.18 이었는데, Random Forest를 실행하니 test MSE가 2.9로 줄었다."
   ]
  },
  {
   "cell_type": "code",
   "execution_count": 142,
   "id": "4fc41736-c378-46ef-86ab-4ac50cbe38c7",
   "metadata": {},
   "outputs": [
    {
     "data": {
      "image/png": "[encoded data removed]",
      "text/plain": [
       "plot without title"
      ]
     },
     "metadata": {
      "image/png": {
       "height": 420,
       "width": 420
      }
     },
     "output_type": "display_data"
    }
   ],
   "source": [
    "plot(rf$mse  , type='l')"
   ]
  },
  {
   "cell_type": "markdown",
   "id": "9b7c20ef-4655-49d6-ab6a-06706eeecf61",
   "metadata": {},
   "source": [
    "- tree의 수를 증가시킬수록 OOB mse가 줄어든다. \n",
    "- 200개의 tree만 써도 MSE가 비슷할 것 같다."
   ]
  },
  {
   "cell_type": "code",
   "execution_count": 147,
   "id": "4439f9af-e200-4d31-a446-33d4a613b84e",
   "metadata": {},
   "outputs": [
    {
     "data": {
      "image/png": "[encoded data removed]",
      "text/plain": [
       "plot without title"
      ]
     },
     "metadata": {
      "image/png": {
       "height": 420,
       "width": 420
      }
     },
     "output_type": "display_data"
    }
   ],
   "source": [
    "plot(rf$rsq  , type='l')"
   ]
  },
  {
   "cell_type": "markdown",
   "id": "9f9f5e2d-11e6-4ff4-97d9-58e07238ff9b",
   "metadata": {},
   "source": [
    "- $R^2$가 약 60%까지만 상승"
   ]
  },
  {
   "cell_type": "code",
   "execution_count": 153,
   "id": "382782f1-b868-44cc-a6c2-4a461772090f",
   "metadata": {},
   "outputs": [
    {
     "data": {
      "text/html": [
       "<table class=\"dataframe\">\n",
       "<caption>A matrix: 10 × 2 of type dbl</caption>\n",
       "<thead>\n",
       "\t<tr><th></th><th scope=col>%IncMSE</th><th scope=col>IncNodePurity</th></tr>\n",
       "</thead>\n",
       "<tbody>\n",
       "\t<tr><th scope=row>CompPrice</th><td> 0.732726824</td><td>200.91284</td></tr>\n",
       "\t<tr><th scope=row>Income</th><td> 0.263549852</td><td>169.51607</td></tr>\n",
       "\t<tr><th scope=row>Advertising</th><td> 0.863316264</td><td>227.08208</td></tr>\n",
       "\t<tr><th scope=row>Population</th><td> 0.041281063</td><td>111.36178</td></tr>\n",
       "\t<tr><th scope=row>Price</th><td> 3.866253549</td><td>522.10680</td></tr>\n",
       "\t<tr><th scope=row>ShelveLoc</th><td> 3.129333228</td><td>384.37759</td></tr>\n",
       "\t<tr><th scope=row>Age</th><td> 0.377936635</td><td>181.46891</td></tr>\n",
       "\t<tr><th scope=row>Education</th><td>-0.014253026</td><td> 70.61764</td></tr>\n",
       "\t<tr><th scope=row>Urban</th><td> 0.005922898</td><td> 14.79073</td></tr>\n",
       "\t<tr><th scope=row>US</th><td> 0.110064536</td><td> 32.33856</td></tr>\n",
       "</tbody>\n",
       "</table>\n"
      ],
      "text/latex": [
       "A matrix: 10 × 2 of type dbl\n",
       "\\begin{tabular}{r|ll}\n",
       "  & \\%IncMSE & IncNodePurity\\\\\n",
       "\\hline\n",
       "\tCompPrice &  0.732726824 & 200.91284\\\\\n",
       "\tIncome &  0.263549852 & 169.51607\\\\\n",
       "\tAdvertising &  0.863316264 & 227.08208\\\\\n",
       "\tPopulation &  0.041281063 & 111.36178\\\\\n",
       "\tPrice &  3.866253549 & 522.10680\\\\\n",
       "\tShelveLoc &  3.129333228 & 384.37759\\\\\n",
       "\tAge &  0.377936635 & 181.46891\\\\\n",
       "\tEducation & -0.014253026 &  70.61764\\\\\n",
       "\tUrban &  0.005922898 &  14.79073\\\\\n",
       "\tUS &  0.110064536 &  32.33856\\\\\n",
       "\\end{tabular}\n"
      ],
      "text/markdown": [
       "\n",
       "A matrix: 10 × 2 of type dbl\n",
       "\n",
       "| <!--/--> | %IncMSE | IncNodePurity |\n",
       "|---|---|---|\n",
       "| CompPrice |  0.732726824 | 200.91284 |\n",
       "| Income |  0.263549852 | 169.51607 |\n",
       "| Advertising |  0.863316264 | 227.08208 |\n",
       "| Population |  0.041281063 | 111.36178 |\n",
       "| Price |  3.866253549 | 522.10680 |\n",
       "| ShelveLoc |  3.129333228 | 384.37759 |\n",
       "| Age |  0.377936635 | 181.46891 |\n",
       "| Education | -0.014253026 |  70.61764 |\n",
       "| Urban |  0.005922898 |  14.79073 |\n",
       "| US |  0.110064536 |  32.33856 |\n",
       "\n"
      ],
      "text/plain": [
       "            %IncMSE      IncNodePurity\n",
       "CompPrice    0.732726824 200.91284    \n",
       "Income       0.263549852 169.51607    \n",
       "Advertising  0.863316264 227.08208    \n",
       "Population   0.041281063 111.36178    \n",
       "Price        3.866253549 522.10680    \n",
       "ShelveLoc    3.129333228 384.37759    \n",
       "Age          0.377936635 181.46891    \n",
       "Education   -0.014253026  70.61764    \n",
       "Urban        0.005922898  14.79073    \n",
       "US           0.110064536  32.33856    "
      ]
     },
     "metadata": {},
     "output_type": "display_data"
    },
    {
     "data": {
      "image/png": "[encoded data removed]",
      "text/plain": [
       "plot without title"
      ]
     },
     "metadata": {
      "image/png": {
       "height": 420,
       "width": 420
      }
     },
     "output_type": "display_data"
    }
   ],
   "source": [
    "rf$importance\n",
    "varImpPlot(rf , pch=16)"
   ]
  },
  {
   "cell_type": "markdown",
   "id": "a8a1519d-97d2-4520-ac63-027a744431eb",
   "metadata": {},
   "source": [
    "- IncNodePurity : split 시 순수도 증가량 \n",
    "- %IncMSE : OOB 샘플을 임의화 한 차이\n",
    "\n",
    "=> 클수록 해당 변수가 중요한 것임(Price , ShelveLoc 중요)"
   ]
  },
  {
   "cell_type": "code",
   "execution_count": 154,
   "id": "b16f7af8-0f8b-43c6-8932-94a19fab4612",
   "metadata": {},
   "outputs": [
    {
     "data": {
      "text/html": [
       "<style>\n",
       ".dl-inline {width: auto; margin:0; padding: 0}\n",
       ".dl-inline>dt, .dl-inline>dd {float: none; width: auto; display: inline-block}\n",
       ".dl-inline>dt::after {content: \":\\0020\"; padding-right: .5ex}\n",
       ".dl-inline>dt:not(:first-of-type) {padding-left: .5ex}\n",
       "</style><dl class=dl-inline><dt>CompPrice</dt><dd>0.0326356415764906</dd><dt>Income</dt><dd>0.0284801136610915</dd><dt>Advertising</dt><dd>0.0362571933794636</dd><dt>Population</dt><dd>0.021724551696085</dd><dt>Price</dt><dd>0.0654971240895454</dd><dt>ShelveLoc</dt><dd>0.0611821333190191</dd><dt>Age</dt><dd>0.0299366378509142</dd><dt>Education</dt><dd>0.0176187218871098</dd><dt>Urban</dt><dd>0.00807264120750132</dd><dt>US</dt><dd>0.0159044941280542</dd></dl>\n"
      ],
      "text/latex": [
       "\\begin{description*}\n",
       "\\item[CompPrice] 0.0326356415764906\n",
       "\\item[Income] 0.0284801136610915\n",
       "\\item[Advertising] 0.0362571933794636\n",
       "\\item[Population] 0.021724551696085\n",
       "\\item[Price] 0.0654971240895454\n",
       "\\item[ShelveLoc] 0.0611821333190191\n",
       "\\item[Age] 0.0299366378509142\n",
       "\\item[Education] 0.0176187218871098\n",
       "\\item[Urban] 0.00807264120750132\n",
       "\\item[US] 0.0159044941280542\n",
       "\\end{description*}\n"
      ],
      "text/markdown": [
       "CompPrice\n",
       ":   0.0326356415764906Income\n",
       ":   0.0284801136610915Advertising\n",
       ":   0.0362571933794636Population\n",
       ":   0.021724551696085Price\n",
       ":   0.0654971240895454ShelveLoc\n",
       ":   0.0611821333190191Age\n",
       ":   0.0299366378509142Education\n",
       ":   0.0176187218871098Urban\n",
       ":   0.00807264120750132US\n",
       ":   0.0159044941280542\n",
       "\n"
      ],
      "text/plain": [
       "  CompPrice      Income Advertising  Population       Price   ShelveLoc \n",
       "0.032635642 0.028480114 0.036257193 0.021724552 0.065497124 0.061182133 \n",
       "        Age   Education       Urban          US \n",
       "0.029936638 0.017618722 0.008072641 0.015904494 "
      ]
     },
     "metadata": {},
     "output_type": "display_data"
    }
   ],
   "source": [
    "rf$importanceSD"
   ]
  },
  {
   "cell_type": "markdown",
   "id": "2e55d43f-9515-4e33-8ecb-f2a7c681f45d",
   "metadata": {},
   "source": [
    "- 임의화 작업 시 분산"
   ]
  },
  {
   "cell_type": "markdown",
   "id": "0331f65c-5a53-4f2d-9acf-2eba845bc1cf",
   "metadata": {},
   "source": [
    "#### 변수를 뽑는 개수 변화시키기"
   ]
  },
  {
   "cell_type": "code",
   "execution_count": 167,
   "id": "c407a926-778a-404e-9b84-e4b1f9d89b7d",
   "metadata": {},
   "outputs": [],
   "source": [
    "rf = randomForest(Sales ~. , data = train_dt ,ntree=1000,  mtry =4 , importance =TRUE,\n",
    "                 xtest = test_dt[,-1] , ytest = test_dt$Sales) "
   ]
  },
  {
   "cell_type": "code",
   "execution_count": 170,
   "id": "e50a1a30-77fb-4746-be34-679e34863391",
   "metadata": {},
   "outputs": [],
   "source": [
    "mtry_rf = function(m){\n",
    "    return(randomForest(Sales ~. , data = train_dt , mtry =m , xtest = test_dt[,-1] , ytest = test_dt$Sales)$test$mse) }"
   ]
  },
  {
   "cell_type": "code",
   "execution_count": 175,
   "id": "dd9b3f9b-bec0-4713-90c1-f3f051eecd40",
   "metadata": {},
   "outputs": [
    {
     "data": {
      "image/png": "[encoded data removed]",
      "text/plain": [
       "plot without title"
      ]
     },
     "metadata": {
      "image/png": {
       "height": 420,
       "width": 420
      }
     },
     "output_type": "display_data"
    }
   ],
   "source": [
    "tmp_dt <- data.table( num_tree = 1:500,\n",
    "                      rf_1 = mtry_rf(1),\n",
    "                      rf_4 = mtry_rf(4),\n",
    "                      rf_6 = mtry_rf(6),\n",
    "                      rf_8 = mtry_rf(8),\n",
    "                      rf_10 = mtry_rf(10))\n",
    "\n",
    "melt.tmp <- melt(tmp_dt, id=1)\n",
    "\n",
    "ggplot(melt.tmp, aes(num_tree, value, col=variable)) + \n",
    "  geom_line(lwd=1) +\n",
    "  labs(y='test MSE', col=\"\") + theme_bw()"
   ]
  },
  {
   "cell_type": "markdown",
   "id": "c87f7fee-ec9d-4f2c-9fd0-fe6502adeb56",
   "metadata": {},
   "source": [
    "- 변수를 뽑는 개수가 6일 때 test MSE가 가장 작을 것이다."
   ]
  },
  {
   "cell_type": "code",
   "execution_count": 178,
   "id": "e8b3c377-a206-44d0-a438-beccc7563097",
   "metadata": {},
   "outputs": [
    {
     "data": {
      "text/html": [
       "2.80016350483822"
      ],
      "text/latex": [
       "2.80016350483822"
      ],
      "text/markdown": [
       "2.80016350483822"
      ],
      "text/plain": [
       "[1] 2.800164"
      ]
     },
     "metadata": {},
     "output_type": "display_data"
    }
   ],
   "source": [
    "rf = randomForest(Sales ~. , data = train_dt ,ntree=200,  mtry =6 , importance =TRUE,\n",
    "                 xtest = test_dt[,-1] , ytest = test_dt$Sales) \n",
    "mean(rf$test$mse)"
   ]
  },
  {
   "cell_type": "markdown",
   "id": "b81042dc-8139-451e-82b1-dde104c4e718",
   "metadata": {},
   "source": [
    "- test MSE가 2.8로 가장 작으므로 최종모형으로 선택한다. "
   ]
  },
  {
   "cell_type": "markdown",
   "id": "94d7d174-4609-46ba-8249-2ecdc5b786da",
   "metadata": {},
   "source": [
    "---"
   ]
  },
  {
   "cell_type": "markdown",
   "id": "a8252f71-a064-4fa4-a6f6-15273332b6ce",
   "metadata": {},
   "source": [
    "### 4. `OJ.csv` 데이터를 이용한 모형 적합"
   ]
  },
  {
   "cell_type": "code",
   "execution_count": 179,
   "id": "dd141915-2d7d-4640-ba6c-d93942d21c62",
   "metadata": {},
   "outputs": [
    {
     "data": {
      "text/html": [
       "<table class=\"dataframe\">\n",
       "<caption>A data.frame: 6 × 18</caption>\n",
       "<thead>\n",
       "\t<tr><th></th><th scope=col>Purchase</th><th scope=col>WeekofPurchase</th><th scope=col>StoreID</th><th scope=col>PriceCH</th><th scope=col>PriceMM</th><th scope=col>DiscCH</th><th scope=col>DiscMM</th><th scope=col>SpecialCH</th><th scope=col>SpecialMM</th><th scope=col>LoyalCH</th><th scope=col>SalePriceMM</th><th scope=col>SalePriceCH</th><th scope=col>PriceDiff</th><th scope=col>Store7</th><th scope=col>PctDiscMM</th><th scope=col>PctDiscCH</th><th scope=col>ListPriceDiff</th><th scope=col>STORE</th></tr>\n",
       "\t<tr><th></th><th scope=col>&lt;chr&gt;</th><th scope=col>&lt;int&gt;</th><th scope=col>&lt;int&gt;</th><th scope=col>&lt;dbl&gt;</th><th scope=col>&lt;dbl&gt;</th><th scope=col>&lt;dbl&gt;</th><th scope=col>&lt;dbl&gt;</th><th scope=col>&lt;int&gt;</th><th scope=col>&lt;int&gt;</th><th scope=col>&lt;dbl&gt;</th><th scope=col>&lt;dbl&gt;</th><th scope=col>&lt;dbl&gt;</th><th scope=col>&lt;dbl&gt;</th><th scope=col>&lt;chr&gt;</th><th scope=col>&lt;dbl&gt;</th><th scope=col>&lt;dbl&gt;</th><th scope=col>&lt;dbl&gt;</th><th scope=col>&lt;int&gt;</th></tr>\n",
       "</thead>\n",
       "<tbody>\n",
       "\t<tr><th scope=row>1</th><td>CH</td><td>237</td><td>1</td><td>1.75</td><td>1.99</td><td>0.00</td><td>0.0</td><td>0</td><td>0</td><td>0.500000</td><td>1.99</td><td>1.75</td><td> 0.24</td><td>No </td><td>0.000000</td><td>0.000000</td><td>0.24</td><td>1</td></tr>\n",
       "\t<tr><th scope=row>2</th><td>CH</td><td>239</td><td>1</td><td>1.75</td><td>1.99</td><td>0.00</td><td>0.3</td><td>0</td><td>1</td><td>0.600000</td><td>1.69</td><td>1.75</td><td>-0.06</td><td>No </td><td>0.150754</td><td>0.000000</td><td>0.24</td><td>1</td></tr>\n",
       "\t<tr><th scope=row>3</th><td>CH</td><td>245</td><td>1</td><td>1.86</td><td>2.09</td><td>0.17</td><td>0.0</td><td>0</td><td>0</td><td>0.680000</td><td>2.09</td><td>1.69</td><td> 0.40</td><td>No </td><td>0.000000</td><td>0.091398</td><td>0.23</td><td>1</td></tr>\n",
       "\t<tr><th scope=row>4</th><td>MM</td><td>227</td><td>1</td><td>1.69</td><td>1.69</td><td>0.00</td><td>0.0</td><td>0</td><td>0</td><td>0.400000</td><td>1.69</td><td>1.69</td><td> 0.00</td><td>No </td><td>0.000000</td><td>0.000000</td><td>0.00</td><td>1</td></tr>\n",
       "\t<tr><th scope=row>5</th><td>CH</td><td>228</td><td>7</td><td>1.69</td><td>1.69</td><td>0.00</td><td>0.0</td><td>0</td><td>0</td><td>0.956535</td><td>1.69</td><td>1.69</td><td> 0.00</td><td>Yes</td><td>0.000000</td><td>0.000000</td><td>0.00</td><td>0</td></tr>\n",
       "\t<tr><th scope=row>6</th><td>CH</td><td>230</td><td>7</td><td>1.69</td><td>1.99</td><td>0.00</td><td>0.0</td><td>0</td><td>1</td><td>0.965228</td><td>1.99</td><td>1.69</td><td> 0.30</td><td>Yes</td><td>0.000000</td><td>0.000000</td><td>0.30</td><td>0</td></tr>\n",
       "</tbody>\n",
       "</table>\n"
      ],
      "text/latex": [
       "A data.frame: 6 × 18\n",
       "\\begin{tabular}{r|llllllllllllllllll}\n",
       "  & Purchase & WeekofPurchase & StoreID & PriceCH & PriceMM & DiscCH & DiscMM & SpecialCH & SpecialMM & LoyalCH & SalePriceMM & SalePriceCH & PriceDiff & Store7 & PctDiscMM & PctDiscCH & ListPriceDiff & STORE\\\\\n",
       "  & <chr> & <int> & <int> & <dbl> & <dbl> & <dbl> & <dbl> & <int> & <int> & <dbl> & <dbl> & <dbl> & <dbl> & <chr> & <dbl> & <dbl> & <dbl> & <int>\\\\\n",
       "\\hline\n",
       "\t1 & CH & 237 & 1 & 1.75 & 1.99 & 0.00 & 0.0 & 0 & 0 & 0.500000 & 1.99 & 1.75 &  0.24 & No  & 0.000000 & 0.000000 & 0.24 & 1\\\\\n",
       "\t2 & CH & 239 & 1 & 1.75 & 1.99 & 0.00 & 0.3 & 0 & 1 & 0.600000 & 1.69 & 1.75 & -0.06 & No  & 0.150754 & 0.000000 & 0.24 & 1\\\\\n",
       "\t3 & CH & 245 & 1 & 1.86 & 2.09 & 0.17 & 0.0 & 0 & 0 & 0.680000 & 2.09 & 1.69 &  0.40 & No  & 0.000000 & 0.091398 & 0.23 & 1\\\\\n",
       "\t4 & MM & 227 & 1 & 1.69 & 1.69 & 0.00 & 0.0 & 0 & 0 & 0.400000 & 1.69 & 1.69 &  0.00 & No  & 0.000000 & 0.000000 & 0.00 & 1\\\\\n",
       "\t5 & CH & 228 & 7 & 1.69 & 1.69 & 0.00 & 0.0 & 0 & 0 & 0.956535 & 1.69 & 1.69 &  0.00 & Yes & 0.000000 & 0.000000 & 0.00 & 0\\\\\n",
       "\t6 & CH & 230 & 7 & 1.69 & 1.99 & 0.00 & 0.0 & 0 & 1 & 0.965228 & 1.99 & 1.69 &  0.30 & Yes & 0.000000 & 0.000000 & 0.30 & 0\\\\\n",
       "\\end{tabular}\n"
      ],
      "text/markdown": [
       "\n",
       "A data.frame: 6 × 18\n",
       "\n",
       "| <!--/--> | Purchase &lt;chr&gt; | WeekofPurchase &lt;int&gt; | StoreID &lt;int&gt; | PriceCH &lt;dbl&gt; | PriceMM &lt;dbl&gt; | DiscCH &lt;dbl&gt; | DiscMM &lt;dbl&gt; | SpecialCH &lt;int&gt; | SpecialMM &lt;int&gt; | LoyalCH &lt;dbl&gt; | SalePriceMM &lt;dbl&gt; | SalePriceCH &lt;dbl&gt; | PriceDiff &lt;dbl&gt; | Store7 &lt;chr&gt; | PctDiscMM &lt;dbl&gt; | PctDiscCH &lt;dbl&gt; | ListPriceDiff &lt;dbl&gt; | STORE &lt;int&gt; |\n",
       "|---|---|---|---|---|---|---|---|---|---|---|---|---|---|---|---|---|---|---|\n",
       "| 1 | CH | 237 | 1 | 1.75 | 1.99 | 0.00 | 0.0 | 0 | 0 | 0.500000 | 1.99 | 1.75 |  0.24 | No  | 0.000000 | 0.000000 | 0.24 | 1 |\n",
       "| 2 | CH | 239 | 1 | 1.75 | 1.99 | 0.00 | 0.3 | 0 | 1 | 0.600000 | 1.69 | 1.75 | -0.06 | No  | 0.150754 | 0.000000 | 0.24 | 1 |\n",
       "| 3 | CH | 245 | 1 | 1.86 | 2.09 | 0.17 | 0.0 | 0 | 0 | 0.680000 | 2.09 | 1.69 |  0.40 | No  | 0.000000 | 0.091398 | 0.23 | 1 |\n",
       "| 4 | MM | 227 | 1 | 1.69 | 1.69 | 0.00 | 0.0 | 0 | 0 | 0.400000 | 1.69 | 1.69 |  0.00 | No  | 0.000000 | 0.000000 | 0.00 | 1 |\n",
       "| 5 | CH | 228 | 7 | 1.69 | 1.69 | 0.00 | 0.0 | 0 | 0 | 0.956535 | 1.69 | 1.69 |  0.00 | Yes | 0.000000 | 0.000000 | 0.00 | 0 |\n",
       "| 6 | CH | 230 | 7 | 1.69 | 1.99 | 0.00 | 0.0 | 0 | 1 | 0.965228 | 1.99 | 1.69 |  0.30 | Yes | 0.000000 | 0.000000 | 0.30 | 0 |\n",
       "\n"
      ],
      "text/plain": [
       "  Purchase WeekofPurchase StoreID PriceCH PriceMM DiscCH DiscMM SpecialCH\n",
       "1 CH       237            1       1.75    1.99    0.00   0.0    0        \n",
       "2 CH       239            1       1.75    1.99    0.00   0.3    0        \n",
       "3 CH       245            1       1.86    2.09    0.17   0.0    0        \n",
       "4 MM       227            1       1.69    1.69    0.00   0.0    0        \n",
       "5 CH       228            7       1.69    1.69    0.00   0.0    0        \n",
       "6 CH       230            7       1.69    1.99    0.00   0.0    0        \n",
       "  SpecialMM LoyalCH  SalePriceMM SalePriceCH PriceDiff Store7 PctDiscMM\n",
       "1 0         0.500000 1.99        1.75         0.24     No     0.000000 \n",
       "2 1         0.600000 1.69        1.75        -0.06     No     0.150754 \n",
       "3 0         0.680000 2.09        1.69         0.40     No     0.000000 \n",
       "4 0         0.400000 1.69        1.69         0.00     No     0.000000 \n",
       "5 0         0.956535 1.69        1.69         0.00     Yes    0.000000 \n",
       "6 1         0.965228 1.99        1.69         0.30     Yes    0.000000 \n",
       "  PctDiscCH ListPriceDiff STORE\n",
       "1 0.000000  0.24          1    \n",
       "2 0.000000  0.24          1    \n",
       "3 0.091398  0.23          1    \n",
       "4 0.000000  0.00          1    \n",
       "5 0.000000  0.00          0    \n",
       "6 0.000000  0.30          0    "
      ]
     },
     "metadata": {},
     "output_type": "display_data"
    }
   ],
   "source": [
    "OJ = read.csv(\"OJ.csv\")  ## 데이터 불러오기\n",
    "head(OJ)"
   ]
  },
  {
   "cell_type": "code",
   "execution_count": 182,
   "id": "1bf89acd-dda6-4448-8a72-2c401b298206",
   "metadata": {},
   "outputs": [
    {
     "name": "stdout",
     "output_type": "stream",
     "text": [
      "'data.frame':\t1070 obs. of  18 variables:\n",
      " $ Purchase      : chr  \"CH\" \"CH\" \"CH\" \"MM\" ...\n",
      " $ WeekofPurchase: int  237 239 245 227 228 230 232 234 235 238 ...\n",
      " $ StoreID       : int  1 1 1 1 7 7 7 7 7 7 ...\n",
      " $ PriceCH       : num  1.75 1.75 1.86 1.69 1.69 1.69 1.69 1.75 1.75 1.75 ...\n",
      " $ PriceMM       : num  1.99 1.99 2.09 1.69 1.69 1.99 1.99 1.99 1.99 1.99 ...\n",
      " $ DiscCH        : num  0 0 0.17 0 0 0 0 0 0 0 ...\n",
      " $ DiscMM        : num  0 0.3 0 0 0 0 0.4 0.4 0.4 0.4 ...\n",
      " $ SpecialCH     : int  0 0 0 0 0 0 1 1 0 0 ...\n",
      " $ SpecialMM     : int  0 1 0 0 0 1 1 0 0 0 ...\n",
      " $ LoyalCH       : num  0.5 0.6 0.68 0.4 0.957 ...\n",
      " $ SalePriceMM   : num  1.99 1.69 2.09 1.69 1.69 1.99 1.59 1.59 1.59 1.59 ...\n",
      " $ SalePriceCH   : num  1.75 1.75 1.69 1.69 1.69 1.69 1.69 1.75 1.75 1.75 ...\n",
      " $ PriceDiff     : num  0.24 -0.06 0.4 0 0 0.3 -0.1 -0.16 -0.16 -0.16 ...\n",
      " $ Store7        : chr  \"No\" \"No\" \"No\" \"No\" ...\n",
      " $ PctDiscMM     : num  0 0.151 0 0 0 ...\n",
      " $ PctDiscCH     : num  0 0 0.0914 0 0 ...\n",
      " $ ListPriceDiff : num  0.24 0.24 0.23 0 0 0.3 0.3 0.24 0.24 0.24 ...\n",
      " $ STORE         : int  1 1 1 1 0 0 0 0 0 0 ...\n"
     ]
    }
   ],
   "source": [
    "str(OJ)\n",
    "# ?OJ"
   ]
  },
  {
   "cell_type": "markdown",
   "id": "12fd4c6e-c35b-4de6-a79b-517203784b49",
   "metadata": {},
   "source": [
    "| 변수 | 설명 | \n",
    "|-| - | \n",
    "|`Purchase` | Citrus Hill / Minute Maid의 오렌지 주스 구매|  | \n",
    "|`WeekofPurchase` |구매한 주 |\n",
    "|`StoreID` | 가게의 ID | \n",
    "|`PriceCH` | CH에 청구된 가격 | \n",
    "|`PriceMM` | MM에 청구된 가격 | \n",
    "|`DiscCH` | CH에서 할인 제공 여부 | \n",
    "|`DiscMM` | MM에서 할인 제공 여부|\n",
    "|`SpecialCH` | CH에서 특별 표시기 |\n",
    "|`SpecialMM` | MM에서 특별 표시기 |\n",
    "|`LoyalCH` | CH에 대한 고객 브랜드 충성도 |\n",
    "|`SalePriceCH` | CH에서 판매 가격 |\n",
    "|`SalePriceMM` | MM에서 판매 가격  |\n",
    "|`PriceDiff` | MM의 판매가  - CH의 판매가 | \n",
    "|`Store7` | store7에 있는지 여부|\n",
    "|`PctDiscCH` | CH에서 할인율|\n",
    "|`PctDiscMM` | MM에서 할인율|\n",
    "|`ListPriceDiff` | MM의 정가 - CH의 정가|\n",
    "|`Store` | 판매가 발생한 매장|"
   ]
  },
  {
   "cell_type": "code",
   "execution_count": 232,
   "id": "7817323b-b6a9-4755-882e-66ec7ca375a8",
   "metadata": {},
   "outputs": [
    {
     "data": {
      "text/html": [
       "0"
      ],
      "text/latex": [
       "0"
      ],
      "text/markdown": [
       "0"
      ],
      "text/plain": [
       "[1] 0"
      ]
     },
     "metadata": {},
     "output_type": "display_data"
    }
   ],
   "source": [
    "sum(is.na(OJ))  ## NA 없음"
   ]
  },
  {
   "cell_type": "markdown",
   "id": "e328bfa4-4efc-4681-a51a-c0e766026c36",
   "metadata": {},
   "source": [
    "#### (a) 800개의 training data , 나머지 testing data 구분"
   ]
  },
  {
   "cell_type": "code",
   "execution_count": 234,
   "id": "908d67be-7232-465e-bd00-895f61a3f75a",
   "metadata": {},
   "outputs": [],
   "source": [
    "set.seed(1000)"
   ]
  },
  {
   "cell_type": "code",
   "execution_count": 235,
   "id": "33e16527-20bf-4f4f-b1f7-35e12f813a10",
   "metadata": {},
   "outputs": [],
   "source": [
    "train_id = sample(1:nrow(OJ) , 800)"
   ]
  },
  {
   "cell_type": "code",
   "execution_count": 236,
   "id": "f32e842a-f2a4-4acc-9522-6dff0dfaf66f",
   "metadata": {},
   "outputs": [],
   "source": [
    "train_dt = OJ[train_id,]\n",
    "test_dt = OJ[-train_id,]"
   ]
  },
  {
   "cell_type": "markdown",
   "id": "c5090bf8-1c2a-40ce-a36d-2ee239fe6d6e",
   "metadata": {},
   "source": [
    "#### (b) training data로 tree 적합"
   ]
  },
  {
   "cell_type": "code",
   "execution_count": 203,
   "id": "09645a65-1de9-4ea1-ab96-cc2954050c06",
   "metadata": {},
   "outputs": [
    {
     "data": {
      "text/plain": [
       "n= 800 \n",
       "\n",
       "node), split, n, loss, yval, (yprob)\n",
       "      * denotes terminal node\n",
       "\n",
       " 1) root 800 308 CH (0.6150000 0.3850000)  \n",
       "   2) LoyalCH>=0.5036 447  56 CH (0.8747204 0.1252796)  \n",
       "     4) PriceDiff>=-0.39 422  41 CH (0.9028436 0.0971564) *\n",
       "     5) PriceDiff< -0.39 25  10 MM (0.4000000 0.6000000) *\n",
       "   3) LoyalCH< 0.5036 353 101 MM (0.2861190 0.7138810)  \n",
       "     6) LoyalCH>=0.2761415 183  79 MM (0.4316940 0.5683060)  \n",
       "      12) PriceDiff>=0.05 105  42 CH (0.6000000 0.4000000)  \n",
       "        24) WeekofPurchase>=249 68  21 CH (0.6911765 0.3088235) *\n",
       "        25) WeekofPurchase< 249 37  16 MM (0.4324324 0.5675676) *\n",
       "      13) PriceDiff< 0.05 78  16 MM (0.2051282 0.7948718) *\n",
       "     7) LoyalCH< 0.2761415 170  22 MM (0.1294118 0.8705882) *"
      ]
     },
     "metadata": {},
     "output_type": "display_data"
    }
   ],
   "source": [
    "tree = rpart(Purchase ~. , data = train_dt,\n",
    "             control = rpart.control(cp=0.01 , minsplit=1))\n",
    "tree"
   ]
  },
  {
   "cell_type": "markdown",
   "id": "f99aa231-660a-4e09-a7af-269e866bfc54",
   "metadata": {},
   "source": [
    "- 터미널 노드가 6개\n",
    "- 분리규칙 5개"
   ]
  },
  {
   "cell_type": "code",
   "execution_count": 208,
   "id": "42c40ced-e557-4d3b-9183-6b8413260c7e",
   "metadata": {},
   "outputs": [
    {
     "data": {
      "text/html": [
       "0.1575"
      ],
      "text/latex": [
       "0.1575"
      ],
      "text/markdown": [
       "0.1575"
      ],
      "text/plain": [
       "[1] 0.1575"
      ]
     },
     "metadata": {},
     "output_type": "display_data"
    }
   ],
   "source": [
    "yhat = predict(tree , newdata = train_dt , type='class')\n",
    "mean(yhat!=train_dt$Purchase) ## traing error (오분류율)"
   ]
  },
  {
   "cell_type": "markdown",
   "id": "512aba99-6397-4464-a0f6-d9cd0b7e9d75",
   "metadata": {},
   "source": [
    "- training error : 0.1575"
   ]
  },
  {
   "cell_type": "code",
   "execution_count": 198,
   "id": "d967108a-f3e6-404d-8620-bdd4f905c240",
   "metadata": {},
   "outputs": [
    {
     "data": {
      "text/html": [
       "<style>\n",
       ".dl-inline {width: auto; margin:0; padding: 0}\n",
       ".dl-inline>dt, .dl-inline>dd {float: none; width: auto; display: inline-block}\n",
       ".dl-inline>dt::after {content: \":\\0020\"; padding-right: .5ex}\n",
       ".dl-inline>dt:not(:first-of-type) {padding-left: .5ex}\n",
       "</style><dl class=dl-inline><dt>LoyalCH</dt><dd>152.773087830797</dd><dt>StoreID</dt><dd>31.9903035553949</dd><dt>PriceDiff</dt><dd>26.845813425034</dd><dt>SalePriceMM</dt><dd>20.7423294806793</dd><dt>WeekofPurchase</dt><dd>18.6948117847296</dd><dt>PriceMM</dt><dd>17.1500003286514</dd><dt>DiscMM</dt><dd>14.3176282974929</dd><dt>PctDiscMM</dt><dd>14.3176282974929</dd><dt>ListPriceDiff</dt><dd>13.4219222063794</dd><dt>PriceCH</dt><dd>13.0559503987439</dd><dt>SalePriceCH</dt><dd>3.99023007397018</dd><dt>STORE</dt><dd>3.78958445316438</dd></dl>\n"
      ],
      "text/latex": [
       "\\begin{description*}\n",
       "\\item[LoyalCH] 152.773087830797\n",
       "\\item[StoreID] 31.9903035553949\n",
       "\\item[PriceDiff] 26.845813425034\n",
       "\\item[SalePriceMM] 20.7423294806793\n",
       "\\item[WeekofPurchase] 18.6948117847296\n",
       "\\item[PriceMM] 17.1500003286514\n",
       "\\item[DiscMM] 14.3176282974929\n",
       "\\item[PctDiscMM] 14.3176282974929\n",
       "\\item[ListPriceDiff] 13.4219222063794\n",
       "\\item[PriceCH] 13.0559503987439\n",
       "\\item[SalePriceCH] 3.99023007397018\n",
       "\\item[STORE] 3.78958445316438\n",
       "\\end{description*}\n"
      ],
      "text/markdown": [
       "LoyalCH\n",
       ":   152.773087830797StoreID\n",
       ":   31.9903035553949PriceDiff\n",
       ":   26.845813425034SalePriceMM\n",
       ":   20.7423294806793WeekofPurchase\n",
       ":   18.6948117847296PriceMM\n",
       ":   17.1500003286514DiscMM\n",
       ":   14.3176282974929PctDiscMM\n",
       ":   14.3176282974929ListPriceDiff\n",
       ":   13.4219222063794PriceCH\n",
       ":   13.0559503987439SalePriceCH\n",
       ":   3.99023007397018STORE\n",
       ":   3.78958445316438\n",
       "\n"
      ],
      "text/plain": [
       "       LoyalCH        StoreID      PriceDiff    SalePriceMM WeekofPurchase \n",
       "    152.773088      31.990304      26.845813      20.742329      18.694812 \n",
       "       PriceMM         DiscMM      PctDiscMM  ListPriceDiff        PriceCH \n",
       "     17.150000      14.317628      14.317628      13.421922      13.055950 \n",
       "   SalePriceCH          STORE \n",
       "      3.990230       3.789584 "
      ]
     },
     "metadata": {},
     "output_type": "display_data"
    }
   ],
   "source": [
    "tree$variable.importance  ## 변수 중요도"
   ]
  },
  {
   "cell_type": "markdown",
   "id": "e216385a-103e-456b-bd7c-a07f10aac4cc",
   "metadata": {},
   "source": [
    "#### (c) tree의 그림을 그리고 결과 설명"
   ]
  },
  {
   "cell_type": "code",
   "execution_count": 204,
   "id": "f17631de-7e57-4a3e-acfb-a5c93956ece9",
   "metadata": {},
   "outputs": [
    {
     "data": {
      "image/png": "[encoded data removed]",
      "text/plain": [
       "Plot with title \"Classfication using CART\""
      ]
     },
     "metadata": {
      "image/png": {
       "height": 420,
       "width": 420
      }
     },
     "output_type": "display_data"
    }
   ],
   "source": [
    "rpart.plot(tree , main = \"Classfication using CART\")"
   ]
  },
  {
   "cell_type": "markdown",
   "id": "bd815723-2a1f-4901-9ced-be108f96093b",
   "metadata": {},
   "source": [
    "- LoyalCH , PriceDiff , WeekofPurchase 변수가 모형에 사용되었다.\n",
    "- 각 노드에 분류 비율이 높은 값이 써져있음"
   ]
  },
  {
   "cell_type": "markdown",
   "id": "d1541e04-6dba-4bff-a135-60aeaac6a534",
   "metadata": {},
   "source": [
    "#### (d) testing data로 예측 , 혼동행렬 생성"
   ]
  },
  {
   "cell_type": "code",
   "execution_count": 226,
   "id": "86fc305b-ac73-41b4-992d-251d5781ac3f",
   "metadata": {},
   "outputs": [
    {
     "data": {
      "text/html": [
       "0.192592592592593"
      ],
      "text/latex": [
       "0.192592592592593"
      ],
      "text/markdown": [
       "0.192592592592593"
      ],
      "text/plain": [
       "[1] 0.1925926"
      ]
     },
     "metadata": {},
     "output_type": "display_data"
    }
   ],
   "source": [
    "yhat = predict(tree , newdata = test_dt , type='class')\n",
    "mean(yhat!=test_dt$Purchase) ## test error (오분류율)"
   ]
  },
  {
   "cell_type": "code",
   "execution_count": 212,
   "id": "e1dd0da6-21f6-4d6b-bc81-e20bbcb85e43",
   "metadata": {},
   "outputs": [
    {
     "data": {
      "text/plain": [
       "    \n",
       "yhat  CH  MM\n",
       "  CH 139  30\n",
       "  MM  22  79"
      ]
     },
     "metadata": {},
     "output_type": "display_data"
    }
   ],
   "source": [
    "table(yhat , test_dt$Purchase) ## confusion matrix"
   ]
  },
  {
   "cell_type": "markdown",
   "id": "0b04d429-fc39-488a-95b1-75e9815a4575",
   "metadata": {},
   "source": [
    "- test error는 0.19이다."
   ]
  },
  {
   "cell_type": "markdown",
   "id": "b599e1d8-910b-49a8-9df9-7323940249f6",
   "metadata": {},
   "source": [
    "#### (e) cptable 및 그림을 이용햐여 최적의 tree 구하기"
   ]
  },
  {
   "cell_type": "code",
   "execution_count": 216,
   "id": "a29caef8-5080-45e7-b8e5-fd38873a3f03",
   "metadata": {},
   "outputs": [
    {
     "data": {
      "text/html": [
       "<table class=\"dataframe\">\n",
       "<caption>A matrix: 4 × 5 of type dbl</caption>\n",
       "<thead>\n",
       "\t<tr><th></th><th scope=col>CP</th><th scope=col>nsplit</th><th scope=col>rel error</th><th scope=col>xerror</th><th scope=col>xstd</th></tr>\n",
       "</thead>\n",
       "<tbody>\n",
       "\t<tr><th scope=row>1</th><td>0.49025974</td><td>0</td><td>1.0000000</td><td>1.0000000</td><td>0.04468505</td></tr>\n",
       "\t<tr><th scope=row>2</th><td>0.03409091</td><td>1</td><td>0.5097403</td><td>0.5357143</td><td>0.03715636</td></tr>\n",
       "\t<tr><th scope=row>3</th><td>0.01623377</td><td>3</td><td>0.4415584</td><td>0.5292208</td><td>0.03698859</td></tr>\n",
       "\t<tr><th scope=row>4</th><td>0.01000000</td><td>5</td><td>0.4090909</td><td>0.5000000</td><td>0.03620603</td></tr>\n",
       "</tbody>\n",
       "</table>\n"
      ],
      "text/latex": [
       "A matrix: 4 × 5 of type dbl\n",
       "\\begin{tabular}{r|lllll}\n",
       "  & CP & nsplit & rel error & xerror & xstd\\\\\n",
       "\\hline\n",
       "\t1 & 0.49025974 & 0 & 1.0000000 & 1.0000000 & 0.04468505\\\\\n",
       "\t2 & 0.03409091 & 1 & 0.5097403 & 0.5357143 & 0.03715636\\\\\n",
       "\t3 & 0.01623377 & 3 & 0.4415584 & 0.5292208 & 0.03698859\\\\\n",
       "\t4 & 0.01000000 & 5 & 0.4090909 & 0.5000000 & 0.03620603\\\\\n",
       "\\end{tabular}\n"
      ],
      "text/markdown": [
       "\n",
       "A matrix: 4 × 5 of type dbl\n",
       "\n",
       "| <!--/--> | CP | nsplit | rel error | xerror | xstd |\n",
       "|---|---|---|---|---|---|\n",
       "| 1 | 0.49025974 | 0 | 1.0000000 | 1.0000000 | 0.04468505 |\n",
       "| 2 | 0.03409091 | 1 | 0.5097403 | 0.5357143 | 0.03715636 |\n",
       "| 3 | 0.01623377 | 3 | 0.4415584 | 0.5292208 | 0.03698859 |\n",
       "| 4 | 0.01000000 | 5 | 0.4090909 | 0.5000000 | 0.03620603 |\n",
       "\n"
      ],
      "text/plain": [
       "  CP         nsplit rel error xerror    xstd      \n",
       "1 0.49025974 0      1.0000000 1.0000000 0.04468505\n",
       "2 0.03409091 1      0.5097403 0.5357143 0.03715636\n",
       "3 0.01623377 3      0.4415584 0.5292208 0.03698859\n",
       "4 0.01000000 5      0.4090909 0.5000000 0.03620603"
      ]
     },
     "metadata": {},
     "output_type": "display_data"
    },
    {
     "data": {
      "image/png": "[encoded data removed]",
      "text/plain": [
       "plot without title"
      ]
     },
     "metadata": {
      "image/png": {
       "height": 420,
       "width": 420
      }
     },
     "output_type": "display_data"
    }
   ],
   "source": [
    "tree$cptable ## complexity parameter\n",
    "plotcp(tree)"
   ]
  },
  {
   "cell_type": "code",
   "execution_count": 217,
   "id": "8a54da71-6c5c-47bf-8687-ea6502e68ae8",
   "metadata": {},
   "outputs": [
    {
     "data": {
      "text/html": [
       "0.53620603"
      ],
      "text/latex": [
       "0.53620603"
      ],
      "text/markdown": [
       "0.53620603"
      ],
      "text/plain": [
       "[1] 0.536206"
      ]
     },
     "metadata": {},
     "output_type": "display_data"
    }
   ],
   "source": [
    "0.5000000 + 0.03620603  # min(xerror) + std(min(xerror))"
   ]
  },
  {
   "cell_type": "markdown",
   "id": "4c841521-8529-4a8c-a864-e17c42734bff",
   "metadata": {},
   "source": [
    "- 제일 작은 xerror에 std를 더하면 0.536이고, 0.536은 xerror 0.5357143~1 사이에 있으므로 CP는 0.03409091 ~ 0.49025974 값 중 아무거나 설정해주면 된다.  \n",
    "- CP = 0.2"
   ]
  },
  {
   "cell_type": "code",
   "execution_count": 222,
   "id": "7afc8ff1-6f37-4a15-8a18-bc6c4c0d15ca",
   "metadata": {},
   "outputs": [
    {
     "data": {
      "image/png": "[encoded data removed]",
      "text/plain": [
       "Plot with title \"Classfication using CART\""
      ]
     },
     "metadata": {
      "image/png": {
       "height": 420,
       "width": 420
      }
     },
     "output_type": "display_data"
    }
   ],
   "source": [
    "prune_tree = rpart(Purchase ~. , data = train_dt,\n",
    "             control = rpart.control(cp=0.2 , minsplit=1))\n",
    "rpart.plot(prune_tree, main = \"Classfication using CART\")"
   ]
  },
  {
   "cell_type": "markdown",
   "id": "f2fb4978-f5a2-4b26-9859-d30c84e2a2a7",
   "metadata": {},
   "source": [
    "- terminal node 개수 : 2개\n",
    "- 각 노드에 더 많이 분류된 값 쓰여있음"
   ]
  },
  {
   "cell_type": "code",
   "execution_count": 223,
   "id": "d0eba674-5af0-488b-af4e-6b183d8b3983",
   "metadata": {},
   "outputs": [
    {
     "data": {
      "text/plain": [
       "n= 800 \n",
       "\n",
       "node), split, n, loss, yval, (yprob)\n",
       "      * denotes terminal node\n",
       "\n",
       "1) root 800 308 CH (0.6150000 0.3850000)  \n",
       "  2) LoyalCH>=0.5036 447  56 CH (0.8747204 0.1252796) *\n",
       "  3) LoyalCH< 0.5036 353 101 MM (0.2861190 0.7138810) *"
      ]
     },
     "metadata": {},
     "output_type": "display_data"
    }
   ],
   "source": [
    "prune_tree"
   ]
  },
  {
   "cell_type": "markdown",
   "id": "6de0b66a-b21b-45bc-8b6d-bd365c1c7afe",
   "metadata": {},
   "source": [
    "#### (f) 가지치기 전/후 tree의 training error 비교"
   ]
  },
  {
   "cell_type": "code",
   "execution_count": 230,
   "id": "03948ad8-3e9b-48e1-a14a-6798df2bf617",
   "metadata": {},
   "outputs": [
    {
     "data": {
      "text/html": [
       "<style>\n",
       ".dl-inline {width: auto; margin:0; padding: 0}\n",
       ".dl-inline>dt, .dl-inline>dd {float: none; width: auto; display: inline-block}\n",
       ".dl-inline>dt::after {content: \":\\0020\"; padding-right: .5ex}\n",
       ".dl-inline>dt:not(:first-of-type) {padding-left: .5ex}\n",
       "</style><dl class=dl-inline><dt>1008</dt><dd>MM</dd><dt>580</dt><dd>MM</dd><dt>214</dt><dd>CH</dd><dt>344</dt><dd>CH</dd><dt>402</dt><dd>MM</dd><dt>406</dt><dd>MM</dd></dl>\n",
       "\n",
       "<details>\n",
       "\t<summary style=display:list-item;cursor:pointer>\n",
       "\t\t<strong>Levels</strong>:\n",
       "\t</summary>\n",
       "\t<style>\n",
       "\t.list-inline {list-style: none; margin:0; padding: 0}\n",
       "\t.list-inline>li {display: inline-block}\n",
       "\t.list-inline>li:not(:last-child)::after {content: \"\\00b7\"; padding: 0 .5ex}\n",
       "\t</style>\n",
       "\t<ol class=list-inline><li>'CH'</li><li>'MM'</li></ol>\n",
       "</details>"
      ],
      "text/latex": [
       "\\begin{description*}\n",
       "\\item[1008] MM\n",
       "\\item[580] MM\n",
       "\\item[214] CH\n",
       "\\item[344] CH\n",
       "\\item[402] MM\n",
       "\\item[406] MM\n",
       "\\end{description*}\n",
       "\n",
       "\\emph{Levels}: \\begin{enumerate*}\n",
       "\\item 'CH'\n",
       "\\item 'MM'\n",
       "\\end{enumerate*}\n"
      ],
      "text/markdown": [
       "1008\n",
       ":   MM580\n",
       ":   MM214\n",
       ":   CH344\n",
       ":   CH402\n",
       ":   MM406\n",
       ":   MM\n",
       "\n",
       "\n",
       "**Levels**: 1. 'CH'\n",
       "2. 'MM'\n",
       "\n",
       "\n"
      ],
      "text/plain": [
       "1008  580  214  344  402  406 \n",
       "  MM   MM   CH   CH   MM   MM \n",
       "Levels: CH MM"
      ]
     },
     "metadata": {},
     "output_type": "display_data"
    },
    {
     "data": {
      "text/html": [
       "0.19625"
      ],
      "text/latex": [
       "0.19625"
      ],
      "text/markdown": [
       "0.19625"
      ],
      "text/plain": [
       "[1] 0.19625"
      ]
     },
     "metadata": {},
     "output_type": "display_data"
    }
   ],
   "source": [
    "yhat = predict(prune_tree , newdata = train_dt , type='class')\n",
    "head(yhat)\n",
    "mean(yhat!=train_dt$Purchase) ## traing error (오분류율)"
   ]
  },
  {
   "cell_type": "markdown",
   "id": "a8ed0036-b48b-4bae-a0b3-0e8ada2557e4",
   "metadata": {},
   "source": [
    "- training error가 0.1575에서 가지치기 후 0.1962로 증가했다."
   ]
  },
  {
   "cell_type": "markdown",
   "id": "9c0b43a6-52d3-4ace-a9bd-8ae7b85bf11e",
   "metadata": {},
   "source": [
    "#### (g) 가지치기 전/후 tree의 test error 비교"
   ]
  },
  {
   "cell_type": "code",
   "execution_count": 231,
   "id": "6e611a05-34c7-4830-8af6-cff47259cf9a",
   "metadata": {},
   "outputs": [
    {
     "data": {
      "text/html": [
       "<style>\n",
       ".dl-inline {width: auto; margin:0; padding: 0}\n",
       ".dl-inline>dt, .dl-inline>dd {float: none; width: auto; display: inline-block}\n",
       ".dl-inline>dt::after {content: \":\\0020\"; padding-right: .5ex}\n",
       ".dl-inline>dt:not(:first-of-type) {padding-left: .5ex}\n",
       "</style><dl class=dl-inline><dt>11</dt><dd>CH</dd><dt>12</dt><dd>CH</dd><dt>13</dt><dd>CH</dd><dt>14</dt><dd>CH</dd><dt>16</dt><dd>CH</dd><dt>17</dt><dd>MM</dd></dl>\n",
       "\n",
       "<details>\n",
       "\t<summary style=display:list-item;cursor:pointer>\n",
       "\t\t<strong>Levels</strong>:\n",
       "\t</summary>\n",
       "\t<style>\n",
       "\t.list-inline {list-style: none; margin:0; padding: 0}\n",
       "\t.list-inline>li {display: inline-block}\n",
       "\t.list-inline>li:not(:last-child)::after {content: \"\\00b7\"; padding: 0 .5ex}\n",
       "\t</style>\n",
       "\t<ol class=list-inline><li>'CH'</li><li>'MM'</li></ol>\n",
       "</details>"
      ],
      "text/latex": [
       "\\begin{description*}\n",
       "\\item[11] CH\n",
       "\\item[12] CH\n",
       "\\item[13] CH\n",
       "\\item[14] CH\n",
       "\\item[16] CH\n",
       "\\item[17] MM\n",
       "\\end{description*}\n",
       "\n",
       "\\emph{Levels}: \\begin{enumerate*}\n",
       "\\item 'CH'\n",
       "\\item 'MM'\n",
       "\\end{enumerate*}\n"
      ],
      "text/markdown": [
       "11\n",
       ":   CH12\n",
       ":   CH13\n",
       ":   CH14\n",
       ":   CH16\n",
       ":   CH17\n",
       ":   MM\n",
       "\n",
       "\n",
       "**Levels**: 1. 'CH'\n",
       "2. 'MM'\n",
       "\n",
       "\n"
      ],
      "text/plain": [
       "11 12 13 14 16 17 \n",
       "CH CH CH CH CH MM \n",
       "Levels: CH MM"
      ]
     },
     "metadata": {},
     "output_type": "display_data"
    },
    {
     "data": {
      "text/html": [
       "0.211111111111111"
      ],
      "text/latex": [
       "0.211111111111111"
      ],
      "text/markdown": [
       "0.211111111111111"
      ],
      "text/plain": [
       "[1] 0.2111111"
      ]
     },
     "metadata": {},
     "output_type": "display_data"
    }
   ],
   "source": [
    "yhat = predict(prune_tree , newdata = test_dt , type='class')\n",
    "head(yhat)\n",
    "mean(yhat!=test_dt$Purchase) ## test error (오분류율)"
   ]
  },
  {
   "cell_type": "markdown",
   "id": "21eccb8d-b3f2-4499-843c-0bb372a8611c",
   "metadata": {},
   "source": [
    "- test error가 0.1925에서 가지치기 후 0.2111로 증가했다."
   ]
  },
  {
   "cell_type": "markdown",
   "id": "66eaa766-faf6-41df-910a-33ba487894d5",
   "metadata": {},
   "source": [
    "  "
   ]
  },
  {
   "cell_type": "markdown",
   "id": "b47a87f1-1cf6-49ac-87ed-b31a815416c5",
   "metadata": {},
   "source": [
    "  "
   ]
  },
  {
   "cell_type": "markdown",
   "id": "5503142d-72c5-4ffd-a5d4-217d3992fe8b",
   "metadata": {},
   "source": [
    "  "
   ]
  }
 ],
 "metadata": {
  "kernelspec": {
   "display_name": "R",
   "language": "R",
   "name": "ir"
  },
  "language_info": {
   "codemirror_mode": "r",
   "file_extension": ".r",
   "mimetype": "text/x-r-source",
   "name": "R",
   "pygments_lexer": "r",
   "version": "4.0.5"
  }
 },
 "nbformat": 4,
 "nbformat_minor": 5
}
