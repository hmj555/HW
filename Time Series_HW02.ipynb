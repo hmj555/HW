{
  "cells": [
    {
      "cell_type": "markdown",
      "id": "31d767ea-9a8c-494f-abeb-7724e8774013",
      "metadata": {
        "id": "31d767ea-9a8c-494f-abeb-7724e8774013"
      },
      "source": [
        "### 시계열 자료분석 HW02 - 5번\n",
        "### 201822037 통계학과 한민주"
      ]
    },
    {
      "cell_type": "markdown",
      "id": "3beee520-b4c3-411a-bfe8-0aab45351a37",
      "metadata": {
        "id": "3beee520-b4c3-411a-bfe8-0aab45351a37"
      },
      "source": [
        "#### (0) ${Z_t}$ 생성"
      ]
    },
    {
      "cell_type": "code",
      "execution_count": null,
      "id": "56bf67c6-48fd-4963-ac43-d1fdff855f82",
      "metadata": {
        "jupyter": {
          "source_hidden": true
        },
        "tags": [],
        "id": "56bf67c6-48fd-4963-ac43-d1fdff855f82",
        "outputId": "3ef30c5d-4a4c-4474-f618-cdbfbd7debff"
      },
      "outputs": [
        {
          "data": {
            "text/html": [
              "A Time Series:<br><style>\n",
              ".list-inline {list-style: none; margin:0; padding: 0}\n",
              ".list-inline>li {display: inline-block}\n",
              ".list-inline>li:not(:last-child)::after {content: \"\\00b7\"; padding: 0 .5ex}\n",
              "</style>\n",
              "<ol class=list-inline><li>9.23718113302483</li><li>10.6928843353001</li><li>12.3692552861193</li><li>13.8587857226256</li><li>14.630948975566</li><li>14.0235789439346</li><li>12.3274891322635</li><li>11.8838540230558</li><li>13.6789902504966</li><li>12.9935841446856</li><li>12.0328563919858</li><li>11.9984763161746</li><li>12.8209042900502</li><li>12.3711301191685</li><li>12.1473818308878</li><li>11.9894921382475</li><li>11.5376332058669</li><li>12.0866337044883</li><li>12.0101926238369</li><li>12.8046928581409</li><li>12.6297783798086</li><li>11.8934477674063</li><li>11.3140121000018</li><li>12.2914726332604</li><li>11.0417284075787</li><li>11.3913110155805</li><li>11.2042984352412</li><li>13.2208247979225</li><li>13.7162444961581</li><li>15.2964289086856</li><li>13.3713242282813</li><li>13.6081530954512</li><li>11.9124969128607</li><li>11.4136386414912</li><li>10.9958543803163</li><li>9.39527592231947</li><li>9.56931240992736</li><li>10.3504640951757</li><li>11.4123044724935</li><li>11.7512357307073</li><li>11.2262910205177</li><li>11.6485585997994</li><li>12.7694182806337</li><li>12.4065704201105</li><li>12.5548757902503</li><li>11.4086256185816</li><li>12.3193809549885</li><li>12.2181725571245</li><li>11.5372900654434</li><li>9.65672305839162</li><li>10.2153088999416</li><li>7.30536319600999</li><li>6.31431110637728</li><li>7.67496727302674</li><li>8.79845270527193</li><li>8.82674595731173</li><li>8.2429271277314</li><li>9.11200954655651</li><li>10.8718019343831</li><li>8.22919736287773</li><li>10.3725036607185</li><li>10.9575428973118</li><li>9.78578025069068</li><li>10.0192148155197</li><li>10.0184582211522</li><li>10.1420676087796</li><li>10.8330935879922</li><li>11.6816127992215</li><li>13.0798883319173</li><li>13.0064751183756</li><li>11.8302783083199</li><li>11.0966135417555</li><li>11.8159355350701</li><li>12.6146620843376</li><li>10.1620702651026</li><li>9.8045896133109</li><li>9.27028043728662</li><li>7.57198716270526</li><li>8.08046865799005</li><li>9.06190209170433</li><li>10.1496991167316</li><li>9.53628653112231</li><li>8.47100536432397</li><li>9.71654081824754</li><li>9.61179864715725</li><li>8.07119094240539</li><li>7.62808572772903</li><li>9.10315285328274</li><li>10.4348216123188</li><li>9.71202333176419</li><li>10.600326284962</li><li>10.9054674103187</li><li>11.4611038849596</li><li>11.8610307817064</li><li>12.0907206641508</li><li>11.1631980023096</li><li>12.1811308511303</li><li>11.5638119997952</li><li>9.90385657127677</li><li>9.9958778543329</li></ol>\n"
            ],
            "text/latex": [
              "A Time Series:\\\\\\begin{enumerate*}\n",
              "\\item 9.23718113302483\n",
              "\\item 10.6928843353001\n",
              "\\item 12.3692552861193\n",
              "\\item 13.8587857226256\n",
              "\\item 14.630948975566\n",
              "\\item 14.0235789439346\n",
              "\\item 12.3274891322635\n",
              "\\item 11.8838540230558\n",
              "\\item 13.6789902504966\n",
              "\\item 12.9935841446856\n",
              "\\item 12.0328563919858\n",
              "\\item 11.9984763161746\n",
              "\\item 12.8209042900502\n",
              "\\item 12.3711301191685\n",
              "\\item 12.1473818308878\n",
              "\\item 11.9894921382475\n",
              "\\item 11.5376332058669\n",
              "\\item 12.0866337044883\n",
              "\\item 12.0101926238369\n",
              "\\item 12.8046928581409\n",
              "\\item 12.6297783798086\n",
              "\\item 11.8934477674063\n",
              "\\item 11.3140121000018\n",
              "\\item 12.2914726332604\n",
              "\\item 11.0417284075787\n",
              "\\item 11.3913110155805\n",
              "\\item 11.2042984352412\n",
              "\\item 13.2208247979225\n",
              "\\item 13.7162444961581\n",
              "\\item 15.2964289086856\n",
              "\\item 13.3713242282813\n",
              "\\item 13.6081530954512\n",
              "\\item 11.9124969128607\n",
              "\\item 11.4136386414912\n",
              "\\item 10.9958543803163\n",
              "\\item 9.39527592231947\n",
              "\\item 9.56931240992736\n",
              "\\item 10.3504640951757\n",
              "\\item 11.4123044724935\n",
              "\\item 11.7512357307073\n",
              "\\item 11.2262910205177\n",
              "\\item 11.6485585997994\n",
              "\\item 12.7694182806337\n",
              "\\item 12.4065704201105\n",
              "\\item 12.5548757902503\n",
              "\\item 11.4086256185816\n",
              "\\item 12.3193809549885\n",
              "\\item 12.2181725571245\n",
              "\\item 11.5372900654434\n",
              "\\item 9.65672305839162\n",
              "\\item 10.2153088999416\n",
              "\\item 7.30536319600999\n",
              "\\item 6.31431110637728\n",
              "\\item 7.67496727302674\n",
              "\\item 8.79845270527193\n",
              "\\item 8.82674595731173\n",
              "\\item 8.2429271277314\n",
              "\\item 9.11200954655651\n",
              "\\item 10.8718019343831\n",
              "\\item 8.22919736287773\n",
              "\\item 10.3725036607185\n",
              "\\item 10.9575428973118\n",
              "\\item 9.78578025069068\n",
              "\\item 10.0192148155197\n",
              "\\item 10.0184582211522\n",
              "\\item 10.1420676087796\n",
              "\\item 10.8330935879922\n",
              "\\item 11.6816127992215\n",
              "\\item 13.0798883319173\n",
              "\\item 13.0064751183756\n",
              "\\item 11.8302783083199\n",
              "\\item 11.0966135417555\n",
              "\\item 11.8159355350701\n",
              "\\item 12.6146620843376\n",
              "\\item 10.1620702651026\n",
              "\\item 9.8045896133109\n",
              "\\item 9.27028043728662\n",
              "\\item 7.57198716270526\n",
              "\\item 8.08046865799005\n",
              "\\item 9.06190209170433\n",
              "\\item 10.1496991167316\n",
              "\\item 9.53628653112231\n",
              "\\item 8.47100536432397\n",
              "\\item 9.71654081824754\n",
              "\\item 9.61179864715725\n",
              "\\item 8.07119094240539\n",
              "\\item 7.62808572772903\n",
              "\\item 9.10315285328274\n",
              "\\item 10.4348216123188\n",
              "\\item 9.71202333176419\n",
              "\\item 10.600326284962\n",
              "\\item 10.9054674103187\n",
              "\\item 11.4611038849596\n",
              "\\item 11.8610307817064\n",
              "\\item 12.0907206641508\n",
              "\\item 11.1631980023096\n",
              "\\item 12.1811308511303\n",
              "\\item 11.5638119997952\n",
              "\\item 9.90385657127677\n",
              "\\item 9.9958778543329\n",
              "\\end{enumerate*}\n"
            ],
            "text/markdown": [
              "A Time Series:  \n",
              "1. 9.23718113302483\n",
              "2. 10.6928843353001\n",
              "3. 12.3692552861193\n",
              "4. 13.8587857226256\n",
              "5. 14.630948975566\n",
              "6. 14.0235789439346\n",
              "7. 12.3274891322635\n",
              "8. 11.8838540230558\n",
              "9. 13.6789902504966\n",
              "10. 12.9935841446856\n",
              "11. 12.0328563919858\n",
              "12. 11.9984763161746\n",
              "13. 12.8209042900502\n",
              "14. 12.3711301191685\n",
              "15. 12.1473818308878\n",
              "16. 11.9894921382475\n",
              "17. 11.5376332058669\n",
              "18. 12.0866337044883\n",
              "19. 12.0101926238369\n",
              "20. 12.8046928581409\n",
              "21. 12.6297783798086\n",
              "22. 11.8934477674063\n",
              "23. 11.3140121000018\n",
              "24. 12.2914726332604\n",
              "25. 11.0417284075787\n",
              "26. 11.3913110155805\n",
              "27. 11.2042984352412\n",
              "28. 13.2208247979225\n",
              "29. 13.7162444961581\n",
              "30. 15.2964289086856\n",
              "31. 13.3713242282813\n",
              "32. 13.6081530954512\n",
              "33. 11.9124969128607\n",
              "34. 11.4136386414912\n",
              "35. 10.9958543803163\n",
              "36. 9.39527592231947\n",
              "37. 9.56931240992736\n",
              "38. 10.3504640951757\n",
              "39. 11.4123044724935\n",
              "40. 11.7512357307073\n",
              "41. 11.2262910205177\n",
              "42. 11.6485585997994\n",
              "43. 12.7694182806337\n",
              "44. 12.4065704201105\n",
              "45. 12.5548757902503\n",
              "46. 11.4086256185816\n",
              "47. 12.3193809549885\n",
              "48. 12.2181725571245\n",
              "49. 11.5372900654434\n",
              "50. 9.65672305839162\n",
              "51. 10.2153088999416\n",
              "52. 7.30536319600999\n",
              "53. 6.31431110637728\n",
              "54. 7.67496727302674\n",
              "55. 8.79845270527193\n",
              "56. 8.82674595731173\n",
              "57. 8.2429271277314\n",
              "58. 9.11200954655651\n",
              "59. 10.8718019343831\n",
              "60. 8.22919736287773\n",
              "61. 10.3725036607185\n",
              "62. 10.9575428973118\n",
              "63. 9.78578025069068\n",
              "64. 10.0192148155197\n",
              "65. 10.0184582211522\n",
              "66. 10.1420676087796\n",
              "67. 10.8330935879922\n",
              "68. 11.6816127992215\n",
              "69. 13.0798883319173\n",
              "70. 13.0064751183756\n",
              "71. 11.8302783083199\n",
              "72. 11.0966135417555\n",
              "73. 11.8159355350701\n",
              "74. 12.6146620843376\n",
              "75. 10.1620702651026\n",
              "76. 9.8045896133109\n",
              "77. 9.27028043728662\n",
              "78. 7.57198716270526\n",
              "79. 8.08046865799005\n",
              "80. 9.06190209170433\n",
              "81. 10.1496991167316\n",
              "82. 9.53628653112231\n",
              "83. 8.47100536432397\n",
              "84. 9.71654081824754\n",
              "85. 9.61179864715725\n",
              "86. 8.07119094240539\n",
              "87. 7.62808572772903\n",
              "88. 9.10315285328274\n",
              "89. 10.4348216123188\n",
              "90. 9.71202333176419\n",
              "91. 10.600326284962\n",
              "92. 10.9054674103187\n",
              "93. 11.4611038849596\n",
              "94. 11.8610307817064\n",
              "95. 12.0907206641508\n",
              "96. 11.1631980023096\n",
              "97. 12.1811308511303\n",
              "98. 11.5638119997952\n",
              "99. 9.90385657127677\n",
              "100. 9.9958778543329\n",
              "\n",
              "\n"
            ],
            "text/plain": [
              "A Time Series:\n",
              "  [1]  9.237181 10.692884 12.369255 13.858786 14.630949 14.023579 12.327489\n",
              "  [8] 11.883854 13.678990 12.993584 12.032856 11.998476 12.820904 12.371130\n",
              " [15] 12.147382 11.989492 11.537633 12.086634 12.010193 12.804693 12.629778\n",
              " [22] 11.893448 11.314012 12.291473 11.041728 11.391311 11.204298 13.220825\n",
              " [29] 13.716244 15.296429 13.371324 13.608153 11.912497 11.413639 10.995854\n",
              " [36]  9.395276  9.569312 10.350464 11.412304 11.751236 11.226291 11.648559\n",
              " [43] 12.769418 12.406570 12.554876 11.408626 12.319381 12.218173 11.537290\n",
              " [50]  9.656723 10.215309  7.305363  6.314311  7.674967  8.798453  8.826746\n",
              " [57]  8.242927  9.112010 10.871802  8.229197 10.372504 10.957543  9.785780\n",
              " [64] 10.019215 10.018458 10.142068 10.833094 11.681613 13.079888 13.006475\n",
              " [71] 11.830278 11.096614 11.815936 12.614662 10.162070  9.804590  9.270280\n",
              " [78]  7.571987  8.080469  9.061902 10.149699  9.536287  8.471005  9.716541\n",
              " [85]  9.611799  8.071191  7.628086  9.103153 10.434822  9.712023 10.600326\n",
              " [92] 10.905467 11.461104 11.861031 12.090721 11.163198 12.181131 11.563812\n",
              " [99]  9.903857  9.995878"
            ]
          },
          "metadata": {},
          "output_type": "display_data"
        }
      ],
      "source": [
        "#@title\n",
        "set.seed(201822037)\n",
        "Z = 10  ## Z_0 = 10\n",
        "e = rnorm(100,0,1) # e_t ~ N(0,1)\n",
        "\n",
        "for(i in 2:101){\n",
        "    Z[i] = 1 + 0.9*Z[i-1] +e[i-1]\n",
        "    }\n",
        "\n",
        "Z = Z[2:101] # t = 1,2, ... , 100\n",
        "Z = ts(Z)\n",
        "Z"
      ]
    },
    {
      "cell_type": "markdown",
      "id": "4678e6bf-737b-426c-8510-e5a5ab888906",
      "metadata": {
        "id": "4678e6bf-737b-426c-8510-e5a5ab888906"
      },
      "source": [
        "#### (1) ${Z_t}$의 시계열 그림 그려라."
      ]
    },
    {
      "cell_type": "code",
      "execution_count": null,
      "id": "5fc4e221-f9f1-421f-86e6-036917a4d4a0",
      "metadata": {
        "jupyter": {
          "source_hidden": true
        },
        "tags": [],
        "id": "5fc4e221-f9f1-421f-86e6-036917a4d4a0",
        "outputId": "b68ca56f-9bde-404e-920d-1c2eed1a99f3"
      },
      "outputs": [
        {
          "data": {
            "image/png": "[encoded data removed]",
            "text/plain": [
              "Plot with title \"time series plot\""
            ]
          },
          "metadata": {
            "image/png": {
              "height": 420,
              "width": 420
            }
          },
          "output_type": "display_data"
        }
      ],
      "source": [
        "#@title\n",
        "plot(Z, main = \"time series plot\")\n",
        "abline(h = mean(Z))"
      ]
    },
    {
      "cell_type": "markdown",
      "id": "597918c3-a178-453d-923b-b080e7831d99",
      "metadata": {
        "id": "597918c3-a178-453d-923b-b080e7831d99"
      },
      "source": [
        "- 11을 중심으로 왔다갔다하는 것처럼 보인다.\n",
        "- 추세, 계절성, 이분산성이 없어 보인다."
      ]
    },
    {
      "cell_type": "markdown",
      "id": "e97b8f14-36f3-4de5-9446-aeef95f7cc5e",
      "metadata": {
        "id": "e97b8f14-36f3-4de5-9446-aeef95f7cc5e"
      },
      "source": [
        "#### (2) SACF $\\hat{\\rho_h} , h=1,2, .. , 10$을 구하여 표본상관도표를 그려라."
      ]
    },
    {
      "cell_type": "code",
      "execution_count": null,
      "id": "4b80af93-c718-4a86-b414-f1d2d359ab50",
      "metadata": {
        "jupyter": {
          "source_hidden": true
        },
        "tags": [],
        "id": "4b80af93-c718-4a86-b414-f1d2d359ab50",
        "outputId": "a6c59f9b-2de4-4a20-95f2-508538fde374"
      },
      "outputs": [
        {
          "data": {
            "text/html": [
              "<style>\n",
              ".list-inline {list-style: none; margin:0; padding: 0}\n",
              ".list-inline>li {display: inline-block}\n",
              ".list-inline>li:not(:last-child)::after {content: \"\\00b7\"; padding: 0 .5ex}\n",
              "</style>\n",
              "<ol class=list-inline><li>0.804916055389797</li><li>0.626989771608538</li><li>0.507865727785849</li><li>0.402123598935417</li><li>0.268698664953358</li><li>0.18473026403819</li><li>0.14133927643415</li><li>0.118797349575331</li><li>0.0722943776420645</li><li>0.0947066952484189</li></ol>\n"
            ],
            "text/latex": [
              "\\begin{enumerate*}\n",
              "\\item 0.804916055389797\n",
              "\\item 0.626989771608538\n",
              "\\item 0.507865727785849\n",
              "\\item 0.402123598935417\n",
              "\\item 0.268698664953358\n",
              "\\item 0.18473026403819\n",
              "\\item 0.14133927643415\n",
              "\\item 0.118797349575331\n",
              "\\item 0.0722943776420645\n",
              "\\item 0.0947066952484189\n",
              "\\end{enumerate*}\n"
            ],
            "text/markdown": [
              "1. 0.804916055389797\n",
              "2. 0.626989771608538\n",
              "3. 0.507865727785849\n",
              "4. 0.402123598935417\n",
              "5. 0.268698664953358\n",
              "6. 0.18473026403819\n",
              "7. 0.14133927643415\n",
              "8. 0.118797349575331\n",
              "9. 0.0722943776420645\n",
              "10. 0.0947066952484189\n",
              "\n",
              "\n"
            ],
            "text/plain": [
              " [1] 0.80491606 0.62698977 0.50786573 0.40212360 0.26869866 0.18473026\n",
              " [7] 0.14133928 0.11879735 0.07229438 0.09470670"
            ]
          },
          "metadata": {},
          "output_type": "display_data"
        },
        {
          "data": {
            "image/png": "[encoded data removed]",
            "text/plain": [
              "Plot with title \"Series  Z\""
            ]
          },
          "metadata": {
            "image/png": {
              "height": 420,
              "width": 420
            }
          },
          "output_type": "display_data"
        }
      ],
      "source": [
        "#@title\n",
        "r = acf(Z)\n",
        "r$acf[2:11] "
      ]
    },
    {
      "cell_type": "markdown",
      "id": "0f306ae0-40dd-4f76-b65a-03aeaf146d2e",
      "metadata": {
        "id": "0f306ae0-40dd-4f76-b65a-03aeaf146d2e"
      },
      "source": [
        "- $\\hat{\\rho_0}$ 의 값은 항상 1인데, 시차가 0인 $Z_t$ 자신들끼리의 자기상관계수이기 때문이다.\n",
        "- ${Z_t}$는 1차 자기회귀과정인데, 회귀계수 $\\phi$가 양수인 0.9이므로 한쪽방향에 한동안 머무르는 모양을 띈다.\n",
        "- 회귀계수 $\\phi= 0.9$이므로 $\\hat{\\rho_1}$ 도 0.9와 비슷한 값이 나온다.\n",
        "- 시차가 커질수록 $\\hat{\\rho_h}$는 줄어드는 점점 줄어들고 있다. 이는 현재와 먼 시점의 데이터일수록 현재의 데이터에 더 작은 영향을 줄 것이라는 시계열data의 기본 가정 때문이다.\n",
        "- $\\hat{\\rho_h}, h=6,7,...$ 인 경우는 자기상관관계가 없다고 볼 수 있다.\n",
        "- 파란선은 $\\frac{2}{\\sqrt{100}}=0.2$인데, $H_0: \\rho_h=0   vs. H_1: \\rho_h \\neq 0$ 검정에서 |$\\hat{\\rho_h}$ | < $\\frac{2}{\\sqrt{n}}$이면 영가설을 기각할 수 없기 때문이다. "
      ]
    },
    {
      "cell_type": "markdown",
      "id": "50474ee6-763c-4976-bc1d-fb56d1109bc6",
      "metadata": {
        "id": "50474ee6-763c-4976-bc1d-fb56d1109bc6"
      },
      "source": [
        "#### (3) SPACF $\\hat{\\phi_h} , h=1,2, .. , 10$을 구하여 표본상관도표를 그려라."
      ]
    },
    {
      "cell_type": "code",
      "execution_count": null,
      "id": "97fb74a3-1658-4b22-8a3f-a04924cfb834",
      "metadata": {
        "jupyter": {
          "source_hidden": true
        },
        "tags": [],
        "id": "97fb74a3-1658-4b22-8a3f-a04924cfb834",
        "outputId": "73031bd8-8b6c-4208-b900-31bf43297a1e"
      },
      "outputs": [
        {
          "data": {
            "text/html": [
              "<style>\n",
              ".list-inline {list-style: none; margin:0; padding: 0}\n",
              ".list-inline>li {display: inline-block}\n",
              ".list-inline>li:not(:last-child)::after {content: \"\\00b7\"; padding: 0 .5ex}\n",
              "</style>\n",
              "<ol class=list-inline><li>0.804916055389797</li><li>-0.0593566671826567</li><li>0.0598882171745174</li><li>-0.033483840125388</li><li>-0.134703726514727</li><li>0.047212570609366</li><li>0.0306356776713461</li><li>0.0392171980261105</li><li>-0.0670570464881976</li><li>0.155450150162953</li></ol>\n"
            ],
            "text/latex": [
              "\\begin{enumerate*}\n",
              "\\item 0.804916055389797\n",
              "\\item -0.0593566671826567\n",
              "\\item 0.0598882171745174\n",
              "\\item -0.033483840125388\n",
              "\\item -0.134703726514727\n",
              "\\item 0.047212570609366\n",
              "\\item 0.0306356776713461\n",
              "\\item 0.0392171980261105\n",
              "\\item -0.0670570464881976\n",
              "\\item 0.155450150162953\n",
              "\\end{enumerate*}\n"
            ],
            "text/markdown": [
              "1. 0.804916055389797\n",
              "2. -0.0593566671826567\n",
              "3. 0.0598882171745174\n",
              "4. -0.033483840125388\n",
              "5. -0.134703726514727\n",
              "6. 0.047212570609366\n",
              "7. 0.0306356776713461\n",
              "8. 0.0392171980261105\n",
              "9. -0.0670570464881976\n",
              "10. 0.155450150162953\n",
              "\n",
              "\n"
            ],
            "text/plain": [
              " [1]  0.80491606 -0.05935667  0.05988822 -0.03348384 -0.13470373  0.04721257\n",
              " [7]  0.03063568  0.03921720 -0.06705705  0.15545015"
            ]
          },
          "metadata": {},
          "output_type": "display_data"
        },
        {
          "data": {
            "image/png": "[encoded data removed]",
            "text/plain": [
              "Plot with title \"Series  Z\""
            ]
          },
          "metadata": {
            "image/png": {
              "height": 420,
              "width": 420
            }
          },
          "output_type": "display_data"
        }
      ],
      "source": [
        "#@title\n",
        "phi = pacf(Z)\n",
        "phi$acf[1:10]"
      ]
    },
    {
      "cell_type": "markdown",
      "id": "0c5721e4-7177-4c29-9641-917c1b75a0c1",
      "metadata": {
        "id": "0c5721e4-7177-4c29-9641-917c1b75a0c1"
      },
      "source": [
        "- ${Z_t}$는 1차 자기회귀과정이고, 회귀계수 $\\phi$가 양수인 0.9이므로 SPACF값이 $\\hat{\\phi_{11}}$만 유의하고 나머지는 유의하지 않다.\n",
        "- 회귀계수 $\\phi$가 0.9이므로 $\\hat{\\phi_{11}}$이 0.9에 가까운 값이 나온다.\n",
        "- $\\hat{\\phi_{11}} = \\hat{\\rho_1}$이다.\n",
        "- $\\hat{\\phi_{22}}$는 $Z_t$ 와 $Z_{t+2}$ 사이의 $Z_{t+1}$ 효과를 제거한 후 2시차만큼 떨어진 $Z_t$와 $Z_{t+2}$의 순수한 상관계수를 의미한다.\n",
        "\n",
        "=> SACF 도표와 SPACF 도표를 보고 시계열 자료가 어느 확률과정의 모형으로부터 생성된 것인지 특정할 수 있으므로 두 도표 분석은 시계열자료의 모형식별에 중요한 역할을 한다."
      ]
    },
    {
      "cell_type": "markdown",
      "id": "4ec44173-b6e8-4157-812e-5038731e3cbf",
      "metadata": {
        "id": "4ec44173-b6e8-4157-812e-5038731e3cbf"
      },
      "source": [
        "#### (4) {$Z_t , Z_{t-1}$}의 산점도를 그리고, 이 산점도와 $\\hat{\\rho_1}$의 관계를 설명하라. "
      ]
    },
    {
      "cell_type": "code",
      "execution_count": null,
      "id": "e0fd41e4-9cc1-4e03-837f-35bbe0c7f53f",
      "metadata": {
        "jupyter": {
          "source_hidden": true
        },
        "tags": [],
        "id": "e0fd41e4-9cc1-4e03-837f-35bbe0c7f53f",
        "outputId": "47af6ca6-d05c-4843-a8a8-2646d3695b41"
      },
      "outputs": [
        {
          "name": "stdout",
          "output_type": "stream",
          "text": [
            "[1] \"Z(t):\"\n"
          ]
        },
        {
          "data": {
            "text/html": [
              "<style>\n",
              ".list-inline {list-style: none; margin:0; padding: 0}\n",
              ".list-inline>li {display: inline-block}\n",
              ".list-inline>li:not(:last-child)::after {content: \"\\00b7\"; padding: 0 .5ex}\n",
              "</style>\n",
              "<ol class=list-inline><li>9.23718113302483</li><li>10.6928843353001</li><li>12.3692552861193</li><li>13.8587857226256</li><li>14.630948975566</li><li>14.0235789439346</li></ol>\n"
            ],
            "text/latex": [
              "\\begin{enumerate*}\n",
              "\\item 9.23718113302483\n",
              "\\item 10.6928843353001\n",
              "\\item 12.3692552861193\n",
              "\\item 13.8587857226256\n",
              "\\item 14.630948975566\n",
              "\\item 14.0235789439346\n",
              "\\end{enumerate*}\n"
            ],
            "text/markdown": [
              "1. 9.23718113302483\n",
              "2. 10.6928843353001\n",
              "3. 12.3692552861193\n",
              "4. 13.8587857226256\n",
              "5. 14.630948975566\n",
              "6. 14.0235789439346\n",
              "\n",
              "\n"
            ],
            "text/plain": [
              "[1]  9.237181 10.692884 12.369255 13.858786 14.630949 14.023579"
            ]
          },
          "metadata": {},
          "output_type": "display_data"
        }
      ],
      "source": [
        "#@title\n",
        "Z_1 = c(10 , Z[1:99])\n",
        "print(\"Z(t):\")\n",
        "head(Z)"
      ]
    },
    {
      "cell_type": "code",
      "execution_count": null,
      "id": "fbe433e5-ee30-4a7c-96cc-de0aadbc6282",
      "metadata": {
        "jupyter": {
          "source_hidden": true
        },
        "tags": [],
        "id": "fbe433e5-ee30-4a7c-96cc-de0aadbc6282",
        "outputId": "dae091c0-1087-4f4d-8443-16ea386df43f"
      },
      "outputs": [
        {
          "name": "stdout",
          "output_type": "stream",
          "text": [
            "[1] \"Z(t-1):\"\n"
          ]
        },
        {
          "data": {
            "text/html": [
              "<style>\n",
              ".list-inline {list-style: none; margin:0; padding: 0}\n",
              ".list-inline>li {display: inline-block}\n",
              ".list-inline>li:not(:last-child)::after {content: \"\\00b7\"; padding: 0 .5ex}\n",
              "</style>\n",
              "<ol class=list-inline><li>10</li><li>9.23718113302483</li><li>10.6928843353001</li><li>12.3692552861193</li><li>13.8587857226256</li><li>14.630948975566</li></ol>\n"
            ],
            "text/latex": [
              "\\begin{enumerate*}\n",
              "\\item 10\n",
              "\\item 9.23718113302483\n",
              "\\item 10.6928843353001\n",
              "\\item 12.3692552861193\n",
              "\\item 13.8587857226256\n",
              "\\item 14.630948975566\n",
              "\\end{enumerate*}\n"
            ],
            "text/markdown": [
              "1. 10\n",
              "2. 9.23718113302483\n",
              "3. 10.6928843353001\n",
              "4. 12.3692552861193\n",
              "5. 13.8587857226256\n",
              "6. 14.630948975566\n",
              "\n",
              "\n"
            ],
            "text/plain": [
              "[1] 10.000000  9.237181 10.692884 12.369255 13.858786 14.630949"
            ]
          },
          "metadata": {},
          "output_type": "display_data"
        }
      ],
      "source": [
        "#@title\n",
        "print(paste(\"Z(t-1):\"))\n",
        "head(Z_1)"
      ]
    },
    {
      "cell_type": "code",
      "execution_count": null,
      "id": "73decfe1-5c29-47ab-a073-f2a3de8ba35c",
      "metadata": {
        "jupyter": {
          "source_hidden": true
        },
        "tags": [],
        "id": "73decfe1-5c29-47ab-a073-f2a3de8ba35c",
        "outputId": "185a01d5-bd14-4741-88ab-73ca0cd42b93"
      },
      "outputs": [
        {
          "data": {
            "image/png": "[encoded data removed]",
            "text/plain": [
              "Plot with title \"{Z(t) , Z(t-1)} plot / rho_1 =  0.805\""
            ]
          },
          "metadata": {
            "image/png": {
              "height": 420,
              "width": 420
            }
          },
          "output_type": "display_data"
        }
      ],
      "source": [
        "#@title\n",
        "plot(as.vector(Z) , as.vector(Z_1) , \n",
        "    xlab = \"Z(t)\" , ylab = \"Z(t-1)\" , main = paste(\"{Z(t) , Z(t-1)} plot /\",\n",
        "                                                   \"rho_1 = \",  round(r$acf[2],3)))"
      ]
    },
    {
      "cell_type": "markdown",
      "id": "e49b3cad-6659-4809-8daf-703219d8a769",
      "metadata": {
        "id": "e49b3cad-6659-4809-8daf-703219d8a769"
      },
      "source": [
        "-  $Z_t$와 $Z_{t-1}$의 시차는 1이고, $\\hat{\\rho_1}$은 시차가 1인 $Z_t$ 사이의 표본자기상관계수이다.\n",
        "- 앞서 구한 $\\hat{\\rho_1}$= 0.8 이었으므로 {$Z_t$, $Z_{t-1}$}의 산점도는 우상향하고 있으며 상당히 상관이 커보이는 산점도가 그려진다.\n",
        "- $\\hat{\\rho_1}$는 {$Z_t , Z_{t-1}$} 산점도에서 직선관계의 정도를 의미한다."
      ]
    },
    {
      "cell_type": "markdown",
      "id": "766a09f9-1e1b-47e5-bdf5-2e1427e77bbd",
      "metadata": {
        "id": "766a09f9-1e1b-47e5-bdf5-2e1427e77bbd"
      },
      "source": [
        "#### (5) {$Z_t , Z_{t-2}$}의 산점도를 그리고, 이 산점도와 $\\hat{\\rho_2}$의 관계를 설명하라. "
      ]
    },
    {
      "cell_type": "code",
      "execution_count": null,
      "id": "0a025f15-815a-4fce-89f0-f85c538f18ba",
      "metadata": {
        "jupyter": {
          "source_hidden": true
        },
        "tags": [],
        "id": "0a025f15-815a-4fce-89f0-f85c538f18ba",
        "outputId": "9e773c85-dacf-4266-fce3-61cb7f5e06ff"
      },
      "outputs": [
        {
          "name": "stdout",
          "output_type": "stream",
          "text": [
            "[1] \"Z(t):\"\n"
          ]
        },
        {
          "data": {
            "text/html": [
              "<style>\n",
              ".list-inline {list-style: none; margin:0; padding: 0}\n",
              ".list-inline>li {display: inline-block}\n",
              ".list-inline>li:not(:last-child)::after {content: \"\\00b7\"; padding: 0 .5ex}\n",
              "</style>\n",
              "<ol class=list-inline><li>9.23718113302483</li><li>10.6928843353001</li><li>12.3692552861193</li><li>13.8587857226256</li><li>14.630948975566</li><li>14.0235789439346</li></ol>\n"
            ],
            "text/latex": [
              "\\begin{enumerate*}\n",
              "\\item 9.23718113302483\n",
              "\\item 10.6928843353001\n",
              "\\item 12.3692552861193\n",
              "\\item 13.8587857226256\n",
              "\\item 14.630948975566\n",
              "\\item 14.0235789439346\n",
              "\\end{enumerate*}\n"
            ],
            "text/markdown": [
              "1. 9.23718113302483\n",
              "2. 10.6928843353001\n",
              "3. 12.3692552861193\n",
              "4. 13.8587857226256\n",
              "5. 14.630948975566\n",
              "6. 14.0235789439346\n",
              "\n",
              "\n"
            ],
            "text/plain": [
              "[1]  9.237181 10.692884 12.369255 13.858786 14.630949 14.023579"
            ]
          },
          "metadata": {},
          "output_type": "display_data"
        }
      ],
      "source": [
        "#@title\n",
        "Z_2 = c(NA , 10 , Z[1:98])\n",
        "print(\"Z(t):\")\n",
        "head(Z)"
      ]
    },
    {
      "cell_type": "code",
      "execution_count": null,
      "id": "6714a520-5ace-47f0-b78c-be22e017141f",
      "metadata": {
        "jupyter": {
          "source_hidden": true
        },
        "tags": [],
        "id": "6714a520-5ace-47f0-b78c-be22e017141f",
        "outputId": "34c389d3-df65-4a50-bc97-2f56addf961e"
      },
      "outputs": [
        {
          "name": "stdout",
          "output_type": "stream",
          "text": [
            "[1] \"Z(t-2):\"\n"
          ]
        },
        {
          "data": {
            "text/html": [
              "<style>\n",
              ".list-inline {list-style: none; margin:0; padding: 0}\n",
              ".list-inline>li {display: inline-block}\n",
              ".list-inline>li:not(:last-child)::after {content: \"\\00b7\"; padding: 0 .5ex}\n",
              "</style>\n",
              "<ol class=list-inline><li>&lt;NA&gt;</li><li>10</li><li>9.23718113302483</li><li>10.6928843353001</li><li>12.3692552861193</li><li>13.8587857226256</li></ol>\n"
            ],
            "text/latex": [
              "\\begin{enumerate*}\n",
              "\\item <NA>\n",
              "\\item 10\n",
              "\\item 9.23718113302483\n",
              "\\item 10.6928843353001\n",
              "\\item 12.3692552861193\n",
              "\\item 13.8587857226256\n",
              "\\end{enumerate*}\n"
            ],
            "text/markdown": [
              "1. &lt;NA&gt;\n",
              "2. 10\n",
              "3. 9.23718113302483\n",
              "4. 10.6928843353001\n",
              "5. 12.3692552861193\n",
              "6. 13.8587857226256\n",
              "\n",
              "\n"
            ],
            "text/plain": [
              "[1]        NA 10.000000  9.237181 10.692884 12.369255 13.858786"
            ]
          },
          "metadata": {},
          "output_type": "display_data"
        }
      ],
      "source": [
        "#@title\n",
        "print(paste(\"Z(t-2):\"))\n",
        "head(Z_2)"
      ]
    },
    {
      "cell_type": "code",
      "execution_count": null,
      "id": "a1c97236-ef8a-4bec-803f-8a567df83f19",
      "metadata": {
        "jupyter": {
          "source_hidden": true
        },
        "tags": [],
        "id": "a1c97236-ef8a-4bec-803f-8a567df83f19",
        "outputId": "687682fd-472b-4ff6-89b3-075314d16231"
      },
      "outputs": [
        {
          "data": {
            "image/png": "[encoded data removed]",
            "text/plain": [
              "Plot with title \"{Z(t) , Z(t-2)} plot / rho_2 =  0.627\""
            ]
          },
          "metadata": {
            "image/png": {
              "height": 420,
              "width": 420
            }
          },
          "output_type": "display_data"
        }
      ],
      "source": [
        "#@title\n",
        "plot(as.vector(Z) , as.vector(Z_2) , \n",
        "    xlab = \"Z(t)\" , ylab = \"Z(t-2)\" , main = paste(\"{Z(t) , Z(t-2)} plot /\",\n",
        "                                                   \"rho_2 = \",  round(r$acf[3],3)))"
      ]
    },
    {
      "cell_type": "markdown",
      "id": "0330d3fe-a6dc-4f87-aa82-8cf3038199d4",
      "metadata": {
        "id": "0330d3fe-a6dc-4f87-aa82-8cf3038199d4"
      },
      "source": [
        "-  $Z_t$와 $Z_{t-2}$의 시차는 2이고, $\\hat{\\rho_2}$은 시차가 2인 $Z_t$ 사이의 표본자기상관계수이다.\n",
        "- 앞서 구한 $\\hat{\\rho_2}$= 0.627 이었으므로 {$Z_t$, $Z_{t-2}$}의 산점도는 우상향하고 있으나 시차 1의 산점도보다는 점들이 흩어져 있어보이는 산점도가 그려진다.\n",
        "- $\\hat{\\rho_2}$는 {$Z_t , Z_{t-2}$} 산점도에서 직선관계의 정도를 의미한다."
      ]
    },
    {
      "cell_type": "code",
      "source": [],
      "metadata": {
        "id": "OpCCZJnB2hAD"
      },
      "id": "OpCCZJnB2hAD",
      "execution_count": null,
      "outputs": []
    }
  ],
  "metadata": {
    "kernelspec": {
      "display_name": "R",
      "language": "R",
      "name": "ir"
    },
    "language_info": {
      "codemirror_mode": "r",
      "file_extension": ".r",
      "mimetype": "text/x-r-source",
      "name": "R",
      "pygments_lexer": "r",
      "version": "4.0.5"
    },
    "colab": {
      "provenance": [],
      "collapsed_sections": []
    }
  },
  "nbformat": 4,
  "nbformat_minor": 5
}