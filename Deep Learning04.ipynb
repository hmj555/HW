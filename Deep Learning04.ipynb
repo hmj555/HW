{
  "nbformat": 4,
  "nbformat_minor": 0,
  "metadata": {
    "colab": {
      "provenance": []
    },
    "kernelspec": {
      "name": "python3",
      "display_name": "Python 3"
    },
    "language_info": {
      "name": "python"
    },
    "accelerator": "GPU",
    "gpuClass": "standard"
  },
  "cells": [
    {
      "cell_type": "markdown",
      "source": [
        "# 딥러닝 final\n",
        "## 201822037 통계학과 한민주"
      ],
      "metadata": {
        "id": "aH2VxV4-JrYc"
      }
    },
    {
      "cell_type": "code",
      "execution_count": 4,
      "metadata": {
        "id": "AEl0jA0vJW56"
      },
      "outputs": [],
      "source": [
        "## import \n",
        "import torch\n",
        "import matplotlib.pyplot as plt"
      ]
    },
    {
      "cell_type": "markdown",
      "source": [
        "# `1`. hi?hillo!! "
      ],
      "metadata": {
        "id": "sdJr0IDTJ_Xr"
      }
    },
    {
      "cell_type": "code",
      "source": [
        "txt = list('hi?hello!!')*100 \n",
        "txt_x = txt[:-1]\n",
        "txt_y = txt[1:]"
      ],
      "metadata": {
        "id": "_b1yayXWJ90G"
      },
      "execution_count": null,
      "outputs": []
    },
    {
      "cell_type": "code",
      "source": [
        "txt_x[:5], txt_y[:5]"
      ],
      "metadata": {
        "colab": {
          "base_uri": "https://localhost:8080/"
        },
        "id": "iI6KzFXOKKd4",
        "outputId": "a89a70c7-8380-4254-a08c-da89c2423bc3"
      },
      "execution_count": null,
      "outputs": [
        {
          "output_type": "execute_result",
          "data": {
            "text/plain": [
              "(['h', 'i', '?', 'h', 'e'], ['i', '?', 'h', 'e', 'l'])"
            ]
          },
          "metadata": {},
          "execution_count": 3
        }
      ]
    },
    {
      "cell_type": "code",
      "source": [
        "## (1) ~ (6) 의 풀이에 공통적으로 필요한 과정\n",
        "def f(txt,mapping):\n",
        "    return [mapping[key] for key in txt] \n",
        "\n",
        "sig = torch.nn.Sigmoid()\n",
        "soft = torch.nn.Softmax(dim=1)\n",
        "tanh = torch.nn.Tanh()\n",
        "\n",
        "mapping = {'!':0, '?':1,'h':2,'i':3,'e':4,'l':5,'o':6} \n",
        "x= torch.nn.functional.one_hot(torch.tensor(f(txt_x,mapping))).float().to(\"cuda:0\")\n",
        "y= torch.nn.functional.one_hot(torch.tensor(f(txt_y,mapping))).float().to(\"cuda:0\")"
      ],
      "metadata": {
        "id": "snpj9WBuKL1l"
      },
      "execution_count": null,
      "outputs": []
    },
    {
      "cell_type": "markdown",
      "source": [
        "## `(1)` `torch.nn.RNN()`을 이용하여 다음 문자를 예측하는 신경망을 설계하고 학습"
      ],
      "metadata": {
        "id": "wdCGB2tjKbwJ"
      }
    },
    {
      "cell_type": "code",
      "source": [
        "torch.manual_seed(2)\n",
        "# 문자 수 7 , 히든 노드 수 8\n",
        "rnn = torch.nn.RNN(7,8).to(\"cuda:0\") # 숙성\n",
        "linr = torch.nn.Linear(8,7).to(\"cuda:0\") # 조리\n",
        "loss_fn = torch.nn.CrossEntropyLoss()\n",
        "optimizr = torch.optim.Adam(list(rnn.parameters()) + list(linr.parameters()) , lr = 0.1)\n",
        "\n",
        "# 학습\n",
        "_water = torch.zeros(1,8).to(\"cuda:0\") # 맹물\n",
        "for epoc in range(500):\n",
        "    hidden ,hT = rnn(x , _water)\n",
        "    output = linr(hidden)\n",
        "    loss = loss_fn(output , y)\n",
        "    loss.backward()\n",
        "    optimizr.step()\n",
        "    optimizr.zero_grad()\n",
        "\n",
        "# 예측 결과\n",
        "yhat = soft(output)\n",
        "\n",
        "# 시각화\n",
        "plt.matshow(yhat.to(\"cpu\").data[-10:], cmap = 'bwr' , vmin = -1 , vmax = 1)\n",
        "plt.xticks(range(7),labels=['!','?','h','i','e','l','o']);"
      ],
      "metadata": {
        "colab": {
          "base_uri": "https://localhost:8080/",
          "height": 370
        },
        "id": "SUfQAhzDKYGF",
        "outputId": "af1e8428-8f4e-44ad-c23e-440e9751dfae"
      },
      "execution_count": null,
      "outputs": [
        {
          "output_type": "display_data",
          "data": {
            "text/plain": [
              "<Figure size 288x411.429 with 1 Axes>"
            ],
            "image/png": "[encoded data removed]"
          },
          "metadata": {
            "needs_background": "light"
          }
        }
      ]
    },
    {
      "cell_type": "markdown",
      "source": [
        "## `(2)` `torch.nn.RNNCell()`을 이용하여 다음 문자를 예측하는 신경망을 설계하고 학습하라."
      ],
      "metadata": {
        "id": "5wPDiK5cNx1c"
      }
    },
    {
      "cell_type": "code",
      "source": [
        "torch.manual_seed(2)\n",
        "# 문자 수 7 , 히든 노드 수 8\n",
        "rnncell = torch.nn.RNNCell(7,8).to(\"cuda:0\") # 숙성\n",
        "linr = torch.nn.Linear(8,7).to(\"cuda:0\")  # 조리\n",
        "loss_fn = torch.nn.CrossEntropyLoss()\n",
        "optimizr =torch.optim.Adam(list(rnncell.parameters()) + list(linr.parameters()) , lr = 0.1)\n",
        "\n",
        "# 학습\n",
        "T = len(x)\n",
        "for epoc in range(500):\n",
        "  loss = 0\n",
        "  ht = torch.zeros(1,8).to(\"cuda:0\") # 맹물\n",
        "  for t in range(T):\n",
        "    xt , yt = x[[t]] , y[[t]]\n",
        "    ht = rnncell(xt, ht)\n",
        "    ot = linr(ht)\n",
        "    loss = loss + loss_fn(ot , yt)\n",
        "\n",
        "  loss.backward()\n",
        "  optimizr.step()\n",
        "  optimizr.zero_grad()"
      ],
      "metadata": {
        "id": "0Hes23caMQk-"
      },
      "execution_count": null,
      "outputs": []
    },
    {
      "cell_type": "code",
      "source": [
        "## 시각화\n",
        "hidden = torch.zeros(T,8).to(\"cuda:0\")\n",
        "# t=0\n",
        "_water = torch.zeros(1,8).to(\"cuda:0\")\n",
        "hidden[[0]] = rnncell(x[[0]] , _water)\n",
        "# t=1~T\n",
        "for t in range(1,T):\n",
        "  hidden[[t]] = rnncell(x[[t]] , hidden[[t-1]])\n",
        "\n",
        "yhat = soft(linr(hidden))\n",
        "\n",
        "plt.matshow(yhat.to(\"cpu\").data[-10:], cmap = 'bwr' , vmin = -1 , vmax = 1)\n",
        "plt.xticks(range(7),labels=['!','?','h','i','e','l','o']);"
      ],
      "metadata": {
        "colab": {
          "base_uri": "https://localhost:8080/",
          "height": 370
        },
        "id": "iZSLWPxTPAVK",
        "outputId": "d547d12e-525c-4cc4-a2b9-eca95367d1d0"
      },
      "execution_count": null,
      "outputs": [
        {
          "output_type": "display_data",
          "data": {
            "text/plain": [
              "<Figure size 288x411.429 with 1 Axes>"
            ],
            "image/png": "[encoded data removed]"
          },
          "metadata": {
            "needs_background": "light"
          }
        }
      ]
    },
    {
      "cell_type": "code",
      "source": [
        "hidden[-10:]"
      ],
      "metadata": {
        "colab": {
          "base_uri": "https://localhost:8080/"
        },
        "id": "9cNrMIByRAMH",
        "outputId": "38a53346-bdf6-4c30-ecbe-1403d0e568b2"
      },
      "execution_count": null,
      "outputs": [
        {
          "output_type": "execute_result",
          "data": {
            "text/plain": [
              "tensor([[-0.9679, -0.9950, -0.9289, -1.0000, -0.5564,  0.8603,  0.9990,  0.9944],\n",
              "        [ 0.9903, -0.8151, -0.9909, -0.9904,  0.9272,  0.9998, -0.9996,  1.0000],\n",
              "        [-0.9548,  0.9998, -0.9999,  0.9999,  0.9996,  0.9804, -0.9957,  0.8211],\n",
              "        [-0.9466, -0.9930, -1.0000,  0.9991, -0.9786,  0.1578,  0.9726,  1.0000],\n",
              "        [ 0.8594, -0.9947,  0.9350, -0.9999, -0.8948,  0.9994, -0.9888,  1.0000],\n",
              "        [-0.9999,  0.9990, -0.1047,  0.9813,  0.9999, -0.9854,  0.8593,  0.9974],\n",
              "        [ 0.8914, -0.3478,  0.9971,  0.9483,  0.7024, -0.9727,  0.8011,  0.9858],\n",
              "        [-0.9803,  0.9817,  1.0000, -0.8223,  0.9799, -0.9995,  0.9829, -0.9970],\n",
              "        [ 0.9987, -0.9898,  0.4381, -0.8355, -0.6550, -0.9926,  0.9995, -0.9512],\n",
              "        [-0.9896, -0.9592,  0.9942, -1.0000, -0.9747,  0.5294,  0.9987, -0.9935]],\n",
              "       device='cuda:0', grad_fn=<SliceBackward0>)"
            ]
          },
          "metadata": {},
          "execution_count": 56
        }
      ]
    },
    {
      "cell_type": "markdown",
      "source": [
        "## `(3)` `torch.nn.Module`을 상속받은 클래스를 정의하고 (2)의 결과와 동일한 적합값이 나오는 신경망을 설계한 뒤 학습하라. (초기값을 적절하게 설정할 것)"
      ],
      "metadata": {
        "id": "Y4_xqxe9QAeO"
      }
    },
    {
      "cell_type": "code",
      "source": [
        "# 클래스 정의\n",
        "class Myrnncell(torch.nn.Module):\n",
        "  def __init__(self):\n",
        "    super().__init__()\n",
        "    self.i2h = torch.nn.Linear(7,8)\n",
        "    self.h2h = torch.nn.Linear(8,8)\n",
        "    self.tanh = torch.nn.Tanh()\n",
        "  def forward(self, x , hidden):\n",
        "    hidden = self.tanh(self.i2h(x) + self.h2h(hidden))\n",
        "    return hidden"
      ],
      "metadata": {
        "id": "jViW73rzQLT3"
      },
      "execution_count": null,
      "outputs": []
    },
    {
      "cell_type": "code",
      "source": [
        "myrnncell = Myrnncell().to(\"cuda:0\") # 클래스로 만든 숙성 네트워크\n",
        "torch.manual_seed(2)\n",
        "rnncell = torch.nn.RNNCell(7,8).to(\"cuda:0\") # (2)의 숙성 네트워크\n",
        "linr =  torch.nn.Linear(8,7).to(\"cuda:0\") # (2)의 조리 네트워크"
      ],
      "metadata": {
        "id": "DNuvzQTlR6Tq"
      },
      "execution_count": null,
      "outputs": []
    },
    {
      "cell_type": "code",
      "source": [
        "# 동일한 적합값이 나오도록 파라미터 초기화\n",
        "myrnncell.i2h.weight.data = rnncell.weight_ih.data\n",
        "myrnncell.h2h.weight.data = rnncell.weight_hh.data\n",
        "myrnncell.i2h.bias.data = rnncell.bias_ih.data\n",
        "myrnncell.h2h.bias.data = rnncell.bias_hh.data"
      ],
      "metadata": {
        "id": "KEqczL87SCLC"
      },
      "execution_count": null,
      "outputs": []
    },
    {
      "cell_type": "code",
      "source": [
        "loss_fn = torch.nn.CrossEntropyLoss() \n",
        "optimizr = torch.optim.Adam(list(myrnncell.parameters())+ list(linr.parameters()),lr = 0.1)\n",
        "\n",
        "# 학습\n",
        "T = len(x)\n",
        "for epoc in range(500):\n",
        "  loss = 0\n",
        "  ht = torch.zeros(1,8).to(\"cuda:0\") # 맹물\n",
        "  for t in range(T):\n",
        "    xt , yt = x[[t]] , y[[t]]\n",
        "    ht = myrnncell(xt, ht)\n",
        "    ot = linr(ht)\n",
        "    loss = loss + loss_fn(ot , yt)\n",
        "\n",
        "  loss.backward()\n",
        "  optimizr.step()\n",
        "  optimizr.zero_grad()"
      ],
      "metadata": {
        "id": "pMZlulStSgPj"
      },
      "execution_count": null,
      "outputs": []
    },
    {
      "cell_type": "code",
      "source": [
        "## 시각화\n",
        "hidden = torch.zeros(T,8).to(\"cuda:0\")\n",
        "# t=0\n",
        "_water = torch.zeros(1,8).to(\"cuda:0\")\n",
        "hidden[[0]] = myrnncell(x[[0]] , _water)\n",
        "# t=1~T\n",
        "for t in range(1,T):\n",
        "  hidden[[t]] = myrnncell(x[[t]] , hidden[[t-1]])\n",
        "\n",
        "yhat = soft(linr(hidden))\n",
        "\n",
        "plt.matshow(yhat.to(\"cpu\").data[-10:], cmap = 'bwr' , vmin = -1 , vmax = 1)\n",
        "plt.xticks(range(7),labels=['!','?','h','i','e','l','o']);"
      ],
      "metadata": {
        "colab": {
          "base_uri": "https://localhost:8080/",
          "height": 370
        },
        "id": "EMdspINRpoXu",
        "outputId": "0fccb958-7765-484b-8d86-59654fee0df6"
      },
      "execution_count": null,
      "outputs": [
        {
          "output_type": "display_data",
          "data": {
            "text/plain": [
              "<Figure size 288x411.429 with 1 Axes>"
            ],
            "image/png": "[encoded data removed]"
          },
          "metadata": {
            "needs_background": "light"
          }
        }
      ]
    },
    {
      "cell_type": "code",
      "source": [
        "hidden[-10:]"
      ],
      "metadata": {
        "colab": {
          "base_uri": "https://localhost:8080/"
        },
        "id": "6wmOrL4lTFtt",
        "outputId": "95726c6c-cf51-4aba-e32d-2351807aa843"
      },
      "execution_count": null,
      "outputs": [
        {
          "output_type": "execute_result",
          "data": {
            "text/plain": [
              "tensor([[-0.9679, -0.9950, -0.9289, -1.0000, -0.5564,  0.8603,  0.9990,  0.9944],\n",
              "        [ 0.9903, -0.8151, -0.9909, -0.9904,  0.9272,  0.9998, -0.9996,  1.0000],\n",
              "        [-0.9548,  0.9998, -0.9999,  0.9999,  0.9996,  0.9804, -0.9957,  0.8211],\n",
              "        [-0.9466, -0.9930, -1.0000,  0.9991, -0.9786,  0.1578,  0.9726,  1.0000],\n",
              "        [ 0.8594, -0.9947,  0.9350, -0.9999, -0.8948,  0.9994, -0.9888,  1.0000],\n",
              "        [-0.9999,  0.9990, -0.1047,  0.9813,  0.9999, -0.9854,  0.8593,  0.9974],\n",
              "        [ 0.8914, -0.3478,  0.9971,  0.9483,  0.7024, -0.9727,  0.8011,  0.9858],\n",
              "        [-0.9803,  0.9817,  1.0000, -0.8223,  0.9799, -0.9995,  0.9829, -0.9970],\n",
              "        [ 0.9987, -0.9898,  0.4381, -0.8355, -0.6550, -0.9926,  0.9995, -0.9512],\n",
              "        [-0.9896, -0.9592,  0.9942, -1.0000, -0.9747,  0.5294,  0.9987, -0.9935]],\n",
              "       device='cuda:0', grad_fn=<SliceBackward0>)"
            ]
          },
          "metadata": {},
          "execution_count": 65
        }
      ]
    },
    {
      "cell_type": "markdown",
      "source": [
        "## `(4)` `torch.nn.LSTM()`을 이용하여 다음 문자를 예측하는 신경망을 설계하고 학습하라."
      ],
      "metadata": {
        "id": "ROALDhYqT-wU"
      }
    },
    {
      "cell_type": "code",
      "source": [
        "torch.manual_seed(2)\n",
        "## 글자 수 7 , 히든 노드 수 4\n",
        "lstm = torch.nn.LSTM(7,4).to(\"cuda:0\")\n",
        "linr = torch.nn.Linear(4,7).to(\"cuda:0\")\n",
        "\n",
        "loss_fn = torch.nn.CrossEntropyLoss()\n",
        "optimizr = torch.optim.Adam(list(lstm.parameters()) + list(linr.parameters()) , lr = 0.1)\n",
        "\n",
        "## 학습\n",
        "_water = torch.zeros(1,4).to(\"cuda:0\")\n",
        "for epoc in range(500):\n",
        "  hidden , (hT , cT) = lstm(x , (_water , _water))\n",
        "  output = linr(hidden)\n",
        "  loss = loss_fn(output, y)\n",
        "  loss.backward()\n",
        "  optimizr.step()\n",
        "  optimizr.zero_grad()\n",
        "\n",
        "## 예측값\n",
        "yhat = soft(output)\n",
        "\n",
        "## 시각화\n",
        "plt.matshow(yhat.to(\"cpu\").data[-10:] , cmap = 'bwr' , vmin = -1 , vmax = 1)\n",
        "plt.xticks(range(7),labels=['!','?','h','i','e','l','o']);"
      ],
      "metadata": {
        "colab": {
          "base_uri": "https://localhost:8080/",
          "height": 370
        },
        "id": "oBj3Z61MYgQK",
        "outputId": "3ffe9584-c194-41fb-f4e4-942d0772bab4"
      },
      "execution_count": null,
      "outputs": [
        {
          "output_type": "display_data",
          "data": {
            "text/plain": [
              "<Figure size 288x411.429 with 1 Axes>"
            ],
            "image/png": "[encoded data removed]"
          },
          "metadata": {
            "needs_background": "light"
          }
        }
      ]
    },
    {
      "cell_type": "markdown",
      "source": [
        "## `(5)` `torch.nn.LSTMCell()`을 이용하여 다음 문자를 예측하는 신경망을 설계하고 학습하라."
      ],
      "metadata": {
        "id": "zC-GhaFesN8m"
      }
    },
    {
      "cell_type": "code",
      "source": [
        "torch.manual_seed(2)\n",
        "lstm_cell = torch.nn.LSTMCell(7,4).to(\"cuda:0\")\n",
        "linr = torch.nn.Linear(4,7).to(\"cuda:0\")\n",
        "\n",
        "loss_fn = torch.nn.CrossEntropyLoss()\n",
        "optimizr = torch.optim.Adam(list(lstm_cell.parameters()) + list(linr.parameters()) , lr = 0.1)\n",
        "\n",
        "## 학습\n",
        "T = len(x)\n",
        "for epoc in range(500):\n",
        "  ht = torch.zeros(1,4).to(\"cuda:0\") # 맹물\n",
        "  ct = torch.zeros(1,4).to(\"cuda:0\") # 맹물\n",
        "  loss = 0 \n",
        "  for t in range(T):\n",
        "    xt , yt = x[[t]] , y[[t]]\n",
        "    ht ,ct = lstm_cell(xt , (ht , ct))\n",
        "    ot = linr(ht)\n",
        "    loss = loss + loss_fn(ot , yt)\n",
        "  \n",
        "  loss = loss/T\n",
        "  loss.backward()\n",
        "  optimizr.step()\n",
        "  optimizr.zero_grad()"
      ],
      "metadata": {
        "id": "NSZ5WhT_sIEz"
      },
      "execution_count": null,
      "outputs": []
    },
    {
      "cell_type": "code",
      "source": [
        "ht , ct # (6)과 동일"
      ],
      "metadata": {
        "colab": {
          "base_uri": "https://localhost:8080/"
        },
        "id": "HZ1V_Pli43Q3",
        "outputId": "7a4f003e-6c05-47e9-d745-50e5dfb984e4"
      },
      "execution_count": null,
      "outputs": [
        {
          "output_type": "execute_result",
          "data": {
            "text/plain": [
              "(tensor([[-0.9872,  0.9561, -0.4765, -0.7996]], device='cuda:0',\n",
              "        grad_fn=<ThnnFusedLstmCellBackward0>),\n",
              " tensor([[-2.5225,  1.9019, -0.5184, -1.1097]], device='cuda:0',\n",
              "        grad_fn=<ThnnFusedLstmCellBackward0>))"
            ]
          },
          "metadata": {},
          "execution_count": 46
        }
      ]
    },
    {
      "cell_type": "code",
      "source": [
        "## 시각화\n",
        "hidden = torch.zeros(T,4).to(\"cuda:0\")\n",
        "cell = torch.zeros(T,4).to(\"cuda:0\")\n",
        "# t=0\n",
        "_water = torch.zeros(1,4).to(\"cuda:0\") # 맹물\n",
        "hidden[[0]] , cell[[0]] = lstm_cell(x[[0]] , (_water , _water))\n",
        "# t=1~T\n",
        "for t in range(1,T):\n",
        "  hidden[[t]] ,cell[[t]] = lstm_cell(x[[t]] , (hidden[[t-1]] , cell[[t-1]]))\n",
        "\n",
        "yhat = soft(linr(hidden))\n",
        "\n",
        "plt.matshow(yhat.to(\"cpu\").data[-10:], cmap = 'bwr' , vmin = -1 , vmax = 1)\n",
        "plt.xticks(range(7),labels=['!','?','h','i','e','l','o']);"
      ],
      "metadata": {
        "colab": {
          "base_uri": "https://localhost:8080/",
          "height": 370
        },
        "id": "hm6rNowVtXU_",
        "outputId": "d5d22303-282b-437d-d749-a56df53ebf99"
      },
      "execution_count": null,
      "outputs": [
        {
          "output_type": "display_data",
          "data": {
            "text/plain": [
              "<Figure size 288x411.429 with 1 Axes>"
            ],
            "image/png": "[encoded data removed]"
          },
          "metadata": {
            "needs_background": "light"
          }
        }
      ]
    },
    {
      "cell_type": "code",
      "source": [
        "hidden[-10:]"
      ],
      "metadata": {
        "colab": {
          "base_uri": "https://localhost:8080/"
        },
        "id": "lVTyfD6Jy_8X",
        "outputId": "6534698e-1762-45f7-8570-c9219fc0c3f0"
      },
      "execution_count": null,
      "outputs": [
        {
          "output_type": "execute_result",
          "data": {
            "text/plain": [
              "tensor([[-0.9982,  0.9887,  0.6227,  0.3971],\n",
              "        [-0.9694, -0.7590,  0.3315,  0.8687],\n",
              "        [ 0.7001,  0.7592, -0.7579,  0.9706],\n",
              "        [-0.6776,  0.9588,  0.7539,  0.9852],\n",
              "        [ 0.6871, -0.7591,  0.6395,  0.9906],\n",
              "        [ 0.8928, -0.9425,  0.0073, -0.7328],\n",
              "        [ 0.4386, -0.9679,  0.1826, -0.9395],\n",
              "        [-0.4807, -0.9821, -0.6621, -0.9802],\n",
              "        [-0.9093,  0.7485, -0.9465, -0.9924],\n",
              "        [-0.9872,  0.9561, -0.4765, -0.7996]], device='cuda:0',\n",
              "       grad_fn=<SliceBackward0>)"
            ]
          },
          "metadata": {},
          "execution_count": 48
        }
      ]
    },
    {
      "cell_type": "markdown",
      "source": [
        "## `(6)` (5)의 결과와 동일한 적합값을 출력하는 신경망을 직접 설계한 뒤 학습시켜라."
      ],
      "metadata": {
        "id": "tvZnPM5wwW2O"
      }
    },
    {
      "cell_type": "code",
      "source": [
        "torch.manual_seed(2)\n",
        "lstm = torch.nn.LSTM(7,4).to(\"cuda:0\") # (5)의 숙성 네트워크\n",
        "linr = torch.nn.Linear(4,7).to(\"cuda:0\") # (5)의 조리 네트워크\n",
        "\n",
        "loss_fn = torch.nn.CrossEntropyLoss()\n",
        "optimizr = torch.optim.Adam(list(lstm.parameters()) + list(linr.parameters()) , lr = 0.1)"
      ],
      "metadata": {
        "id": "ie-SjzHeNQal"
      },
      "execution_count": null,
      "outputs": []
    },
    {
      "cell_type": "code",
      "source": [
        "T = len(x)\n",
        "for epoc in range(500):\n",
        "  ht = torch.zeros(1,4).to(\"cuda:0\") # 맹물\n",
        "  ct = torch.zeros(1,4).to(\"cuda:0\") # 맹물\n",
        "  loss = 0\n",
        "\n",
        "  hidden = torch.zeros(T,4).to(\"cuda:0\")\n",
        "  for t in range(T):\n",
        "    xt , yt = x[[t]] , y[[t]]\n",
        "\n",
        "    # step1: _ifgo\n",
        "    _ifgo = xt @ lstm.weight_ih_l0.T + ht @ lstm.weight_hh_l0.T + lstm.bias_ih_l0 + lstm.bias_hh_l0\n",
        "    # step2 : gate & gt\n",
        "    input_gate = sig(_ifgo[: , 0:4])\n",
        "    forget_gate = sig(_ifgo[: , 4:8])\n",
        "    gt = tanh(_ifgo[:, 8:12])\n",
        "    output_gate = sig(_ifgo[:,12:16])\n",
        "    # step3 : ht , ct\n",
        "    ct = forget_gate * ct + input_gate * gt\n",
        "    ht = output_gate * tanh(ct)\n",
        "    hidden[[t]] = ht ## 시각화용\n",
        "    ot = linr(ht)\n",
        "    loss = loss + loss_fn(ot , yt)\n",
        "  \n",
        "  loss = loss/T\n",
        "  loss.backward()\n",
        "  optimizr.step()\n",
        "  optimizr.zero_grad()"
      ],
      "metadata": {
        "id": "OKe6u8smNQdh"
      },
      "execution_count": null,
      "outputs": []
    },
    {
      "cell_type": "code",
      "source": [
        "ht,ct  # (5)와 동일"
      ],
      "metadata": {
        "colab": {
          "base_uri": "https://localhost:8080/"
        },
        "id": "eQu_oXcAOPTg",
        "outputId": "248827ee-25a9-444c-914c-b72cbecc5d33"
      },
      "execution_count": null,
      "outputs": [
        {
          "output_type": "execute_result",
          "data": {
            "text/plain": [
              "(tensor([[-0.9872,  0.9561, -0.4765, -0.7996]], device='cuda:0',\n",
              "        grad_fn=<MulBackward0>),\n",
              " tensor([[-2.5224,  1.9019, -0.5184, -1.1097]], device='cuda:0',\n",
              "        grad_fn=<AddBackward0>))"
            ]
          },
          "metadata": {},
          "execution_count": 7
        }
      ]
    },
    {
      "cell_type": "code",
      "source": [
        "## 시각화\n",
        "yhat = soft(linr(hidden))\n",
        "\n",
        "plt.matshow(yhat.to(\"cpu\").data[-10:], cmap = 'bwr' , vmin = -1 , vmax = 1)\n",
        "plt.xticks(range(7),labels=['!','?','h','i','e','l','o']);"
      ],
      "metadata": {
        "colab": {
          "base_uri": "https://localhost:8080/",
          "height": 370
        },
        "id": "Bv8rpWgFUD28",
        "outputId": "89786ded-7e84-44bf-c3af-18e03c8ea9eb"
      },
      "execution_count": null,
      "outputs": [
        {
          "output_type": "display_data",
          "data": {
            "text/plain": [
              "<Figure size 288x411.429 with 1 Axes>"
            ],
            "image/png": "[encoded data removed]"
          },
          "metadata": {
            "needs_background": "light"
          }
        }
      ]
    },
    {
      "cell_type": "code",
      "source": [
        "hidden[-10:] "
      ],
      "metadata": {
        "colab": {
          "base_uri": "https://localhost:8080/"
        },
        "id": "gELw5kjKU-nV",
        "outputId": "ade89357-d432-45b7-e0d4-5bfedb613d51"
      },
      "execution_count": null,
      "outputs": [
        {
          "output_type": "execute_result",
          "data": {
            "text/plain": [
              "tensor([[-0.9982,  0.9887,  0.6227,  0.3971],\n",
              "        [-0.9694, -0.7590,  0.3316,  0.8687],\n",
              "        [ 0.7000,  0.7592, -0.7579,  0.9706],\n",
              "        [-0.6775,  0.9587,  0.7539,  0.9852],\n",
              "        [ 0.6871, -0.7591,  0.6394,  0.9905],\n",
              "        [ 0.8928, -0.9425,  0.0073, -0.7328],\n",
              "        [ 0.4385, -0.9679,  0.1825, -0.9395],\n",
              "        [-0.4808, -0.9821, -0.6621, -0.9802],\n",
              "        [-0.9093,  0.7485, -0.9465, -0.9924],\n",
              "        [-0.9872,  0.9561, -0.4765, -0.7996]], device='cuda:0',\n",
              "       grad_fn=<SliceBackward0>)"
            ]
          },
          "metadata": {},
          "execution_count": 9
        }
      ]
    },
    {
      "cell_type": "markdown",
      "source": [
        "# `2` 다음을 읽고 참 거짓을 판단하여라."
      ],
      "metadata": {
        "id": "kD3kLfA8nkBu"
      }
    },
    {
      "cell_type": "code",
      "source": [
        "## (1) LSTM은 RNN보다 장기기억에 유리하다.\n",
        "# 참"
      ],
      "metadata": {
        "id": "Rp8wZwJdnjnG"
      },
      "execution_count": 2,
      "outputs": []
    },
    {
      "cell_type": "code",
      "source": [
        "## (2)  torch.nn.Embedding(num_embeddings=2,embedding_dim=1)와 torch.nn.Linear(in_features=1,out_features=1)의 학습가능한 파라메터수는 같다.\n",
        "# 참"
      ],
      "metadata": {
        "id": "b-LziqQunjp1"
      },
      "execution_count": null,
      "outputs": []
    },
    {
      "cell_type": "code",
      "source": [
        "## (3) 차원이 (n,1) 인 임의의 텐서에 대하여 net(x)와 net.forword(x)의 출력결과는 같다.\n",
        "# 참"
      ],
      "metadata": {
        "id": "moIPFXzjoKgu"
      },
      "execution_count": null,
      "outputs": []
    },
    {
      "cell_type": "code",
      "source": [
        "## (4) 아래와 같이 a,b,c,d 가 반복되는 문자열이 반복되는 자료에서 다음문자열을 맞추는 과업을 수행하기 위해서는 반드시 순환신경망의 형태로 설계해야만 한다.\n",
        "# 거짓"
      ],
      "metadata": {
        "id": "s28vsp2coKj0"
      },
      "execution_count": null,
      "outputs": []
    },
    {
      "cell_type": "code",
      "source": [
        "## (5) RNN 혹은 LSTM 으로 신경망을 설계할 시 손실함수는 항상 torch.nn.CrossEntropyLoss 를 사용해야 한다.\n",
        "# 거짓"
      ],
      "metadata": {
        "id": "yMJK9h8eoKnV"
      },
      "execution_count": null,
      "outputs": []
    },
    {
      "cell_type": "code",
      "source": [],
      "metadata": {
        "id": "6IKSePA6tWK-"
      },
      "execution_count": null,
      "outputs": []
    },
    {
      "cell_type": "code",
      "source": [],
      "metadata": {
        "id": "k6o6fHWJtb8t"
      },
      "execution_count": null,
      "outputs": []
    }
  ]
}